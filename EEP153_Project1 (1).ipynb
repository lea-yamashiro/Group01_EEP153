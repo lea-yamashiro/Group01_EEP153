{
 "cells": [
  {
   "cell_type": "markdown",
   "id": "6549005c-c621-444a-ac69-a0db2a1a74a0",
   "metadata": {},
   "source": [
    "## Project 1: World Migration, Causes and Associations"
   ]
  },
  {
   "cell_type": "markdown",
   "id": "489f0d23-9997-42f3-9669-61cf9cd7f889",
   "metadata": {},
   "source": [
    "###### Group Evelyn Kitagawa: Neha Lala, Jackie Schneider, Himalia Joshi, Monica Wilson, Lea Yamashiro, Kevin Dunn"
   ]
  },
  {
   "cell_type": "code",
   "execution_count": 1,
   "id": "bc0d23a9-57f5-4b70-b8ed-7d0f361832f7",
   "metadata": {},
   "outputs": [],
   "source": [
    "import wbdata\n",
    "import pandas as pd"
   ]
  },
  {
   "cell_type": "code",
   "execution_count": 2,
   "id": "fe657537-896f-4fe1-8926-d61b33c693ba",
   "metadata": {},
   "outputs": [
    {
     "data": {
      "text/plain": [
       "id                 name\n",
       "-----------------  ---------------------------------------------------------------------------------------------------------\n",
       "AG.LND.AGRI.ZS     Agricultural land (% of land area)\n",
       "AG.LND.FRLS.HA     Tree Cover Loss (hectares)\n",
       "AG.LND.FRST.ZS     Forest area (% of land area)\n",
       "AG.PRD.FOOD.XD     Food production index (2014-2016 = 100)\n",
       "CC.EST             Control of Corruption: Estimate\n",
       "EG.CFT.ACCS.ZS     Access to clean fuels and technologies for cooking (% of population)\n",
       "EG.EGY.PRIM.PP.KD  Energy intensity level of primary energy (MJ/$2017 PPP GDP)\n",
       "EG.ELC.ACCS.ZS     Access to electricity (% of population)\n",
       "EG.ELC.COAL.ZS     Electricity production from coal sources (% of total)\n",
       "EG.ELC.RNEW.ZS     Renewable electricity output (% of total electricity output)\n",
       "EG.FEC.RNEW.ZS     Renewable energy consumption (% of total final energy consumption)\n",
       "EG.IMP.CONS.ZS     Energy imports, net (% of energy use)\n",
       "EG.USE.COMM.FO.ZS  Fossil fuel energy consumption (% of total)\n",
       "EG.USE.PCAP.KG.OE  Energy use (kg of oil equivalent per capita)\n",
       "EN.ATM.CO2E.PC     CO2 emissions (metric tons per capita)\n",
       "EN.ATM.METH.PC     Methane emissions (kt of CO2 equivalent per capita)\n",
       "EN.ATM.NOXE.PC     Nitrous oxide emissions (metric tons of CO2 equivalent per capita)\n",
       "EN.ATM.PM25.MC.M3  PM2.5 air pollution, mean annual exposure (micrograms per cubic meter)\n",
       "EN.CLC.CDDY.XD     Cooling Degree Days\n",
       "EN.CLC.CSTP.ZS     Coastal protection\n",
       "EN.CLC.GHGR.MT.CE  GHG net emissions/removals by LUCF (Mt of CO2 equivalent)\n",
       "EN.CLC.HDDY.XD     Heating Degree Days\n",
       "EN.CLC.HEAT.XD     Heat Index 35\n",
       "EN.CLC.SPEI.XD     Standardised Precipitation-Evapotranspiration Index\n",
       "EN.H2O.BDYS.ZS     Proportion of bodies of water with good ambient water quality\n",
       "EN.LND.LTMP.DC     Land Surface Temperature\n",
       "EN.MAM.THRD.NO     Mammal species, threatened\n",
       "EN.POP.DNST        Population density (people per sq. km of land area)\n",
       "ER.H2O.FWST.ZS     Level of water stress: freshwater withdrawal as a proportion of available freshwater resources\n",
       "ER.H2O.FWTL.ZS     Annual freshwater withdrawals, total (% of internal resources)\n",
       "ER.PTD.TOTL.ZS     Terrestrial and marine protected areas (% of total territorial area)\n",
       "GB.XPD.RSDV.GD.ZS  Research and development expenditure (% of GDP)\n",
       "GE.EST             Government Effectiveness: Estimate\n",
       "IC.LGL.CRED.XQ     Strength of legal rights index (0=weak to 12=strong)\n",
       "IP.JRN.ARTC.SC     Scientific and technical journal articles\n",
       "IP.PAT.RESD        Patent applications, residents\n",
       "IT.NET.USER.ZS     Individuals using the Internet (% of population)\n",
       "NV.AGR.TOTL.ZS     Agriculture, forestry, and fishing, value added (% of GDP)\n",
       "NY.ADJ.DFOR.GN.ZS  Adjusted savings: net forest depletion (% of GNI)\n",
       "NY.ADJ.DRES.GN.ZS  Adjusted savings: natural resources depletion (% of GNI)\n",
       "NY.GDP.MKTP.KD.ZG  GDP growth (annual %)\n",
       "PV.EST             Political Stability and Absence of Violence/Terrorism: Estimate\n",
       "RL.EST             Rule of Law: Estimate\n",
       "RQ.EST             Regulatory Quality: Estimate\n",
       "SD.ESR.PERF.XQ     Economic and Social Rights Performance Score\n",
       "SE.ADT.LITR.ZS     Literacy rate, adult total (% of people ages 15 and above)\n",
       "SE.ENR.PRSC.FM.ZS  School enrollment, primary and secondary (gross), gender parity index (GPI)\n",
       "SE.PRM.ENRR        School enrollment, primary (% gross)\n",
       "SE.XPD.TOTL.GB.ZS  Government expenditure on education, total (% of government expenditure)\n",
       "SG.GEN.PARL.ZS     Proportion of seats held by women in national parliaments (%)\n",
       "SH.DTH.COMM.ZS     Cause of death, by communicable diseases and maternal, prenatal and nutrition conditions (% of total)\n",
       "SH.DYN.MORT        Mortality rate, under-5 (per 1,000 live births)\n",
       "SH.H2O.SMDW.ZS     People using safely managed drinking water services (% of population)\n",
       "SH.MED.BEDS.ZS     Hospital beds (per 1,000 people)\n",
       "SH.STA.OWAD.ZS     Prevalence of overweight (% of adults)\n",
       "SH.STA.SMSS.ZS     People using safely managed sanitation services (% of population)\n",
       "SI.DST.FRST.20     Income share held by lowest 20%\n",
       "SI.POV.GINI        Gini index\n",
       "SI.POV.NAHC        Poverty headcount ratio at national poverty lines (% of population)\n",
       "SI.SPR.PCAP.ZG     Annualized average growth rate in per capita real survey mean consumption or income, total population (%)\n",
       "SL.TLF.0714.ZS     Children in employment, total (% of children ages 7-14)\n",
       "SL.TLF.ACTI.ZS     Labor force participation rate, total (% of total population ages 15-64) (modeled ILO estimate)\n",
       "SL.TLF.CACT.FM.ZS  Ratio of female to male labor force participation rate (%) (modeled ILO estimate)\n",
       "SL.UEM.TOTL.ZS     Unemployment, total (% of total labor force) (modeled ILO estimate)\n",
       "SM.POP.NETM        Net migration\n",
       "SN.ITK.DEFC.ZS     Prevalence of undernourishment (% of population)\n",
       "SP.DYN.LE00.IN     Life expectancy at birth, total (years)\n",
       "SP.DYN.TFRT.IN     Fertility rate, total (births per woman)\n",
       "SP.POP.65UP.TO.ZS  Population ages 65 and above (% of total population)\n",
       "SP.UWT.TFRT        Unmet need for contraception (% of married women ages 15-49)\n",
       "VA.EST             Voice and Accountability: Estimate"
      ]
     },
     "execution_count": 2,
     "metadata": {},
     "output_type": "execute_result"
    }
   ],
   "source": [
    "SOURCE=75\n",
    "esg_indic = wbdata.get_indicator(source=SOURCE)\n",
    "esg_indic"
   ]
  },
  {
   "cell_type": "code",
   "execution_count": 3,
   "id": "0390fcac-42de-4f35-8031-74056395aa56",
   "metadata": {},
   "outputs": [
    {
     "data": {
      "text/html": [
       "<div>\n",
       "<style scoped>\n",
       "    .dataframe tbody tr th:only-of-type {\n",
       "        vertical-align: middle;\n",
       "    }\n",
       "\n",
       "    .dataframe tbody tr th {\n",
       "        vertical-align: top;\n",
       "    }\n",
       "\n",
       "    .dataframe thead th {\n",
       "        text-align: right;\n",
       "    }\n",
       "</style>\n",
       "<table border=\"1\" class=\"dataframe\">\n",
       "  <thead>\n",
       "    <tr style=\"text-align: right;\">\n",
       "      <th></th>\n",
       "      <th>Net Migration</th>\n",
       "    </tr>\n",
       "    <tr>\n",
       "      <th>date</th>\n",
       "      <th></th>\n",
       "    </tr>\n",
       "  </thead>\n",
       "  <tbody>\n",
       "    <tr>\n",
       "      <th>2022</th>\n",
       "      <td>NaN</td>\n",
       "    </tr>\n",
       "    <tr>\n",
       "      <th>2021</th>\n",
       "      <td>-183672.0</td>\n",
       "    </tr>\n",
       "    <tr>\n",
       "      <th>2020</th>\n",
       "      <td>166821.0</td>\n",
       "    </tr>\n",
       "    <tr>\n",
       "      <th>2019</th>\n",
       "      <td>-8082.0</td>\n",
       "    </tr>\n",
       "    <tr>\n",
       "      <th>2018</th>\n",
       "      <td>-47205.0</td>\n",
       "    </tr>\n",
       "    <tr>\n",
       "      <th>...</th>\n",
       "      <td>...</td>\n",
       "    </tr>\n",
       "    <tr>\n",
       "      <th>1964</th>\n",
       "      <td>7079.0</td>\n",
       "    </tr>\n",
       "    <tr>\n",
       "      <th>1963</th>\n",
       "      <td>6681.0</td>\n",
       "    </tr>\n",
       "    <tr>\n",
       "      <th>1962</th>\n",
       "      <td>7016.0</td>\n",
       "    </tr>\n",
       "    <tr>\n",
       "      <th>1961</th>\n",
       "      <td>6109.0</td>\n",
       "    </tr>\n",
       "    <tr>\n",
       "      <th>1960</th>\n",
       "      <td>2606.0</td>\n",
       "    </tr>\n",
       "  </tbody>\n",
       "</table>\n",
       "<p>63 rows × 1 columns</p>\n",
       "</div>"
      ],
      "text/plain": [
       "      Net Migration\n",
       "date               \n",
       "2022            NaN\n",
       "2021      -183672.0\n",
       "2020       166821.0\n",
       "2019        -8082.0\n",
       "2018       -47205.0\n",
       "...             ...\n",
       "1964         7079.0\n",
       "1963         6681.0\n",
       "1962         7016.0\n",
       "1961         6109.0\n",
       "1960         2606.0\n",
       "\n",
       "[63 rows x 1 columns]"
      ]
     },
     "execution_count": 3,
     "metadata": {},
     "output_type": "execute_result"
    }
   ],
   "source": [
    "var_labels = {\"SM.POP.NETM\":\"Net Migration\"}\n",
    "world_migration = wbdata.get_dataframe(var_labels, country=\"AFG\")\n",
    "world_migration"
   ]
  },
  {
   "cell_type": "code",
   "execution_count": null,
   "id": "ea4590ef-f5a9-4010-b82b-dc7844c4813b",
   "metadata": {},
   "outputs": [],
   "source": []
  },
  {
   "cell_type": "code",
   "execution_count": null,
   "id": "3475e0ff-3467-4db6-b2c4-1ffb941e201b",
   "metadata": {},
   "outputs": [],
   "source": []
  },
  {
   "cell_type": "code",
   "execution_count": null,
   "id": "34c54d41-26ca-4c12-b8d2-f20dfc62287d",
   "metadata": {},
   "outputs": [],
   "source": []
  },
  {
   "cell_type": "code",
   "execution_count": null,
   "id": "e71765ba-d44e-4a8e-bd1c-b7f76c83bc42",
   "metadata": {},
   "outputs": [],
   "source": []
  },
  {
   "cell_type": "code",
   "execution_count": null,
   "id": "a8f2cb2c-a8dd-412c-9643-432c0925d9c3",
   "metadata": {},
   "outputs": [],
   "source": []
  }
 ],
 "metadata": {
  "kernelspec": {
   "display_name": "Python 3 (ipykernel)",
   "language": "python",
   "name": "python3"
  },
  "language_info": {
   "codemirror_mode": {
    "name": "ipython",
    "version": 3
   },
   "file_extension": ".py",
   "mimetype": "text/x-python",
   "name": "python",
   "nbconvert_exporter": "python",
   "pygments_lexer": "ipython3",
   "version": "3.9.15"
  }
 },
 "nbformat": 4,
 "nbformat_minor": 5
}
