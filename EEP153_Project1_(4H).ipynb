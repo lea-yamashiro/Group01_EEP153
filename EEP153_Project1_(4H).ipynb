{
 "cells": [
  {
   "cell_type": "markdown",
   "id": "6549005c-c621-444a-ac69-a0db2a1a74a0",
   "metadata": {},
   "source": [
    "## Project 1: World Migration, Causes and Associations"
   ]
  },
  {
   "cell_type": "markdown",
   "id": "489f0d23-9997-42f3-9669-61cf9cd7f889",
   "metadata": {},
   "source": [
    "###### Group Evelyn Kitagawa: Neha Lala, Jackie Schneider, Himalia Joshi, Monica Wilson, Lea Yamashiro, Kevin Dunn"
   ]
  },
  {
   "cell_type": "code",
   "execution_count": 1,
   "id": "c0a893d1-f9d0-481f-ab08-4b503a933fc2",
   "metadata": {},
   "outputs": [],
   "source": [
    "%%capture\n",
    "!pip install wbdata\n",
    "import wbdata\n",
    "!pip install cufflinks # IF NECESSARY\n",
    "import cufflinks as cf\n",
    "cf.go_offline()\n",
    "!pip install pandas\n",
    "import pandas as pd\n",
    "import numpy as np\n",
    "import statsmodels.api as sm"
   ]
  },
  {
   "cell_type": "markdown",
   "id": "cafc97c3-eceb-421a-9e20-153497cebd4b",
   "metadata": {},
   "source": [
    "#### Cleaning Data"
   ]
  },
  {
   "cell_type": "code",
   "execution_count": 2,
   "id": "1c395f65-cd9d-42a1-8f5d-a970c8776de9",
   "metadata": {},
   "outputs": [
    {
     "data": {
      "text/plain": [
       "id                 name\n",
       "-----------------  ---------------------------------------------------------------------------------------------------------\n",
       "AG.LND.AGRI.ZS     Agricultural land (% of land area)\n",
       "AG.LND.FRLS.HA     Tree Cover Loss (hectares)\n",
       "AG.LND.FRST.ZS     Forest area (% of land area)\n",
       "AG.PRD.FOOD.XD     Food production index (2014-2016 = 100)\n",
       "CC.EST             Control of Corruption: Estimate\n",
       "EG.CFT.ACCS.ZS     Access to clean fuels and technologies for cooking (% of population)\n",
       "EG.EGY.PRIM.PP.KD  Energy intensity level of primary energy (MJ/$2017 PPP GDP)\n",
       "EG.ELC.ACCS.ZS     Access to electricity (% of population)\n",
       "EG.ELC.COAL.ZS     Electricity production from coal sources (% of total)\n",
       "EG.ELC.RNEW.ZS     Renewable electricity output (% of total electricity output)\n",
       "EG.FEC.RNEW.ZS     Renewable energy consumption (% of total final energy consumption)\n",
       "EG.IMP.CONS.ZS     Energy imports, net (% of energy use)\n",
       "EG.USE.COMM.FO.ZS  Fossil fuel energy consumption (% of total)\n",
       "EG.USE.PCAP.KG.OE  Energy use (kg of oil equivalent per capita)\n",
       "EN.ATM.CO2E.PC     CO2 emissions (metric tons per capita)\n",
       "EN.ATM.METH.PC     Methane emissions (kt of CO2 equivalent per capita)\n",
       "EN.ATM.NOXE.PC     Nitrous oxide emissions (metric tons of CO2 equivalent per capita)\n",
       "EN.ATM.PM25.MC.M3  PM2.5 air pollution, mean annual exposure (micrograms per cubic meter)\n",
       "EN.CLC.CDDY.XD     Cooling Degree Days\n",
       "EN.CLC.CSTP.ZS     Coastal protection\n",
       "EN.CLC.GHGR.MT.CE  GHG net emissions/removals by LUCF (Mt of CO2 equivalent)\n",
       "EN.CLC.HDDY.XD     Heating Degree Days\n",
       "EN.CLC.HEAT.XD     Heat Index 35\n",
       "EN.CLC.SPEI.XD     Standardised Precipitation-Evapotranspiration Index\n",
       "EN.H2O.BDYS.ZS     Proportion of bodies of water with good ambient water quality\n",
       "EN.LND.LTMP.DC     Land Surface Temperature\n",
       "EN.MAM.THRD.NO     Mammal species, threatened\n",
       "EN.POP.DNST        Population density (people per sq. km of land area)\n",
       "ER.H2O.FWST.ZS     Level of water stress: freshwater withdrawal as a proportion of available freshwater resources\n",
       "ER.H2O.FWTL.ZS     Annual freshwater withdrawals, total (% of internal resources)\n",
       "ER.PTD.TOTL.ZS     Terrestrial and marine protected areas (% of total territorial area)\n",
       "GB.XPD.RSDV.GD.ZS  Research and development expenditure (% of GDP)\n",
       "GE.EST             Government Effectiveness: Estimate\n",
       "IC.LGL.CRED.XQ     Strength of legal rights index (0=weak to 12=strong)\n",
       "IP.JRN.ARTC.SC     Scientific and technical journal articles\n",
       "IP.PAT.RESD        Patent applications, residents\n",
       "IT.NET.USER.ZS     Individuals using the Internet (% of population)\n",
       "NV.AGR.TOTL.ZS     Agriculture, forestry, and fishing, value added (% of GDP)\n",
       "NY.ADJ.DFOR.GN.ZS  Adjusted savings: net forest depletion (% of GNI)\n",
       "NY.ADJ.DRES.GN.ZS  Adjusted savings: natural resources depletion (% of GNI)\n",
       "NY.GDP.MKTP.KD.ZG  GDP growth (annual %)\n",
       "PV.EST             Political Stability and Absence of Violence/Terrorism: Estimate\n",
       "RL.EST             Rule of Law: Estimate\n",
       "RQ.EST             Regulatory Quality: Estimate\n",
       "SD.ESR.PERF.XQ     Economic and Social Rights Performance Score\n",
       "SE.ADT.LITR.ZS     Literacy rate, adult total (% of people ages 15 and above)\n",
       "SE.ENR.PRSC.FM.ZS  School enrollment, primary and secondary (gross), gender parity index (GPI)\n",
       "SE.PRM.ENRR        School enrollment, primary (% gross)\n",
       "SE.XPD.TOTL.GB.ZS  Government expenditure on education, total (% of government expenditure)\n",
       "SG.GEN.PARL.ZS     Proportion of seats held by women in national parliaments (%)\n",
       "SH.DTH.COMM.ZS     Cause of death, by communicable diseases and maternal, prenatal and nutrition conditions (% of total)\n",
       "SH.DYN.MORT        Mortality rate, under-5 (per 1,000 live births)\n",
       "SH.H2O.SMDW.ZS     People using safely managed drinking water services (% of population)\n",
       "SH.MED.BEDS.ZS     Hospital beds (per 1,000 people)\n",
       "SH.STA.OWAD.ZS     Prevalence of overweight (% of adults)\n",
       "SH.STA.SMSS.ZS     People using safely managed sanitation services (% of population)\n",
       "SI.DST.FRST.20     Income share held by lowest 20%\n",
       "SI.POV.GINI        Gini index\n",
       "SI.POV.NAHC        Poverty headcount ratio at national poverty lines (% of population)\n",
       "SI.SPR.PCAP.ZG     Annualized average growth rate in per capita real survey mean consumption or income, total population (%)\n",
       "SL.TLF.0714.ZS     Children in employment, total (% of children ages 7-14)\n",
       "SL.TLF.ACTI.ZS     Labor force participation rate, total (% of total population ages 15-64) (modeled ILO estimate)\n",
       "SL.TLF.CACT.FM.ZS  Ratio of female to male labor force participation rate (%) (modeled ILO estimate)\n",
       "SL.UEM.TOTL.ZS     Unemployment, total (% of total labor force) (modeled ILO estimate)\n",
       "SM.POP.NETM        Net migration\n",
       "SN.ITK.DEFC.ZS     Prevalence of undernourishment (% of population)\n",
       "SP.DYN.LE00.IN     Life expectancy at birth, total (years)\n",
       "SP.DYN.TFRT.IN     Fertility rate, total (births per woman)\n",
       "SP.POP.65UP.TO.ZS  Population ages 65 and above (% of total population)\n",
       "SP.UWT.TFRT        Unmet need for contraception (% of married women ages 15-49)\n",
       "VA.EST             Voice and Accountability: Estimate"
      ]
     },
     "execution_count": 2,
     "metadata": {},
     "output_type": "execute_result"
    }
   ],
   "source": [
    "SOURCE = 75\n",
    "esg_indic = wbdata.get_indicators(source=SOURCE)\n",
    "esg_indic"
   ]
  },
  {
   "cell_type": "code",
   "execution_count": 4,
   "id": "9243acaa-c128-4057-b63c-c0dfae2acd9d",
   "metadata": {
    "scrolled": true
   },
   "outputs": [
    {
     "ename": "NameError",
     "evalue": "name 'mig_away' is not defined",
     "output_type": "error",
     "traceback": [
      "\u001b[0;31m---------------------------------------------------------------------------\u001b[0m",
      "\u001b[0;31mNameError\u001b[0m                                 Traceback (most recent call last)",
      "Cell \u001b[0;32mIn[4], line 1\u001b[0m\n\u001b[0;32m----> 1\u001b[0m mig_away \u001b[38;5;241m=\u001b[39m esg_indic[\u001b[43mmig_away\u001b[49m[\u001b[38;5;124m'\u001b[39m\u001b[38;5;124mNet Migration\u001b[39m\u001b[38;5;124m'\u001b[39m] \u001b[38;5;241m<\u001b[39m \u001b[38;5;241m0\u001b[39m]\n\u001b[1;32m      2\u001b[0m mig_away[\u001b[38;5;124m'\u001b[39m\u001b[38;5;124mNet Migration\u001b[39m\u001b[38;5;124m'\u001b[39m] \u001b[38;5;241m=\u001b[39m mig_away[\u001b[38;5;124m'\u001b[39m\u001b[38;5;124mNet Migration\u001b[39m\u001b[38;5;124m'\u001b[39m]\u001b[38;5;241m.\u001b[39mabs()\n\u001b[1;32m      3\u001b[0m mig_away[\u001b[38;5;124m'\u001b[39m\u001b[38;5;124mMigration per Capita\u001b[39m\u001b[38;5;124m'\u001b[39m] \u001b[38;5;241m=\u001b[39m mig_away[\u001b[38;5;124m'\u001b[39m\u001b[38;5;124mNet Migration\u001b[39m\u001b[38;5;124m'\u001b[39m]\u001b[38;5;241m/\u001b[39mmig_away[\u001b[38;5;124m'\u001b[39m\u001b[38;5;124mTotal Population\u001b[39m\u001b[38;5;124m'\u001b[39m]\n",
      "\u001b[0;31mNameError\u001b[0m: name 'mig_away' is not defined"
     ]
    }
   ],
   "source": [
    "mig_away = esg_indic[mig_away['Net Migration'] < 0]\n",
    "mig_away['Net Migration'] = mig_away['Net Migration'].abs()\n",
    "mig_away['Migration per Capita'] = mig_away['Net Migration']/mig_away['Total Population']\n",
    "mig_away['Migration Rate (%)'] = mig_away['Migration per Capita']*100\n",
    "mig_away"
   ]
  },
  {
   "cell_type": "code",
   "execution_count": 5,
   "id": "d22fdc72-d89b-4e9c-a8a3-e17cb655f4d4",
   "metadata": {
    "scrolled": true
   },
   "outputs": [
    {
     "ename": "JSONDecodeError",
     "evalue": "Expecting value: line 1 column 1 (char 0)",
     "output_type": "error",
     "traceback": [
      "\u001b[0;31m---------------------------------------------------------------------------\u001b[0m",
      "\u001b[0;31mJSONDecodeError\u001b[0m                           Traceback (most recent call last)",
      "Cell \u001b[0;32mIn[5], line 54\u001b[0m\n\u001b[1;32m      1\u001b[0m mig_env_indicators \u001b[38;5;241m=\u001b[39m {\u001b[38;5;124m\"\u001b[39m\u001b[38;5;124mSP.POP.TOTL\u001b[39m\u001b[38;5;124m\"\u001b[39m: \u001b[38;5;124m\"\u001b[39m\u001b[38;5;124mTotal Population\u001b[39m\u001b[38;5;124m\"\u001b[39m,\n\u001b[1;32m      2\u001b[0m                       \u001b[38;5;124m\"\u001b[39m\u001b[38;5;124mSP.POP.TOTL.FE.IN\u001b[39m\u001b[38;5;124m\"\u001b[39m: \u001b[38;5;124m\"\u001b[39m\u001b[38;5;124mPopulation, female\u001b[39m\u001b[38;5;124m\"\u001b[39m,\n\u001b[1;32m      3\u001b[0m                       \u001b[38;5;124m\"\u001b[39m\u001b[38;5;124mSP.POP.TOTL.MA.IN\u001b[39m\u001b[38;5;124m\"\u001b[39m: \u001b[38;5;124m\"\u001b[39m\u001b[38;5;124mPopulation, male\u001b[39m\u001b[38;5;124m\"\u001b[39m,\n\u001b[0;32m   (...)\u001b[0m\n\u001b[1;32m     52\u001b[0m                       \u001b[38;5;124m\"\u001b[39m\u001b[38;5;124mSN.ITK.DEFC.ZS\u001b[39m\u001b[38;5;124m\"\u001b[39m: \u001b[38;5;124m\"\u001b[39m\u001b[38;5;124mPrevalence of Undernourishment (\u001b[39m\u001b[38;5;132;01m% o\u001b[39;00m\u001b[38;5;124mf Population)\u001b[39m\u001b[38;5;124m\"\u001b[39m, \n\u001b[1;32m     53\u001b[0m                       \u001b[38;5;124m\"\u001b[39m\u001b[38;5;124mEG.ELC.COAL.ZS\u001b[39m\u001b[38;5;124m\"\u001b[39m: \u001b[38;5;124m\"\u001b[39m\u001b[38;5;124mElectricity production from coal sources\u001b[39m\u001b[38;5;124m\"\u001b[39m}\n\u001b[0;32m---> 54\u001b[0m mig_env \u001b[38;5;241m=\u001b[39m \u001b[43mwbdata\u001b[49m\u001b[38;5;241;43m.\u001b[39;49m\u001b[43mget_dataframe\u001b[49m\u001b[43m(\u001b[49m\u001b[43mmig_env_indicators\u001b[49m\u001b[43m)\u001b[49m\n\u001b[1;32m     56\u001b[0m \u001b[38;5;66;03m# Make years ints instead of strings\u001b[39;00m\n\u001b[1;32m     57\u001b[0m mig_env\u001b[38;5;241m.\u001b[39mreset_index(inplace\u001b[38;5;241m=\u001b[39m\u001b[38;5;28;01mTrue\u001b[39;00m)\n",
      "File \u001b[0;32m/srv/conda/lib/python3.9/site-packages/decorator.py:232\u001b[0m, in \u001b[0;36mdecorate.<locals>.fun\u001b[0;34m(*args, **kw)\u001b[0m\n\u001b[1;32m    230\u001b[0m \u001b[38;5;28;01mif\u001b[39;00m \u001b[38;5;129;01mnot\u001b[39;00m kwsyntax:\n\u001b[1;32m    231\u001b[0m     args, kw \u001b[38;5;241m=\u001b[39m fix(args, kw, sig)\n\u001b[0;32m--> 232\u001b[0m \u001b[38;5;28;01mreturn\u001b[39;00m \u001b[43mcaller\u001b[49m\u001b[43m(\u001b[49m\u001b[43mfunc\u001b[49m\u001b[43m,\u001b[49m\u001b[43m \u001b[49m\u001b[38;5;241;43m*\u001b[39;49m\u001b[43m(\u001b[49m\u001b[43mextras\u001b[49m\u001b[43m \u001b[49m\u001b[38;5;241;43m+\u001b[39;49m\u001b[43m \u001b[49m\u001b[43margs\u001b[49m\u001b[43m)\u001b[49m\u001b[43m,\u001b[49m\u001b[43m \u001b[49m\u001b[38;5;241;43m*\u001b[39;49m\u001b[38;5;241;43m*\u001b[39;49m\u001b[43mkw\u001b[49m\u001b[43m)\u001b[49m\n",
      "File \u001b[0;32m/srv/conda/lib/python3.9/site-packages/wbdata/client.py:120\u001b[0m, in \u001b[0;36mneeds_pandas\u001b[0;34m(f, *args, **kwargs)\u001b[0m\n\u001b[1;32m    118\u001b[0m \u001b[38;5;28;01mif\u001b[39;00m pd \u001b[38;5;129;01mis\u001b[39;00m \u001b[38;5;28;01mNone\u001b[39;00m:\n\u001b[1;32m    119\u001b[0m     \u001b[38;5;28;01mraise\u001b[39;00m \u001b[38;5;167;01mRuntimeError\u001b[39;00m(\u001b[38;5;124mf\u001b[39m\u001b[38;5;124m\"\u001b[39m\u001b[38;5;132;01m{\u001b[39;00mf\u001b[38;5;241m.\u001b[39m\u001b[38;5;18m__name__\u001b[39m\u001b[38;5;132;01m}\u001b[39;00m\u001b[38;5;124m requires pandas\u001b[39m\u001b[38;5;124m\"\u001b[39m)\n\u001b[0;32m--> 120\u001b[0m \u001b[38;5;28;01mreturn\u001b[39;00m \u001b[43mf\u001b[49m\u001b[43m(\u001b[49m\u001b[38;5;241;43m*\u001b[39;49m\u001b[43margs\u001b[49m\u001b[43m,\u001b[49m\u001b[43m \u001b[49m\u001b[38;5;241;43m*\u001b[39;49m\u001b[38;5;241;43m*\u001b[39;49m\u001b[43mkwargs\u001b[49m\u001b[43m)\u001b[49m\n",
      "File \u001b[0;32m/srv/conda/lib/python3.9/site-packages/wbdata/client.py:543\u001b[0m, in \u001b[0;36mClient.get_dataframe\u001b[0;34m(self, indicators, country, date, freq, source, parse_dates, keep_levels, skip_cache)\u001b[0m\n\u001b[1;32m    491\u001b[0m \u001b[38;5;129m@needs_pandas\u001b[39m\n\u001b[1;32m    492\u001b[0m \u001b[38;5;28;01mdef\u001b[39;00m \u001b[38;5;21mget_dataframe\u001b[39m(\n\u001b[1;32m    493\u001b[0m     \u001b[38;5;28mself\u001b[39m,\n\u001b[0;32m   (...)\u001b[0m\n\u001b[1;32m    506\u001b[0m     skip_cache: \u001b[38;5;28mbool\u001b[39m \u001b[38;5;241m=\u001b[39m \u001b[38;5;28;01mFalse\u001b[39;00m,\n\u001b[1;32m    507\u001b[0m ) \u001b[38;5;241m-\u001b[39m\u001b[38;5;241m>\u001b[39m DataFrame:\n\u001b[1;32m    508\u001b[0m \u001b[38;5;250m    \u001b[39m\u001b[38;5;124;03m\"\"\"\u001b[39;00m\n\u001b[1;32m    509\u001b[0m \u001b[38;5;124;03m    Download a set of indicators and  merge them into a pandas DataFrame.\u001b[39;00m\n\u001b[1;32m    510\u001b[0m \n\u001b[0;32m   (...)\u001b[0m\n\u001b[1;32m    540\u001b[0m \n\u001b[1;32m    541\u001b[0m \u001b[38;5;124;03m    \"\"\"\u001b[39;00m\n\u001b[1;32m    542\u001b[0m     df \u001b[38;5;241m=\u001b[39m DataFrame(\n\u001b[0;32m--> 543\u001b[0m         serieses\u001b[38;5;241m=\u001b[39m{\n\u001b[1;32m    544\u001b[0m             name: \u001b[38;5;28mself\u001b[39m\u001b[38;5;241m.\u001b[39mget_series(\n\u001b[1;32m    545\u001b[0m                 indicator\u001b[38;5;241m=\u001b[39mindicator,\n\u001b[1;32m    546\u001b[0m                 country\u001b[38;5;241m=\u001b[39mcountry,\n\u001b[1;32m    547\u001b[0m                 date\u001b[38;5;241m=\u001b[39mdate,\n\u001b[1;32m    548\u001b[0m                 freq\u001b[38;5;241m=\u001b[39mfreq,\n\u001b[1;32m    549\u001b[0m                 source\u001b[38;5;241m=\u001b[39msource,\n\u001b[1;32m    550\u001b[0m                 parse_dates\u001b[38;5;241m=\u001b[39mparse_dates,\n\u001b[1;32m    551\u001b[0m                 keep_levels\u001b[38;5;241m=\u001b[39m\u001b[38;5;28;01mTrue\u001b[39;00m,\n\u001b[1;32m    552\u001b[0m                 skip_cache\u001b[38;5;241m=\u001b[39mskip_cache,\n\u001b[1;32m    553\u001b[0m             )\n\u001b[1;32m    554\u001b[0m             \u001b[38;5;28;01mfor\u001b[39;00m indicator, name \u001b[38;5;129;01min\u001b[39;00m indicators\u001b[38;5;241m.\u001b[39mitems()\n\u001b[1;32m    555\u001b[0m         }\n\u001b[1;32m    556\u001b[0m     )\n\u001b[1;32m    557\u001b[0m     \u001b[38;5;28;01mif\u001b[39;00m \u001b[38;5;129;01mnot\u001b[39;00m keep_levels \u001b[38;5;129;01mand\u001b[39;00m \u001b[38;5;28mlen\u001b[39m(\u001b[38;5;28mset\u001b[39m(df\u001b[38;5;241m.\u001b[39mindex\u001b[38;5;241m.\u001b[39mget_level_values(\u001b[38;5;241m0\u001b[39m))) \u001b[38;5;241m==\u001b[39m \u001b[38;5;241m1\u001b[39m:\n\u001b[1;32m    558\u001b[0m         df\u001b[38;5;241m.\u001b[39mindex \u001b[38;5;241m=\u001b[39m df\u001b[38;5;241m.\u001b[39mindex\u001b[38;5;241m.\u001b[39mdroplevel(\u001b[38;5;241m0\u001b[39m)\n",
      "File \u001b[0;32m/srv/conda/lib/python3.9/site-packages/wbdata/client.py:544\u001b[0m, in \u001b[0;36m<dictcomp>\u001b[0;34m(.0)\u001b[0m\n\u001b[1;32m    491\u001b[0m \u001b[38;5;129m@needs_pandas\u001b[39m\n\u001b[1;32m    492\u001b[0m \u001b[38;5;28;01mdef\u001b[39;00m \u001b[38;5;21mget_dataframe\u001b[39m(\n\u001b[1;32m    493\u001b[0m     \u001b[38;5;28mself\u001b[39m,\n\u001b[0;32m   (...)\u001b[0m\n\u001b[1;32m    506\u001b[0m     skip_cache: \u001b[38;5;28mbool\u001b[39m \u001b[38;5;241m=\u001b[39m \u001b[38;5;28;01mFalse\u001b[39;00m,\n\u001b[1;32m    507\u001b[0m ) \u001b[38;5;241m-\u001b[39m\u001b[38;5;241m>\u001b[39m DataFrame:\n\u001b[1;32m    508\u001b[0m \u001b[38;5;250m    \u001b[39m\u001b[38;5;124;03m\"\"\"\u001b[39;00m\n\u001b[1;32m    509\u001b[0m \u001b[38;5;124;03m    Download a set of indicators and  merge them into a pandas DataFrame.\u001b[39;00m\n\u001b[1;32m    510\u001b[0m \n\u001b[0;32m   (...)\u001b[0m\n\u001b[1;32m    540\u001b[0m \n\u001b[1;32m    541\u001b[0m \u001b[38;5;124;03m    \"\"\"\u001b[39;00m\n\u001b[1;32m    542\u001b[0m     df \u001b[38;5;241m=\u001b[39m DataFrame(\n\u001b[1;32m    543\u001b[0m         serieses\u001b[38;5;241m=\u001b[39m{\n\u001b[0;32m--> 544\u001b[0m             name: \u001b[38;5;28;43mself\u001b[39;49m\u001b[38;5;241;43m.\u001b[39;49m\u001b[43mget_series\u001b[49m\u001b[43m(\u001b[49m\n\u001b[1;32m    545\u001b[0m \u001b[43m                \u001b[49m\u001b[43mindicator\u001b[49m\u001b[38;5;241;43m=\u001b[39;49m\u001b[43mindicator\u001b[49m\u001b[43m,\u001b[49m\n\u001b[1;32m    546\u001b[0m \u001b[43m                \u001b[49m\u001b[43mcountry\u001b[49m\u001b[38;5;241;43m=\u001b[39;49m\u001b[43mcountry\u001b[49m\u001b[43m,\u001b[49m\n\u001b[1;32m    547\u001b[0m \u001b[43m                \u001b[49m\u001b[43mdate\u001b[49m\u001b[38;5;241;43m=\u001b[39;49m\u001b[43mdate\u001b[49m\u001b[43m,\u001b[49m\n\u001b[1;32m    548\u001b[0m \u001b[43m                \u001b[49m\u001b[43mfreq\u001b[49m\u001b[38;5;241;43m=\u001b[39;49m\u001b[43mfreq\u001b[49m\u001b[43m,\u001b[49m\n\u001b[1;32m    549\u001b[0m \u001b[43m                \u001b[49m\u001b[43msource\u001b[49m\u001b[38;5;241;43m=\u001b[39;49m\u001b[43msource\u001b[49m\u001b[43m,\u001b[49m\n\u001b[1;32m    550\u001b[0m \u001b[43m                \u001b[49m\u001b[43mparse_dates\u001b[49m\u001b[38;5;241;43m=\u001b[39;49m\u001b[43mparse_dates\u001b[49m\u001b[43m,\u001b[49m\n\u001b[1;32m    551\u001b[0m \u001b[43m                \u001b[49m\u001b[43mkeep_levels\u001b[49m\u001b[38;5;241;43m=\u001b[39;49m\u001b[38;5;28;43;01mTrue\u001b[39;49;00m\u001b[43m,\u001b[49m\n\u001b[1;32m    552\u001b[0m \u001b[43m                \u001b[49m\u001b[43mskip_cache\u001b[49m\u001b[38;5;241;43m=\u001b[39;49m\u001b[43mskip_cache\u001b[49m\u001b[43m,\u001b[49m\n\u001b[1;32m    553\u001b[0m \u001b[43m            \u001b[49m\u001b[43m)\u001b[49m\n\u001b[1;32m    554\u001b[0m             \u001b[38;5;28;01mfor\u001b[39;00m indicator, name \u001b[38;5;129;01min\u001b[39;00m indicators\u001b[38;5;241m.\u001b[39mitems()\n\u001b[1;32m    555\u001b[0m         }\n\u001b[1;32m    556\u001b[0m     )\n\u001b[1;32m    557\u001b[0m     \u001b[38;5;28;01mif\u001b[39;00m \u001b[38;5;129;01mnot\u001b[39;00m keep_levels \u001b[38;5;129;01mand\u001b[39;00m \u001b[38;5;28mlen\u001b[39m(\u001b[38;5;28mset\u001b[39m(df\u001b[38;5;241m.\u001b[39mindex\u001b[38;5;241m.\u001b[39mget_level_values(\u001b[38;5;241m0\u001b[39m))) \u001b[38;5;241m==\u001b[39m \u001b[38;5;241m1\u001b[39m:\n\u001b[1;32m    558\u001b[0m         df\u001b[38;5;241m.\u001b[39mindex \u001b[38;5;241m=\u001b[39m df\u001b[38;5;241m.\u001b[39mindex\u001b[38;5;241m.\u001b[39mdroplevel(\u001b[38;5;241m0\u001b[39m)\n",
      "File \u001b[0;32m/srv/conda/lib/python3.9/site-packages/decorator.py:232\u001b[0m, in \u001b[0;36mdecorate.<locals>.fun\u001b[0;34m(*args, **kw)\u001b[0m\n\u001b[1;32m    230\u001b[0m \u001b[38;5;28;01mif\u001b[39;00m \u001b[38;5;129;01mnot\u001b[39;00m kwsyntax:\n\u001b[1;32m    231\u001b[0m     args, kw \u001b[38;5;241m=\u001b[39m fix(args, kw, sig)\n\u001b[0;32m--> 232\u001b[0m \u001b[38;5;28;01mreturn\u001b[39;00m \u001b[43mcaller\u001b[49m\u001b[43m(\u001b[49m\u001b[43mfunc\u001b[49m\u001b[43m,\u001b[49m\u001b[43m \u001b[49m\u001b[38;5;241;43m*\u001b[39;49m\u001b[43m(\u001b[49m\u001b[43mextras\u001b[49m\u001b[43m \u001b[49m\u001b[38;5;241;43m+\u001b[39;49m\u001b[43m \u001b[49m\u001b[43margs\u001b[49m\u001b[43m)\u001b[49m\u001b[43m,\u001b[49m\u001b[43m \u001b[49m\u001b[38;5;241;43m*\u001b[39;49m\u001b[38;5;241;43m*\u001b[39;49m\u001b[43mkw\u001b[49m\u001b[43m)\u001b[49m\n",
      "File \u001b[0;32m/srv/conda/lib/python3.9/site-packages/wbdata/client.py:120\u001b[0m, in \u001b[0;36mneeds_pandas\u001b[0;34m(f, *args, **kwargs)\u001b[0m\n\u001b[1;32m    118\u001b[0m \u001b[38;5;28;01mif\u001b[39;00m pd \u001b[38;5;129;01mis\u001b[39;00m \u001b[38;5;28;01mNone\u001b[39;00m:\n\u001b[1;32m    119\u001b[0m     \u001b[38;5;28;01mraise\u001b[39;00m \u001b[38;5;167;01mRuntimeError\u001b[39;00m(\u001b[38;5;124mf\u001b[39m\u001b[38;5;124m\"\u001b[39m\u001b[38;5;132;01m{\u001b[39;00mf\u001b[38;5;241m.\u001b[39m\u001b[38;5;18m__name__\u001b[39m\u001b[38;5;132;01m}\u001b[39;00m\u001b[38;5;124m requires pandas\u001b[39m\u001b[38;5;124m\"\u001b[39m)\n\u001b[0;32m--> 120\u001b[0m \u001b[38;5;28;01mreturn\u001b[39;00m \u001b[43mf\u001b[49m\u001b[43m(\u001b[49m\u001b[38;5;241;43m*\u001b[39;49m\u001b[43margs\u001b[49m\u001b[43m,\u001b[49m\u001b[43m \u001b[49m\u001b[38;5;241;43m*\u001b[39;49m\u001b[38;5;241;43m*\u001b[39;49m\u001b[43mkwargs\u001b[49m\u001b[43m)\u001b[49m\n",
      "File \u001b[0;32m/srv/conda/lib/python3.9/site-packages/wbdata/client.py:469\u001b[0m, in \u001b[0;36mClient.get_series\u001b[0;34m(self, indicator, country, date, freq, source, parse_dates, name, keep_levels, skip_cache)\u001b[0m\n\u001b[1;32m    418\u001b[0m \u001b[38;5;129m@needs_pandas\u001b[39m\n\u001b[1;32m    419\u001b[0m \u001b[38;5;28;01mdef\u001b[39;00m \u001b[38;5;21mget_series\u001b[39m(\n\u001b[1;32m    420\u001b[0m     \u001b[38;5;28mself\u001b[39m,\n\u001b[0;32m   (...)\u001b[0m\n\u001b[1;32m    434\u001b[0m     skip_cache: \u001b[38;5;28mbool\u001b[39m \u001b[38;5;241m=\u001b[39m \u001b[38;5;28;01mFalse\u001b[39;00m,\n\u001b[1;32m    435\u001b[0m ) \u001b[38;5;241m-\u001b[39m\u001b[38;5;241m>\u001b[39m Series:\n\u001b[1;32m    436\u001b[0m \u001b[38;5;250m    \u001b[39m\u001b[38;5;124;03m\"\"\"\u001b[39;00m\n\u001b[1;32m    437\u001b[0m \u001b[38;5;124;03m    Retrieve data for a single indicator as a pandas Series.\u001b[39;00m\n\u001b[1;32m    438\u001b[0m \n\u001b[0;32m   (...)\u001b[0m\n\u001b[1;32m    467\u001b[0m \u001b[38;5;124;03m            only have one value, the country level is dropped.\u001b[39;00m\n\u001b[1;32m    468\u001b[0m \u001b[38;5;124;03m    \"\"\"\u001b[39;00m\n\u001b[0;32m--> 469\u001b[0m     raw_data \u001b[38;5;241m=\u001b[39m \u001b[38;5;28;43mself\u001b[39;49m\u001b[38;5;241;43m.\u001b[39;49m\u001b[43mget_data\u001b[49m\u001b[43m(\u001b[49m\n\u001b[1;32m    470\u001b[0m \u001b[43m        \u001b[49m\u001b[43mindicator\u001b[49m\u001b[38;5;241;43m=\u001b[39;49m\u001b[43mindicator\u001b[49m\u001b[43m,\u001b[49m\n\u001b[1;32m    471\u001b[0m \u001b[43m        \u001b[49m\u001b[43mcountry\u001b[49m\u001b[38;5;241;43m=\u001b[39;49m\u001b[43mcountry\u001b[49m\u001b[43m,\u001b[49m\n\u001b[1;32m    472\u001b[0m \u001b[43m        \u001b[49m\u001b[43mdate\u001b[49m\u001b[38;5;241;43m=\u001b[39;49m\u001b[43mdate\u001b[49m\u001b[43m,\u001b[49m\n\u001b[1;32m    473\u001b[0m \u001b[43m        \u001b[49m\u001b[43mfreq\u001b[49m\u001b[38;5;241;43m=\u001b[39;49m\u001b[43mfreq\u001b[49m\u001b[43m,\u001b[49m\n\u001b[1;32m    474\u001b[0m \u001b[43m        \u001b[49m\u001b[43msource\u001b[49m\u001b[38;5;241;43m=\u001b[39;49m\u001b[43msource\u001b[49m\u001b[43m,\u001b[49m\n\u001b[1;32m    475\u001b[0m \u001b[43m        \u001b[49m\u001b[43mparse_dates\u001b[49m\u001b[38;5;241;43m=\u001b[39;49m\u001b[43mparse_dates\u001b[49m\u001b[43m,\u001b[49m\n\u001b[1;32m    476\u001b[0m \u001b[43m        \u001b[49m\u001b[43mskip_cache\u001b[49m\u001b[38;5;241;43m=\u001b[39;49m\u001b[43mskip_cache\u001b[49m\u001b[43m,\u001b[49m\n\u001b[1;32m    477\u001b[0m \u001b[43m    \u001b[49m\u001b[43m)\u001b[49m\n\u001b[1;32m    478\u001b[0m     df \u001b[38;5;241m=\u001b[39m pd\u001b[38;5;241m.\u001b[39mDataFrame(\n\u001b[1;32m    479\u001b[0m         [[i[\u001b[38;5;124m\"\u001b[39m\u001b[38;5;124mcountry\u001b[39m\u001b[38;5;124m\"\u001b[39m][\u001b[38;5;124m\"\u001b[39m\u001b[38;5;124mvalue\u001b[39m\u001b[38;5;124m\"\u001b[39m], i[\u001b[38;5;124m\"\u001b[39m\u001b[38;5;124mdate\u001b[39m\u001b[38;5;124m\"\u001b[39m], i[\u001b[38;5;124m\"\u001b[39m\u001b[38;5;124mvalue\u001b[39m\u001b[38;5;124m\"\u001b[39m]] \u001b[38;5;28;01mfor\u001b[39;00m i \u001b[38;5;129;01min\u001b[39;00m raw_data],\n\u001b[1;32m    480\u001b[0m         columns\u001b[38;5;241m=\u001b[39m[\u001b[38;5;124m\"\u001b[39m\u001b[38;5;124mcountry\u001b[39m\u001b[38;5;124m\"\u001b[39m, \u001b[38;5;124m\"\u001b[39m\u001b[38;5;124mdate\u001b[39m\u001b[38;5;124m\"\u001b[39m, name],\n\u001b[1;32m    481\u001b[0m     )\n\u001b[1;32m    482\u001b[0m     df[name] \u001b[38;5;241m=\u001b[39m df[name]\u001b[38;5;241m.\u001b[39mmap(_cast_float)\n",
      "File \u001b[0;32m/srv/conda/lib/python3.9/site-packages/wbdata/client.py:228\u001b[0m, in \u001b[0;36mClient.get_data\u001b[0;34m(self, indicator, country, date, freq, source, parse_dates, skip_cache)\u001b[0m\n\u001b[1;32m    226\u001b[0m \u001b[38;5;28;01mif\u001b[39;00m source:\n\u001b[1;32m    227\u001b[0m     params[\u001b[38;5;124m\"\u001b[39m\u001b[38;5;124msource\u001b[39m\u001b[38;5;124m\"\u001b[39m] \u001b[38;5;241m=\u001b[39m source\n\u001b[0;32m--> 228\u001b[0m data \u001b[38;5;241m=\u001b[39m \u001b[38;5;28;43mself\u001b[39;49m\u001b[38;5;241;43m.\u001b[39;49m\u001b[43mfetcher\u001b[49m\u001b[38;5;241;43m.\u001b[39;49m\u001b[43mfetch\u001b[49m\u001b[43m(\u001b[49m\u001b[43murl\u001b[49m\u001b[38;5;241;43m=\u001b[39;49m\u001b[43murl\u001b[49m\u001b[43m,\u001b[49m\u001b[43m \u001b[49m\u001b[43mparams\u001b[49m\u001b[38;5;241;43m=\u001b[39;49m\u001b[43mparams\u001b[49m\u001b[43m,\u001b[49m\u001b[43m \u001b[49m\u001b[43mskip_cache\u001b[49m\u001b[38;5;241;43m=\u001b[39;49m\u001b[43mskip_cache\u001b[49m\u001b[43m)\u001b[49m\n\u001b[1;32m    229\u001b[0m \u001b[38;5;28;01mif\u001b[39;00m parse_dates:\n\u001b[1;32m    230\u001b[0m     dates\u001b[38;5;241m.\u001b[39mparse_row_dates(data)\n",
      "File \u001b[0;32m/srv/conda/lib/python3.9/site-packages/wbdata/fetcher.py:155\u001b[0m, in \u001b[0;36mFetcher.fetch\u001b[0;34m(self, url, params, skip_cache)\u001b[0m\n\u001b[1;32m    153\u001b[0m rows: List[Dict[\u001b[38;5;28mstr\u001b[39m, Any]] \u001b[38;5;241m=\u001b[39m []\n\u001b[1;32m    154\u001b[0m \u001b[38;5;28;01mwhile\u001b[39;00m pages \u001b[38;5;241m!=\u001b[39m page:\n\u001b[0;32m--> 155\u001b[0m     response \u001b[38;5;241m=\u001b[39m \u001b[38;5;28;43mself\u001b[39;49m\u001b[38;5;241;43m.\u001b[39;49m\u001b[43m_get_response\u001b[49m\u001b[43m(\u001b[49m\n\u001b[1;32m    156\u001b[0m \u001b[43m        \u001b[49m\u001b[43murl\u001b[49m\u001b[38;5;241;43m=\u001b[39;49m\u001b[43murl\u001b[49m\u001b[43m,\u001b[49m\n\u001b[1;32m    157\u001b[0m \u001b[43m        \u001b[49m\u001b[43mparams\u001b[49m\u001b[38;5;241;43m=\u001b[39;49m\u001b[43mparams\u001b[49m\u001b[43m,\u001b[49m\n\u001b[1;32m    158\u001b[0m \u001b[43m        \u001b[49m\u001b[43mskip_cache\u001b[49m\u001b[38;5;241;43m=\u001b[39;49m\u001b[43mskip_cache\u001b[49m\u001b[43m,\u001b[49m\n\u001b[1;32m    159\u001b[0m \u001b[43m    \u001b[49m\u001b[43m)\u001b[49m\n\u001b[1;32m    160\u001b[0m     rows\u001b[38;5;241m.\u001b[39mextend(response\u001b[38;5;241m.\u001b[39mrows)\n\u001b[1;32m    161\u001b[0m     page, pages \u001b[38;5;241m=\u001b[39m response\u001b[38;5;241m.\u001b[39mpage, response\u001b[38;5;241m.\u001b[39mpages\n",
      "File \u001b[0;32m/srv/conda/lib/python3.9/site-packages/wbdata/fetcher.py:129\u001b[0m, in \u001b[0;36mFetcher._get_response\u001b[0;34m(self, url, params, skip_cache)\u001b[0m\n\u001b[1;32m    127\u001b[0m     body \u001b[38;5;241m=\u001b[39m \u001b[38;5;28mself\u001b[39m\u001b[38;5;241m.\u001b[39m_get_response_body(url, params)\n\u001b[1;32m    128\u001b[0m     \u001b[38;5;28mself\u001b[39m\u001b[38;5;241m.\u001b[39mcache[key] \u001b[38;5;241m=\u001b[39m body\n\u001b[0;32m--> 129\u001b[0m \u001b[38;5;28;01mreturn\u001b[39;00m ParsedResponse\u001b[38;5;241m.\u001b[39mfrom_response(\u001b[38;5;28mtuple\u001b[39m(\u001b[43mjson\u001b[49m\u001b[38;5;241;43m.\u001b[39;49m\u001b[43mloads\u001b[49m\u001b[43m(\u001b[49m\u001b[43mbody\u001b[49m\u001b[43m)\u001b[49m))\n",
      "File \u001b[0;32m/srv/conda/lib/python3.9/json/__init__.py:346\u001b[0m, in \u001b[0;36mloads\u001b[0;34m(s, cls, object_hook, parse_float, parse_int, parse_constant, object_pairs_hook, **kw)\u001b[0m\n\u001b[1;32m    341\u001b[0m     s \u001b[38;5;241m=\u001b[39m s\u001b[38;5;241m.\u001b[39mdecode(detect_encoding(s), \u001b[38;5;124m'\u001b[39m\u001b[38;5;124msurrogatepass\u001b[39m\u001b[38;5;124m'\u001b[39m)\n\u001b[1;32m    343\u001b[0m \u001b[38;5;28;01mif\u001b[39;00m (\u001b[38;5;28mcls\u001b[39m \u001b[38;5;129;01mis\u001b[39;00m \u001b[38;5;28;01mNone\u001b[39;00m \u001b[38;5;129;01mand\u001b[39;00m object_hook \u001b[38;5;129;01mis\u001b[39;00m \u001b[38;5;28;01mNone\u001b[39;00m \u001b[38;5;129;01mand\u001b[39;00m\n\u001b[1;32m    344\u001b[0m         parse_int \u001b[38;5;129;01mis\u001b[39;00m \u001b[38;5;28;01mNone\u001b[39;00m \u001b[38;5;129;01mand\u001b[39;00m parse_float \u001b[38;5;129;01mis\u001b[39;00m \u001b[38;5;28;01mNone\u001b[39;00m \u001b[38;5;129;01mand\u001b[39;00m\n\u001b[1;32m    345\u001b[0m         parse_constant \u001b[38;5;129;01mis\u001b[39;00m \u001b[38;5;28;01mNone\u001b[39;00m \u001b[38;5;129;01mand\u001b[39;00m object_pairs_hook \u001b[38;5;129;01mis\u001b[39;00m \u001b[38;5;28;01mNone\u001b[39;00m \u001b[38;5;129;01mand\u001b[39;00m \u001b[38;5;129;01mnot\u001b[39;00m kw):\n\u001b[0;32m--> 346\u001b[0m     \u001b[38;5;28;01mreturn\u001b[39;00m \u001b[43m_default_decoder\u001b[49m\u001b[38;5;241;43m.\u001b[39;49m\u001b[43mdecode\u001b[49m\u001b[43m(\u001b[49m\u001b[43ms\u001b[49m\u001b[43m)\u001b[49m\n\u001b[1;32m    347\u001b[0m \u001b[38;5;28;01mif\u001b[39;00m \u001b[38;5;28mcls\u001b[39m \u001b[38;5;129;01mis\u001b[39;00m \u001b[38;5;28;01mNone\u001b[39;00m:\n\u001b[1;32m    348\u001b[0m     \u001b[38;5;28mcls\u001b[39m \u001b[38;5;241m=\u001b[39m JSONDecoder\n",
      "File \u001b[0;32m/srv/conda/lib/python3.9/json/decoder.py:337\u001b[0m, in \u001b[0;36mJSONDecoder.decode\u001b[0;34m(self, s, _w)\u001b[0m\n\u001b[1;32m    332\u001b[0m \u001b[38;5;28;01mdef\u001b[39;00m \u001b[38;5;21mdecode\u001b[39m(\u001b[38;5;28mself\u001b[39m, s, _w\u001b[38;5;241m=\u001b[39mWHITESPACE\u001b[38;5;241m.\u001b[39mmatch):\n\u001b[1;32m    333\u001b[0m \u001b[38;5;250m    \u001b[39m\u001b[38;5;124;03m\"\"\"Return the Python representation of ``s`` (a ``str`` instance\u001b[39;00m\n\u001b[1;32m    334\u001b[0m \u001b[38;5;124;03m    containing a JSON document).\u001b[39;00m\n\u001b[1;32m    335\u001b[0m \n\u001b[1;32m    336\u001b[0m \u001b[38;5;124;03m    \"\"\"\u001b[39;00m\n\u001b[0;32m--> 337\u001b[0m     obj, end \u001b[38;5;241m=\u001b[39m \u001b[38;5;28;43mself\u001b[39;49m\u001b[38;5;241;43m.\u001b[39;49m\u001b[43mraw_decode\u001b[49m\u001b[43m(\u001b[49m\u001b[43ms\u001b[49m\u001b[43m,\u001b[49m\u001b[43m \u001b[49m\u001b[43midx\u001b[49m\u001b[38;5;241;43m=\u001b[39;49m\u001b[43m_w\u001b[49m\u001b[43m(\u001b[49m\u001b[43ms\u001b[49m\u001b[43m,\u001b[49m\u001b[43m \u001b[49m\u001b[38;5;241;43m0\u001b[39;49m\u001b[43m)\u001b[49m\u001b[38;5;241;43m.\u001b[39;49m\u001b[43mend\u001b[49m\u001b[43m(\u001b[49m\u001b[43m)\u001b[49m\u001b[43m)\u001b[49m\n\u001b[1;32m    338\u001b[0m     end \u001b[38;5;241m=\u001b[39m _w(s, end)\u001b[38;5;241m.\u001b[39mend()\n\u001b[1;32m    339\u001b[0m     \u001b[38;5;28;01mif\u001b[39;00m end \u001b[38;5;241m!=\u001b[39m \u001b[38;5;28mlen\u001b[39m(s):\n",
      "File \u001b[0;32m/srv/conda/lib/python3.9/json/decoder.py:355\u001b[0m, in \u001b[0;36mJSONDecoder.raw_decode\u001b[0;34m(self, s, idx)\u001b[0m\n\u001b[1;32m    353\u001b[0m     obj, end \u001b[38;5;241m=\u001b[39m \u001b[38;5;28mself\u001b[39m\u001b[38;5;241m.\u001b[39mscan_once(s, idx)\n\u001b[1;32m    354\u001b[0m \u001b[38;5;28;01mexcept\u001b[39;00m \u001b[38;5;167;01mStopIteration\u001b[39;00m \u001b[38;5;28;01mas\u001b[39;00m err:\n\u001b[0;32m--> 355\u001b[0m     \u001b[38;5;28;01mraise\u001b[39;00m JSONDecodeError(\u001b[38;5;124m\"\u001b[39m\u001b[38;5;124mExpecting value\u001b[39m\u001b[38;5;124m\"\u001b[39m, s, err\u001b[38;5;241m.\u001b[39mvalue) \u001b[38;5;28;01mfrom\u001b[39;00m \u001b[38;5;28;01mNone\u001b[39;00m\n\u001b[1;32m    356\u001b[0m \u001b[38;5;28;01mreturn\u001b[39;00m obj, end\n",
      "\u001b[0;31mJSONDecodeError\u001b[0m: Expecting value: line 1 column 1 (char 0)"
     ]
    }
   ],
   "source": [
    "mig_env_indicators = {\"SP.POP.TOTL\": \"Total Population\",\n",
    "                      \"SP.POP.TOTL.FE.IN\": \"Population, female\",\n",
    "                      \"SP.POP.TOTL.MA.IN\": \"Population, male\",\n",
    "                      \"SP.POP.0004.FE\": \"Population ages 00-04, female\",\n",
    "                      \"SP.POP.0004.MA\": \"Population ages 00-04, male\",\n",
    "                      \"SP.POP.0014.FE.IN\": \"Population ages 0-14, female\",\n",
    "                      \"SP.POP.0014.MA.IN\": \"Population ages 0-14, male\",\n",
    "                      \"SP.POP.0014.TO\": \"Population ages 0-14, total\",\n",
    "                      \"SP.POP.0509.FE\": \"Population ages 05-09, female\",\n",
    "                      \"SP.POP.0509.MA\": \"Population ages 05-09, male\",\n",
    "                      \"SP.POP.1014.FE\": \"Population ages 10-14, female\",\n",
    "                      \"SP.POP.1014.MA\": \"Population ages 10-14, male\",\n",
    "                      \"SP.POP.1519.FE\": \"Population ages 15-19, female\",\n",
    "                      \"SP.POP.1519.MA\": \"Population ages 15-19, male\",\n",
    "                      \"SP.POP.1564.FE.IN\": \"Population ages 15-64, female\",\n",
    "                      \"SP.POP.1564.MA.IN\": \"Population ages 15-64, male\",\n",
    "                      \"SP.POP.1564.TO\": \"Population ages 15-64, total\",\n",
    "                      \"SP.POP.2024.FE\": \"Population ages 20-24, female\",\n",
    "                      \"SP.POP.2024.MA\": \"Population ages 20-24, male\",\n",
    "                      \"SP.POP.2529.FE\": \"Population ages 25-29, female\",\n",
    "                      \"SP.POP.2529.MA\": \"Population ages 25-29, male\",\n",
    "                      \"SP.POP.3034.FE\": \"Population ages 30-34, female\",\n",
    "                      \"SP.POP.3034.MA\": \"Population ages 30-34, male\",\n",
    "                      \"SP.POP.3539.FE\": \"Population ages 35-39, female\",\n",
    "                      \"SP.POP.3539.MA\": \"Population ages 35-39, male\",\n",
    "                      \"SP.POP.4044.FE\": \"Population ages 40-44, female\",\n",
    "                      \"SP.POP.4044.MA\": \"Population ages 40-44, male\",\n",
    "                      \"SP.POP.4549.FE\": \"Population ages 45-49, female\",\n",
    "                      \"SP.POP.4549.MA\": \"Population ages 45-49, male\",\n",
    "                      \"SP.POP.5054.FE\": \"Population ages 50-54, female\",\n",
    "                      \"SP.POP.5054.MA\": \"Population ages 50-54, male\",\n",
    "                      \"SP.POP.5559.FE\": \"Population ages 55-59, female\",\n",
    "                      \"SP.POP.5559.MA\": \"Population ages 55-59, male\",\n",
    "                      \"SP.POP.6064.FE\": \"Population ages 60-64, female\",\n",
    "                      \"SP.POP.6064.MA\": \"Population ages 60-64, male\",\n",
    "                      \"SP.POP.6569.FE\": \"Population ages 65-69, female\",\n",
    "                      \"SP.POP.6569.MA\": \"Population ages 65-69, male\",\n",
    "                      \"SP.POP.65UP.FE.IN\": \"Population ages 65 and above, female\",\n",
    "                      \"SP.POP.65UP.MA.IN\": \"Population ages 65 and above, male\",\n",
    "                      \"SP.POP.65UP.TO\": \"Population ages 65 and above, total\",\n",
    "                      \"SP.POP.7074.FE\": \"Population ages 70-74, female\",\n",
    "                      \"SP.POP.7074.MA\": \"Population ages 70-74, male\",\n",
    "                      \"SP.POP.7579.FE\": \"Population ages 75-79, female\",\n",
    "                      \"SP.POP.7579.MA\": \"Population ages 75-79, male\",\n",
    "                      \"SP.POP.80UP.FE\": \"Population ages 80 and above, female\",\n",
    "                      \"SP.POP.80UP.MA\": \"Population ages 80 and above, male\",\n",
    "                      \"SM.POP.NETM\":\"Net Migration\", \n",
    "                      #\"ER.H2O.FWST.ZS\": \"Fresh Water Stress (withdrawal prop. avail. resource)\", \n",
    "                      \"EN.LND.LTMP.DC\": \"Land Surface Temperature\", \n",
    "                      \"AG.PRD.FOOD.XD\": \"Food Production Index\", \n",
    "                      \"EN.POP.DNST\": \"Population per sq km\", \n",
    "                      \"SN.ITK.DEFC.ZS\": \"Prevalence of Undernourishment (% of Population)\", \n",
    "                      \"EG.ELC.COAL.ZS\": \"Electricity production from coal sources\"}\n",
    "mig_env = wbdata.get_dataframe(mig_env_indicators)\n",
    "\n",
    "# Make years ints instead of strings\n",
    "mig_env.reset_index(inplace=True)\n",
    "mig_env['date'] = mig_env['date'].astype(int)\n",
    "\n",
    "# index the table by country instead of year \n",
    "mig_env.set_index(['country'],inplace=True)\n",
    "mig_env"
   ]
  },
  {
   "cell_type": "code",
   "execution_count": null,
   "id": "c95d4882-3088-4a8e-9308-5752a8895faf",
   "metadata": {},
   "outputs": [],
   "source": [
    "mig_pol_indicators = {\"SP.POP.TOTL\": \"Total Population\",\n",
    "                      \"SP.POP.TOTL.FE.IN\": \"Population, female\",\n",
    "                      \"SP.POP.TOTL.MA.IN\": \"Population, male\",\n",
    "                      \"SP.POP.0004.FE\": \"Population ages 00-04, female\",\n",
    "                      \"SP.POP.0004.MA\": \"Population ages 00-04, male\",\n",
    "                      \"SP.POP.0014.FE.IN\": \"Population ages 0-14, female\",\n",
    "                      \"SP.POP.0014.MA.IN\": \"Population ages 0-14, male\",\n",
    "                      \"SP.POP.0014.TO\": \"Population ages 0-14, total\",\n",
    "                      \"SP.POP.0509.FE\": \"Population ages 05-09, female\",\n",
    "                      \"SP.POP.0509.MA\": \"Population ages 05-09, male\",\n",
    "                      \"SP.POP.1014.FE\": \"Population ages 10-14, female\",\n",
    "                      \"SP.POP.1014.MA\": \"Population ages 10-14, male\",\n",
    "                      \"SP.POP.1519.FE\": \"Population ages 15-19, female\",\n",
    "                      \"SP.POP.1519.MA\": \"Population ages 15-19, male\",\n",
    "                      \"SP.POP.1564.FE.IN\": \"Population ages 15-64, female\",\n",
    "                      \"SP.POP.1564.MA.IN\": \"Population ages 15-64, male\",\n",
    "                      \"SP.POP.1564.TO\": \"Population ages 15-64, total\",\n",
    "                      \"SP.POP.2024.FE\": \"Population ages 20-24, female\",\n",
    "                      \"SP.POP.2024.MA\": \"Population ages 20-24, male\",\n",
    "                      \"SP.POP.2529.FE\": \"Population ages 25-29, female\",\n",
    "                      \"SP.POP.2529.MA\": \"Population ages 25-29, male\",\n",
    "                      \"SP.POP.3034.FE\": \"Population ages 30-34, female\",\n",
    "                      \"SP.POP.3034.MA\": \"Population ages 30-34, male\",\n",
    "                      \"SP.POP.3539.FE\": \"Population ages 35-39, female\",\n",
    "                      \"SP.POP.3539.MA\": \"Population ages 35-39, male\",\n",
    "                      \"SP.POP.4044.FE\": \"Population ages 40-44, female\",\n",
    "                      \"SP.POP.4044.MA\": \"Population ages 40-44, male\",\n",
    "                      \"SP.POP.4549.FE\": \"Population ages 45-49, female\",\n",
    "                      \"SP.POP.4549.MA\": \"Population ages 45-49, male\",\n",
    "                      \"SP.POP.5054.FE\": \"Population ages 50-54, female\",\n",
    "                      \"SP.POP.5054.MA\": \"Population ages 50-54, male\",\n",
    "                      \"SP.POP.5559.FE\": \"Population ages 55-59, female\",\n",
    "                      \"SP.POP.5559.MA\": \"Population ages 55-59, male\",\n",
    "                      \"SP.POP.6064.FE\": \"Population ages 60-64, female\",\n",
    "                      \"SP.POP.6064.MA\": \"Population ages 60-64, male\",\n",
    "                      \"SP.POP.6569.FE\": \"Population ages 65-69, female\",\n",
    "                      \"SP.POP.6569.MA\": \"Population ages 65-69, male\",\n",
    "                      \"SP.POP.65UP.FE.IN\": \"Population ages 65 and above, female\",\n",
    "                      \"SP.POP.65UP.MA.IN\": \"Population ages 65 and above, male\",\n",
    "                      \"SP.POP.65UP.TO\": \"Population ages 65 and above, total\",\n",
    "                      \"SP.POP.7074.FE\": \"Population ages 70-74, female\",\n",
    "                      \"SP.POP.7074.MA\": \"Population ages 70-74, male\",\n",
    "                      \"SP.POP.7579.FE\": \"Population ages 75-79, female\",\n",
    "                      \"SP.POP.7579.MA\": \"Population ages 75-79, male\",\n",
    "                      \"SP.POP.80UP.FE\": \"Population ages 80 and above, female\",\n",
    "                      \"SP.POP.80UP.MA\": \"Population ages 80 and above, male\",\n",
    "                      \"SM.POP.NETM\":\"Net Migration\",\n",
    "                      \"SE.XPD.TOTL.GB.ZS\": \"Government Expenditure on Education (% of Total Expenditure)\", \n",
    "                      \"PV.EST\": \"Political Stability and Absence of Violence/Terrorism (estimate)\", \n",
    "                      \"IC.LGL.CRED.XQ\": \"Strength of Legal Rights Index (0-12 Scale)\", \n",
    "                      \"EG.ELC.ACCS.ZS\": \"Access to electricity (% of population)\", \n",
    "                      \"GE.EST\": \"Government Effectiveness Estimate\", \n",
    "                      \"CC.EST\": \"Control of Corruption: Estimate\", \n",
    "                      \"GB.XPD.RSDV.GD.ZS\": \"Research and development expenditure (% of GDP)\", \n",
    "                      \"SI.DST.FRST.20\": \"Income Share Held by Lowest 20%\"} \n",
    "mig_pol = wbdata.get_dataframe(mig_pol_indicators)\n",
    "\n",
    "# Make years ints instead of strings\n",
    "mig_pol.reset_index(inplace=True)\n",
    "mig_pol['date'] = mig_pol['date'].astype(int)\n",
    "\n",
    "# index the table by country instead of year \n",
    "mig_pol.set_index(['country'],inplace=True)\n",
    "mig_pol"
   ]
  },
  {
   "cell_type": "code",
   "execution_count": null,
   "id": "82c56991-69bf-4750-8f5d-6631379605c2",
   "metadata": {},
   "outputs": [],
   "source": [
    "# getting population dataset \n",
    "\n",
    "indicators = {\"SP.POP.TOTL\": \"Total Population\", \"SM.POP.NETM\":\"Net Migration\"}\n",
    "\n",
    "data = wbdata.get_dataframe(indicators)\n",
    "\n",
    "# Make years ints instead of strings\n",
    "data.reset_index(inplace=True)\n",
    "data['date'] = data['date'].astype(int)\n",
    "\n",
    "# index the table by country instead of year \n",
    "data.set_index(['country'],inplace=True)\n",
    "data"
   ]
  },
  {
   "cell_type": "code",
   "execution_count": null,
   "id": "d343e1dd-a9bf-4d82-956d-a22299f235d9",
   "metadata": {},
   "outputs": [],
   "source": []
  },
  {
   "cell_type": "code",
   "execution_count": null,
   "id": "5342158b-d222-423b-8b99-a1564f2f065b",
   "metadata": {},
   "outputs": [],
   "source": [
    "var_labels = {\"SM.POP.NETM\":\"Net Migration\"}\n",
    "world_migration = wbdata.get_dataframe(var_labels)\n",
    "world_migration_np = world_migration.dropna()\n",
    "population_statistics = world_migration_np.groupby('country').agg({\n",
    "    'Net Migration': ['sum', 'mean']\n",
    "}).reset_index()\n",
    "world_migration_np = population_statistics[population_statistics['Net Migration']<0]\n",
    "world_migration_np"
   ]
  },
  {
   "cell_type": "code",
   "execution_count": null,
   "id": "92144bdc-fa6d-41b4-a9f9-7c7a2c255587",
   "metadata": {},
   "outputs": [],
   "source": [
    "population_statistics = world_migration_np.groupby('country').agg({\n",
    "    'Net Migration': ['sum', 'mean']\n",
    "}).reset_index()\n",
    "population_statistics"
   ]
  },
  {
   "cell_type": "code",
   "execution_count": null,
   "id": "4ca8b533-a22a-4b05-91ce-401b9f0199e0",
   "metadata": {},
   "outputs": [],
   "source": [
    "mig_away = mig_away.dropna()\n",
    "population_statistics = mig_away.groupby('country').agg({\n",
    "    'Migration per Capita': ['sum', 'mean']\n",
    "}).reset_index()\n",
    "population_statistics"
   ]
  },
  {
   "cell_type": "code",
   "execution_count": null,
   "id": "0718ea1d-c9ba-429f-9dfc-93023bc96eee",
   "metadata": {},
   "outputs": [],
   "source": [
    "data = wbdata.get_dataframe(indicators)\n",
    "\n",
    "# Make years ints instead of strings\n",
    "data.reset_index(inplace=True)\n",
    "data['date'] = data['date'].astype(int)\n",
    "\n",
    "# index the table by country instead of year \n",
    "data.set_index(['country'],inplace=True)\n",
    "\n",
    "mig_away = data[data['Net Migration'] < 0]\n",
    "mig_away['Net Migration'] = mig_away['Net Migration'].abs()\n",
    "mig_away['Migration per Capita'] = mig_away['Net Migration']/mig_away['Total Population']\n",
    "mig_away['Migration Rate (%)'] = mig_away['Migration per Capita']*100"
   ]
  },
  {
   "cell_type": "markdown",
   "id": "4e7e276a-295a-4017-b13c-6270a4501fb4",
   "metadata": {},
   "source": [
    "#### Population Statistics"
   ]
  },
  {
   "cell_type": "code",
   "execution_count": null,
   "id": "fe657537-896f-4fe1-8926-d61b33c693ba",
   "metadata": {
    "scrolled": true
   },
   "outputs": [],
   "source": [
    "def population(year=1966, sex='Male', age_range=(18,26), place='wrld'):\n",
    "    print(\"Migration Rate\", Migration Rate (%), \"Total Population\", SP.POP.TOTL)"
   ]
  },
  {
   "cell_type": "code",
   "execution_count": null,
   "id": "0390fcac-42de-4f35-8031-74056395aa56",
   "metadata": {},
   "outputs": [],
   "source": []
  },
  {
   "cell_type": "code",
   "execution_count": null,
   "id": "ea4590ef-f5a9-4010-b82b-dc7844c4813b",
   "metadata": {},
   "outputs": [],
   "source": []
  },
  {
   "cell_type": "code",
   "execution_count": null,
   "id": "3475e0ff-3467-4db6-b2c4-1ffb941e201b",
   "metadata": {},
   "outputs": [],
   "source": []
  },
  {
   "cell_type": "code",
   "execution_count": null,
   "id": "34c54d41-26ca-4c12-b8d2-f20dfc62287d",
   "metadata": {},
   "outputs": [],
   "source": []
  },
  {
   "cell_type": "code",
   "execution_count": null,
   "id": "e71765ba-d44e-4a8e-bd1c-b7f76c83bc42",
   "metadata": {},
   "outputs": [],
   "source": []
  },
  {
   "cell_type": "code",
   "execution_count": null,
   "id": "a8f2cb2c-a8dd-412c-9643-432c0925d9c3",
   "metadata": {},
   "outputs": [],
   "source": []
  }
 ],
 "metadata": {
  "kernelspec": {
   "display_name": "Python 3 (ipykernel)",
   "language": "python",
   "name": "python3"
  },
  "language_info": {
   "codemirror_mode": {
    "name": "ipython",
    "version": 3
   },
   "file_extension": ".py",
   "mimetype": "text/x-python",
   "name": "python",
   "nbconvert_exporter": "python",
   "pygments_lexer": "ipython3",
   "version": "3.9.15"
  }
 },
 "nbformat": 4,
 "nbformat_minor": 5
}
