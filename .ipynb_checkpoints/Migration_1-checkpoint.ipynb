{
 "cells": [
  {
   "cell_type": "markdown",
   "metadata": {},
   "source": [
    "## Population Lecture I\n",
    "\n"
   ]
  },
  {
   "cell_type": "markdown",
   "metadata": {},
   "source": [
    "### Introduction\n",
    "\n"
   ]
  },
  {
   "cell_type": "markdown",
   "metadata": {},
   "source": [
    "Today we&rsquo;ll introduce some key &ldquo;stylized facts&rdquo; about human\n",
    "population and its growth.  None of these are &ldquo;causal&rdquo; statements,\n",
    "just observations about relationships.\n",
    "\n",
    "-   **Fact I:** Population growth is fundamentally exponential, but the\n",
    "    rate of growth has fallen over time.\n",
    "-   **Fact II:** Population growth rates are generally higher in places\n",
    "    where people are poorer.\n",
    "-   **Fact III:** Variation in growth rates across countries is\n",
    "    accounted for more by variation in fertility than by mortality.\n",
    "\n"
   ]
  },
  {
   "cell_type": "markdown",
   "metadata": {},
   "source": [
    "### Getting Data\n",
    "\n"
   ]
  },
  {
   "cell_type": "markdown",
   "metadata": {
    "slideshow": {
     "slide_type": "slide"
    }
   },
   "source": [
    "#### The World Development Indicators & `wbdata`\n",
    "\n"
   ]
  },
  {
   "cell_type": "markdown",
   "metadata": {},
   "source": [
    "The World Bank maintains a large set of &ldquo;World Development Indicators&rdquo; (WDI),\n",
    "including information on population.  \n",
    "\n",
    "-   API for WDI is available at [https://datahelpdesk.worldbank.org/knowledgebase/articles/889392-about-the-indicators-api-documentation](https://datahelpdesk.worldbank.org/knowledgebase/articles/889392-about-the-indicators-api-documentation)\n",
    "\n",
    "-   A `python` module that uses the API is `wbdata`, written by Oliver Sherouse.\n",
    "\n",
    "-   Available at [http://github.com/OliverSherouse/wbdata](http://github.com/OliverSherouse/wbdata).\n",
    "\n",
    "-   Documented at [https://wbdata.readthedocs.io](https://wbdata.readthedocs.io).\n",
    "\n"
   ]
  },
  {
   "cell_type": "markdown",
   "metadata": {},
   "source": [
    "#### Getting Population Data Using wbdata\n",
    "\n"
   ]
  },
  {
   "cell_type": "markdown",
   "metadata": {
    "slideshow": {
     "slide_type": "slide"
    }
   },
   "source": [
    "##### Goals\n",
    "\n"
   ]
  },
  {
   "cell_type": "markdown",
   "metadata": {},
   "source": [
    "We want to devise ways to visualize the following:\n",
    "\n",
    "-   Global population growth from 1960 to the present;\n",
    "-   Population growth rates versus GDP per capita;\n",
    "-   Age-sex population pyramids.\n",
    "\n"
   ]
  },
  {
   "cell_type": "markdown",
   "metadata": {
    "slideshow": {
     "slide_type": "slide"
    }
   },
   "source": [
    "##### Methods (using wbdata)\n",
    "\n"
   ]
  },
  {
   "cell_type": "markdown",
   "metadata": {},
   "source": [
    "We walk through the process of getting data from the WDI into a\n",
    "`pandas` DataFrame. \n",
    "\n",
    "The `wbdata` module has several key functions we&rsquo;ll want to use:\n",
    "\n",
    "-   **`search_countries()`:** Returns code for different countries or\n",
    "    regions.\n",
    "-   **`get_source()`:** Gives list of different data sources that can\n",
    "    be accessed using the module; returns a numeric key;\n",
    "-   **`get_indicator()`:** Given a source, this returns a list of\n",
    "    available variables (indicators).\n",
    "-   **`get_dataframe()`:** Given a source and a list of indicators,\n",
    "    this returns a dataframe populated with the requested data\n",
    "    for whatever\n",
    "\n",
    "Begin by importing the module:\n",
    "\n"
   ]
  },
  {
   "cell_type": "code",
   "execution_count": 1,
   "metadata": {},
   "outputs": [
    {
     "name": "stdout",
     "output_type": "stream",
     "text": [
      "Requirement already satisfied: wbdata in /Users/leayamashiro/anaconda3/lib/python3.11/site-packages (0.3.0)\r\n",
      "Requirement already satisfied: appdirs<2.0,>=1.4 in /Users/leayamashiro/anaconda3/lib/python3.11/site-packages (from wbdata) (1.4.4)\r\n",
      "Requirement already satisfied: decorator>=4.0 in /Users/leayamashiro/anaconda3/lib/python3.11/site-packages (from wbdata) (5.1.1)\r\n",
      "Requirement already satisfied: requests>=2.0 in /Users/leayamashiro/anaconda3/lib/python3.11/site-packages (from wbdata) (2.31.0)\r\n",
      "Requirement already satisfied: tabulate>=0.8.5 in /Users/leayamashiro/anaconda3/lib/python3.11/site-packages (from wbdata) (0.8.10)\r\n",
      "Requirement already satisfied: charset-normalizer<4,>=2 in /Users/leayamashiro/anaconda3/lib/python3.11/site-packages (from requests>=2.0->wbdata) (2.0.4)\r\n",
      "Requirement already satisfied: idna<4,>=2.5 in /Users/leayamashiro/anaconda3/lib/python3.11/site-packages (from requests>=2.0->wbdata) (3.4)\r\n",
      "Requirement already satisfied: urllib3<3,>=1.21.1 in /Users/leayamashiro/anaconda3/lib/python3.11/site-packages (from requests>=2.0->wbdata) (1.26.16)\r\n",
      "Requirement already satisfied: certifi>=2017.4.17 in /Users/leayamashiro/anaconda3/lib/python3.11/site-packages (from requests>=2.0->wbdata) (2023.11.17)\r\n"
     ]
    }
   ],
   "source": [
    "## If import fails with \"ModuleNotFoundError\"\n",
    "## uncomment below & try again\n",
    "# !pip install wbdata\n",
    "!pip install wbdata\n",
    "\n",
    "## change example \n",
    "\n",
    "import wbdata"
   ]
  },
  {
   "cell_type": "markdown",
   "metadata": {
    "slideshow": {
     "slide_type": "slide"
    }
   },
   "source": [
    "###### `wbdata.search_countries()`\n",
    "\n"
   ]
  },
  {
   "cell_type": "markdown",
   "metadata": {},
   "source": [
    "What countries and regions are available?  Looking up the country\n",
    "  codes, or searching for particular strings:\n",
    "\n"
   ]
  },
  {
   "cell_type": "code",
   "execution_count": 4,
   "metadata": {},
   "outputs": [
    {
     "data": {
      "text/plain": [
       "id    name\n",
       "----  --------------------------------------------------------------------------------\n",
       "ABW   Aruba\n",
       "AFE   Africa Eastern and Southern\n",
       "AFG   Afghanistan\n",
       "AFR   Africa\n",
       "AFW   Africa Western and Central\n",
       "AGO   Angola\n",
       "ALB   Albania\n",
       "AND   Andorra\n",
       "ARB   Arab World\n",
       "ARE   United Arab Emirates\n",
       "ARG   Argentina\n",
       "ARM   Armenia\n",
       "ASM   American Samoa\n",
       "ATG   Antigua and Barbuda\n",
       "AUS   Australia\n",
       "AUT   Austria\n",
       "AZE   Azerbaijan\n",
       "BDI   Burundi\n",
       "BEA   East Asia & Pacific (IBRD-only countries)\n",
       "BEC   Europe & Central Asia (IBRD-only countries)\n",
       "BEL   Belgium\n",
       "BEN   Benin\n",
       "BFA   Burkina Faso\n",
       "BGD   Bangladesh\n",
       "BGR   Bulgaria\n",
       "BHI   IBRD countries classified as high income\n",
       "BHR   Bahrain\n",
       "BHS   Bahamas, The\n",
       "BIH   Bosnia and Herzegovina\n",
       "BLA   Latin America & the Caribbean (IBRD-only countries)\n",
       "BLR   Belarus\n",
       "BLZ   Belize\n",
       "BMN   Middle East & North Africa (IBRD-only countries)\n",
       "BMU   Bermuda\n",
       "BOL   Bolivia\n",
       "BRA   Brazil\n",
       "BRB   Barbados\n",
       "BRN   Brunei Darussalam\n",
       "BSS   Sub-Saharan Africa (IBRD-only countries)\n",
       "BTN   Bhutan\n",
       "BWA   Botswana\n",
       "CAA   Sub-Saharan Africa (IFC classification)\n",
       "CAF   Central African Republic\n",
       "CAN   Canada\n",
       "CEA   East Asia and the Pacific (IFC classification)\n",
       "CEB   Central Europe and the Baltics\n",
       "CEU   Europe and Central Asia (IFC classification)\n",
       "CHE   Switzerland\n",
       "CHI   Channel Islands\n",
       "CHL   Chile\n",
       "CHN   China\n",
       "CIV   Cote d'Ivoire\n",
       "CLA   Latin America and the Caribbean (IFC classification)\n",
       "CME   Middle East and North Africa (IFC classification)\n",
       "CMR   Cameroon\n",
       "COD   Congo, Dem. Rep.\n",
       "COG   Congo, Rep.\n",
       "COL   Colombia\n",
       "COM   Comoros\n",
       "CPV   Cabo Verde\n",
       "CRI   Costa Rica\n",
       "CSA   South Asia (IFC classification)\n",
       "CSS   Caribbean small states\n",
       "CUB   Cuba\n",
       "CUW   Curacao\n",
       "CYM   Cayman Islands\n",
       "CYP   Cyprus\n",
       "CZE   Czechia\n",
       "DEA   East Asia & Pacific (IDA-eligible countries)\n",
       "DEC   Europe & Central Asia (IDA-eligible countries)\n",
       "DEU   Germany\n",
       "DJI   Djibouti\n",
       "DLA   Latin America & the Caribbean (IDA-eligible countries)\n",
       "DMA   Dominica\n",
       "DMN   Middle East & North Africa (IDA-eligible countries)\n",
       "DNK   Denmark\n",
       "DNS   IDA countries in Sub-Saharan Africa not classified as fragile situations\n",
       "DOM   Dominican Republic\n",
       "DSA   South Asia (IDA-eligible countries)\n",
       "DSF   IDA countries in Sub-Saharan Africa classified as fragile situations\n",
       "DSS   Sub-Saharan Africa (IDA-eligible countries)\n",
       "DZA   Algeria\n",
       "EAP   East Asia & Pacific (excluding high income)\n",
       "EAR   Early-demographic dividend\n",
       "EAS   East Asia & Pacific\n",
       "ECA   Europe & Central Asia (excluding high income)\n",
       "ECS   Europe & Central Asia\n",
       "ECU   Ecuador\n",
       "EGY   Egypt, Arab Rep.\n",
       "EMU   Euro area\n",
       "ERI   Eritrea\n",
       "ESP   Spain\n",
       "EST   Estonia\n",
       "ETH   Ethiopia\n",
       "EUU   European Union\n",
       "FCS   Fragile and conflict affected situations\n",
       "FIN   Finland\n",
       "FJI   Fiji\n",
       "FRA   France\n",
       "FRO   Faroe Islands\n",
       "FSM   Micronesia, Fed. Sts.\n",
       "FXS   IDA countries classified as fragile situations, excluding Sub-Saharan Africa\n",
       "GAB   Gabon\n",
       "GBR   United Kingdom\n",
       "GEO   Georgia\n",
       "GHA   Ghana\n",
       "GIB   Gibraltar\n",
       "GIN   Guinea\n",
       "GMB   Gambia, The\n",
       "GNB   Guinea-Bissau\n",
       "GNQ   Equatorial Guinea\n",
       "GRC   Greece\n",
       "GRD   Grenada\n",
       "GRL   Greenland\n",
       "GTM   Guatemala\n",
       "GUM   Guam\n",
       "GUY   Guyana\n",
       "HIC   High income\n",
       "HKG   Hong Kong SAR, China\n",
       "HND   Honduras\n",
       "HPC   Heavily indebted poor countries (HIPC)\n",
       "HRV   Croatia\n",
       "HTI   Haiti\n",
       "HUN   Hungary\n",
       "IBB   IBRD, including blend\n",
       "IBD   IBRD only\n",
       "IBT   IDA & IBRD total\n",
       "IDA   IDA total\n",
       "IDB   IDA blend\n",
       "IDN   Indonesia\n",
       "IDX   IDA only\n",
       "IMN   Isle of Man\n",
       "IND   India\n",
       "INX   Not classified\n",
       "IRL   Ireland\n",
       "IRN   Iran, Islamic Rep.\n",
       "IRQ   Iraq\n",
       "ISL   Iceland\n",
       "ISR   Israel\n",
       "ITA   Italy\n",
       "JAM   Jamaica\n",
       "JOR   Jordan\n",
       "JPN   Japan\n",
       "KAZ   Kazakhstan\n",
       "KEN   Kenya\n",
       "KGZ   Kyrgyz Republic\n",
       "KHM   Cambodia\n",
       "KIR   Kiribati\n",
       "KNA   St. Kitts and Nevis\n",
       "KOR   Korea, Rep.\n",
       "KWT   Kuwait\n",
       "LAC   Latin America & Caribbean (excluding high income)\n",
       "LAO   Lao PDR\n",
       "LBN   Lebanon\n",
       "LBR   Liberia\n",
       "LBY   Libya\n",
       "LCA   St. Lucia\n",
       "LCN   Latin America & Caribbean\n",
       "LDC   Least developed countries: UN classification\n",
       "LIC   Low income\n",
       "LIE   Liechtenstein\n",
       "LKA   Sri Lanka\n",
       "LMC   Lower middle income\n",
       "LMY   Low & middle income\n",
       "LSO   Lesotho\n",
       "LTE   Late-demographic dividend\n",
       "LTU   Lithuania\n",
       "LUX   Luxembourg\n",
       "LVA   Latvia\n",
       "MAC   Macao SAR, China\n",
       "MAF   St. Martin (French part)\n",
       "MAR   Morocco\n",
       "MCO   Monaco\n",
       "MDA   Moldova\n",
       "MDE   Middle East (developing only)\n",
       "MDG   Madagascar\n",
       "MDV   Maldives\n",
       "MEA   Middle East & North Africa\n",
       "MEX   Mexico\n",
       "MHL   Marshall Islands\n",
       "MIC   Middle income\n",
       "MKD   North Macedonia\n",
       "MLI   Mali\n",
       "MLT   Malta\n",
       "MMR   Myanmar\n",
       "MNA   Middle East & North Africa (excluding high income)\n",
       "MNE   Montenegro\n",
       "MNG   Mongolia\n",
       "MNP   Northern Mariana Islands\n",
       "MOZ   Mozambique\n",
       "MRT   Mauritania\n",
       "MUS   Mauritius\n",
       "MWI   Malawi\n",
       "MYS   Malaysia\n",
       "NAC   North America\n",
       "NAF   North Africa\n",
       "NAM   Namibia\n",
       "NCL   New Caledonia\n",
       "NER   Niger\n",
       "NGA   Nigeria\n",
       "NIC   Nicaragua\n",
       "NLD   Netherlands\n",
       "NOR   Norway\n",
       "NPL   Nepal\n",
       "NRS   Non-resource rich Sub-Saharan Africa countries\n",
       "NRU   Nauru\n",
       "NXS   IDA countries not classified as fragile situations, excluding Sub-Saharan Africa\n",
       "NZL   New Zealand\n",
       "OED   OECD members\n",
       "OMN   Oman\n",
       "OSS   Other small states\n",
       "PAK   Pakistan\n",
       "PAN   Panama\n",
       "PER   Peru\n",
       "PHL   Philippines\n",
       "PLW   Palau\n",
       "PNG   Papua New Guinea\n",
       "POL   Poland\n",
       "PRE   Pre-demographic dividend\n",
       "PRI   Puerto Rico\n",
       "PRK   Korea, Dem. People's Rep.\n",
       "PRT   Portugal\n",
       "PRY   Paraguay\n",
       "PSE   West Bank and Gaza\n",
       "PSS   Pacific island small states\n",
       "PST   Post-demographic dividend\n",
       "PYF   French Polynesia\n",
       "QAT   Qatar\n",
       "ROU   Romania\n",
       "RRS   Resource rich Sub-Saharan Africa countries\n",
       "RUS   Russian Federation\n",
       "RWA   Rwanda\n",
       "SAS   South Asia\n",
       "SAU   Saudi Arabia\n",
       "SDN   Sudan\n",
       "SEN   Senegal\n",
       "SGP   Singapore\n",
       "SLB   Solomon Islands\n",
       "SLE   Sierra Leone\n",
       "SLV   El Salvador\n",
       "SMR   San Marino\n",
       "SOM   Somalia\n",
       "SRB   Serbia\n",
       "SSA   Sub-Saharan Africa (excluding high income)\n",
       "SSD   South Sudan\n",
       "SSF   Sub-Saharan Africa\n",
       "SST   Small states\n",
       "STP   Sao Tome and Principe\n",
       "SUR   Suriname\n",
       "SVK   Slovak Republic\n",
       "SVN   Slovenia\n",
       "SWE   Sweden\n",
       "SWZ   Eswatini\n",
       "SXM   Sint Maarten (Dutch part)\n",
       "SXZ   Sub-Saharan Africa excluding South Africa\n",
       "SYC   Seychelles\n",
       "SYR   Syrian Arab Republic\n",
       "TCA   Turks and Caicos Islands\n",
       "TCD   Chad\n",
       "TEA   East Asia & Pacific (IDA & IBRD countries)\n",
       "TEC   Europe & Central Asia (IDA & IBRD countries)\n",
       "TGO   Togo\n",
       "THA   Thailand\n",
       "TJK   Tajikistan\n",
       "TKM   Turkmenistan\n",
       "TLA   Latin America & the Caribbean (IDA & IBRD countries)\n",
       "TLS   Timor-Leste\n",
       "TMN   Middle East & North Africa (IDA & IBRD countries)\n",
       "TON   Tonga\n",
       "TSA   South Asia (IDA & IBRD)\n",
       "TSS   Sub-Saharan Africa (IDA & IBRD countries)\n",
       "TTO   Trinidad and Tobago\n",
       "TUN   Tunisia\n",
       "TUR   Turkiye\n",
       "TUV   Tuvalu\n",
       "TZA   Tanzania\n",
       "UGA   Uganda\n",
       "UKR   Ukraine\n",
       "UMC   Upper middle income\n",
       "URY   Uruguay\n",
       "USA   United States\n",
       "UZB   Uzbekistan\n",
       "VCT   St. Vincent and the Grenadines\n",
       "VEN   Venezuela, RB\n",
       "VGB   British Virgin Islands\n",
       "VIR   Virgin Islands (U.S.)\n",
       "VNM   Viet Nam\n",
       "VUT   Vanuatu\n",
       "WLD   World\n",
       "WSM   Samoa\n",
       "XKX   Kosovo\n",
       "XZN   Sub-Saharan Africa excluding South Africa and Nigeria\n",
       "YEM   Yemen, Rep.\n",
       "ZAF   South Africa\n",
       "ZMB   Zambia\n",
       "ZWE   Zimbabwe"
      ]
     },
     "execution_count": 4,
     "metadata": {},
     "output_type": "execute_result"
    }
   ],
   "source": [
    "import wbdata\n",
    "\n",
    "# Return list of all country/region codes:\n",
    "wbdata.get_country()\n",
    "\n",
    "# Return list matching a query term:\n",
    "#wbdata.search_countries(\"World\")\n",
    "\n",
    "## Try your own search!\n",
    "# wbdata.search_countries(\"\")"
   ]
  },
  {
   "cell_type": "markdown",
   "metadata": {
    "slideshow": {
     "slide_type": "slide"
    }
   },
   "source": [
    "###### `wbdata.get_source()`\n",
    "\n"
   ]
  },
  {
   "cell_type": "markdown",
   "metadata": {},
   "source": [
    "To see possible datasets we can access via the API, use `get_source()`\n",
    "\n"
   ]
  },
  {
   "cell_type": "code",
   "execution_count": 5,
   "metadata": {},
   "outputs": [
    {
     "data": {
      "text/plain": [
       "  id  name\n",
       "----  --------------------------------------------------------------------\n",
       "   1  Doing Business\n",
       "   2  World Development Indicators\n",
       "   3  Worldwide Governance Indicators\n",
       "   5  Subnational Malnutrition Database\n",
       "   6  International Debt Statistics\n",
       "  11  Africa Development Indicators\n",
       "  12  Education Statistics\n",
       "  13  Enterprise Surveys\n",
       "  14  Gender Statistics\n",
       "  15  Global Economic Monitor\n",
       "  16  Health Nutrition and Population Statistics\n",
       "  18  IDA Results Measurement System\n",
       "  19  Millennium Development Goals\n",
       "  20  Quarterly Public Sector Debt\n",
       "  22  Quarterly External Debt Statistics SDDS\n",
       "  23  Quarterly External Debt Statistics GDDS\n",
       "  25  Jobs\n",
       "  27  Global Economic Prospects\n",
       "  28  Global Financial Inclusion\n",
       "  29  The Atlas of Social Protection: Indicators of Resilience and Equity\n",
       "  30  Exporter Dynamics Database – Indicators at Country-Year Level\n",
       "  31  Country Policy and Institutional Assessment\n",
       "  32  Global Financial Development\n",
       "  33  G20 Financial Inclusion Indicators\n",
       "  34  Global Partnership for Education\n",
       "  35  Sustainable Energy for All\n",
       "  37  LAC Equity Lab\n",
       "  38  Subnational Poverty\n",
       "  39  Health Nutrition and Population Statistics by Wealth Quintile\n",
       "  40  Population estimates and projections\n",
       "  41  Country Partnership Strategy for India (FY2013 - 17)\n",
       "  43  Adjusted Net Savings\n",
       "  45  Indonesia Database for Policy and Economic Research\n",
       "  46  Sustainable Development Goals\n",
       "  50  Subnational Population\n",
       "  54  Joint External Debt Hub\n",
       "  57  WDI Database Archives\n",
       "  58  Universal Health Coverage\n",
       "  59  Wealth Accounts\n",
       "  60  Economic Fitness\n",
       "  61  PPPs Regulatory Quality\n",
       "  62  International Comparison Program (ICP) 2011\n",
       "  63  Human Capital Index\n",
       "  64  Worldwide Bureaucracy Indicators\n",
       "  65  Health Equity and Financial Protection Indicators\n",
       "  66  Logistics Performance Index\n",
       "  67  PEFA 2011\n",
       "  68  PEFA 2016\n",
       "  69  Global Financial Inclusion and Consumer Protection Survey\n",
       "  70  Economic Fitness 2\n",
       "  71  International Comparison Program (ICP) 2005\n",
       "  73  Global Financial Inclusion and Consumer Protection Survey (Internal)\n",
       "  75  Environment, Social and Governance (ESG) Data\n",
       "  76  Remittance Prices Worldwide (Sending Countries)\n",
       "  77  Remittance Prices Worldwide (Receiving Countries)\n",
       "  78  ICP 2017\n",
       "  79  PEFA_GRPFM\n",
       "  80  Gender Disaggregated Labor Database (GDLD)\n",
       "  81  International Debt Statistics: DSSI\n",
       "  82  Global Public Procurement\n",
       "  83  Statistical Performance Indicators (SPI)\n",
       "  84  Education Policy\n",
       "  85  PEFA_2021_SNG\n",
       "  86  Global Jobs Indicators Database (JOIN)\n",
       "  87  Country Climate and Development Report (CCDR)\n",
       "  88  Food Prices for Nutrition\n",
       "  89  Identification for Development (ID4D) Data"
      ]
     },
     "execution_count": 5,
     "metadata": {},
     "output_type": "execute_result"
    }
   ],
   "source": [
    "wbdata.get_source()"
   ]
  },
  {
   "cell_type": "code",
   "execution_count": 6,
   "metadata": {},
   "outputs": [
    {
     "data": {
      "text/plain": [
       "id                    name\n",
       "--------------------  ----------------------------------------------------------------------------------------------------------------------\n",
       "SH.ACS.ALON.Q1.ZS     Problems in accessing health care (not wanting to go alone) (% of women): Q1 (lowest)\n",
       "SH.ACS.ALON.Q2.ZS     Problems in accessing health care (not wanting to go alone) (% of women): Q2\n",
       "SH.ACS.ALON.Q3.ZS     Problems in accessing health care (not wanting to go alone) (% of women): Q3\n",
       "SH.ACS.ALON.Q4.ZS     Problems in accessing health care (not wanting to go alone) (% of women): Q4\n",
       "SH.ACS.ALON.Q5.ZS     Problems in accessing health care (not wanting to go alone) (% of women): Q5 (highest)\n",
       "SH.ACS.DIST.Q1.ZS     Problems in accessing health care (distance to health facility) (% of women): Q1 (lowest)\n",
       "SH.ACS.DIST.Q2.ZS     Problems in accessing health care (distance to health facility) (% of women): Q2\n",
       "SH.ACS.DIST.Q3.ZS     Problems in accessing health care (distance to health facility) (% of women): Q3\n",
       "SH.ACS.DIST.Q4.ZS     Problems in accessing health care (distance to health facility) (% of women): Q4\n",
       "SH.ACS.DIST.Q5.ZS     Problems in accessing health care (distance to health facility) (% of women): Q5 (highest)\n",
       "SH.ACS.MONY.Q1.ZS     Problems in accessing health care (getting money for treatment) (% of women): Q1 (lowest)\n",
       "SH.ACS.MONY.Q2.ZS     Problems in accessing health care (getting money for treatment) (% of women): Q2\n",
       "SH.ACS.MONY.Q3.ZS     Problems in accessing health care (getting money for treatment) (% of women): Q3\n",
       "SH.ACS.MONY.Q4.ZS     Problems in accessing health care (getting money for treatment) (% of women): Q4\n",
       "SH.ACS.MONY.Q5.ZS     Problems in accessing health care (getting money for treatment) (% of women): Q5 (highest)\n",
       "SH.ACS.NOFP.Q1.ZS     Problems in accessing health care (concern there may not be a female provider) (% of women): Q1 (lowest)\n",
       "SH.ACS.NOFP.Q2.ZS     Problems in accessing health care (concern there may not be a female provider) (% of women): Q2\n",
       "SH.ACS.NOFP.Q3.ZS     Problems in accessing health care (concern there may not be a female provider) (% of women): Q3\n",
       "SH.ACS.NOFP.Q4.ZS     Problems in accessing health care (concern there may not be a female provider) (% of women): Q4\n",
       "SH.ACS.NOFP.Q5.ZS     Problems in accessing health care (concern there may not be a female provider) (% of women): Q5 (highest)\n",
       "SH.ACS.PERM.Q1.ZS     Problems in accessing health care (getting permission to go for treatment) (% of women): Q1 (lowest)\n",
       "SH.ACS.PERM.Q2.ZS     Problems in accessing health care (getting permission to go for treatment) (% of women): Q2\n",
       "SH.ACS.PERM.Q3.ZS     Problems in accessing health care (getting permission to go for treatment) (% of women): Q3\n",
       "SH.ACS.PERM.Q4.ZS     Problems in accessing health care (getting permission to go for treatment) (% of women): Q4\n",
       "SH.ACS.PERM.Q5.ZS     Problems in accessing health care (getting permission to go for treatment) (% of women): Q5 (highest)\n",
       "SH.ACS.PROB.Q1.ZS     Problems in accessing health care (any of the specified problems) (% of women): Q1 (lowest)\n",
       "SH.ACS.PROB.Q2.ZS     Problems in accessing health care (any of the specified problems) (% of women): Q2\n",
       "SH.ACS.PROB.Q3.ZS     Problems in accessing health care (any of the specified problems) (% of women): Q3\n",
       "SH.ACS.PROB.Q4.ZS     Problems in accessing health care (any of the specified problems) (% of women): Q4\n",
       "SH.ACS.PROB.Q5.ZS     Problems in accessing health care (any of the specified problems) (% of women): Q5 (highest)\n",
       "SH.ACS.TRAN.Q1.ZS     Problems in accessing health care (having to take transport) (% of women): Q1 (lowest)\n",
       "SH.ACS.TRAN.Q2.ZS     Problems in accessing health care (having to take transport) (% of women): Q2\n",
       "SH.ACS.TRAN.Q3.ZS     Problems in accessing health care (having to take transport) (% of women): Q3\n",
       "SH.ACS.TRAN.Q4.ZS     Problems in accessing health care (having to take transport) (% of women): Q4\n",
       "SH.ACS.TRAN.Q5.ZS     Problems in accessing health care (having to take transport) (% of women): Q5 (highest)\n",
       "SH.ACS.WHER.Q1.ZS     Problems in accessing health care (knowing where to go for treatment) (% of women): Q1 (lowest)\n",
       "SH.ACS.WHER.Q2.ZS     Problems in accessing health care (knowing where to go for treatment) (% of women): Q2\n",
       "SH.ACS.WHER.Q3.ZS     Problems in accessing health care (knowing where to go for treatment) (% of women): Q3\n",
       "SH.ACS.WHER.Q4.ZS     Problems in accessing health care (knowing where to go for treatment) (% of women): Q4\n",
       "SH.ACS.WHER.Q5.ZS     Problems in accessing health care (knowing where to go for treatment) (% of women): Q5 (highest)\n",
       "SH.DYN.MORT.Q1        Under-5 mortality rate (per 1,000 live births): Q1 (lowest)\n",
       "SH.DYN.MORT.Q2        Under-5 mortality rate (per 1,000 live births): Q2\n",
       "SH.DYN.MORT.Q3        Under-5 mortality rate (per 1,000 live births): Q3\n",
       "SH.DYN.MORT.Q4        Under-5 mortality rate (per 1,000 live births): Q4\n",
       "SH.DYN.MORT.Q5        Under-5 mortality rate (per 1,000 live births): Q5 (highest)\n",
       "SH.FPL.ACPT.Q1.ZS     Acceptability of media messages on family planning (% of women): Q1 (lowest)\n",
       "SH.FPL.ACPT.Q2.ZS     Acceptability of media messages on family planning (% of women): Q2\n",
       "SH.FPL.ACPT.Q3.ZS     Acceptability of media messages on family planning (% of women): Q3\n",
       "SH.FPL.ACPT.Q4.ZS     Acceptability of media messages on family planning (% of women): Q4\n",
       "SH.FPL.ACPT.Q5.ZS     Acceptability of media messages on family planning (% of women): Q5 (highest)\n",
       "SH.FPL.FBRT.Q1.ZS     Median age at first birth (women ages 25-49): Q1 (lowest)\n",
       "SH.FPL.FBRT.Q2.ZS     Median age at first birth (women ages 25-49): Q2\n",
       "SH.FPL.FBRT.Q3.ZS     Median age at first birth (women ages 25-49): Q3\n",
       "SH.FPL.FBRT.Q4.ZS     Median age at first birth (women ages 25-49): Q4\n",
       "SH.FPL.FBRT.Q5.ZS     Median age at first birth (women ages 25-49): Q5 (highest)\n",
       "SH.FPL.FMAR.Q1.ZS     Median age at first marriage (women ages 25-49): Q1 (lowest)\n",
       "SH.FPL.FMAR.Q2.ZS     Median age at first marriage (women ages 25-49): Q2\n",
       "SH.FPL.FMAR.Q3.ZS     Median age at first marriage (women ages 25-49): Q3\n",
       "SH.FPL.FMAR.Q4.ZS     Median age at first marriage (women ages 25-49): Q4\n",
       "SH.FPL.FMAR.Q5.ZS     Median age at first marriage (women ages 25-49): Q5 (highest)\n",
       "SH.FPL.FSEX.Q1.ZS     Median age at first sexual intercourse (women ages 25-49): Q1 (lowest)\n",
       "SH.FPL.FSEX.Q2.ZS     Median age at first sexual intercourse (women ages 25-49): Q2\n",
       "SH.FPL.FSEX.Q3.ZS     Median age at first sexual intercourse (women ages 25-49): Q3\n",
       "SH.FPL.FSEX.Q4.ZS     Median age at first sexual intercourse (women ages 25-49): Q4\n",
       "SH.FPL.FSEX.Q5.ZS     Median age at first sexual intercourse (women ages 25-49): Q5 (highest)\n",
       "SH.FPL.HEAR.Q1.ZS     Heard family planning on radio and television (% of women): Q1 (lowest)\n",
       "SH.FPL.HEAR.Q2.ZS     Heard family planning on radio and television (% of women): Q2\n",
       "SH.FPL.HEAR.Q3.ZS     Heard family planning on radio and television (% of women): Q3\n",
       "SH.FPL.HEAR.Q4.ZS     Heard family planning on radio and television (% of women): Q4\n",
       "SH.FPL.HEAR.Q5.ZS     Heard family planning on radio and television (% of women): Q5 (highest)\n",
       "SH.FPL.IDLC.Q1        Mean ideal number of children (per woman): Q1 (lowest)\n",
       "SH.FPL.IDLC.Q2        Mean ideal number of children (per woman): Q2\n",
       "SH.FPL.IDLC.Q3        Mean ideal number of children (per woman): Q3\n",
       "SH.FPL.IDLC.Q4        Mean ideal number of children (per woman): Q4\n",
       "SH.FPL.IDLC.Q5        Mean ideal number of children (per woman): Q5 (highest)\n",
       "SH.FPL.KNOW.Q1.ZS     Knowledge of contraception (any method) (% of married women): Q1 (lowest)\n",
       "SH.FPL.KNOW.Q2.ZS     Knowledge of contraception (any method) (% of married women): Q2\n",
       "SH.FPL.KNOW.Q3.ZS     Knowledge of contraception (any method) (% of married women): Q3\n",
       "SH.FPL.KNOW.Q4.ZS     Knowledge of contraception (any method) (% of married women): Q4\n",
       "SH.FPL.KNOW.Q5.ZS     Knowledge of contraception (any method) (% of married women): Q5 (highest)\n",
       "SH.FPL.KWMD.Q1.ZS     Knowledge of contraception (modern method) (% of married women): Q1 (lowest)\n",
       "SH.FPL.KWMD.Q2.ZS     Knowledge of contraception (modern method) (% of married women): Q2\n",
       "SH.FPL.KWMD.Q3.ZS     Knowledge of contraception (modern method) (% of married women): Q3\n",
       "SH.FPL.KWMD.Q4.ZS     Knowledge of contraception (modern method) (% of married women): Q4\n",
       "SH.FPL.KWMD.Q5.ZS     Knowledge of contraception (modern method) (% of married women): Q5 (highest)\n",
       "SH.FPL.LIMT.Q1.ZS     Desire to stop (limit) childbearing (% of married women): Q1 (lowest)\n",
       "SH.FPL.LIMT.Q2.ZS     Desire to stop (limit) childbearing (% of married women): Q2\n",
       "SH.FPL.LIMT.Q3.ZS     Desire to stop (limit) childbearing (% of married women): Q3\n",
       "SH.FPL.LIMT.Q4.ZS     Desire to stop (limit) childbearing (% of married women): Q4\n",
       "SH.FPL.LIMT.Q5.ZS     Desire to stop (limit) childbearing (% of married women): Q5 (highest)\n",
       "SH.FPL.MBRI.Q1        Median birth interval (months): Q1 (lowest)\n",
       "SH.FPL.MBRI.Q2        Median birth interval (months): Q2\n",
       "SH.FPL.MBRI.Q3        Median birth interval (months): Q3\n",
       "SH.FPL.MBRI.Q4        Median birth interval (months): Q4\n",
       "SH.FPL.MBRI.Q5        Median birth interval (months): Q5 (highest)\n",
       "SH.FPL.MSTM.Q1.ZS     Fertility planning status (wanted later) (% of births): Q1 (lowest)\n",
       "SH.FPL.MSTM.Q2.ZS     Fertility planning status (wanted later) (% of births): Q2\n",
       "SH.FPL.MSTM.Q3.ZS     Fertility planning status (wanted later) (% of births): Q3\n",
       "SH.FPL.MSTM.Q4.ZS     Fertility planning status (wanted later) (% of births): Q4\n",
       "SH.FPL.MSTM.Q5.ZS     Fertility planning status (wanted later) (% of births): Q5 (highest)\n",
       "SH.FPL.READ.Q1.ZS     Family planning messages in print (% of women): Q1 (lowest)\n",
       "SH.FPL.READ.Q2.ZS     Family planning messages in print (% of women): Q2\n",
       "SH.FPL.READ.Q3.ZS     Family planning messages in print (% of women): Q3\n",
       "SH.FPL.READ.Q4.ZS     Family planning messages in print (% of women): Q4\n",
       "SH.FPL.READ.Q5.ZS     Family planning messages in print (% of women): Q5 (highest)\n",
       "SH.FPL.UWTD.Q1.ZS     Fertility planning status (wanted no more) (% of births): Q1 (lowest)\n",
       "SH.FPL.UWTD.Q2.ZS     Fertility planning status (wanted no more) (% of births): Q2\n",
       "SH.FPL.UWTD.Q3.ZS     Fertility planning status (wanted no more) (% of births): Q3\n",
       "SH.FPL.UWTD.Q4.ZS     Fertility planning status (wanted no more) (% of births): Q4\n",
       "SH.FPL.UWTD.Q5.ZS     Fertility planning status (wanted no more) (% of births): Q5 (highest)\n",
       "SH.FPL.WNTD.Q1.ZS     Fertility planning status (wanted then) (% of births): Q1 (lowest)\n",
       "SH.FPL.WNTD.Q2.ZS     Fertility planning status (wanted then) (% of births): Q2\n",
       "SH.FPL.WNTD.Q3.ZS     Fertility planning status (wanted then) (% of births): Q3\n",
       "SH.FPL.WNTD.Q4.ZS     Fertility planning status (wanted then) (% of births): Q4\n",
       "SH.FPL.WNTD.Q5.ZS     Fertility planning status (wanted then) (% of births): Q5 (highest)\n",
       "SH.H2O.BASW.Q1.ZS     People using at least basic drinking water services (% of population): Q1 (lowest)\n",
       "SH.H2O.BASW.Q2.ZS     People using at least basic drinking water services (% of population): Q2\n",
       "SH.H2O.BASW.Q3.ZS     People using at least basic drinking water services (% of population): Q3\n",
       "SH.H2O.BASW.Q4.ZS     People using at least basic drinking water services (% of population): Q4\n",
       "SH.H2O.BASW.Q5.ZS     People using at least basic drinking water services (% of population): Q5 (highest)\n",
       "SH.H2O.BASW.RU.Q1.ZS  People using at least basic drinking water services, rural (% of rural population): Q1 (lowest)\n",
       "SH.H2O.BASW.RU.Q2.ZS  People using at least basic drinking water services, rural (% of rural population): Q2\n",
       "SH.H2O.BASW.RU.Q3.ZS  People using at least basic drinking water services, rural (% of rural population): Q3\n",
       "SH.H2O.BASW.RU.Q4.ZS  People using at least basic drinking water services, rural (% of rural population): Q4\n",
       "SH.H2O.BASW.RU.Q5.ZS  People using at least basic drinking water services, rural (% of rural population): Q5 (highest)\n",
       "SH.H2O.BASW.UR.Q1.ZS  People using at least basic drinking water services, urban (% of urban population): Q1 (lowest)\n",
       "SH.H2O.BASW.UR.Q2.ZS  People using at least basic drinking water services, urban (% of urban population): Q2\n",
       "SH.H2O.BASW.UR.Q3.ZS  People using at least basic drinking water services, urban (% of urban population): Q3\n",
       "SH.H2O.BASW.UR.Q4.ZS  People using at least basic drinking water services, urban (% of urban population): Q4\n",
       "SH.H2O.BASW.UR.Q5.ZS  People using at least basic drinking water services, urban (% of urban population): Q5 (highest)\n",
       "SH.IMM.ALLV.Q1.ZS     Vaccinations (all vaccinations) (% of children ages 12-23 months): Q1 (lowest)\n",
       "SH.IMM.ALLV.Q2.ZS     Vaccinations (all vaccinations) (% of children ages 12-23 months): Q2\n",
       "SH.IMM.ALLV.Q3.ZS     Vaccinations (all vaccinations) (% of children ages 12-23 months): Q3\n",
       "SH.IMM.ALLV.Q4.ZS     Vaccinations (all vaccinations) (% of children ages 12-23 months): Q4\n",
       "SH.IMM.ALLV.Q5.ZS     Vaccinations (all vaccinations) (% of children ages 12-23 months): Q5 (highest)\n",
       "SH.IMM.IBCG.Q1.ZS     Vaccinations (BCG) (% of children ages 12-23 months): Q1 (lowest)\n",
       "SH.IMM.IBCG.Q2.ZS     Vaccinations (BCG) (% of children ages 12-23 months): Q2\n",
       "SH.IMM.IBCG.Q3.ZS     Vaccinations (BCG) (% of children ages 12-23 months): Q3\n",
       "SH.IMM.IBCG.Q4.ZS     Vaccinations (BCG) (% of children ages 12-23 months): Q4\n",
       "SH.IMM.IBCG.Q5.ZS     Vaccinations (BCG) (% of children ages 12-23 months): Q5 (highest)\n",
       "SH.IMM.IDPT.Q1.ZS     Vaccinations (DPT 3) (% of children ages 12-23 months): Q1 (lowest)\n",
       "SH.IMM.IDPT.Q2.ZS     Vaccinations (DPT 3) (% of children ages 12-23 months): Q2\n",
       "SH.IMM.IDPT.Q3.ZS     Vaccinations (DPT 3) (% of children ages 12-23 months): Q3\n",
       "SH.IMM.IDPT.Q4.ZS     Vaccinations (DPT 3) (% of children ages 12-23 months): Q4\n",
       "SH.IMM.IDPT.Q5.ZS     Vaccinations (DPT 3) (% of children ages 12-23 months): Q5 (highest)\n",
       "SH.IMM.MEAS.Q1.ZS     Vaccinations (Measles) (% of children ages 12-23 months): Q1 (lowest)\n",
       "SH.IMM.MEAS.Q2.ZS     Vaccinations (Measles) (% of children ages 12-23 months): Q2\n",
       "SH.IMM.MEAS.Q3.ZS     Vaccinations (Measles) (% of children ages 12-23 months): Q3\n",
       "SH.IMM.MEAS.Q4.ZS     Vaccinations (Measles) (% of children ages 12-23 months): Q4\n",
       "SH.IMM.MEAS.Q5.ZS     Vaccinations (Measles) (% of children ages 12-23 months): Q5 (highest)\n",
       "SH.IMM.NONE.Q1.ZS     Vaccinations (no vaccinations) (% of children ages 12-23 months): Q1 (lowest)\n",
       "SH.IMM.NONE.Q2.ZS     Vaccinations (no vaccinations) (% of children ages 12-23 months): Q2\n",
       "SH.IMM.NONE.Q3.ZS     Vaccinations (no vaccinations) (% of children ages 12-23 months): Q3\n",
       "SH.IMM.NONE.Q4.ZS     Vaccinations (no vaccinations) (% of children ages 12-23 months): Q4\n",
       "SH.IMM.NONE.Q5.ZS     Vaccinations (no vaccinations) (% of children ages 12-23 months): Q5 (highest)\n",
       "SH.MLR.NETA.Q1.ZS     Mosquito net use by children (any mosquito net) (% of children under 5): Q1 (lowest)\n",
       "SH.MLR.NETA.Q2.ZS     Mosquito net use by children (any mosquito net) (% of children under 5): Q2\n",
       "SH.MLR.NETA.Q3.ZS     Mosquito net use by children (any mosquito net) (% of children under 5): Q3\n",
       "SH.MLR.NETA.Q4.ZS     Mosquito net use by children (any mosquito net) (% of children under 5): Q4\n",
       "SH.MLR.NETA.Q5.ZS     Mosquito net use by children (any mosquito net) (% of children under 5): Q5 (highest)\n",
       "SH.MLR.NETH.Q1.ZS     Household posession of mosquito nets (any type of mosquito net) (% of households): Q1 (lowest)\n",
       "SH.MLR.NETH.Q2.ZS     Household posession of mosquito nets (any type of mosquito net) (% of households): Q2\n",
       "SH.MLR.NETH.Q3.ZS     Household posession of mosquito nets (any type of mosquito net) (% of households): Q3\n",
       "SH.MLR.NETH.Q4.ZS     Household posession of mosquito nets (any type of mosquito net) (% of households): Q4\n",
       "SH.MLR.NETH.Q5.ZS     Household posession of mosquito nets (any type of mosquito net) (% of households): Q5 (highest)\n",
       "SH.MLR.NETP.Q1.ZS     Mosquito net use by pregnant women (any mosquito net) (% of pregnant women): Q1 (lowest)\n",
       "SH.MLR.NETP.Q2.ZS     Mosquito net use by pregnant women (any mosquito net) (% of pregnant women): Q2\n",
       "SH.MLR.NETP.Q3.ZS     Mosquito net use by pregnant women (any mosquito net) (% of pregnant women): Q3\n",
       "SH.MLR.NETP.Q4.ZS     Mosquito net use by pregnant women (any mosquito net) (% of pregnant women): Q4\n",
       "SH.MLR.NETP.Q5.ZS     Mosquito net use by pregnant women (any mosquito net) (% of pregnant women): Q5 (highest)\n",
       "SH.MLR.NETS.Q1.ZS     Malaria prevention, use of bed nets (% of under-5 children in the poorest quintile)\n",
       "SH.MLR.NETS.Q2.ZS     Mosquito net use by children (insecticide-treated net) (% of children under 5): Q2\n",
       "SH.MLR.NETS.Q3.ZS     Mosquito net use by children (insecticide-treated net) (% of children under 5): Q3\n",
       "SH.MLR.NETS.Q4.ZS     Mosquito net use by children (insecticide-treated net) (% of children under 5): Q4\n",
       "SH.MLR.NETS.Q5.ZS     Malaria prevention, use of bed nets (% of under-5 children in the richest quintile)\n",
       "SH.MLR.NTHI.Q1.ZS     Household posession of mosquito nets (insecticide-treated net) (% of households): Q1 (lowest)\n",
       "SH.MLR.NTHI.Q2.ZS     Household posession of mosquito nets (insecticide-treated net) (% of households): Q2\n",
       "SH.MLR.NTHI.Q3.ZS     Household posession of mosquito nets (insecticide-treated net) (% of households): Q3\n",
       "SH.MLR.NTHI.Q4.ZS     Household posession of mosquito nets (insecticide-treated net) (% of households): Q4\n",
       "SH.MLR.NTHI.Q5.ZS     Household posession of mosquito nets (insecticide-treated net) (% of households): Q5 (highest)\n",
       "SH.MLR.NTPI.Q1.ZS     Mosquito net use by pregnant women (insecticide-treated net) (% of pregnant women): Q1 (lowest)\n",
       "SH.MLR.NTPI.Q2.ZS     Mosquito net use by pregnant women (insecticide-treated net) (% of pregnant women): Q2\n",
       "SH.MLR.NTPI.Q3.ZS     Mosquito net use by pregnant women (insecticide-treated net) (% of pregnant women): Q3\n",
       "SH.MLR.NTPI.Q4.ZS     Mosquito net use by pregnant women (insecticide-treated net) (% of pregnant women): Q4\n",
       "SH.MLR.NTPI.Q5.ZS     Mosquito net use by pregnant women (insecticide-treated net) (% of pregnant women): Q5 (highest)\n",
       "SH.MLR.SPFN.Q1.ZS     Anti-malarial drug use by pregnant women (SP/Fansidar two or more doses) (% of women with a birth): Q1 (lowest)\n",
       "SH.MLR.SPFN.Q2.ZS     Anti-malarial drug use by pregnant women (SP/Fansidar two or more doses) (% of women with a birth): Q2\n",
       "SH.MLR.SPFN.Q3.ZS     Anti-malarial drug use by pregnant women (SP/Fansidar two or more doses) (% of women with a birth): Q3\n",
       "SH.MLR.SPFN.Q4.ZS     Anti-malarial drug use by pregnant women (SP/Fansidar two or more doses) (% of women with a birth): Q4\n",
       "SH.MLR.SPFN.Q5.ZS     Anti-malarial drug use by pregnant women (SP/Fansidar two or more doses) (% of women with a birth): Q5 (highest)\n",
       "SH.MLR.TRET.Q1.ZS     Treatment of fever (% of children under 5 with fever): Q1 (lowest)\n",
       "SH.MLR.TRET.Q2.ZS     Treatment of fever (% of children under 5 with fever): Q2\n",
       "SH.MLR.TRET.Q3.ZS     Treatment of fever (% of children under 5 with fever): Q3\n",
       "SH.MLR.TRET.Q4.ZS     Treatment of fever (% of children under 5 with fever): Q4\n",
       "SH.MLR.TRET.Q5.ZS     Treatment of fever (% of children under 5 with fever): Q5 (highest)\n",
       "SH.PRV.SMOK.FE.Q1.ZS  Smoking (% of women): Q1 (lowest)\n",
       "SH.PRV.SMOK.FE.Q2.ZS  Smoking (% of women): Q2\n",
       "SH.PRV.SMOK.FE.Q3.ZS  Smoking (% of women): Q3\n",
       "SH.PRV.SMOK.FE.Q4.ZS  Smoking (% of women): Q4\n",
       "SH.PRV.SMOK.FE.Q5.ZS  Smoking (% of women): Q5 (highest)\n",
       "SH.STA.ANCP.Q1.ZS     Components of antenatal care (received iron tablets or syrup) (% of women with a birth): Q1 (lowest)\n",
       "SH.STA.ANCP.Q2.ZS     Components of antenatal care (received iron tablets or syrup) (% of women with a birth): Q2\n",
       "SH.STA.ANCP.Q3.ZS     Components of antenatal care (received iron tablets or syrup) (% of women with a birth): Q3\n",
       "SH.STA.ANCP.Q4.ZS     Components of antenatal care (received iron tablets or syrup) (% of women with a birth): Q4\n",
       "SH.STA.ANCP.Q5.ZS     Components of antenatal care (received iron tablets or syrup) (% of women with a birth): Q5 (highest)\n",
       "SH.STA.ANVC.Q1.ZS     Antenatal care (any skilled personnel) (% of women with a birth): Q1 (lowest)\n",
       "SH.STA.ANVC.Q2.ZS     Antenatal care (any skilled personnel) (% of women with a birth): Q2\n",
       "SH.STA.ANVC.Q3.ZS     Antenatal care (any skilled personnel) (% of women with a birth): Q3\n",
       "SH.STA.ANVC.Q4.ZS     Antenatal care (any skilled personnel) (% of women with a birth): Q4\n",
       "SH.STA.ANVC.Q5.ZS     Antenatal care (any skilled personnel) (% of women with a birth): Q5 (highest)\n",
       "SH.STA.ANVP.Q1.ZS     Antenatal care (doctor) (% of women with a birth): Q1 (lowest)\n",
       "SH.STA.ANVP.Q2.ZS     Antenatal care (doctor) (% of women with a birth): Q2\n",
       "SH.STA.ANVP.Q3.ZS     Antenatal care (doctor) (% of women with a birth): Q3\n",
       "SH.STA.ANVP.Q4.ZS     Antenatal care (doctor) (% of women with a birth): Q4\n",
       "SH.STA.ANVP.Q5.ZS     Antenatal care (doctor) (% of women with a birth): Q5 (highest)\n",
       "SH.STA.ARIC.Q1.ZS     Treatment of acute respiratory infection (ARI) (% of children under 5 taken to a health provider): Q1 (lowest)\n",
       "SH.STA.ARIC.Q2.ZS     Treatment of acute respiratory infection (ARI) (% of children under 5 taken to a health provider): Q2\n",
       "SH.STA.ARIC.Q3.ZS     Treatment of acute respiratory infection (ARI) (% of children under 5 taken to a health provider): Q3\n",
       "SH.STA.ARIC.Q4.ZS     Treatment of acute respiratory infection (ARI) (% of children under 5 taken to a health provider): Q4\n",
       "SH.STA.ARIC.Q5.ZS     Treatment of acute respiratory infection (ARI) (% of children under 5 taken to a health provider): Q5 (highest)\n",
       "SH.STA.ARIF.Q1.ZS     Prevalence of acute respiratory infection (ARI) (% of children under 5): Q1 (lowest)\n",
       "SH.STA.ARIF.Q2.ZS     Prevalence of acute respiratory infection (ARI) (% of children under 5): Q2\n",
       "SH.STA.ARIF.Q3.ZS     Prevalence of acute respiratory infection (ARI) (% of children under 5): Q3\n",
       "SH.STA.ARIF.Q4.ZS     Prevalence of acute respiratory infection (ARI) (% of children under 5): Q4\n",
       "SH.STA.ARIF.Q5.ZS     Prevalence of acute respiratory infection (ARI) (% of children under 5): Q5 (highest)\n",
       "SH.STA.BASS.Q1.ZS     People using at least basic sanitation services (% of population): Q1 (lowest)\n",
       "SH.STA.BASS.Q2.ZS     People using at least basic sanitation services (% of population): Q2\n",
       "SH.STA.BASS.Q3.ZS     People using at least basic sanitation services (% of population): Q3\n",
       "SH.STA.BASS.Q4.ZS     People using at least basic sanitation services (% of population): Q4\n",
       "SH.STA.BASS.Q5.ZS     People using at least basic sanitation services (% of population): Q5 (highest)\n",
       "SH.STA.BASS.RU.Q1.ZS  People using at least basic sanitation services, rural (% of rural population): Q1 (lowest)\n",
       "SH.STA.BASS.RU.Q2.ZS  People using at least basic sanitation services, rural (% of rural population): Q2\n",
       "SH.STA.BASS.RU.Q3.ZS  People using at least basic sanitation services, rural (% of rural population): Q3\n",
       "SH.STA.BASS.RU.Q4.ZS  People using at least basic sanitation services, rural (% of rural population): Q4\n",
       "SH.STA.BASS.RU.Q5.ZS  People using at least basic sanitation services, rural (% of rural population): Q5 (highest)\n",
       "SH.STA.BASS.UR.Q1.ZS  People using at least basic sanitation services, urban  (% of urban population): Q1 (lowest)\n",
       "SH.STA.BASS.UR.Q2.ZS  People using at least basic sanitation services, urban  (% of urban population): Q2\n",
       "SH.STA.BASS.UR.Q3.ZS  People using at least basic sanitation services, urban  (% of urban population): Q3\n",
       "SH.STA.BASS.UR.Q4.ZS  People using at least basic sanitation services, urban  (% of urban population): Q4\n",
       "SH.STA.BASS.UR.Q5.ZS  People using at least basic sanitation services, urban  (% of urban population): Q5 (highest)\n",
       "SH.STA.BFED.Q1.ZS     Breastfeeding (% of children under 6 months): Q1 (lowest)\n",
       "SH.STA.BFED.Q2.ZS     Breastfeeding (% of children under 6 months): Q2\n",
       "SH.STA.BFED.Q3.ZS     Breastfeeding (% of children under 6 months): Q3\n",
       "SH.STA.BFED.Q4.ZS     Breastfeeding (% of children under 6 months): Q4\n",
       "SH.STA.BFED.Q5.ZS     Breastfeeding (% of children under 6 months): Q5 (highest)\n",
       "SH.STA.BRTC.Q1.ZS     Assistance during delivery (any skilled personnel) (% of births): Q1 (lowest)\n",
       "SH.STA.BRTC.Q2.ZS     Assistance during delivery (any skilled personnel) (% of births): Q2\n",
       "SH.STA.BRTC.Q3.ZS     Assistance during delivery (any skilled personnel) (% of births): Q3\n",
       "SH.STA.BRTC.Q4.ZS     Assistance during delivery (any skilled personnel) (% of births): Q4\n",
       "SH.STA.BRTC.Q5.ZS     Assistance during delivery (any skilled personnel) (% of births): Q5 (highest)\n",
       "SH.STA.BRTF.Q1.ZS     Place of delivery (births at health facility) (% of births): Q1 (lowest)\n",
       "SH.STA.BRTF.Q2.ZS     Place of delivery (births at health facility) (% of births): Q2\n",
       "SH.STA.BRTF.Q3.ZS     Place of delivery (births at health facility) (% of births): Q3\n",
       "SH.STA.BRTF.Q4.ZS     Place of delivery (births at health facility) (% of births): Q4\n",
       "SH.STA.BRTF.Q5.ZS     Place of delivery (births at health facility) (% of births): Q5 (highest)\n",
       "SH.STA.BRTP.Q1.ZS     Assistance during delivery (doctor) (% of births): Q1 (lowest)\n",
       "SH.STA.BRTP.Q2.ZS     Assistance during delivery (doctor) (% of births): Q2\n",
       "SH.STA.BRTP.Q3.ZS     Assistance during delivery (doctor) (% of births): Q3\n",
       "SH.STA.BRTP.Q4.ZS     Assistance during delivery (doctor) (% of births): Q4\n",
       "SH.STA.BRTP.Q5.ZS     Assistance during delivery (doctor) (% of births): Q5 (highest)\n",
       "SH.STA.DIRH.Q1.ZS     Prevalence of diarrhea (% of children under 5): Q1 (lowest)\n",
       "SH.STA.DIRH.Q2.ZS     Prevalence of diarrhea (% of children under 5): Q2\n",
       "SH.STA.DIRH.Q3.ZS     Prevalence of diarrhea (% of children under 5): Q3\n",
       "SH.STA.DIRH.Q4.ZS     Prevalence of diarrhea (% of children under 5): Q4\n",
       "SH.STA.DIRH.Q5.ZS     Prevalence of diarrhea (% of children under 5): Q5 (highest)\n",
       "SH.STA.FEVR.Q1.ZS     Prevalence of children with fever (% of children under 5): Q1 (lowest)\n",
       "SH.STA.FEVR.Q2.ZS     Prevalence of children with fever (% of children under 5): Q2\n",
       "SH.STA.FEVR.Q3.ZS     Prevalence of children with fever (% of children under 5): Q3\n",
       "SH.STA.FEVR.Q4.ZS     Prevalence of children with fever (% of children under 5): Q4\n",
       "SH.STA.FEVR.Q5.ZS     Prevalence of children with fever (% of children under 5): Q5 (highest)\n",
       "SH.STA.HYGN.Q1.ZS     People with basic handwashing facilities including soap and water (% of population): Q1 (lowest)\n",
       "SH.STA.HYGN.Q2.ZS     People with basic handwashing facilities including soap and water (% of population): Q2\n",
       "SH.STA.HYGN.Q3.ZS     People with basic handwashing facilities including soap and water (% of population): Q3\n",
       "SH.STA.HYGN.Q4.ZS     People with basic handwashing facilities including soap and water (% of population): Q4\n",
       "SH.STA.HYGN.Q5.ZS     People with basic handwashing facilities including soap and water (% of population): Q5 (highest)\n",
       "SH.STA.HYGN.RU.Q1.ZS  People with basic handwashing facilities including soap and water, rural (% of rural population): Q1 (lowest)\n",
       "SH.STA.HYGN.RU.Q2.ZS  People with basic handwashing facilities including soap and water, rural (% of rural population): Q2\n",
       "SH.STA.HYGN.RU.Q3.ZS  People with basic handwashing facilities including soap and water, rural (% of rural population): Q3\n",
       "SH.STA.HYGN.RU.Q4.ZS  People with basic handwashing facilities including soap and water, rural (% of rural population): Q4\n",
       "SH.STA.HYGN.RU.Q5.ZS  People with basic handwashing facilities including soap and water, rural (% of rural population): Q5 (highest)\n",
       "SH.STA.HYGN.UR.Q1.ZS  People with basic handwashing facilities including soap and water, urban (% of urban population): Q1 (lowest)\n",
       "SH.STA.HYGN.UR.Q2.ZS  People with basic handwashing facilities including soap and water, urban (% of urban population): Q2\n",
       "SH.STA.HYGN.UR.Q3.ZS  People with basic handwashing facilities including soap and water, urban (% of urban population): Q3\n",
       "SH.STA.HYGN.UR.Q4.ZS  People with basic handwashing facilities including soap and water, urban (% of urban population): Q4\n",
       "SH.STA.HYGN.UR.Q5.ZS  People with basic handwashing facilities including soap and water, urban (% of urban population): Q5 (highest)\n",
       "SH.STA.LBMI.Q1.ZS     Malnourished women (BMI is less than 18.5) (% of women): Q1 (lowest)\n",
       "SH.STA.LBMI.Q2.ZS     Malnourished women (BMI is less than 18.5) (% of women): Q2\n",
       "SH.STA.LBMI.Q3.ZS     Malnourished women (BMI is less than 18.5) (% of women): Q3\n",
       "SH.STA.LBMI.Q4.ZS     Malnourished women (BMI is less than 18.5) (% of women): Q4\n",
       "SH.STA.LBMI.Q5.ZS     Malnourished women (BMI is less than 18.5) (% of women): Q5 (highest)\n",
       "SH.STA.MALN.Q1.ZS     Malnourished children (underweight, -2SD) (% of children under 5): Q1 (lowest)\n",
       "SH.STA.MALN.Q2.ZS     Malnourished children (underweight, -2SD) (% of children under 5): Q2\n",
       "SH.STA.MALN.Q3.ZS     Malnourished children (underweight, -2SD) (% of children under 5): Q3\n",
       "SH.STA.MALN.Q4.ZS     Malnourished children (underweight, -2SD) (% of children under 5): Q4\n",
       "SH.STA.MALN.Q5.ZS     Malnourished children (underweight, -2SD) (% of children under 5): Q5 (highest)\n",
       "SH.STA.MLN3.Q1.ZS     Malnourished children (underweight, -3SD) (% of children under 5): Q1 (lowest)\n",
       "SH.STA.MLN3.Q2.ZS     Malnourished children (underweight, -3SD) (% of children under 5): Q2\n",
       "SH.STA.MLN3.Q3.ZS     Malnourished children (underweight, -3SD) (% of children under 5): Q3\n",
       "SH.STA.MLN3.Q4.ZS     Malnourished children (underweight, -3SD) (% of children under 5): Q4\n",
       "SH.STA.MLN3.Q5.ZS     Malnourished children (underweight, -3SD) (% of children under 5): Q5 (highest)\n",
       "SH.STA.ODFC.Q1.ZS     People practicing open defecation (% of population): Q1 (lowest)\n",
       "SH.STA.ODFC.Q2.ZS     People practicing open defecation (% of population): Q2\n",
       "SH.STA.ODFC.Q3.ZS     People practicing open defecation (% of population): Q3\n",
       "SH.STA.ODFC.Q4.ZS     People practicing open defecation (% of population): Q4\n",
       "SH.STA.ODFC.Q5.ZS     People practicing open defecation (% of population): Q5 (highest)\n",
       "SH.STA.ODFC.RU.Q1.ZS  People practicing open defecation, rural (% of rural population): Q1 (lowest)\n",
       "SH.STA.ODFC.RU.Q2.ZS  People practicing open defecation, rural (% of rural population): Q2\n",
       "SH.STA.ODFC.RU.Q3.ZS  People practicing open defecation, rural (% of rural population): Q3\n",
       "SH.STA.ODFC.RU.Q4.ZS  People practicing open defecation, rural (% of rural population): Q4\n",
       "SH.STA.ODFC.RU.Q5.ZS  People practicing open defecation, rural (% of rural population): Q5 (highest)\n",
       "SH.STA.ODFC.UR.Q1.ZS  People practicing open defecation, urban (% of urban population): Q1 (lowest)\n",
       "SH.STA.ODFC.UR.Q2.ZS  People practicing open defecation, urban (% of urban population): Q2\n",
       "SH.STA.ODFC.UR.Q3.ZS  People practicing open defecation, urban (% of urban population): Q3\n",
       "SH.STA.ODFC.UR.Q4.ZS  People practicing open defecation, urban (% of urban population): Q4\n",
       "SH.STA.ODFC.UR.Q5.ZS  People practicing open defecation, urban (% of urban population): Q5 (highest)\n",
       "SH.STA.ORHF.Q1.ZS     Treatment of diarrhea (ORS, RHS or increased fluids) (% of children under 5): Q1 (lowest)\n",
       "SH.STA.ORHF.Q2.ZS     Treatment of diarrhea (ORS, RHS or increased fluids) (% of children under 5): Q2\n",
       "SH.STA.ORHF.Q3.ZS     Treatment of diarrhea (ORS, RHS or increased fluids) (% of children under 5): Q3\n",
       "SH.STA.ORHF.Q4.ZS     Treatment of diarrhea (ORS, RHS or increased fluids) (% of children under 5): Q4\n",
       "SH.STA.ORHF.Q5.ZS     Treatment of diarrhea (ORS, RHS or increased fluids) (% of children under 5): Q5 (highest)\n",
       "SH.STA.ORHK.Q1.ZS     Knowledge of diarrhea care (% of mothers): Q1 (lowest)\n",
       "SH.STA.ORHK.Q2.ZS     Knowledge of diarrhea care (% of mothers): Q2\n",
       "SH.STA.ORHK.Q3.ZS     Knowledge of diarrhea care (% of mothers): Q3\n",
       "SH.STA.ORHK.Q4.ZS     Knowledge of diarrhea care (% of mothers): Q4\n",
       "SH.STA.ORHK.Q5.ZS     Knowledge of diarrhea care (% of mothers): Q5 (highest)\n",
       "SH.STA.ORHS.Q1ZS      Treatment of diarrhea (either ORS or RHS) (% of children under 5): Q1 (lowest)\n",
       "SH.STA.ORHS.Q2ZS      Treatment of diarrhea (either ORS or RHS) (% of children under 5): Q2\n",
       "SH.STA.ORHS.Q3ZS      Treatment of diarrhea (either ORS or RHS) (% of children under 5): Q3\n",
       "SH.STA.ORHS.Q4ZS      Treatment of diarrhea (either ORS or RHS) (% of children under 5): Q4\n",
       "SH.STA.ORHS.Q5ZS      Treatment of diarrhea (either ORS or RHS) (% of children under 5): Q5 (highest)\n",
       "SH.STA.STN3.Q1.ZS     Malnourished children (stunting, -3SD) (% of children under 5): Q1 (lowest)\n",
       "SH.STA.STN3.Q2.ZS     Malnourished children (stunting, -3SD) (% of children under 5): Q2\n",
       "SH.STA.STN3.Q3.ZS     Malnourished children (stunting, -3SD) (% of children under 5): Q3\n",
       "SH.STA.STN3.Q4.ZS     Malnourished children (stunting, -3SD) (% of children under 5): Q4\n",
       "SH.STA.STN3.Q5.ZS     Malnourished children (stunting, -3SD) (% of children under 5): Q5 (highest)\n",
       "SH.STA.STNT.Q1.ZS     Malnourished children (stunting, -2SD) (% of children under 5): Q1 (lowest)\n",
       "SH.STA.STNT.Q2.ZS     Malnourished children (stunting, -2SD) (% of children under 5): Q2\n",
       "SH.STA.STNT.Q3.ZS     Malnourished children (stunting, -2SD) (% of children under 5): Q3\n",
       "SH.STA.STNT.Q4.ZS     Malnourished children (stunting, -2SD) (% of children under 5): Q4\n",
       "SH.STA.STNT.Q5.ZS     Malnourished children (stunting, -2SD) (% of children under 5): Q5 (highest)\n",
       "SH.STA.WAST.Q1.ZS     Malnourished children (wasting, -2SD) (% of children under 5): Q1 (lowest)\n",
       "SH.STA.WAST.Q2.ZS     Malnourished children (wasting, -2SD) (% of children under 5): Q2\n",
       "SH.STA.WAST.Q3.ZS     Malnourished children (wasting, -2SD) (% of children under 5): Q3\n",
       "SH.STA.WAST.Q4.ZS     Malnourished children (wasting, -2SD) (% of children under 5): Q4\n",
       "SH.STA.WAST.Q5.ZS     Malnourished children (wasting, -2SD) (% of children under 5): Q5 (highest)\n",
       "SH.STA.WST3.Q1.ZS     Malnourished children (wasting, -3SD) (% of children under 5): Q1 (lowest)\n",
       "SH.STA.WST3.Q2.ZS     Malnourished children (wasting, -3SD) (% of children under 5): Q2\n",
       "SH.STA.WST3.Q3.ZS     Malnourished children (wasting, -3SD) (% of children under 5): Q3\n",
       "SH.STA.WST3.Q4.ZS     Malnourished children (wasting, -3SD) (% of children under 5): Q4\n",
       "SH.STA.WST3.Q5.ZS     Malnourished children (wasting, -3SD) (% of children under 5): Q5 (highest)\n",
       "SH.VAC.TTNS.Q1.ZS     Tetanus toxoid vaccination (% of live births): Q1 (lowest)\n",
       "SH.VAC.TTNS.Q2.ZS     Tetanus toxoid vaccination (% of live births): Q2\n",
       "SH.VAC.TTNS.Q3.ZS     Tetanus toxoid vaccination (% of live births): Q3\n",
       "SH.VAC.TTNS.Q4.ZS     Tetanus toxoid vaccination (% of live births): Q4\n",
       "SH.VAC.TTNS.Q5.ZS     Tetanus toxoid vaccination (% of live births): Q5 (highest)\n",
       "SN.ITK.VAPP.Q1.ZS     Vitamin A supplements for postpartum women (% of women with a birth): Q1 (lowest)\n",
       "SN.ITK.VAPP.Q2.ZS     Vitamin A supplements for postpartum women (% of women with a birth): Q2\n",
       "SN.ITK.VAPP.Q3.ZS     Vitamin A supplements for postpartum women (% of women with a birth): Q3\n",
       "SN.ITK.VAPP.Q4.ZS     Vitamin A supplements for postpartum women (% of women with a birth): Q4\n",
       "SN.ITK.VAPP.Q5.ZS     Vitamin A supplements for postpartum women (% of women with a birth): Q5 (highest)\n",
       "SN.ITK.VITA.Q1.ZS     Vitamin A supplements for children (% of children ages 6-59 months): Q1 (lowest)\n",
       "SN.ITK.VITA.Q2.ZS     Vitamin A supplements for children (% of children ages 6-59 months): Q2\n",
       "SN.ITK.VITA.Q3.ZS     Vitamin A supplements for children (% of children ages 6-59 months): Q3\n",
       "SN.ITK.VITA.Q4.ZS     Vitamin A supplements for children (% of children ages 6-59 months): Q4\n",
       "SN.ITK.VITA.Q5.ZS     Vitamin A supplements for children (% of children ages 6-59 months): Q5 (highest)\n",
       "SP.DYN.CEBN.Q1        Mean number of children ever born to women aged 40-49: Q1 (lowest)\n",
       "SP.DYN.CEBN.Q2        Mean number of children ever born to women aged 40-49: Q2\n",
       "SP.DYN.CEBN.Q3        Mean number of children ever born to women aged 40-49: Q3\n",
       "SP.DYN.CEBN.Q4        Mean number of children ever born to women aged 40-49: Q4\n",
       "SP.DYN.CEBN.Q5        Mean number of children ever born to women aged 40-49: Q5 (highest)\n",
       "SP.DYN.CONM.Q1.ZS     Current use of contraception (modern method) (% of married women): Q1 (lowest)\n",
       "SP.DYN.CONM.Q2.ZS     Current use of contraception (modern method) (% of married women): Q2\n",
       "SP.DYN.CONM.Q3.ZS     Current use of contraception (modern method) (% of married women): Q3\n",
       "SP.DYN.CONM.Q4.ZS     Current use of contraception (modern method) (% of married women): Q4\n",
       "SP.DYN.CONM.Q5.ZS     Current use of contraception (modern method) (% of married women): Q5 (highest)\n",
       "SP.DYN.CONU.Q1.ZS     Current use of contraception (any method) (% of married women): Q1 (lowest)\n",
       "SP.DYN.CONU.Q2.ZS     Current use of contraception (any method) (% of married women): Q2\n",
       "SP.DYN.CONU.Q3.ZS     Current use of contraception (any method) (% of married women): Q3\n",
       "SP.DYN.CONU.Q4.ZS     Current use of contraception (any method) (% of married women): Q4\n",
       "SP.DYN.CONU.Q5.ZS     Current use of contraception (any method) (% of married women): Q5 (highest)\n",
       "SP.DYN.IMRT.Q1        Infant mortality rate (per 1,000 live births): Q1 (lowest)\n",
       "SP.DYN.IMRT.Q2        Infant mortality rate (per 1,000 live births): Q2\n",
       "SP.DYN.IMRT.Q3        Infant mortality rate (per 1,000 live births): Q3\n",
       "SP.DYN.IMRT.Q4        Infant mortality rate (per 1,000 live births): Q4\n",
       "SP.DYN.IMRT.Q5        Infant mortality rate (per 1,000 live births): Q5 (highest)\n",
       "SP.DYN.TFRT.Q1        Total fertility rate (TFR) (births per woman): Q1 (lowest)\n",
       "SP.DYN.TFRT.Q2        Total fertility rate (TFR) (births per woman): Q2\n",
       "SP.DYN.TFRT.Q3        Total fertility rate (TFR) (births per woman): Q3\n",
       "SP.DYN.TFRT.Q4        Total fertility rate (TFR) (births per woman): Q4\n",
       "SP.DYN.TFRT.Q5        Total fertility rate (TFR) (births per woman): Q5 (highest)\n",
       "SP.DYN.WFRT.Q1        Total wanted fertility rate (births per woman): Q1 (lowest)\n",
       "SP.DYN.WFRT.Q2        Total wanted fertility rate (births per woman): Q2\n",
       "SP.DYN.WFRT.Q3        Total wanted fertility rate (births per woman): Q3\n",
       "SP.DYN.WFRT.Q4        Total wanted fertility rate (births per woman): Q4\n",
       "SP.DYN.WFRT.Q5        Total wanted fertility rate (births per woman): Q5 (highest)\n",
       "SP.MTR.1519.Q1.ZS     Teenage pregnancy and motherhood (% of women ages 15-19 who have had children or are currently pregnant): Q1 (lowest)\n",
       "SP.MTR.1519.Q2.ZS     Teenage pregnancy and motherhood (% of women ages 15-19 who have had children or are currently pregnant): Q2\n",
       "SP.MTR.1519.Q3.ZS     Teenage pregnancy and motherhood (% of women ages 15-19 who have had children or are currently pregnant): Q3\n",
       "SP.MTR.1519.Q4.ZS     Teenage pregnancy and motherhood (% of women ages 15-19 who have had children or are currently pregnant): Q4\n",
       "SP.MTR.1519.Q5.ZS     Teenage pregnancy and motherhood (% of women ages 15-19 who have had children or are currently pregnant): Q5 (highest)\n",
       "SP.REG.BRTH.Q1.ZS     Completeness of birth registration (%): Q1 (lowest)\n",
       "SP.REG.BRTH.Q2.ZS     Completeness of birth registration (%): Q2\n",
       "SP.REG.BRTH.Q3.ZS     Completeness of birth registration (%): Q3\n",
       "SP.REG.BRTH.Q4.ZS     Completeness of birth registration (%): Q4\n",
       "SP.REG.BRTH.Q5.ZS     Completeness of birth registration (%): Q5 (highest)\n",
       "SP.UWT.LMTG.Q1.ZS     Unmet need for family planning (for limiting) (% of married women): Q1 (lowest)\n",
       "SP.UWT.LMTG.Q2.ZS     Unmet need for family planning (for limiting) (% of married women): Q2\n",
       "SP.UWT.LMTG.Q3.ZS     Unmet need for family planning (for limiting) (% of married women): Q3\n",
       "SP.UWT.LMTG.Q4.ZS     Unmet need for family planning (for limiting) (% of married women): Q4\n",
       "SP.UWT.LMTG.Q5.ZS     Unmet need for family planning (for limiting) (% of married women): Q5 (highest)\n",
       "SP.UWT.SPCG.Q1.ZS     Unmet need for family planning (for spacing) (% of married women): Q1 (lowest)\n",
       "SP.UWT.SPCG.Q2.ZS     Unmet need for family planning (for spacing) (% of married women): Q2\n",
       "SP.UWT.SPCG.Q3.ZS     Unmet need for family planning (for spacing) (% of married women): Q3\n",
       "SP.UWT.SPCG.Q4.ZS     Unmet need for family planning (for spacing) (% of married women): Q4\n",
       "SP.UWT.SPCG.Q5.ZS     Unmet need for family planning (for spacing) (% of married women): Q5 (highest)\n",
       "SP.UWT.TFRT.Q1.ZS     Unmet need for family planning (total) (% of married women): Q1 (lowest)\n",
       "SP.UWT.TFRT.Q2.ZS     Unmet need for family planning (total) (% of married women): Q2\n",
       "SP.UWT.TFRT.Q3.ZS     Unmet need for family planning (total) (% of married women): Q3\n",
       "SP.UWT.TFRT.Q4.ZS     Unmet need for family planning (total) (% of married women): Q4\n",
       "SP.UWT.TFRT.Q5.ZS     Unmet need for family planning (total) (% of married women): Q5 (highest)"
      ]
     },
     "execution_count": 6,
     "metadata": {},
     "output_type": "execute_result"
    }
   ],
   "source": [
    "HNPS = wbdata.get_source(39)\n",
    "wbdata.get_indicator(source = 39)"
   ]
  },
  {
   "cell_type": "markdown",
   "metadata": {
    "slideshow": {
     "slide_type": "slide"
    }
   },
   "source": [
    "###### `wbdata.get_indicator()`\n",
    "\n"
   ]
  },
  {
   "cell_type": "markdown",
   "metadata": {},
   "source": [
    "&ldquo;Population estimates and projections&rdquo; looks promising.\n",
    " See what indicators/variables are available?\n",
    "\n"
   ]
  },
  {
   "cell_type": "code",
   "execution_count": 7,
   "metadata": {},
   "outputs": [
    {
     "data": {
      "text/plain": [
       "id                 name\n",
       "-----------------  -------------------------------------------------------------------\n",
       "SH.DTH.0509        Number of deaths ages 5-9 years\n",
       "SH.DTH.0514        Number of deaths ages 5-14 years\n",
       "SH.DTH.1014        Number of deaths ages 10-14 years\n",
       "SH.DTH.1019        Number of deaths ages 10-19 years\n",
       "SH.DTH.1519        Number of deaths ages 15-19 years\n",
       "SH.DTH.2024        Number of deaths ages 20-24 years\n",
       "SH.DTH.IMRT        Number of infant deaths\n",
       "SH.DTH.IMRT.FE     Number of infant deaths, female\n",
       "SH.DTH.IMRT.MA     Number of infant deaths, male\n",
       "SH.DTH.MORT        Number of under-five deaths\n",
       "SH.DTH.MORT.FE     Number of under-five deaths, female\n",
       "SH.DTH.MORT.MA     Number of under-five deaths, male\n",
       "SH.DTH.NMRT        Number of neonatal deaths\n",
       "SH.DYN.0509        Probability of dying among children ages 5-9 years (per 1,000)\n",
       "SH.DYN.0514        Probability of dying at age 5-14 years (per 1,000 children age 5)\n",
       "SH.DYN.1014        Probability of dying among adolescents ages 10-14 years (per 1,000)\n",
       "SH.DYN.1019        Probability of dying among adolescents ages 10-19 years (per 1,000)\n",
       "SH.DYN.1519        Probability of dying among adolescents ages 15-19 years (per 1,000)\n",
       "SH.DYN.2024        Probability of dying among youth ages 20-24 years (per 1,000)\n",
       "SH.DYN.MORT        Mortality rate, under-5 (per 1,000 live births)\n",
       "SH.DYN.MORT.FE     Mortality rate, under-5, female (per 1,000 live births)\n",
       "SH.DYN.MORT.MA     Mortality rate, under-5, male (per 1,000 live births)\n",
       "SH.DYN.NMRT        Mortality rate, neonatal (per 1,000 live births)\n",
       "SM.POP.NETM        Net migration\n",
       "SP.DYN.AMRT.FE     Mortality rate, adult, female (per 1,000 female adults)\n",
       "SP.DYN.AMRT.MA     Mortality rate, adult, male (per 1,000 male adults)\n",
       "SP.DYN.CBRT.IN     Birth rate, crude (per 1,000 people)\n",
       "SP.DYN.CDRT.IN     Death rate, crude (per 1,000 people)\n",
       "SP.DYN.IMRT.FE.IN  Mortality rate, infant, female (per 1,000 live births)\n",
       "SP.DYN.IMRT.IN     Mortality rate, infant (per 1,000 live births)\n",
       "SP.DYN.IMRT.MA.IN  Mortality rate, infant, male (per 1,000 live births)\n",
       "SP.DYN.LE00.FE.IN  Life expectancy at birth, female (years)\n",
       "SP.DYN.LE00.IN     Life expectancy at birth, total (years)\n",
       "SP.DYN.LE00.MA.IN  Life expectancy at birth, male (years)\n",
       "SP.DYN.TFRT.IN     Fertility rate, total (births per woman)\n",
       "SP.POP.0004.FE     Population ages 00-04, female\n",
       "SP.POP.0004.FE.5Y  Population ages 00-04, female (% of female population)\n",
       "SP.POP.0004.MA     Population ages 00-04, male\n",
       "SP.POP.0004.MA.5Y  Population ages 00-04, male (% of male population)\n",
       "SP.POP.0014.FE.IN  Population ages 0-14, female\n",
       "SP.POP.0014.FE.ZS  Population ages 0-14, female (% of female population)\n",
       "SP.POP.0014.MA.IN  Population ages 0-14, male\n",
       "SP.POP.0014.MA.ZS  Population ages 0-14, male (% of male population)\n",
       "SP.POP.0014.TO     Population ages 0-14, total\n",
       "SP.POP.0014.TO.ZS  Population ages 0-14 (% of total population)\n",
       "SP.POP.0509.FE     Population ages 05-09, female\n",
       "SP.POP.0509.FE.5Y  Population ages 05-09, female (% of female population)\n",
       "SP.POP.0509.MA     Population ages 05-09, male\n",
       "SP.POP.0509.MA.5Y  Population ages 05-09, male (% of male population)\n",
       "SP.POP.1014.FE     Population ages 10-14, female\n",
       "SP.POP.1014.FE.5Y  Population ages 10-14, female (% of female population)\n",
       "SP.POP.1014.MA     Population ages 10-14, male\n",
       "SP.POP.1014.MA.5Y  Population ages 10-14, male (% of male population)\n",
       "SP.POP.1519.FE     Population ages 15-19, female\n",
       "SP.POP.1519.FE.5Y  Population ages 15-19, female (% of female population)\n",
       "SP.POP.1519.MA     Population ages 15-19, male\n",
       "SP.POP.1519.MA.5Y  Population ages 15-19, male (% of male population)\n",
       "SP.POP.1564.FE.IN  Population ages 15-64, female\n",
       "SP.POP.1564.FE.ZS  Population ages 15-64, female (% of female population)\n",
       "SP.POP.1564.MA.IN  Population ages 15-64, male\n",
       "SP.POP.1564.MA.ZS  Population ages 15-64, male (% of male population)\n",
       "SP.POP.1564.TO     Population ages 15-64, total\n",
       "SP.POP.1564.TO.ZS  Population ages 15-64 (% of total population)\n",
       "SP.POP.2024.FE     Population ages 20-24, female\n",
       "SP.POP.2024.FE.5Y  Population ages 20-24, female (% of female population)\n",
       "SP.POP.2024.MA     Population ages 20-24, male\n",
       "SP.POP.2024.MA.5Y  Population ages 20-24, male (% of male population)\n",
       "SP.POP.2529.FE     Population ages 25-29, female\n",
       "SP.POP.2529.FE.5Y  Population ages 25-29, female (% of female population)\n",
       "SP.POP.2529.MA     Population ages 25-29, male\n",
       "SP.POP.2529.MA.5Y  Population ages 25-29, male (% of male population)\n",
       "SP.POP.3034.FE     Population ages 30-34, female\n",
       "SP.POP.3034.FE.5Y  Population ages 30-34, female (% of female population)\n",
       "SP.POP.3034.MA     Population ages 30-34, male\n",
       "SP.POP.3034.MA.5Y  Population ages 30-34, male (% of male population)\n",
       "SP.POP.3539.FE     Population ages 35-39, female\n",
       "SP.POP.3539.FE.5Y  Population ages 35-39, female (% of female population)\n",
       "SP.POP.3539.MA     Population ages 35-39, male\n",
       "SP.POP.3539.MA.5Y  Population ages 35-39, male (% of male population)\n",
       "SP.POP.4044.FE     Population ages 40-44, female\n",
       "SP.POP.4044.FE.5Y  Population ages 40-44, female (% of female population)\n",
       "SP.POP.4044.MA     Population ages 40-44, male\n",
       "SP.POP.4044.MA.5Y  Population ages 40-44, male (% of male population)\n",
       "SP.POP.4549.FE     Population ages 45-49, female\n",
       "SP.POP.4549.FE.5Y  Population ages 45-49, female (% of female population)\n",
       "SP.POP.4549.MA     Population ages 45-49, male\n",
       "SP.POP.4549.MA.5Y  Population ages 45-49, male (% of male population)\n",
       "SP.POP.5054.FE     Population ages 50-54, female\n",
       "SP.POP.5054.FE.5Y  Population ages 50-54, female (% of female population)\n",
       "SP.POP.5054.MA     Population ages 50-54, male\n",
       "SP.POP.5054.MA.5Y  Population ages 50-54, male (% of male population)\n",
       "SP.POP.5559.FE     Population ages 55-59, female\n",
       "SP.POP.5559.FE.5Y  Population ages 55-59, female (% of female population)\n",
       "SP.POP.5559.MA     Population ages 55-59, male\n",
       "SP.POP.5559.MA.5Y  Population ages 55-59, male (% of male population)\n",
       "SP.POP.6064.FE     Population ages 60-64, female\n",
       "SP.POP.6064.FE.5Y  Population ages 60-64, female (% of female population)\n",
       "SP.POP.6064.MA     Population ages 60-64, male\n",
       "SP.POP.6064.MA.5Y  Population ages 60-64, male (% of male population)\n",
       "SP.POP.6569.FE     Population ages 65-69, female\n",
       "SP.POP.6569.FE.5Y  Population ages 65-69, female (% of female population)\n",
       "SP.POP.6569.MA     Population ages 65-69, male\n",
       "SP.POP.6569.MA.5Y  Population ages 65-69, male (% of male population)\n",
       "SP.POP.65UP.FE.IN  Population ages 65 and above, female\n",
       "SP.POP.65UP.FE.ZS  Population ages 65 and above, female (% of female population)\n",
       "SP.POP.65UP.MA.IN  Population ages 65 and above, male\n",
       "SP.POP.65UP.MA.ZS  Population ages 65 and above, male (% of male population)\n",
       "SP.POP.65UP.TO     Population ages 65 and above, total\n",
       "SP.POP.65UP.TO.ZS  Population ages 65 and above (% of total population)\n",
       "SP.POP.7074.FE     Population ages 70-74, female\n",
       "SP.POP.7074.FE.5Y  Population ages 70-74, female (% of female population)\n",
       "SP.POP.7074.MA     Population ages 70-74, male\n",
       "SP.POP.7074.MA.5Y  Population ages 70-74, male (% of male population)\n",
       "SP.POP.7579.FE     Population ages 75-79, female\n",
       "SP.POP.7579.FE.5Y  Population ages 75-79, female (% of female population)\n",
       "SP.POP.7579.MA     Population ages 75-79, male\n",
       "SP.POP.7579.MA.5Y  Population ages 75-79, male (% of male population)\n",
       "SP.POP.80UP.FE     Population ages 80 and above, female\n",
       "SP.POP.80UP.FE.5Y  Population ages 80 and above, female (% of female population)\n",
       "SP.POP.80UP.MA     Population ages 80 and above, male\n",
       "SP.POP.80UP.MA.5Y  Population ages 80 and above, male (% of male population)\n",
       "SP.POP.AG00.FE.IN  Age population, age 00, female, interpolated\n",
       "SP.POP.AG00.MA.IN  Age population, age 00, male, interpolated\n",
       "SP.POP.AG01.FE.IN  Age population, age 01, female, interpolated\n",
       "SP.POP.AG01.MA.IN  Age population, age 01, male, interpolated\n",
       "SP.POP.AG02.FE.IN  Age population, age 02, female, interpolated\n",
       "SP.POP.AG02.MA.IN  Age population, age 02, male, interpolated\n",
       "SP.POP.AG03.FE.IN  Age population, age 03, female, interpolated\n",
       "SP.POP.AG03.MA.IN  Age population, age 03, male, interpolated\n",
       "SP.POP.AG04.FE.IN  Age population, age 04, female, interpolated\n",
       "SP.POP.AG04.MA.IN  Age population, age 04, male, interpolated\n",
       "SP.POP.AG05.FE.IN  Age population, age 05, female, interpolated\n",
       "SP.POP.AG05.MA.IN  Age population, age 05, male, interpolated\n",
       "SP.POP.AG06.FE.IN  Age population, age 06, female, interpolated\n",
       "SP.POP.AG06.MA.IN  Age population, age 06, male, interpolated\n",
       "SP.POP.AG07.FE.IN  Age population, age 07, female, interpolated\n",
       "SP.POP.AG07.MA.IN  Age population, age 07, male, interpolated\n",
       "SP.POP.AG08.FE.IN  Age population, age 08, female, interpolated\n",
       "SP.POP.AG08.MA.IN  Age population, age 08, male, interpolated\n",
       "SP.POP.AG09.FE.IN  Age population, age 09, female, interpolated\n",
       "SP.POP.AG09.MA.IN  Age population, age 09, male, interpolated\n",
       "SP.POP.AG10.FE.IN  Age population, age 10, female, interpolated\n",
       "SP.POP.AG10.MA.IN  Age population, age 10, male, interpolated\n",
       "SP.POP.AG11.FE.IN  Age population, age 11, female, interpolated\n",
       "SP.POP.AG11.MA.IN  Age population, age 11, male, interpolated\n",
       "SP.POP.AG12.FE.IN  Age population, age 12, female, interpolated\n",
       "SP.POP.AG12.MA.IN  Age population, age 12, male, interpolated\n",
       "SP.POP.AG13.FE.IN  Age population, age 13, female, interpolated\n",
       "SP.POP.AG13.MA.IN  Age population, age 13, male, interpolated\n",
       "SP.POP.AG14.FE.IN  Age population, age 14, female, interpolated\n",
       "SP.POP.AG14.MA.IN  Age population, age 14, male, interpolated\n",
       "SP.POP.AG15.FE.IN  Age population, age 15, female, interpolated\n",
       "SP.POP.AG15.MA.IN  Age population, age 15, male, interpolated\n",
       "SP.POP.AG16.FE.IN  Age population, age 16, female, interpolated\n",
       "SP.POP.AG16.MA.IN  Age population, age 16, male, interpolated\n",
       "SP.POP.AG17.FE.IN  Age population, age 17, female, interpolated\n",
       "SP.POP.AG17.MA.IN  Age population, age 17, male, interpolated\n",
       "SP.POP.AG18.FE.IN  Age population, age 18, female, interpolated\n",
       "SP.POP.AG18.MA.IN  Age population, age 18, male, interpolated\n",
       "SP.POP.AG19.FE.IN  Age population, age 19, female, interpolated\n",
       "SP.POP.AG19.MA.IN  Age population, age 19, male, interpolated\n",
       "SP.POP.AG20.FE.IN  Age population, age 20, female, interpolated\n",
       "SP.POP.AG20.MA.IN  Age population, age 20, male, interpolated\n",
       "SP.POP.AG21.FE.IN  Age population, age 21, female, interpolated\n",
       "SP.POP.AG21.MA.IN  Age population, age 21, male, interpolated\n",
       "SP.POP.AG22.FE.IN  Age population, age 22, female, interpolated\n",
       "SP.POP.AG22.MA.IN  Age population, age 22, male, interpolated\n",
       "SP.POP.AG23.FE.IN  Age population, age 23, female, interpolated\n",
       "SP.POP.AG23.MA.IN  Age population, age 23, male, interpolated\n",
       "SP.POP.AG24.FE.IN  Age population, age 24, female, interpolated\n",
       "SP.POP.AG24.MA.IN  Age population, age 24, male, interpolated\n",
       "SP.POP.AG25.FE.IN  Age population, age 25, female, interpolated\n",
       "SP.POP.AG25.MA.IN  Age population, age 25, male, interpolated\n",
       "SP.POP.BRTH.MF     Sex ratio at birth (male births per female births)\n",
       "SP.POP.DPND        Age dependency ratio (% of working-age population)\n",
       "SP.POP.DPND.OL     Age dependency ratio, old (% of working-age population)\n",
       "SP.POP.DPND.YG     Age dependency ratio, young (% of working-age population)\n",
       "SP.POP.GROW        Population growth (annual %)\n",
       "SP.POP.TOTL        Population, total\n",
       "SP.POP.TOTL.FE.IN  Population, female\n",
       "SP.POP.TOTL.FE.ZS  Population, female (% of total population)\n",
       "SP.POP.TOTL.MA.IN  Population, male\n",
       "SP.POP.TOTL.MA.ZS  Population, male (% of total population)\n",
       "SP.RUR.TOTL        Rural population\n",
       "SP.RUR.TOTL.ZG     Rural population growth (annual %)\n",
       "SP.RUR.TOTL.ZS     Rural population (% of total population)\n",
       "SP.URB.GROW        Urban population growth (annual %)\n",
       "SP.URB.TOTL        Urban population\n",
       "SP.URB.TOTL.IN.ZS  Urban population (% of total population)"
      ]
     },
     "execution_count": 7,
     "metadata": {},
     "output_type": "execute_result"
    }
   ],
   "source": [
    "SOURCE = 40 # \"Population estimates and projections\n",
    "\n",
    "indicators = wbdata.get_indicator(source=SOURCE)\n",
    "indicators"
   ]
  },
  {
   "cell_type": "code",
   "execution_count": null,
   "metadata": {},
   "outputs": [],
   "source": []
  },
  {
   "cell_type": "code",
   "execution_count": null,
   "metadata": {},
   "outputs": [],
   "source": []
  },
  {
   "cell_type": "markdown",
   "metadata": {},
   "source": [
    "##### Getting Population Over Time\n",
    "\n"
   ]
  },
  {
   "cell_type": "markdown",
   "metadata": {},
   "source": [
    "Let&rsquo;s get data on the global population and see how it has changed over\n",
    " time. The variable `SP.POP.TOTL` seems like a reasonable place to\n",
    " start.  \n",
    "\n",
    "We want to get a `pandas.DataFrame` of total population:\n",
    "\n"
   ]
  },
  {
   "cell_type": "code",
   "execution_count": 8,
   "metadata": {},
   "outputs": [
    {
     "data": {
      "text/html": [
       "<div>\n",
       "<style scoped>\n",
       "    .dataframe tbody tr th:only-of-type {\n",
       "        vertical-align: middle;\n",
       "    }\n",
       "\n",
       "    .dataframe tbody tr th {\n",
       "        vertical-align: top;\n",
       "    }\n",
       "\n",
       "    .dataframe thead th {\n",
       "        text-align: right;\n",
       "    }\n",
       "</style>\n",
       "<table border=\"1\" class=\"dataframe\">\n",
       "  <thead>\n",
       "    <tr style=\"text-align: right;\">\n",
       "      <th></th>\n",
       "      <th>World Population</th>\n",
       "    </tr>\n",
       "    <tr>\n",
       "      <th>date</th>\n",
       "      <th></th>\n",
       "    </tr>\n",
       "  </thead>\n",
       "  <tbody>\n",
       "    <tr>\n",
       "      <th>2022</th>\n",
       "      <td>7.950947e+09</td>\n",
       "    </tr>\n",
       "    <tr>\n",
       "      <th>2021</th>\n",
       "      <td>7.888306e+09</td>\n",
       "    </tr>\n",
       "    <tr>\n",
       "      <th>2020</th>\n",
       "      <td>7.820206e+09</td>\n",
       "    </tr>\n",
       "    <tr>\n",
       "      <th>2019</th>\n",
       "      <td>7.741775e+09</td>\n",
       "    </tr>\n",
       "    <tr>\n",
       "      <th>2018</th>\n",
       "      <td>7.660371e+09</td>\n",
       "    </tr>\n",
       "  </tbody>\n",
       "</table>\n",
       "</div>"
      ],
      "text/plain": [
       "      World Population\n",
       "date                  \n",
       "2022      7.950947e+09\n",
       "2021      7.888306e+09\n",
       "2020      7.820206e+09\n",
       "2019      7.741775e+09\n",
       "2018      7.660371e+09"
      ]
     },
     "execution_count": 8,
     "metadata": {},
     "output_type": "execute_result"
    }
   ],
   "source": [
    "# Give variable for clarity\n",
    "variable_labels = {\"SP.POP.TOTL\":\"World Population\"}\n",
    "\n",
    "world = wbdata.get_dataframe(variable_labels, country=\"WLD\")\n",
    "\n",
    "# Date index is of type string; change to integers\n",
    "world.index = world.index.astype(int)\n",
    "\n",
    "# Print a few years' data\n",
    "world.head()"
   ]
  },
  {
   "cell_type": "markdown",
   "metadata": {},
   "source": [
    "### Plotting Data\n",
    "\n"
   ]
  },
  {
   "cell_type": "markdown",
   "metadata": {},
   "source": [
    "##### Plotting data from pandas.DataFrame\n",
    "\n"
   ]
  },
  {
   "cell_type": "markdown",
   "metadata": {},
   "source": [
    "Let&rsquo;s make a time-series plot of global population.  We&rsquo;ll use the\n",
    " `plot.ly` `cufflinks` module, which integrates with `pandas`.  Here&rsquo;s two lines to set up the plotting environment:\n",
    "\n"
   ]
  },
  {
   "cell_type": "code",
   "execution_count": 9,
   "metadata": {},
   "outputs": [
    {
     "name": "stdout",
     "output_type": "stream",
     "text": [
      "Requirement already satisfied: cufflinks in /srv/conda/lib/python3.9/site-packages (0.17.3)\n",
      "Requirement already satisfied: numpy>=1.9.2 in /srv/conda/lib/python3.9/site-packages (from cufflinks) (1.22.4)\n",
      "Requirement already satisfied: six>=1.9.0 in /srv/conda/lib/python3.9/site-packages (from cufflinks) (1.16.0)\n",
      "Requirement already satisfied: ipython>=5.3.0 in /srv/conda/lib/python3.9/site-packages (from cufflinks) (8.18.1)\n",
      "Requirement already satisfied: colorlover>=0.2.1 in /srv/conda/lib/python3.9/site-packages (from cufflinks) (0.3.0)\n",
      "Requirement already satisfied: pandas>=0.19.2 in /srv/conda/lib/python3.9/site-packages (from cufflinks) (1.3.5)\n",
      "Requirement already satisfied: plotly>=4.1.1 in /srv/conda/lib/python3.9/site-packages (from cufflinks) (5.18.0)\n",
      "Requirement already satisfied: ipywidgets>=7.0.0 in /srv/conda/lib/python3.9/site-packages (from cufflinks) (8.0.7)\n",
      "Requirement already satisfied: setuptools>=34.4.1 in /srv/conda/lib/python3.9/site-packages (from cufflinks) (59.8.0)\n",
      "Requirement already satisfied: pygments>=2.4.0 in /srv/conda/lib/python3.9/site-packages (from ipython>=5.3.0->cufflinks) (2.17.2)\n",
      "Requirement already satisfied: jedi>=0.16 in /srv/conda/lib/python3.9/site-packages (from ipython>=5.3.0->cufflinks) (0.19.1)\n",
      "Requirement already satisfied: prompt-toolkit<3.1.0,>=3.0.41 in /srv/conda/lib/python3.9/site-packages (from ipython>=5.3.0->cufflinks) (3.0.42)\n",
      "Requirement already satisfied: pexpect>4.3 in /srv/conda/lib/python3.9/site-packages (from ipython>=5.3.0->cufflinks) (4.8.0)\n",
      "Requirement already satisfied: stack-data in /srv/conda/lib/python3.9/site-packages (from ipython>=5.3.0->cufflinks) (0.6.2)\n",
      "Requirement already satisfied: decorator in /srv/conda/lib/python3.9/site-packages (from ipython>=5.3.0->cufflinks) (5.0.9)\n",
      "Requirement already satisfied: traitlets>=5 in /srv/conda/lib/python3.9/site-packages (from ipython>=5.3.0->cufflinks) (5.9.0)\n",
      "Requirement already satisfied: matplotlib-inline in /srv/conda/lib/python3.9/site-packages (from ipython>=5.3.0->cufflinks) (0.1.6)\n",
      "Requirement already satisfied: typing-extensions in /srv/conda/lib/python3.9/site-packages (from ipython>=5.3.0->cufflinks) (4.9.0)\n",
      "Requirement already satisfied: exceptiongroup in /srv/conda/lib/python3.9/site-packages (from ipython>=5.3.0->cufflinks) (1.2.0)\n",
      "Requirement already satisfied: jupyterlab-widgets~=3.0.7 in /srv/conda/lib/python3.9/site-packages (from ipywidgets>=7.0.0->cufflinks) (3.0.9)\n",
      "Requirement already satisfied: widgetsnbextension~=4.0.7 in /srv/conda/lib/python3.9/site-packages (from ipywidgets>=7.0.0->cufflinks) (4.0.9)\n",
      "Requirement already satisfied: ipykernel>=4.5.1 in /srv/conda/lib/python3.9/site-packages (from ipywidgets>=7.0.0->cufflinks) (6.19.4)\n",
      "Requirement already satisfied: python-dateutil>=2.7.3 in /srv/conda/lib/python3.9/site-packages (from pandas>=0.19.2->cufflinks) (2.8.2)\n",
      "Requirement already satisfied: pytz>=2017.3 in /srv/conda/lib/python3.9/site-packages (from pandas>=0.19.2->cufflinks) (2023.3.post1)\n",
      "Requirement already satisfied: tenacity>=6.2.0 in /srv/conda/lib/python3.9/site-packages (from plotly>=4.1.1->cufflinks) (8.2.3)\n",
      "Requirement already satisfied: packaging in /srv/conda/lib/python3.9/site-packages (from plotly>=4.1.1->cufflinks) (23.2)\n",
      "Requirement already satisfied: jupyter-client>=6.1.12 in /srv/conda/lib/python3.9/site-packages (from ipykernel>=4.5.1->ipywidgets>=7.0.0->cufflinks) (8.6.0)\n",
      "Requirement already satisfied: debugpy>=1.0 in /srv/conda/lib/python3.9/site-packages (from ipykernel>=4.5.1->ipywidgets>=7.0.0->cufflinks) (1.8.0)\n",
      "Requirement already satisfied: nest-asyncio in /srv/conda/lib/python3.9/site-packages (from ipykernel>=4.5.1->ipywidgets>=7.0.0->cufflinks) (1.6.0)\n",
      "Requirement already satisfied: comm>=0.1.1 in /srv/conda/lib/python3.9/site-packages (from ipykernel>=4.5.1->ipywidgets>=7.0.0->cufflinks) (0.2.1)\n",
      "Requirement already satisfied: tornado>=6.1 in /srv/conda/lib/python3.9/site-packages (from ipykernel>=4.5.1->ipywidgets>=7.0.0->cufflinks) (6.3.3)\n",
      "Requirement already satisfied: psutil in /srv/conda/lib/python3.9/site-packages (from ipykernel>=4.5.1->ipywidgets>=7.0.0->cufflinks) (5.9.8)\n",
      "Requirement already satisfied: pyzmq>=17 in /srv/conda/lib/python3.9/site-packages (from ipykernel>=4.5.1->ipywidgets>=7.0.0->cufflinks) (25.1.2)\n",
      "Requirement already satisfied: parso<0.9.0,>=0.8.3 in /srv/conda/lib/python3.9/site-packages (from jedi>=0.16->ipython>=5.3.0->cufflinks) (0.8.3)\n",
      "Requirement already satisfied: ptyprocess>=0.5 in /srv/conda/lib/python3.9/site-packages (from pexpect>4.3->ipython>=5.3.0->cufflinks) (0.7.0)\n",
      "Requirement already satisfied: wcwidth in /srv/conda/lib/python3.9/site-packages (from prompt-toolkit<3.1.0,>=3.0.41->ipython>=5.3.0->cufflinks) (0.2.13)\n",
      "Requirement already satisfied: asttokens>=2.1.0 in /srv/conda/lib/python3.9/site-packages (from stack-data->ipython>=5.3.0->cufflinks) (2.4.1)\n",
      "Requirement already satisfied: executing>=1.2.0 in /srv/conda/lib/python3.9/site-packages (from stack-data->ipython>=5.3.0->cufflinks) (2.0.1)\n",
      "Requirement already satisfied: pure-eval in /srv/conda/lib/python3.9/site-packages (from stack-data->ipython>=5.3.0->cufflinks) (0.2.2)\n",
      "Requirement already satisfied: jupyter-core!=5.0.*,>=4.12 in /srv/conda/lib/python3.9/site-packages (from jupyter-client>=6.1.12->ipykernel>=4.5.1->ipywidgets>=7.0.0->cufflinks) (5.7.1)\n",
      "Requirement already satisfied: importlib-metadata>=4.8.3 in /srv/conda/lib/python3.9/site-packages (from jupyter-client>=6.1.12->ipykernel>=4.5.1->ipywidgets>=7.0.0->cufflinks) (7.0.1)\n",
      "Requirement already satisfied: zipp>=0.5 in /srv/conda/lib/python3.9/site-packages (from importlib-metadata>=4.8.3->jupyter-client>=6.1.12->ipykernel>=4.5.1->ipywidgets>=7.0.0->cufflinks) (3.17.0)\n",
      "Requirement already satisfied: platformdirs>=2.5 in /srv/conda/lib/python3.9/site-packages (from jupyter-core!=5.0.*,>=4.12->jupyter-client>=6.1.12->ipykernel>=4.5.1->ipywidgets>=7.0.0->cufflinks) (4.1.0)\n"
     ]
    },
    {
     "data": {
      "text/html": [
       "        <script type=\"text/javascript\">\n",
       "        window.PlotlyConfig = {MathJaxConfig: 'local'};\n",
       "        if (window.MathJax && window.MathJax.Hub && window.MathJax.Hub.Config) {window.MathJax.Hub.Config({SVG: {font: \"STIX-Web\"}});}\n",
       "        if (typeof require !== 'undefined') {\n",
       "        require.undef(\"plotly\");\n",
       "        requirejs.config({\n",
       "            paths: {\n",
       "                'plotly': ['https://cdn.plot.ly/plotly-2.27.0.min']\n",
       "            }\n",
       "        });\n",
       "        require(['plotly'], function(Plotly) {\n",
       "            window._Plotly = Plotly;\n",
       "        });\n",
       "        }\n",
       "        </script>\n",
       "        "
      ]
     },
     "metadata": {},
     "output_type": "display_data"
    }
   ],
   "source": [
    "!pip install cufflinks # IF NECESSARY\n",
    "import cufflinks as cf\n",
    "cf.go_offline()"
   ]
  },
  {
   "cell_type": "markdown",
   "metadata": {},
   "source": [
    "##### Plotting Global Population Over time\n",
    "\n"
   ]
  },
  {
   "cell_type": "markdown",
   "metadata": {},
   "source": [
    "With that done, after we have a DataFrame making a plot is just one\n",
    " line of code:\n",
    "\n"
   ]
  },
  {
   "cell_type": "code",
   "execution_count": null,
   "metadata": {},
   "outputs": [],
   "source": []
  },
  {
   "cell_type": "code",
   "execution_count": 10,
   "metadata": {},
   "outputs": [],
   "source": [
    "import pandas as pd"
   ]
  },
  {
   "cell_type": "code",
   "execution_count": 11,
   "metadata": {},
   "outputs": [
    {
     "name": "stdout",
     "output_type": "stream",
     "text": [
      "Help on method _iplot in module cufflinks.plotlytools:\n",
      "\n",
      "_iplot(kind='scatter', data=None, layout=None, filename='', sharing=None, title='', xTitle='', yTitle='', zTitle='', theme=None, colors=None, colorscale=None, fill=False, width=None, dash='solid', mode='', interpolation='linear', symbol='circle', size=12, barmode='', sortbars=False, bargap=None, bargroupgap=None, bins=None, histnorm='', histfunc='count', orientation='v', boxpoints=False, annotations=None, keys=False, bestfit=False, bestfit_colors=None, mean=False, mean_colors=None, categories='', x='', y='', z='', text='', gridcolor=None, zerolinecolor=None, margin=None, labels=None, values=None, secondary_y='', secondary_y_title='', subplots=False, shape=None, error_x=None, error_y=None, error_type='data', locations=None, lon=None, lat=None, asFrame=False, asDates=False, asFigure=False, asImage=False, dimensions=None, asPlot=False, asUrl=False, online=None, **kwargs) method of wbdata.api.WBDataFrame instance\n",
      "           Returns a plotly chart either as inline chart, image of Figure object\n",
      "    \n",
      "           Parameters:\n",
      "           -----------\n",
      "                   kind : string\n",
      "                           Kind of chart\n",
      "                                   scatter\n",
      "                                   bar\n",
      "                                   box\n",
      "                                   spread\n",
      "                                   ratio\n",
      "                                   heatmap\n",
      "                                   surface\n",
      "                                   histogram\n",
      "                                   bubble\n",
      "                                   bubble3d\n",
      "                                   scatter3d       \n",
      "                                   scattergeo\n",
      "                                   ohlc\n",
      "                                   candle\n",
      "                                   pie\n",
      "                                   choroplet       \n",
      "                   data : Data\n",
      "                           Plotly Data Object.\n",
      "                           If not entered then the Data object will be automatically\n",
      "                           generated from the DataFrame.\n",
      "                   layout : Layout\n",
      "                           Plotly layout Object\n",
      "                           If not entered then the Layout objet will be automatically\n",
      "                           generated from the DataFrame.\n",
      "                   filename : string\n",
      "                           Filename to be saved as in plotly account\n",
      "                   sharing : string\n",
      "                           Sets the sharing level permission\n",
      "                                   public - anyone can see this chart\n",
      "                                   private - only you can see this chart\n",
      "                                   secret - only people with the link can see the chart\n",
      "                   title : string\n",
      "                           Chart Title                             \n",
      "                   xTitle : string\n",
      "                           X Axis Title\n",
      "                   yTitle : string\n",
      "                           Y Axis Title\n",
      "                                   zTitle : string\n",
      "                   zTitle : string\n",
      "                           Z Axis Title\n",
      "                           Applicable only for 3d charts\n",
      "                   theme : string\n",
      "                           Layout Theme\n",
      "                                   solar\n",
      "                                   pearl\n",
      "                                   white           \n",
      "                           see cufflinks.getThemes() for all \n",
      "                           available themes\n",
      "                   colors : dict, list or string\n",
      "                           {key:color} to specify the color for each column\n",
      "                           [colors] to use the colors in the defined order\n",
      "                   colorscale : string\n",
      "                           Color scale name\n",
      "                           If the color name is preceded by a minus (-) \n",
      "                           then the scale is inversed\n",
      "                           Only valid if 'colors' is null\n",
      "                           See cufflinks.colors.scales() for available scales\n",
      "                   fill : bool\n",
      "                           Filled Traces           \n",
      "                   width : dict, list or int\n",
      "                                   int : applies to all traces\n",
      "                                   list : applies to each trace in the order \n",
      "                                                   specified\n",
      "                                   dict: {column:value} for each column in \n",
      "                                                   the dataframe\n",
      "                           Line width      \n",
      "                   dash : dict, list or string\n",
      "                                   string : applies to all traces\n",
      "                                   list : applies to each trace in the order \n",
      "                                                   specified\n",
      "                                   dict: {column:value} for each column in \n",
      "                                                   the dataframe\n",
      "                           Drawing style of lines\n",
      "                                   solid\n",
      "                                   dash\n",
      "                                   dashdot\n",
      "                                   dot\n",
      "                   mode : dict, list or string\n",
      "                                   string : applies to all traces\n",
      "                                   list : applies to each trace in the order \n",
      "                                                   specified\n",
      "                                   dict: {column:value} for each column in \n",
      "                                                   the dataframe\n",
      "                           Plotting mode for scatter trace\n",
      "                                   lines\n",
      "                                   markers\n",
      "                                   lines+markers\n",
      "                                   lines+text\n",
      "                                   markers+text\n",
      "                                   lines+markers+text\n",
      "                   interpolation : dict, list, or string\n",
      "                                   string : applies to all traces\n",
      "                                   list : applies to each trace in the order \n",
      "                                                   specified\n",
      "                                   dict: {column:value} for each column in \n",
      "                                                   the dataframe\n",
      "                           Positioning of the connecting lines\n",
      "                                   linear\n",
      "                                   spline\n",
      "                                   vhv\n",
      "                                   hvh\n",
      "                                   vh\n",
      "                                   hv              \n",
      "                   symbol : dict, list or string\n",
      "                                   string : applies to all traces\n",
      "                                   list : applies to each trace in the order \n",
      "                                                   specified\n",
      "                                   dict: {column:value} for each column in \n",
      "                                                   the dataframe\n",
      "                           The symbol that is drawn on the plot for each marker\n",
      "                           Valid only when mode includes markers\n",
      "                                   circle\n",
      "                                   circle-dot\n",
      "                                   diamond\n",
      "                                   square\n",
      "                                   and many more...(see plotly.validators.scatter.marker.SymbolValidator.values)\n",
      "                   size : string or int \n",
      "                           Size of marker \n",
      "                           Valid only if marker in mode\n",
      "                   barmode : string\n",
      "                           Mode when displaying bars\n",
      "                                   group\n",
      "                                   stack\n",
      "                                   overlay\n",
      "                           * Only valid when kind='bar'\n",
      "                   sortbars : bool\n",
      "                           Sort bars in descending order\n",
      "                           * Only valid when kind='bar'\n",
      "                   bargap : float\n",
      "                           Sets the gap between bars\n",
      "                                   [0,1)\n",
      "                           * Only valid when kind is 'histogram' or 'bar'\n",
      "                   bargroupgap : float\n",
      "                           Set the gap between groups\n",
      "                                   [0,1)\n",
      "                           * Only valid when kind is 'histogram' or 'bar'          \n",
      "                   bins : int or tuple \n",
      "                           if int:\n",
      "                                   Specifies the number of bins \n",
      "                           if tuple:\n",
      "                                   (start, end, size)\n",
      "                                   start : starting value\n",
      "                                   end: end value\n",
      "                                   size: bin size\n",
      "                           * Only valid when kind='histogram'\n",
      "    \n",
      "                   histnorm : string\n",
      "                                   '' (frequency)\n",
      "                                   percent\n",
      "                                   probability\n",
      "                                   density\n",
      "                                   probability density\n",
      "                           Sets the type of normalization for an histogram trace. By default\n",
      "                           the height of each bar displays the frequency of occurrence, i.e., \n",
      "                           the number of times this value was found in the\n",
      "                           corresponding bin. If set to 'percent', the height of each bar\n",
      "                           displays the percentage of total occurrences found within the\n",
      "                           corresponding bin. If set to 'probability', the height of each bar\n",
      "                           displays the probability that an event will fall into the\n",
      "                           corresponding bin. If set to 'density', the height of each bar is\n",
      "                           equal to the number of occurrences in a bin divided by the size of\n",
      "                           the bin interval such that summing the area of all bins will yield\n",
      "                           the total number of occurrences. If set to 'probability density',\n",
      "                           the height of each bar is equal to the number of probability that an\n",
      "                           event will fall into the corresponding bin divided by the size of\n",
      "                           the bin interval such that summing the area of all bins will yield\n",
      "                           1.\n",
      "                           * Only valid when kind='histogram'\n",
      "                   histfunc : string\n",
      "                                   count\n",
      "                                   sum\n",
      "                                   avg\n",
      "                                   min\n",
      "                                   max\n",
      "                      Sets the binning function used for an histogram trace. \n",
      "                           * Only valid when kind='histogram'           \n",
      "                   orientation : string\n",
      "                                   h \n",
      "                                   v\n",
      "                           Sets the orientation of the bars. If set to 'v', the length of each\n",
      "    |          bar will run vertically. If set to 'h', the length of each bar will\n",
      "    |          run horizontally\n",
      "                           * Only valid when kind is 'histogram','bar' or 'box'\n",
      "                   boxpoints : string\n",
      "                           Displays data points in a box plot\n",
      "                                   outliers\n",
      "                                   all\n",
      "                                   suspectedoutliers\n",
      "                                   False\n",
      "                   annotations : dictionary\n",
      "                           Dictionary of annotations\n",
      "                           {x_point : text}\n",
      "                   keys : list of columns\n",
      "                           List of columns to chart.\n",
      "                           Also can be used for custom sorting.\n",
      "                   bestfit : boolean or list\n",
      "                           If True then a best fit line will be generated for\n",
      "                           all columns.\n",
      "                           If list then a best fit line will be generated for\n",
      "                           each key on the list.\n",
      "                   bestfit_colors : list or dict\n",
      "                           {key:color} to specify the color for each column\n",
      "                           [colors] to use the colors in the defined order \n",
      "                   categories : string\n",
      "                           Name of the column that contains the categories\n",
      "                   x : string\n",
      "                           Name of the column that contains the x axis values              \n",
      "                   y : string\n",
      "                           Name of the column that contains the y axis values\n",
      "                   z : string\n",
      "                           Name of the column that contains the z axis values                                      \n",
      "                   text : string\n",
      "                           Name of the column that contains the text values        \n",
      "                   gridcolor : string\n",
      "                           Grid color      \n",
      "                   zerolinecolor : string\n",
      "                           Zero line color\n",
      "                   margin : dict or tuple\n",
      "                           Dictionary (l,r,b,t) or\n",
      "                           Tuple containing the left,\n",
      "                           right, bottom and top margins\n",
      "                   labels : string\n",
      "                           Name of the column that contains the labels.\n",
      "                           * Only valid when kind='pie' \n",
      "                   values : string\n",
      "                           Name of the column that contains the values.\n",
      "                           * Only valid when kind='pie'\n",
      "                   secondary_y : string or list(string)\n",
      "                           Name(s) of the column to be charted on the \n",
      "                           right hand side axis\n",
      "                   secondary_y_title : string\n",
      "                           Title of the secondary axis\n",
      "                   subplots : bool\n",
      "                           If true then each trace is placed in \n",
      "                           subplot layout\n",
      "                   shape : (rows,cols)\n",
      "                           Tuple indicating the size of rows and columns\n",
      "                           If omitted then the layout is automatically set\n",
      "                           * Only valid when subplots=True\n",
      "                   error_x : int or float or [int or float]\n",
      "                           error values for the x axis\n",
      "                   error_y : int or float or [int or float]\n",
      "                           error values for the y axis\n",
      "                   error_type : string\n",
      "                           type of error bars\n",
      "                                   'data' \n",
      "                                   'constant'\n",
      "                                   'percent'\n",
      "                                   'sqrt'\n",
      "                                   'continuous'\n",
      "                                   'continuous_percent'\n",
      "                   asFrame : bool\n",
      "                           If true then the data component of Figure will\n",
      "                           be of Pandas form (Series) otherwise they will \n",
      "                           be index values\n",
      "                   asDates : bool\n",
      "                           If true it truncates times from a DatetimeIndex\n",
      "                   asFigure : bool\n",
      "                           If True returns plotly Figure\n",
      "                   asImage : bool\n",
      "                           If True it returns an Image (png)\n",
      "                           In ONLINE mode:\n",
      "                                   Image file is saved in the working directory                            \n",
      "                                           Accepts:\n",
      "                                                   filename\n",
      "                                                   dimensions\n",
      "                                                   scale\n",
      "                                                   display_image\n",
      "                           In OFFLINE mode:\n",
      "                                   Image file is downloaded (downloads folder) and a \n",
      "                                   regular plotly chart is displayed in Jupyter\n",
      "                                           Accepts:\n",
      "                                                   filename\n",
      "                                                   dimensions\n",
      "                   dimensions : tuple(int,int)\n",
      "                           Dimensions for image / chart\n",
      "                                   (width,height)          \n",
      "                   asPlot : bool\n",
      "                           If True the chart opens in browser\n",
      "                   asUrl : bool\n",
      "                           If True the chart url/path is returned. No chart is displayed. \n",
      "                                   If Online : the URL is returned\n",
      "                                   If Offline : the local path is returned\n",
      "                   online : bool\n",
      "                           If True then the chart/image is rendered on the server \n",
      "                           even when running in offline mode. \n",
      "    \n",
      "                   Other Kwargs\n",
      "                   ============\n",
      "                   Line, Scatter\n",
      "                           connectgaps : bool\n",
      "                                   If True, empty values are connected \n",
      "                   Pie charts\n",
      "                           sort : bool\n",
      "                                   If True it sorts the labels by value\n",
      "                           pull : float [0-1]\n",
      "                                   Pulls the slices from the centre \n",
      "                           hole : float [0-1]\n",
      "                                   Sets the size of the inner hole\n",
      "                           linecolor : string\n",
      "                                   Sets the color for the contour line of the slices\n",
      "                           linewidth : string\n",
      "                                   Sets the width for the contour line of the slices       \n",
      "                           textcolor : string\n",
      "                                   Sets the color for the text in the slices\n",
      "                           textposition : string \n",
      "                                   Sets the position of the legends for each slice\n",
      "                                           outside\n",
      "                                           inner\n",
      "                           textinfo : string \n",
      "                                   Sets the information to be displayed on \n",
      "                                   the legends \n",
      "                                           label\n",
      "                                           percent\n",
      "                                           value\n",
      "                                           * or ony combination of the above using \n",
      "                                             '+' between each item\n",
      "                                             ie 'label+percent'\n",
      "    \n",
      "                   Histogram\n",
      "                           linecolor : string\n",
      "                                   specifies the line color of the histogram\n",
      "    \n",
      "                   Heatmap and Surface\n",
      "                           center_scale : float\n",
      "                                   Centers the colorscale at a specific value\n",
      "                                   Automatically sets the (zmin,zmax) values\n",
      "                           zmin : float\n",
      "                                   Defines the minimum range for the z values. \n",
      "                                   This affects the range for the colorscale\n",
      "                           zmax : float\n",
      "                                   Defines the maximum range for the z values. \n",
      "                                   This affects the range for the colorscale\n",
      "    \n",
      "                   Error Bars\n",
      "                           error_trace : string\n",
      "                                   Name of the column for which error should be \n",
      "                                   plotted. If omitted then errors apply to all \n",
      "                                   traces.\n",
      "                           error_values_minus : int or float or [int or float]\n",
      "                                   Values corresponding to the span of the error bars \n",
      "                                   below the trace coordinates\n",
      "                           error_color : string\n",
      "                                   Color for error bars\n",
      "                           error_thickness : float \n",
      "                                   Sets the line thickness of the error bars\n",
      "                           error_width :  float\n",
      "                                   Sets the width (in pixels) of the cross-bar at both \n",
      "                                   ends of the error bars\n",
      "                           error_opacity : float [0,1]\n",
      "                                   Opacity for the error bars\n",
      "    \n",
      "                   Subplots\n",
      "                           horizontal_spacing : float [0,1]\n",
      "                                   Space between subplot columns.\n",
      "                           vertical_spacing : float [0,1]\n",
      "                                   Space between subplot rows.\n",
      "                           subplot_titles : bool\n",
      "                                   If True, chart titles are plotted\n",
      "                                   at the top of each subplot\n",
      "                           shared_xaxes : bool\n",
      "                                   Assign shared x axes.\n",
      "                                   If True, subplots in the same grid column have one common\n",
      "                                   shared x-axis at the bottom of the grid.\n",
      "                           shared_yaxes : bool\n",
      "                                   Assign shared y axes.\n",
      "                                   If True, subplots in the same grid row have one common\n",
      "                                   shared y-axis on the left-hand side of the grid.\n",
      "    \n",
      "                   Shapes\n",
      "                           hline : float, list or dict\n",
      "                                   Draws a horizontal line at the \n",
      "                                   indicated y position(s)\n",
      "                                   Extra parameters can be passed in\n",
      "                                   the form of a dictionary (see shapes)\n",
      "                           vline : float, list or dict\n",
      "                                   Draws a vertical line at the \n",
      "                                   indicated x position(s)\n",
      "                                   Extra parameters can be passed in\n",
      "                                   the form of a dictionary (see shapes)\n",
      "                           hpsan : (y0,y1)\n",
      "                                   Draws a horizontal rectangle at the \n",
      "                                   indicated (y0,y1) positions.\n",
      "                                   Extra parameters can be passed in\n",
      "                                   the form of a dictionary (see shapes)\n",
      "                           vspan : (x0,x1)\n",
      "                                   Draws a vertical rectangle at the \n",
      "                                   indicated (x0,x1) positions.\n",
      "                                   Extra parameters can be passed in\n",
      "                                   the form of a dictionary (see shapes)\n",
      "                           shapes : dict or list(dict)\n",
      "                                   List of dictionaries with the \n",
      "                                   specifications of a given shape.\n",
      "                                   See help(cufflinks.tools.get_shape)\n",
      "                                   for more information\n",
      "                   \n",
      "                   Axis Ranges\n",
      "                           xrange : [lower_bound,upper_bound]\n",
      "                                   Sets the range for the x axis\n",
      "                           yrange : [lower_bound,upper_bound]\n",
      "                                   Sets the range for the y axis\n",
      "                           zrange : [lower_bound,upper_bound]\n",
      "                                   Sets the range for the z axis\n",
      "                                   \n",
      "                   Explicit Layout Updates\n",
      "                           layout_update : dict\n",
      "                                   The layout will be modified with all \n",
      "                                   the explicit values stated in the \n",
      "                                   dictionary. \n",
      "                                   It will not apply if layout is passed\n",
      "                                   as parameter.\n",
      "    \n",
      "    \n",
      "                   Range Selector\n",
      "                           rangeselector : dict\n",
      "                                   Defines a rangeselector object\n",
      "                                   see help(cf.tools.get_range_selector) for more information\n",
      "                                   Example:\n",
      "                                           {'steps':['1y','2 months','5 weeks','ytd','2mtd'],\n",
      "                                            'axis':'xaxis', 'bgcolor' : ('blue',.3),\n",
      "                                            'x': 0.2 , 'y' : 0.9}\n",
      "    \n",
      "                   Range Slider\n",
      "                           rangeslider : bool or dict\n",
      "                                   Defines if a rangeslider is displayed\n",
      "                                   If bool: \n",
      "                                           True : Makes it visible\n",
      "                                   if dict:\n",
      "                                           Rangeslider object\n",
      "                                   Example:\n",
      "                                           {'bgcolor':('blue',.3),'autorange':True}\n",
      "    \n",
      "                   Annotations\n",
      "                           fontcolor : str\n",
      "                                   Text color for annotations\n",
      "                           fontsize : int\n",
      "                                   Text size for annotations\n",
      "                           textangle : int\n",
      "                                   Text angle \n",
      "                           See https://plot.ly/python/reference/#layout-annotations \n",
      "                           for a complete list of valid parameters.\n",
      "    \n",
      "                   Exports\n",
      "                           display_image : bool\n",
      "                                   If True then the image if displayed after being saved\n",
      "                                   ** only valid if asImage=True\n",
      "                           scale : integer\n",
      "                                   Increase the resolution of the image by `scale` amount\n",
      "                                   Only valid when asImage=True\n",
      "\n"
     ]
    }
   ],
   "source": [
    "help(world.iplot)"
   ]
  },
  {
   "cell_type": "code",
   "execution_count": null,
   "metadata": {},
   "outputs": [],
   "source": []
  },
  {
   "cell_type": "code",
   "execution_count": 12,
   "metadata": {},
   "outputs": [
    {
     "data": {
      "application/vnd.plotly.v1+json": {
       "config": {
        "linkText": "Export to plot.ly",
        "plotlyServerURL": "https://plot.ly",
        "showLink": true
       },
       "data": [
        {
         "line": {
          "color": "rgba(255, 153, 51, 1.0)",
          "dash": "solid",
          "shape": "linear",
          "width": 1.3
         },
         "mode": "lines",
         "name": "World Population",
         "text": "",
         "type": "scatter",
         "x": [
          2022,
          2021,
          2020,
          2019,
          2018,
          2017,
          2016,
          2015,
          2014,
          2013,
          2012,
          2011,
          2010,
          2009,
          2008,
          2007,
          2006,
          2005,
          2004,
          2003,
          2002,
          2001,
          2000,
          1999,
          1998,
          1997,
          1996,
          1995,
          1994,
          1993,
          1992,
          1991,
          1990,
          1989,
          1988,
          1987,
          1986,
          1985,
          1984,
          1983,
          1982,
          1981,
          1980,
          1979,
          1978,
          1977,
          1976,
          1975,
          1974,
          1973,
          1972,
          1971,
          1970,
          1969,
          1968,
          1967,
          1966,
          1965,
          1964,
          1963,
          1962,
          1961,
          1960
         ],
         "y": [
          7950946801,
          7888305693,
          7820205606,
          7741774583,
          7660371127,
          7576441961,
          7490415449,
          7403850164,
          7317040295,
          7229303088,
          7141386257,
          7054044372,
          6969985525,
          6885663352,
          6801440971,
          6717567584,
          6635110367,
          6552700448,
          6470924346,
          6389462496,
          6308140970,
          6226348086,
          6144321462,
          6062288850,
          5979726559,
          5896055962,
          5811580202,
          5726736488,
          5642046034,
          5556623321,
          5470164577,
          5382536929,
          5293395467,
          5202582534,
          5113387878,
          5024289346,
          4936006502,
          4850076923,
          4766640881,
          4684875627,
          4602701335,
          4520917350,
          4442348279,
          4365742277,
          4289795862,
          4215826364,
          4143091942,
          4070022249,
          3995888368,
          3920017410,
          3843607574,
          3767930001,
          3690209960,
          3614572835,
          3540164023,
          3468370526,
          3398480280,
          3328209022,
          3260441925,
          3193428894,
          3126849612,
          3072421801,
          3031474234
         ]
        }
       ],
       "layout": {
        "autosize": true,
        "legend": {
         "bgcolor": "#F5F6F9",
         "font": {
          "color": "#4D5663"
         }
        },
        "paper_bgcolor": "#F5F6F9",
        "plot_bgcolor": "#F5F6F9",
        "template": {
         "data": {
          "bar": [
           {
            "error_x": {
             "color": "#2a3f5f"
            },
            "error_y": {
             "color": "#2a3f5f"
            },
            "marker": {
             "line": {
              "color": "#E5ECF6",
              "width": 0.5
             },
             "pattern": {
              "fillmode": "overlay",
              "size": 10,
              "solidity": 0.2
             }
            },
            "type": "bar"
           }
          ],
          "barpolar": [
           {
            "marker": {
             "line": {
              "color": "#E5ECF6",
              "width": 0.5
             },
             "pattern": {
              "fillmode": "overlay",
              "size": 10,
              "solidity": 0.2
             }
            },
            "type": "barpolar"
           }
          ],
          "carpet": [
           {
            "aaxis": {
             "endlinecolor": "#2a3f5f",
             "gridcolor": "white",
             "linecolor": "white",
             "minorgridcolor": "white",
             "startlinecolor": "#2a3f5f"
            },
            "baxis": {
             "endlinecolor": "#2a3f5f",
             "gridcolor": "white",
             "linecolor": "white",
             "minorgridcolor": "white",
             "startlinecolor": "#2a3f5f"
            },
            "type": "carpet"
           }
          ],
          "choropleth": [
           {
            "colorbar": {
             "outlinewidth": 0,
             "ticks": ""
            },
            "type": "choropleth"
           }
          ],
          "contour": [
           {
            "colorbar": {
             "outlinewidth": 0,
             "ticks": ""
            },
            "colorscale": [
             [
              0,
              "#0d0887"
             ],
             [
              0.1111111111111111,
              "#46039f"
             ],
             [
              0.2222222222222222,
              "#7201a8"
             ],
             [
              0.3333333333333333,
              "#9c179e"
             ],
             [
              0.4444444444444444,
              "#bd3786"
             ],
             [
              0.5555555555555556,
              "#d8576b"
             ],
             [
              0.6666666666666666,
              "#ed7953"
             ],
             [
              0.7777777777777778,
              "#fb9f3a"
             ],
             [
              0.8888888888888888,
              "#fdca26"
             ],
             [
              1,
              "#f0f921"
             ]
            ],
            "type": "contour"
           }
          ],
          "contourcarpet": [
           {
            "colorbar": {
             "outlinewidth": 0,
             "ticks": ""
            },
            "type": "contourcarpet"
           }
          ],
          "heatmap": [
           {
            "colorbar": {
             "outlinewidth": 0,
             "ticks": ""
            },
            "colorscale": [
             [
              0,
              "#0d0887"
             ],
             [
              0.1111111111111111,
              "#46039f"
             ],
             [
              0.2222222222222222,
              "#7201a8"
             ],
             [
              0.3333333333333333,
              "#9c179e"
             ],
             [
              0.4444444444444444,
              "#bd3786"
             ],
             [
              0.5555555555555556,
              "#d8576b"
             ],
             [
              0.6666666666666666,
              "#ed7953"
             ],
             [
              0.7777777777777778,
              "#fb9f3a"
             ],
             [
              0.8888888888888888,
              "#fdca26"
             ],
             [
              1,
              "#f0f921"
             ]
            ],
            "type": "heatmap"
           }
          ],
          "heatmapgl": [
           {
            "colorbar": {
             "outlinewidth": 0,
             "ticks": ""
            },
            "colorscale": [
             [
              0,
              "#0d0887"
             ],
             [
              0.1111111111111111,
              "#46039f"
             ],
             [
              0.2222222222222222,
              "#7201a8"
             ],
             [
              0.3333333333333333,
              "#9c179e"
             ],
             [
              0.4444444444444444,
              "#bd3786"
             ],
             [
              0.5555555555555556,
              "#d8576b"
             ],
             [
              0.6666666666666666,
              "#ed7953"
             ],
             [
              0.7777777777777778,
              "#fb9f3a"
             ],
             [
              0.8888888888888888,
              "#fdca26"
             ],
             [
              1,
              "#f0f921"
             ]
            ],
            "type": "heatmapgl"
           }
          ],
          "histogram": [
           {
            "marker": {
             "pattern": {
              "fillmode": "overlay",
              "size": 10,
              "solidity": 0.2
             }
            },
            "type": "histogram"
           }
          ],
          "histogram2d": [
           {
            "colorbar": {
             "outlinewidth": 0,
             "ticks": ""
            },
            "colorscale": [
             [
              0,
              "#0d0887"
             ],
             [
              0.1111111111111111,
              "#46039f"
             ],
             [
              0.2222222222222222,
              "#7201a8"
             ],
             [
              0.3333333333333333,
              "#9c179e"
             ],
             [
              0.4444444444444444,
              "#bd3786"
             ],
             [
              0.5555555555555556,
              "#d8576b"
             ],
             [
              0.6666666666666666,
              "#ed7953"
             ],
             [
              0.7777777777777778,
              "#fb9f3a"
             ],
             [
              0.8888888888888888,
              "#fdca26"
             ],
             [
              1,
              "#f0f921"
             ]
            ],
            "type": "histogram2d"
           }
          ],
          "histogram2dcontour": [
           {
            "colorbar": {
             "outlinewidth": 0,
             "ticks": ""
            },
            "colorscale": [
             [
              0,
              "#0d0887"
             ],
             [
              0.1111111111111111,
              "#46039f"
             ],
             [
              0.2222222222222222,
              "#7201a8"
             ],
             [
              0.3333333333333333,
              "#9c179e"
             ],
             [
              0.4444444444444444,
              "#bd3786"
             ],
             [
              0.5555555555555556,
              "#d8576b"
             ],
             [
              0.6666666666666666,
              "#ed7953"
             ],
             [
              0.7777777777777778,
              "#fb9f3a"
             ],
             [
              0.8888888888888888,
              "#fdca26"
             ],
             [
              1,
              "#f0f921"
             ]
            ],
            "type": "histogram2dcontour"
           }
          ],
          "mesh3d": [
           {
            "colorbar": {
             "outlinewidth": 0,
             "ticks": ""
            },
            "type": "mesh3d"
           }
          ],
          "parcoords": [
           {
            "line": {
             "colorbar": {
              "outlinewidth": 0,
              "ticks": ""
             }
            },
            "type": "parcoords"
           }
          ],
          "pie": [
           {
            "automargin": true,
            "type": "pie"
           }
          ],
          "scatter": [
           {
            "fillpattern": {
             "fillmode": "overlay",
             "size": 10,
             "solidity": 0.2
            },
            "type": "scatter"
           }
          ],
          "scatter3d": [
           {
            "line": {
             "colorbar": {
              "outlinewidth": 0,
              "ticks": ""
             }
            },
            "marker": {
             "colorbar": {
              "outlinewidth": 0,
              "ticks": ""
             }
            },
            "type": "scatter3d"
           }
          ],
          "scattercarpet": [
           {
            "marker": {
             "colorbar": {
              "outlinewidth": 0,
              "ticks": ""
             }
            },
            "type": "scattercarpet"
           }
          ],
          "scattergeo": [
           {
            "marker": {
             "colorbar": {
              "outlinewidth": 0,
              "ticks": ""
             }
            },
            "type": "scattergeo"
           }
          ],
          "scattergl": [
           {
            "marker": {
             "colorbar": {
              "outlinewidth": 0,
              "ticks": ""
             }
            },
            "type": "scattergl"
           }
          ],
          "scattermapbox": [
           {
            "marker": {
             "colorbar": {
              "outlinewidth": 0,
              "ticks": ""
             }
            },
            "type": "scattermapbox"
           }
          ],
          "scatterpolar": [
           {
            "marker": {
             "colorbar": {
              "outlinewidth": 0,
              "ticks": ""
             }
            },
            "type": "scatterpolar"
           }
          ],
          "scatterpolargl": [
           {
            "marker": {
             "colorbar": {
              "outlinewidth": 0,
              "ticks": ""
             }
            },
            "type": "scatterpolargl"
           }
          ],
          "scatterternary": [
           {
            "marker": {
             "colorbar": {
              "outlinewidth": 0,
              "ticks": ""
             }
            },
            "type": "scatterternary"
           }
          ],
          "surface": [
           {
            "colorbar": {
             "outlinewidth": 0,
             "ticks": ""
            },
            "colorscale": [
             [
              0,
              "#0d0887"
             ],
             [
              0.1111111111111111,
              "#46039f"
             ],
             [
              0.2222222222222222,
              "#7201a8"
             ],
             [
              0.3333333333333333,
              "#9c179e"
             ],
             [
              0.4444444444444444,
              "#bd3786"
             ],
             [
              0.5555555555555556,
              "#d8576b"
             ],
             [
              0.6666666666666666,
              "#ed7953"
             ],
             [
              0.7777777777777778,
              "#fb9f3a"
             ],
             [
              0.8888888888888888,
              "#fdca26"
             ],
             [
              1,
              "#f0f921"
             ]
            ],
            "type": "surface"
           }
          ],
          "table": [
           {
            "cells": {
             "fill": {
              "color": "#EBF0F8"
             },
             "line": {
              "color": "white"
             }
            },
            "header": {
             "fill": {
              "color": "#C8D4E3"
             },
             "line": {
              "color": "white"
             }
            },
            "type": "table"
           }
          ]
         },
         "layout": {
          "annotationdefaults": {
           "arrowcolor": "#2a3f5f",
           "arrowhead": 0,
           "arrowwidth": 1
          },
          "autotypenumbers": "strict",
          "coloraxis": {
           "colorbar": {
            "outlinewidth": 0,
            "ticks": ""
           }
          },
          "colorscale": {
           "diverging": [
            [
             0,
             "#8e0152"
            ],
            [
             0.1,
             "#c51b7d"
            ],
            [
             0.2,
             "#de77ae"
            ],
            [
             0.3,
             "#f1b6da"
            ],
            [
             0.4,
             "#fde0ef"
            ],
            [
             0.5,
             "#f7f7f7"
            ],
            [
             0.6,
             "#e6f5d0"
            ],
            [
             0.7,
             "#b8e186"
            ],
            [
             0.8,
             "#7fbc41"
            ],
            [
             0.9,
             "#4d9221"
            ],
            [
             1,
             "#276419"
            ]
           ],
           "sequential": [
            [
             0,
             "#0d0887"
            ],
            [
             0.1111111111111111,
             "#46039f"
            ],
            [
             0.2222222222222222,
             "#7201a8"
            ],
            [
             0.3333333333333333,
             "#9c179e"
            ],
            [
             0.4444444444444444,
             "#bd3786"
            ],
            [
             0.5555555555555556,
             "#d8576b"
            ],
            [
             0.6666666666666666,
             "#ed7953"
            ],
            [
             0.7777777777777778,
             "#fb9f3a"
            ],
            [
             0.8888888888888888,
             "#fdca26"
            ],
            [
             1,
             "#f0f921"
            ]
           ],
           "sequentialminus": [
            [
             0,
             "#0d0887"
            ],
            [
             0.1111111111111111,
             "#46039f"
            ],
            [
             0.2222222222222222,
             "#7201a8"
            ],
            [
             0.3333333333333333,
             "#9c179e"
            ],
            [
             0.4444444444444444,
             "#bd3786"
            ],
            [
             0.5555555555555556,
             "#d8576b"
            ],
            [
             0.6666666666666666,
             "#ed7953"
            ],
            [
             0.7777777777777778,
             "#fb9f3a"
            ],
            [
             0.8888888888888888,
             "#fdca26"
            ],
            [
             1,
             "#f0f921"
            ]
           ]
          },
          "colorway": [
           "#636efa",
           "#EF553B",
           "#00cc96",
           "#ab63fa",
           "#FFA15A",
           "#19d3f3",
           "#FF6692",
           "#B6E880",
           "#FF97FF",
           "#FECB52"
          ],
          "font": {
           "color": "#2a3f5f"
          },
          "geo": {
           "bgcolor": "white",
           "lakecolor": "white",
           "landcolor": "#E5ECF6",
           "showlakes": true,
           "showland": true,
           "subunitcolor": "white"
          },
          "hoverlabel": {
           "align": "left"
          },
          "hovermode": "closest",
          "mapbox": {
           "style": "light"
          },
          "paper_bgcolor": "white",
          "plot_bgcolor": "#E5ECF6",
          "polar": {
           "angularaxis": {
            "gridcolor": "white",
            "linecolor": "white",
            "ticks": ""
           },
           "bgcolor": "#E5ECF6",
           "radialaxis": {
            "gridcolor": "white",
            "linecolor": "white",
            "ticks": ""
           }
          },
          "scene": {
           "xaxis": {
            "backgroundcolor": "#E5ECF6",
            "gridcolor": "white",
            "gridwidth": 2,
            "linecolor": "white",
            "showbackground": true,
            "ticks": "",
            "zerolinecolor": "white"
           },
           "yaxis": {
            "backgroundcolor": "#E5ECF6",
            "gridcolor": "white",
            "gridwidth": 2,
            "linecolor": "white",
            "showbackground": true,
            "ticks": "",
            "zerolinecolor": "white"
           },
           "zaxis": {
            "backgroundcolor": "#E5ECF6",
            "gridcolor": "white",
            "gridwidth": 2,
            "linecolor": "white",
            "showbackground": true,
            "ticks": "",
            "zerolinecolor": "white"
           }
          },
          "shapedefaults": {
           "line": {
            "color": "#2a3f5f"
           }
          },
          "ternary": {
           "aaxis": {
            "gridcolor": "white",
            "linecolor": "white",
            "ticks": ""
           },
           "baxis": {
            "gridcolor": "white",
            "linecolor": "white",
            "ticks": ""
           },
           "bgcolor": "#E5ECF6",
           "caxis": {
            "gridcolor": "white",
            "linecolor": "white",
            "ticks": ""
           }
          },
          "title": {
           "x": 0.05
          },
          "xaxis": {
           "automargin": true,
           "gridcolor": "white",
           "linecolor": "white",
           "ticks": "",
           "title": {
            "standoff": 15
           },
           "zerolinecolor": "white",
           "zerolinewidth": 2
          },
          "yaxis": {
           "automargin": true,
           "gridcolor": "white",
           "linecolor": "white",
           "ticks": "",
           "title": {
            "standoff": 15
           },
           "zerolinecolor": "white",
           "zerolinewidth": 2
          }
         }
        },
        "title": {
         "font": {
          "color": "#4D5663"
         },
         "text": "Fact I: Growth Rates Falling over Time"
        },
        "xaxis": {
         "autorange": true,
         "gridcolor": "#E1E5ED",
         "range": [
          1960,
          2022
         ],
         "showgrid": true,
         "tickfont": {
          "color": "#4D5663"
         },
         "title": {
          "font": {
           "color": "#4D5663"
          },
          "text": "Year"
         },
         "type": "linear",
         "zerolinecolor": "#E1E5ED"
        },
        "yaxis": {
         "autorange": true,
         "gridcolor": "#E1E5ED",
         "range": [
          2758170202.5,
          8224250832.5
         ],
         "showgrid": true,
         "tickfont": {
          "color": "#4D5663"
         },
         "title": {
          "font": {
           "color": "#4D5663"
          },
          "text": "Population"
         },
         "type": "linear",
         "zerolinecolor": "#E1E5ED"
        }
       }
      },
      "image/png": "[encoded data removed]",
      "text/html": [
       "<div>                            <div id=\"603f6d16-1001-4fda-880b-8a0a08ff6d5a\" class=\"plotly-graph-div\" style=\"height:525px; width:100%;\"></div>            <script type=\"text/javascript\">                require([\"plotly\"], function(Plotly) {                    window.PLOTLYENV=window.PLOTLYENV || {};\n",
       "                    window.PLOTLYENV.BASE_URL='https://plot.ly';                                    if (document.getElementById(\"603f6d16-1001-4fda-880b-8a0a08ff6d5a\")) {                    Plotly.newPlot(                        \"603f6d16-1001-4fda-880b-8a0a08ff6d5a\",                        [{\"line\":{\"color\":\"rgba(255, 153, 51, 1.0)\",\"dash\":\"solid\",\"shape\":\"linear\",\"width\":1.3},\"mode\":\"lines\",\"name\":\"World Population\",\"text\":\"\",\"x\":[2022,2021,2020,2019,2018,2017,2016,2015,2014,2013,2012,2011,2010,2009,2008,2007,2006,2005,2004,2003,2002,2001,2000,1999,1998,1997,1996,1995,1994,1993,1992,1991,1990,1989,1988,1987,1986,1985,1984,1983,1982,1981,1980,1979,1978,1977,1976,1975,1974,1973,1972,1971,1970,1969,1968,1967,1966,1965,1964,1963,1962,1961,1960],\"y\":[7950946801.0,7888305693.0,7820205606.0,7741774583.0,7660371127.0,7576441961.0,7490415449.0,7403850164.0,7317040295.0,7229303088.0,7141386257.0,7054044372.0,6969985525.0,6885663352.0,6801440971.0,6717567584.0,6635110367.0,6552700448.0,6470924346.0,6389462496.0,6308140970.0,6226348086.0,6144321462.0,6062288850.0,5979726559.0,5896055962.0,5811580202.0,5726736488.0,5642046034.0,5556623321.0,5470164577.0,5382536929.0,5293395467.0,5202582534.0,5113387878.0,5024289346.0,4936006502.0,4850076923.0,4766640881.0,4684875627.0,4602701335.0,4520917350.0,4442348279.0,4365742277.0,4289795862.0,4215826364.0,4143091942.0,4070022249.0,3995888368.0,3920017410.0,3843607574.0,3767930001.0,3690209960.0,3614572835.0,3540164023.0,3468370526.0,3398480280.0,3328209022.0,3260441925.0,3193428894.0,3126849612.0,3072421801.0,3031474234.0],\"type\":\"scatter\"}],                        {\"legend\":{\"bgcolor\":\"#F5F6F9\",\"font\":{\"color\":\"#4D5663\"}},\"paper_bgcolor\":\"#F5F6F9\",\"plot_bgcolor\":\"#F5F6F9\",\"template\":{\"data\":{\"barpolar\":[{\"marker\":{\"line\":{\"color\":\"#E5ECF6\",\"width\":0.5},\"pattern\":{\"fillmode\":\"overlay\",\"size\":10,\"solidity\":0.2}},\"type\":\"barpolar\"}],\"bar\":[{\"error_x\":{\"color\":\"#2a3f5f\"},\"error_y\":{\"color\":\"#2a3f5f\"},\"marker\":{\"line\":{\"color\":\"#E5ECF6\",\"width\":0.5},\"pattern\":{\"fillmode\":\"overlay\",\"size\":10,\"solidity\":0.2}},\"type\":\"bar\"}],\"carpet\":[{\"aaxis\":{\"endlinecolor\":\"#2a3f5f\",\"gridcolor\":\"white\",\"linecolor\":\"white\",\"minorgridcolor\":\"white\",\"startlinecolor\":\"#2a3f5f\"},\"baxis\":{\"endlinecolor\":\"#2a3f5f\",\"gridcolor\":\"white\",\"linecolor\":\"white\",\"minorgridcolor\":\"white\",\"startlinecolor\":\"#2a3f5f\"},\"type\":\"carpet\"}],\"choropleth\":[{\"colorbar\":{\"outlinewidth\":0,\"ticks\":\"\"},\"type\":\"choropleth\"}],\"contourcarpet\":[{\"colorbar\":{\"outlinewidth\":0,\"ticks\":\"\"},\"type\":\"contourcarpet\"}],\"contour\":[{\"colorbar\":{\"outlinewidth\":0,\"ticks\":\"\"},\"colorscale\":[[0.0,\"#0d0887\"],[0.1111111111111111,\"#46039f\"],[0.2222222222222222,\"#7201a8\"],[0.3333333333333333,\"#9c179e\"],[0.4444444444444444,\"#bd3786\"],[0.5555555555555556,\"#d8576b\"],[0.6666666666666666,\"#ed7953\"],[0.7777777777777778,\"#fb9f3a\"],[0.8888888888888888,\"#fdca26\"],[1.0,\"#f0f921\"]],\"type\":\"contour\"}],\"heatmapgl\":[{\"colorbar\":{\"outlinewidth\":0,\"ticks\":\"\"},\"colorscale\":[[0.0,\"#0d0887\"],[0.1111111111111111,\"#46039f\"],[0.2222222222222222,\"#7201a8\"],[0.3333333333333333,\"#9c179e\"],[0.4444444444444444,\"#bd3786\"],[0.5555555555555556,\"#d8576b\"],[0.6666666666666666,\"#ed7953\"],[0.7777777777777778,\"#fb9f3a\"],[0.8888888888888888,\"#fdca26\"],[1.0,\"#f0f921\"]],\"type\":\"heatmapgl\"}],\"heatmap\":[{\"colorbar\":{\"outlinewidth\":0,\"ticks\":\"\"},\"colorscale\":[[0.0,\"#0d0887\"],[0.1111111111111111,\"#46039f\"],[0.2222222222222222,\"#7201a8\"],[0.3333333333333333,\"#9c179e\"],[0.4444444444444444,\"#bd3786\"],[0.5555555555555556,\"#d8576b\"],[0.6666666666666666,\"#ed7953\"],[0.7777777777777778,\"#fb9f3a\"],[0.8888888888888888,\"#fdca26\"],[1.0,\"#f0f921\"]],\"type\":\"heatmap\"}],\"histogram2dcontour\":[{\"colorbar\":{\"outlinewidth\":0,\"ticks\":\"\"},\"colorscale\":[[0.0,\"#0d0887\"],[0.1111111111111111,\"#46039f\"],[0.2222222222222222,\"#7201a8\"],[0.3333333333333333,\"#9c179e\"],[0.4444444444444444,\"#bd3786\"],[0.5555555555555556,\"#d8576b\"],[0.6666666666666666,\"#ed7953\"],[0.7777777777777778,\"#fb9f3a\"],[0.8888888888888888,\"#fdca26\"],[1.0,\"#f0f921\"]],\"type\":\"histogram2dcontour\"}],\"histogram2d\":[{\"colorbar\":{\"outlinewidth\":0,\"ticks\":\"\"},\"colorscale\":[[0.0,\"#0d0887\"],[0.1111111111111111,\"#46039f\"],[0.2222222222222222,\"#7201a8\"],[0.3333333333333333,\"#9c179e\"],[0.4444444444444444,\"#bd3786\"],[0.5555555555555556,\"#d8576b\"],[0.6666666666666666,\"#ed7953\"],[0.7777777777777778,\"#fb9f3a\"],[0.8888888888888888,\"#fdca26\"],[1.0,\"#f0f921\"]],\"type\":\"histogram2d\"}],\"histogram\":[{\"marker\":{\"pattern\":{\"fillmode\":\"overlay\",\"size\":10,\"solidity\":0.2}},\"type\":\"histogram\"}],\"mesh3d\":[{\"colorbar\":{\"outlinewidth\":0,\"ticks\":\"\"},\"type\":\"mesh3d\"}],\"parcoords\":[{\"line\":{\"colorbar\":{\"outlinewidth\":0,\"ticks\":\"\"}},\"type\":\"parcoords\"}],\"pie\":[{\"automargin\":true,\"type\":\"pie\"}],\"scatter3d\":[{\"line\":{\"colorbar\":{\"outlinewidth\":0,\"ticks\":\"\"}},\"marker\":{\"colorbar\":{\"outlinewidth\":0,\"ticks\":\"\"}},\"type\":\"scatter3d\"}],\"scattercarpet\":[{\"marker\":{\"colorbar\":{\"outlinewidth\":0,\"ticks\":\"\"}},\"type\":\"scattercarpet\"}],\"scattergeo\":[{\"marker\":{\"colorbar\":{\"outlinewidth\":0,\"ticks\":\"\"}},\"type\":\"scattergeo\"}],\"scattergl\":[{\"marker\":{\"colorbar\":{\"outlinewidth\":0,\"ticks\":\"\"}},\"type\":\"scattergl\"}],\"scattermapbox\":[{\"marker\":{\"colorbar\":{\"outlinewidth\":0,\"ticks\":\"\"}},\"type\":\"scattermapbox\"}],\"scatterpolargl\":[{\"marker\":{\"colorbar\":{\"outlinewidth\":0,\"ticks\":\"\"}},\"type\":\"scatterpolargl\"}],\"scatterpolar\":[{\"marker\":{\"colorbar\":{\"outlinewidth\":0,\"ticks\":\"\"}},\"type\":\"scatterpolar\"}],\"scatter\":[{\"fillpattern\":{\"fillmode\":\"overlay\",\"size\":10,\"solidity\":0.2},\"type\":\"scatter\"}],\"scatterternary\":[{\"marker\":{\"colorbar\":{\"outlinewidth\":0,\"ticks\":\"\"}},\"type\":\"scatterternary\"}],\"surface\":[{\"colorbar\":{\"outlinewidth\":0,\"ticks\":\"\"},\"colorscale\":[[0.0,\"#0d0887\"],[0.1111111111111111,\"#46039f\"],[0.2222222222222222,\"#7201a8\"],[0.3333333333333333,\"#9c179e\"],[0.4444444444444444,\"#bd3786\"],[0.5555555555555556,\"#d8576b\"],[0.6666666666666666,\"#ed7953\"],[0.7777777777777778,\"#fb9f3a\"],[0.8888888888888888,\"#fdca26\"],[1.0,\"#f0f921\"]],\"type\":\"surface\"}],\"table\":[{\"cells\":{\"fill\":{\"color\":\"#EBF0F8\"},\"line\":{\"color\":\"white\"}},\"header\":{\"fill\":{\"color\":\"#C8D4E3\"},\"line\":{\"color\":\"white\"}},\"type\":\"table\"}]},\"layout\":{\"annotationdefaults\":{\"arrowcolor\":\"#2a3f5f\",\"arrowhead\":0,\"arrowwidth\":1},\"autotypenumbers\":\"strict\",\"coloraxis\":{\"colorbar\":{\"outlinewidth\":0,\"ticks\":\"\"}},\"colorscale\":{\"diverging\":[[0,\"#8e0152\"],[0.1,\"#c51b7d\"],[0.2,\"#de77ae\"],[0.3,\"#f1b6da\"],[0.4,\"#fde0ef\"],[0.5,\"#f7f7f7\"],[0.6,\"#e6f5d0\"],[0.7,\"#b8e186\"],[0.8,\"#7fbc41\"],[0.9,\"#4d9221\"],[1,\"#276419\"]],\"sequential\":[[0.0,\"#0d0887\"],[0.1111111111111111,\"#46039f\"],[0.2222222222222222,\"#7201a8\"],[0.3333333333333333,\"#9c179e\"],[0.4444444444444444,\"#bd3786\"],[0.5555555555555556,\"#d8576b\"],[0.6666666666666666,\"#ed7953\"],[0.7777777777777778,\"#fb9f3a\"],[0.8888888888888888,\"#fdca26\"],[1.0,\"#f0f921\"]],\"sequentialminus\":[[0.0,\"#0d0887\"],[0.1111111111111111,\"#46039f\"],[0.2222222222222222,\"#7201a8\"],[0.3333333333333333,\"#9c179e\"],[0.4444444444444444,\"#bd3786\"],[0.5555555555555556,\"#d8576b\"],[0.6666666666666666,\"#ed7953\"],[0.7777777777777778,\"#fb9f3a\"],[0.8888888888888888,\"#fdca26\"],[1.0,\"#f0f921\"]]},\"colorway\":[\"#636efa\",\"#EF553B\",\"#00cc96\",\"#ab63fa\",\"#FFA15A\",\"#19d3f3\",\"#FF6692\",\"#B6E880\",\"#FF97FF\",\"#FECB52\"],\"font\":{\"color\":\"#2a3f5f\"},\"geo\":{\"bgcolor\":\"white\",\"lakecolor\":\"white\",\"landcolor\":\"#E5ECF6\",\"showlakes\":true,\"showland\":true,\"subunitcolor\":\"white\"},\"hoverlabel\":{\"align\":\"left\"},\"hovermode\":\"closest\",\"mapbox\":{\"style\":\"light\"},\"paper_bgcolor\":\"white\",\"plot_bgcolor\":\"#E5ECF6\",\"polar\":{\"angularaxis\":{\"gridcolor\":\"white\",\"linecolor\":\"white\",\"ticks\":\"\"},\"bgcolor\":\"#E5ECF6\",\"radialaxis\":{\"gridcolor\":\"white\",\"linecolor\":\"white\",\"ticks\":\"\"}},\"scene\":{\"xaxis\":{\"backgroundcolor\":\"#E5ECF6\",\"gridcolor\":\"white\",\"gridwidth\":2,\"linecolor\":\"white\",\"showbackground\":true,\"ticks\":\"\",\"zerolinecolor\":\"white\"},\"yaxis\":{\"backgroundcolor\":\"#E5ECF6\",\"gridcolor\":\"white\",\"gridwidth\":2,\"linecolor\":\"white\",\"showbackground\":true,\"ticks\":\"\",\"zerolinecolor\":\"white\"},\"zaxis\":{\"backgroundcolor\":\"#E5ECF6\",\"gridcolor\":\"white\",\"gridwidth\":2,\"linecolor\":\"white\",\"showbackground\":true,\"ticks\":\"\",\"zerolinecolor\":\"white\"}},\"shapedefaults\":{\"line\":{\"color\":\"#2a3f5f\"}},\"ternary\":{\"aaxis\":{\"gridcolor\":\"white\",\"linecolor\":\"white\",\"ticks\":\"\"},\"baxis\":{\"gridcolor\":\"white\",\"linecolor\":\"white\",\"ticks\":\"\"},\"bgcolor\":\"#E5ECF6\",\"caxis\":{\"gridcolor\":\"white\",\"linecolor\":\"white\",\"ticks\":\"\"}},\"title\":{\"x\":0.05},\"xaxis\":{\"automargin\":true,\"gridcolor\":\"white\",\"linecolor\":\"white\",\"ticks\":\"\",\"title\":{\"standoff\":15},\"zerolinecolor\":\"white\",\"zerolinewidth\":2},\"yaxis\":{\"automargin\":true,\"gridcolor\":\"white\",\"linecolor\":\"white\",\"ticks\":\"\",\"title\":{\"standoff\":15},\"zerolinecolor\":\"white\",\"zerolinewidth\":2}}},\"title\":{\"font\":{\"color\":\"#4D5663\"},\"text\":\"Fact I: Growth Rates Falling over Time\"},\"xaxis\":{\"gridcolor\":\"#E1E5ED\",\"showgrid\":true,\"tickfont\":{\"color\":\"#4D5663\"},\"title\":{\"font\":{\"color\":\"#4D5663\"},\"text\":\"Year\"},\"zerolinecolor\":\"#E1E5ED\"},\"yaxis\":{\"gridcolor\":\"#E1E5ED\",\"showgrid\":true,\"tickfont\":{\"color\":\"#4D5663\"},\"title\":{\"font\":{\"color\":\"#4D5663\"},\"text\":\"Population\"},\"zerolinecolor\":\"#E1E5ED\"}},                        {\"showLink\": true, \"linkText\": \"Export to plot.ly\", \"plotlyServerURL\": \"https://plot.ly\", \"responsive\": true}                    ).then(function(){\n",
       "                            \n",
       "var gd = document.getElementById('603f6d16-1001-4fda-880b-8a0a08ff6d5a');\n",
       "var x = new MutationObserver(function (mutations, observer) {{\n",
       "        var display = window.getComputedStyle(gd).display;\n",
       "        if (!display || display === 'none') {{\n",
       "            console.log([gd, 'removed!']);\n",
       "            Plotly.purge(gd);\n",
       "            observer.disconnect();\n",
       "        }}\n",
       "}});\n",
       "\n",
       "// Listen for the removal of the full notebook cells\n",
       "var notebookContainer = gd.closest('#notebook-container');\n",
       "if (notebookContainer) {{\n",
       "    x.observe(notebookContainer, {childList: true});\n",
       "}}\n",
       "\n",
       "// Listen for the clearing of the current output cell\n",
       "var outputEl = gd.closest('.output');\n",
       "if (outputEl) {{\n",
       "    x.observe(outputEl, {childList: true});\n",
       "}}\n",
       "\n",
       "                        })                };                });            </script>        </div>"
      ]
     },
     "metadata": {},
     "output_type": "display_data"
    }
   ],
   "source": [
    "# Useful arguments to pass include xTitle, yTitle, Title\n",
    "world.iplot(title=\"Fact I: Growth Rates Falling over Time\",xTitle='Year',yTitle='Population')"
   ]
  },
  {
   "cell_type": "markdown",
   "metadata": {},
   "source": [
    "##### Plotting Different Countries&rsquo; Population Growth Rates\n",
    "\n"
   ]
  },
  {
   "cell_type": "markdown",
   "metadata": {},
   "source": [
    "Globally, population growth has been basically linear over the last 60\n",
    " years.\n",
    "\n",
    "-   Increases by 1 billion about every 12 years.\n",
    "-   Implies *rate* of growth falling over time.\n",
    "\n",
    "How do population growth rates vary by country?\n",
    "\n"
   ]
  },
  {
   "cell_type": "code",
   "execution_count": 13,
   "metadata": {},
   "outputs": [],
   "source": [
    "# curious: what is the scale separating high, low, lower middle, upper middle... ? is it logarithmic? what differentiates LOW from LOW-Middle "
   ]
  },
  {
   "cell_type": "code",
   "execution_count": 14,
   "metadata": {},
   "outputs": [],
   "source": [
    "# countries are indexed by their GDP/cap NOW, not in the past. So this messes up the calibration "
   ]
  },
  {
   "cell_type": "markdown",
   "metadata": {},
   "source": [
    "##### Population Growth vs Per capita GDP\n",
    "\n"
   ]
  },
  {
   "cell_type": "markdown",
   "metadata": {},
   "source": [
    "Our second stylized fact was that there&rsquo;s an inverse association between\n",
    " income and population growth.  We&rsquo;ll investigate this fact here, \n",
    " constructing a scatter plot relating population growth rates to (log) GDP per capita.\n",
    "\n"
   ]
  },
  {
   "cell_type": "code",
   "execution_count": 15,
   "metadata": {},
   "outputs": [],
   "source": [
    "import numpy as np"
   ]
  },
  {
   "cell_type": "code",
   "execution_count": 16,
   "metadata": {},
   "outputs": [
    {
     "data": {
      "text/plain": [
       "id                 name\n",
       "-----------------  -------------------------------------------------------------------\n",
       "SH.DTH.0509        Number of deaths ages 5-9 years\n",
       "SH.DTH.0514        Number of deaths ages 5-14 years\n",
       "SH.DTH.1014        Number of deaths ages 10-14 years\n",
       "SH.DTH.1019        Number of deaths ages 10-19 years\n",
       "SH.DTH.1519        Number of deaths ages 15-19 years\n",
       "SH.DTH.2024        Number of deaths ages 20-24 years\n",
       "SH.DTH.IMRT        Number of infant deaths\n",
       "SH.DTH.IMRT.FE     Number of infant deaths, female\n",
       "SH.DTH.IMRT.MA     Number of infant deaths, male\n",
       "SH.DTH.MORT        Number of under-five deaths\n",
       "SH.DTH.MORT.FE     Number of under-five deaths, female\n",
       "SH.DTH.MORT.MA     Number of under-five deaths, male\n",
       "SH.DTH.NMRT        Number of neonatal deaths\n",
       "SH.DYN.0509        Probability of dying among children ages 5-9 years (per 1,000)\n",
       "SH.DYN.0514        Probability of dying at age 5-14 years (per 1,000 children age 5)\n",
       "SH.DYN.1014        Probability of dying among adolescents ages 10-14 years (per 1,000)\n",
       "SH.DYN.1019        Probability of dying among adolescents ages 10-19 years (per 1,000)\n",
       "SH.DYN.1519        Probability of dying among adolescents ages 15-19 years (per 1,000)\n",
       "SH.DYN.2024        Probability of dying among youth ages 20-24 years (per 1,000)\n",
       "SH.DYN.MORT        Mortality rate, under-5 (per 1,000 live births)\n",
       "SH.DYN.MORT.FE     Mortality rate, under-5, female (per 1,000 live births)\n",
       "SH.DYN.MORT.MA     Mortality rate, under-5, male (per 1,000 live births)\n",
       "SH.DYN.NMRT        Mortality rate, neonatal (per 1,000 live births)\n",
       "SM.POP.NETM        Net migration\n",
       "SP.DYN.AMRT.FE     Mortality rate, adult, female (per 1,000 female adults)\n",
       "SP.DYN.AMRT.MA     Mortality rate, adult, male (per 1,000 male adults)\n",
       "SP.DYN.CBRT.IN     Birth rate, crude (per 1,000 people)\n",
       "SP.DYN.CDRT.IN     Death rate, crude (per 1,000 people)\n",
       "SP.DYN.IMRT.FE.IN  Mortality rate, infant, female (per 1,000 live births)\n",
       "SP.DYN.IMRT.IN     Mortality rate, infant (per 1,000 live births)\n",
       "SP.DYN.IMRT.MA.IN  Mortality rate, infant, male (per 1,000 live births)\n",
       "SP.DYN.LE00.FE.IN  Life expectancy at birth, female (years)\n",
       "SP.DYN.LE00.IN     Life expectancy at birth, total (years)\n",
       "SP.DYN.LE00.MA.IN  Life expectancy at birth, male (years)\n",
       "SP.DYN.TFRT.IN     Fertility rate, total (births per woman)\n",
       "SP.POP.0004.FE     Population ages 00-04, female\n",
       "SP.POP.0004.FE.5Y  Population ages 00-04, female (% of female population)\n",
       "SP.POP.0004.MA     Population ages 00-04, male\n",
       "SP.POP.0004.MA.5Y  Population ages 00-04, male (% of male population)\n",
       "SP.POP.0014.FE.IN  Population ages 0-14, female\n",
       "SP.POP.0014.FE.ZS  Population ages 0-14, female (% of female population)\n",
       "SP.POP.0014.MA.IN  Population ages 0-14, male\n",
       "SP.POP.0014.MA.ZS  Population ages 0-14, male (% of male population)\n",
       "SP.POP.0014.TO     Population ages 0-14, total\n",
       "SP.POP.0014.TO.ZS  Population ages 0-14 (% of total population)\n",
       "SP.POP.0509.FE     Population ages 05-09, female\n",
       "SP.POP.0509.FE.5Y  Population ages 05-09, female (% of female population)\n",
       "SP.POP.0509.MA     Population ages 05-09, male\n",
       "SP.POP.0509.MA.5Y  Population ages 05-09, male (% of male population)\n",
       "SP.POP.1014.FE     Population ages 10-14, female\n",
       "SP.POP.1014.FE.5Y  Population ages 10-14, female (% of female population)\n",
       "SP.POP.1014.MA     Population ages 10-14, male\n",
       "SP.POP.1014.MA.5Y  Population ages 10-14, male (% of male population)\n",
       "SP.POP.1519.FE     Population ages 15-19, female\n",
       "SP.POP.1519.FE.5Y  Population ages 15-19, female (% of female population)\n",
       "SP.POP.1519.MA     Population ages 15-19, male\n",
       "SP.POP.1519.MA.5Y  Population ages 15-19, male (% of male population)\n",
       "SP.POP.1564.FE.IN  Population ages 15-64, female\n",
       "SP.POP.1564.FE.ZS  Population ages 15-64, female (% of female population)\n",
       "SP.POP.1564.MA.IN  Population ages 15-64, male\n",
       "SP.POP.1564.MA.ZS  Population ages 15-64, male (% of male population)\n",
       "SP.POP.1564.TO     Population ages 15-64, total\n",
       "SP.POP.1564.TO.ZS  Population ages 15-64 (% of total population)\n",
       "SP.POP.2024.FE     Population ages 20-24, female\n",
       "SP.POP.2024.FE.5Y  Population ages 20-24, female (% of female population)\n",
       "SP.POP.2024.MA     Population ages 20-24, male\n",
       "SP.POP.2024.MA.5Y  Population ages 20-24, male (% of male population)\n",
       "SP.POP.2529.FE     Population ages 25-29, female\n",
       "SP.POP.2529.FE.5Y  Population ages 25-29, female (% of female population)\n",
       "SP.POP.2529.MA     Population ages 25-29, male\n",
       "SP.POP.2529.MA.5Y  Population ages 25-29, male (% of male population)\n",
       "SP.POP.3034.FE     Population ages 30-34, female\n",
       "SP.POP.3034.FE.5Y  Population ages 30-34, female (% of female population)\n",
       "SP.POP.3034.MA     Population ages 30-34, male\n",
       "SP.POP.3034.MA.5Y  Population ages 30-34, male (% of male population)\n",
       "SP.POP.3539.FE     Population ages 35-39, female\n",
       "SP.POP.3539.FE.5Y  Population ages 35-39, female (% of female population)\n",
       "SP.POP.3539.MA     Population ages 35-39, male\n",
       "SP.POP.3539.MA.5Y  Population ages 35-39, male (% of male population)\n",
       "SP.POP.4044.FE     Population ages 40-44, female\n",
       "SP.POP.4044.FE.5Y  Population ages 40-44, female (% of female population)\n",
       "SP.POP.4044.MA     Population ages 40-44, male\n",
       "SP.POP.4044.MA.5Y  Population ages 40-44, male (% of male population)\n",
       "SP.POP.4549.FE     Population ages 45-49, female\n",
       "SP.POP.4549.FE.5Y  Population ages 45-49, female (% of female population)\n",
       "SP.POP.4549.MA     Population ages 45-49, male\n",
       "SP.POP.4549.MA.5Y  Population ages 45-49, male (% of male population)\n",
       "SP.POP.5054.FE     Population ages 50-54, female\n",
       "SP.POP.5054.FE.5Y  Population ages 50-54, female (% of female population)\n",
       "SP.POP.5054.MA     Population ages 50-54, male\n",
       "SP.POP.5054.MA.5Y  Population ages 50-54, male (% of male population)\n",
       "SP.POP.5559.FE     Population ages 55-59, female\n",
       "SP.POP.5559.FE.5Y  Population ages 55-59, female (% of female population)\n",
       "SP.POP.5559.MA     Population ages 55-59, male\n",
       "SP.POP.5559.MA.5Y  Population ages 55-59, male (% of male population)\n",
       "SP.POP.6064.FE     Population ages 60-64, female\n",
       "SP.POP.6064.FE.5Y  Population ages 60-64, female (% of female population)\n",
       "SP.POP.6064.MA     Population ages 60-64, male\n",
       "SP.POP.6064.MA.5Y  Population ages 60-64, male (% of male population)\n",
       "SP.POP.6569.FE     Population ages 65-69, female\n",
       "SP.POP.6569.FE.5Y  Population ages 65-69, female (% of female population)\n",
       "SP.POP.6569.MA     Population ages 65-69, male\n",
       "SP.POP.6569.MA.5Y  Population ages 65-69, male (% of male population)\n",
       "SP.POP.65UP.FE.IN  Population ages 65 and above, female\n",
       "SP.POP.65UP.FE.ZS  Population ages 65 and above, female (% of female population)\n",
       "SP.POP.65UP.MA.IN  Population ages 65 and above, male\n",
       "SP.POP.65UP.MA.ZS  Population ages 65 and above, male (% of male population)\n",
       "SP.POP.65UP.TO     Population ages 65 and above, total\n",
       "SP.POP.65UP.TO.ZS  Population ages 65 and above (% of total population)\n",
       "SP.POP.7074.FE     Population ages 70-74, female\n",
       "SP.POP.7074.FE.5Y  Population ages 70-74, female (% of female population)\n",
       "SP.POP.7074.MA     Population ages 70-74, male\n",
       "SP.POP.7074.MA.5Y  Population ages 70-74, male (% of male population)\n",
       "SP.POP.7579.FE     Population ages 75-79, female\n",
       "SP.POP.7579.FE.5Y  Population ages 75-79, female (% of female population)\n",
       "SP.POP.7579.MA     Population ages 75-79, male\n",
       "SP.POP.7579.MA.5Y  Population ages 75-79, male (% of male population)\n",
       "SP.POP.80UP.FE     Population ages 80 and above, female\n",
       "SP.POP.80UP.FE.5Y  Population ages 80 and above, female (% of female population)\n",
       "SP.POP.80UP.MA     Population ages 80 and above, male\n",
       "SP.POP.80UP.MA.5Y  Population ages 80 and above, male (% of male population)\n",
       "SP.POP.AG00.FE.IN  Age population, age 00, female, interpolated\n",
       "SP.POP.AG00.MA.IN  Age population, age 00, male, interpolated\n",
       "SP.POP.AG01.FE.IN  Age population, age 01, female, interpolated\n",
       "SP.POP.AG01.MA.IN  Age population, age 01, male, interpolated\n",
       "SP.POP.AG02.FE.IN  Age population, age 02, female, interpolated\n",
       "SP.POP.AG02.MA.IN  Age population, age 02, male, interpolated\n",
       "SP.POP.AG03.FE.IN  Age population, age 03, female, interpolated\n",
       "SP.POP.AG03.MA.IN  Age population, age 03, male, interpolated\n",
       "SP.POP.AG04.FE.IN  Age population, age 04, female, interpolated\n",
       "SP.POP.AG04.MA.IN  Age population, age 04, male, interpolated\n",
       "SP.POP.AG05.FE.IN  Age population, age 05, female, interpolated\n",
       "SP.POP.AG05.MA.IN  Age population, age 05, male, interpolated\n",
       "SP.POP.AG06.FE.IN  Age population, age 06, female, interpolated\n",
       "SP.POP.AG06.MA.IN  Age population, age 06, male, interpolated\n",
       "SP.POP.AG07.FE.IN  Age population, age 07, female, interpolated\n",
       "SP.POP.AG07.MA.IN  Age population, age 07, male, interpolated\n",
       "SP.POP.AG08.FE.IN  Age population, age 08, female, interpolated\n",
       "SP.POP.AG08.MA.IN  Age population, age 08, male, interpolated\n",
       "SP.POP.AG09.FE.IN  Age population, age 09, female, interpolated\n",
       "SP.POP.AG09.MA.IN  Age population, age 09, male, interpolated\n",
       "SP.POP.AG10.FE.IN  Age population, age 10, female, interpolated\n",
       "SP.POP.AG10.MA.IN  Age population, age 10, male, interpolated\n",
       "SP.POP.AG11.FE.IN  Age population, age 11, female, interpolated\n",
       "SP.POP.AG11.MA.IN  Age population, age 11, male, interpolated\n",
       "SP.POP.AG12.FE.IN  Age population, age 12, female, interpolated\n",
       "SP.POP.AG12.MA.IN  Age population, age 12, male, interpolated\n",
       "SP.POP.AG13.FE.IN  Age population, age 13, female, interpolated\n",
       "SP.POP.AG13.MA.IN  Age population, age 13, male, interpolated\n",
       "SP.POP.AG14.FE.IN  Age population, age 14, female, interpolated\n",
       "SP.POP.AG14.MA.IN  Age population, age 14, male, interpolated\n",
       "SP.POP.AG15.FE.IN  Age population, age 15, female, interpolated\n",
       "SP.POP.AG15.MA.IN  Age population, age 15, male, interpolated\n",
       "SP.POP.AG16.FE.IN  Age population, age 16, female, interpolated\n",
       "SP.POP.AG16.MA.IN  Age population, age 16, male, interpolated\n",
       "SP.POP.AG17.FE.IN  Age population, age 17, female, interpolated\n",
       "SP.POP.AG17.MA.IN  Age population, age 17, male, interpolated\n",
       "SP.POP.AG18.FE.IN  Age population, age 18, female, interpolated\n",
       "SP.POP.AG18.MA.IN  Age population, age 18, male, interpolated\n",
       "SP.POP.AG19.FE.IN  Age population, age 19, female, interpolated\n",
       "SP.POP.AG19.MA.IN  Age population, age 19, male, interpolated\n",
       "SP.POP.AG20.FE.IN  Age population, age 20, female, interpolated\n",
       "SP.POP.AG20.MA.IN  Age population, age 20, male, interpolated\n",
       "SP.POP.AG21.FE.IN  Age population, age 21, female, interpolated\n",
       "SP.POP.AG21.MA.IN  Age population, age 21, male, interpolated\n",
       "SP.POP.AG22.FE.IN  Age population, age 22, female, interpolated\n",
       "SP.POP.AG22.MA.IN  Age population, age 22, male, interpolated\n",
       "SP.POP.AG23.FE.IN  Age population, age 23, female, interpolated\n",
       "SP.POP.AG23.MA.IN  Age population, age 23, male, interpolated\n",
       "SP.POP.AG24.FE.IN  Age population, age 24, female, interpolated\n",
       "SP.POP.AG24.MA.IN  Age population, age 24, male, interpolated\n",
       "SP.POP.AG25.FE.IN  Age population, age 25, female, interpolated\n",
       "SP.POP.AG25.MA.IN  Age population, age 25, male, interpolated\n",
       "SP.POP.BRTH.MF     Sex ratio at birth (male births per female births)\n",
       "SP.POP.DPND        Age dependency ratio (% of working-age population)\n",
       "SP.POP.DPND.OL     Age dependency ratio, old (% of working-age population)\n",
       "SP.POP.DPND.YG     Age dependency ratio, young (% of working-age population)\n",
       "SP.POP.GROW        Population growth (annual %)\n",
       "SP.POP.TOTL        Population, total\n",
       "SP.POP.TOTL.FE.IN  Population, female\n",
       "SP.POP.TOTL.FE.ZS  Population, female (% of total population)\n",
       "SP.POP.TOTL.MA.IN  Population, male\n",
       "SP.POP.TOTL.MA.ZS  Population, male (% of total population)\n",
       "SP.RUR.TOTL        Rural population\n",
       "SP.RUR.TOTL.ZG     Rural population growth (annual %)\n",
       "SP.RUR.TOTL.ZS     Rural population (% of total population)\n",
       "SP.URB.GROW        Urban population growth (annual %)\n",
       "SP.URB.TOTL        Urban population\n",
       "SP.URB.TOTL.IN.ZS  Urban population (% of total population)"
      ]
     },
     "execution_count": 16,
     "metadata": {},
     "output_type": "execute_result"
    }
   ],
   "source": [
    "wbdata.get_indicator(source=SOURCE)"
   ]
  },
  {
   "cell_type": "code",
   "execution_count": 17,
   "metadata": {},
   "outputs": [
    {
     "data": {
      "text/html": [
       "<div>\n",
       "<style scoped>\n",
       "    .dataframe tbody tr th:only-of-type {\n",
       "        vertical-align: middle;\n",
       "    }\n",
       "\n",
       "    .dataframe tbody tr th {\n",
       "        vertical-align: top;\n",
       "    }\n",
       "\n",
       "    .dataframe thead th {\n",
       "        text-align: right;\n",
       "    }\n",
       "</style>\n",
       "<table border=\"1\" class=\"dataframe\">\n",
       "  <thead>\n",
       "    <tr style=\"text-align: right;\">\n",
       "      <th></th>\n",
       "      <th></th>\n",
       "      <th>GDP per capita</th>\n",
       "      <th>Death Probability (5-9)</th>\n",
       "      <th>Death Probability (20-24)</th>\n",
       "      <th>Total Fertility Rate</th>\n",
       "      <th>Population Growth Rate</th>\n",
       "      <th>Male Mortality</th>\n",
       "      <th>Female Mortality</th>\n",
       "      <th>% Adult Female</th>\n",
       "      <th>% Female</th>\n",
       "      <th>Net Migration</th>\n",
       "      <th>Total Population</th>\n",
       "    </tr>\n",
       "    <tr>\n",
       "      <th>country</th>\n",
       "      <th>date</th>\n",
       "      <th></th>\n",
       "      <th></th>\n",
       "      <th></th>\n",
       "      <th></th>\n",
       "      <th></th>\n",
       "      <th></th>\n",
       "      <th></th>\n",
       "      <th></th>\n",
       "      <th></th>\n",
       "      <th></th>\n",
       "      <th></th>\n",
       "    </tr>\n",
       "  </thead>\n",
       "  <tbody>\n",
       "    <tr>\n",
       "      <th rowspan=\"5\" valign=\"top\">Africa Eastern and Southern</th>\n",
       "      <th>2022</th>\n",
       "      <td>1644.062829</td>\n",
       "      <td>NaN</td>\n",
       "      <td>NaN</td>\n",
       "      <td>NaN</td>\n",
       "      <td>2.543757</td>\n",
       "      <td>NaN</td>\n",
       "      <td>NaN</td>\n",
       "      <td>56.014300</td>\n",
       "      <td>50.472347</td>\n",
       "      <td>NaN</td>\n",
       "      <td>720859132.0</td>\n",
       "    </tr>\n",
       "    <tr>\n",
       "      <th>2021</th>\n",
       "      <td>1545.613215</td>\n",
       "      <td>15.237635</td>\n",
       "      <td>13.303625</td>\n",
       "      <td>4.354709</td>\n",
       "      <td>2.607472</td>\n",
       "      <td>332.823489</td>\n",
       "      <td>237.602676</td>\n",
       "      <td>55.774440</td>\n",
       "      <td>50.478916</td>\n",
       "      <td>-179444.0</td>\n",
       "      <td>702977106.0</td>\n",
       "    </tr>\n",
       "    <tr>\n",
       "      <th>2020</th>\n",
       "      <td>1355.805923</td>\n",
       "      <td>15.549840</td>\n",
       "      <td>13.464270</td>\n",
       "      <td>4.416900</td>\n",
       "      <td>2.678184</td>\n",
       "      <td>311.485254</td>\n",
       "      <td>224.232001</td>\n",
       "      <td>55.549322</td>\n",
       "      <td>50.486544</td>\n",
       "      <td>-48955.0</td>\n",
       "      <td>685112979.0</td>\n",
       "    </tr>\n",
       "    <tr>\n",
       "      <th>2019</th>\n",
       "      <td>1507.982881</td>\n",
       "      <td>15.878293</td>\n",
       "      <td>13.663853</td>\n",
       "      <td>4.482898</td>\n",
       "      <td>2.691134</td>\n",
       "      <td>302.772370</td>\n",
       "      <td>218.643251</td>\n",
       "      <td>55.348700</td>\n",
       "      <td>50.495993</td>\n",
       "      <td>-187410.0</td>\n",
       "      <td>667242986.0</td>\n",
       "    </tr>\n",
       "    <tr>\n",
       "      <th>2018</th>\n",
       "      <td>1558.307482</td>\n",
       "      <td>16.214853</td>\n",
       "      <td>13.879416</td>\n",
       "      <td>4.527705</td>\n",
       "      <td>2.688371</td>\n",
       "      <td>309.165595</td>\n",
       "      <td>224.119316</td>\n",
       "      <td>55.174578</td>\n",
       "      <td>50.504887</td>\n",
       "      <td>-366105.0</td>\n",
       "      <td>649757148.0</td>\n",
       "    </tr>\n",
       "    <tr>\n",
       "      <th>...</th>\n",
       "      <th>...</th>\n",
       "      <td>...</td>\n",
       "      <td>...</td>\n",
       "      <td>...</td>\n",
       "      <td>...</td>\n",
       "      <td>...</td>\n",
       "      <td>...</td>\n",
       "      <td>...</td>\n",
       "      <td>...</td>\n",
       "      <td>...</td>\n",
       "      <td>...</td>\n",
       "      <td>...</td>\n",
       "    </tr>\n",
       "    <tr>\n",
       "      <th rowspan=\"5\" valign=\"top\">Zimbabwe</th>\n",
       "      <th>1964</th>\n",
       "      <td>282.376856</td>\n",
       "      <td>NaN</td>\n",
       "      <td>NaN</td>\n",
       "      <td>7.261000</td>\n",
       "      <td>3.119878</td>\n",
       "      <td>358.796000</td>\n",
       "      <td>289.764000</td>\n",
       "      <td>48.293704</td>\n",
       "      <td>50.592112</td>\n",
       "      <td>-10064.0</td>\n",
       "      <td>4310332.0</td>\n",
       "    </tr>\n",
       "    <tr>\n",
       "      <th>1963</th>\n",
       "      <td>277.532515</td>\n",
       "      <td>NaN</td>\n",
       "      <td>NaN</td>\n",
       "      <td>7.253000</td>\n",
       "      <td>3.115408</td>\n",
       "      <td>361.354000</td>\n",
       "      <td>292.298000</td>\n",
       "      <td>48.477738</td>\n",
       "      <td>50.571874</td>\n",
       "      <td>-9369.0</td>\n",
       "      <td>4177931.0</td>\n",
       "    </tr>\n",
       "    <tr>\n",
       "      <th>1962</th>\n",
       "      <td>275.966139</td>\n",
       "      <td>NaN</td>\n",
       "      <td>NaN</td>\n",
       "      <td>7.255000</td>\n",
       "      <td>3.105320</td>\n",
       "      <td>366.062000</td>\n",
       "      <td>295.259000</td>\n",
       "      <td>48.906566</td>\n",
       "      <td>50.550845</td>\n",
       "      <td>-8931.0</td>\n",
       "      <td>4049778.0</td>\n",
       "    </tr>\n",
       "    <tr>\n",
       "      <th>1961</th>\n",
       "      <td>279.332656</td>\n",
       "      <td>NaN</td>\n",
       "      <td>NaN</td>\n",
       "      <td>7.233000</td>\n",
       "      <td>3.094865</td>\n",
       "      <td>369.918000</td>\n",
       "      <td>298.708000</td>\n",
       "      <td>49.274670</td>\n",
       "      <td>50.528305</td>\n",
       "      <td>-8582.0</td>\n",
       "      <td>3925952.0</td>\n",
       "    </tr>\n",
       "    <tr>\n",
       "      <th>1960</th>\n",
       "      <td>276.643363</td>\n",
       "      <td>NaN</td>\n",
       "      <td>NaN</td>\n",
       "      <td>7.220000</td>\n",
       "      <td>NaN</td>\n",
       "      <td>374.000000</td>\n",
       "      <td>298.765000</td>\n",
       "      <td>49.607951</td>\n",
       "      <td>50.503874</td>\n",
       "      <td>-8256.0</td>\n",
       "      <td>3806310.0</td>\n",
       "    </tr>\n",
       "  </tbody>\n",
       "</table>\n",
       "<p>16758 rows × 11 columns</p>\n",
       "</div>"
      ],
      "text/plain": [
       "                                  GDP per capita  Death Probability (5-9)  \\\n",
       "country                     date                                            \n",
       "Africa Eastern and Southern 2022     1644.062829                      NaN   \n",
       "                            2021     1545.613215                15.237635   \n",
       "                            2020     1355.805923                15.549840   \n",
       "                            2019     1507.982881                15.878293   \n",
       "                            2018     1558.307482                16.214853   \n",
       "...                                          ...                      ...   \n",
       "Zimbabwe                    1964      282.376856                      NaN   \n",
       "                            1963      277.532515                      NaN   \n",
       "                            1962      275.966139                      NaN   \n",
       "                            1961      279.332656                      NaN   \n",
       "                            1960      276.643363                      NaN   \n",
       "\n",
       "                                  Death Probability (20-24)  \\\n",
       "country                     date                              \n",
       "Africa Eastern and Southern 2022                        NaN   \n",
       "                            2021                  13.303625   \n",
       "                            2020                  13.464270   \n",
       "                            2019                  13.663853   \n",
       "                            2018                  13.879416   \n",
       "...                                                     ...   \n",
       "Zimbabwe                    1964                        NaN   \n",
       "                            1963                        NaN   \n",
       "                            1962                        NaN   \n",
       "                            1961                        NaN   \n",
       "                            1960                        NaN   \n",
       "\n",
       "                                  Total Fertility Rate  \\\n",
       "country                     date                         \n",
       "Africa Eastern and Southern 2022                   NaN   \n",
       "                            2021              4.354709   \n",
       "                            2020              4.416900   \n",
       "                            2019              4.482898   \n",
       "                            2018              4.527705   \n",
       "...                                                ...   \n",
       "Zimbabwe                    1964              7.261000   \n",
       "                            1963              7.253000   \n",
       "                            1962              7.255000   \n",
       "                            1961              7.233000   \n",
       "                            1960              7.220000   \n",
       "\n",
       "                                  Population Growth Rate  Male Mortality  \\\n",
       "country                     date                                           \n",
       "Africa Eastern and Southern 2022                2.543757             NaN   \n",
       "                            2021                2.607472      332.823489   \n",
       "                            2020                2.678184      311.485254   \n",
       "                            2019                2.691134      302.772370   \n",
       "                            2018                2.688371      309.165595   \n",
       "...                                                  ...             ...   \n",
       "Zimbabwe                    1964                3.119878      358.796000   \n",
       "                            1963                3.115408      361.354000   \n",
       "                            1962                3.105320      366.062000   \n",
       "                            1961                3.094865      369.918000   \n",
       "                            1960                     NaN      374.000000   \n",
       "\n",
       "                                  Female Mortality  % Adult Female   % Female  \\\n",
       "country                     date                                                \n",
       "Africa Eastern and Southern 2022               NaN       56.014300  50.472347   \n",
       "                            2021        237.602676       55.774440  50.478916   \n",
       "                            2020        224.232001       55.549322  50.486544   \n",
       "                            2019        218.643251       55.348700  50.495993   \n",
       "                            2018        224.119316       55.174578  50.504887   \n",
       "...                                            ...             ...        ...   \n",
       "Zimbabwe                    1964        289.764000       48.293704  50.592112   \n",
       "                            1963        292.298000       48.477738  50.571874   \n",
       "                            1962        295.259000       48.906566  50.550845   \n",
       "                            1961        298.708000       49.274670  50.528305   \n",
       "                            1960        298.765000       49.607951  50.503874   \n",
       "\n",
       "                                  Net Migration  Total Population  \n",
       "country                     date                                   \n",
       "Africa Eastern and Southern 2022            NaN       720859132.0  \n",
       "                            2021      -179444.0       702977106.0  \n",
       "                            2020       -48955.0       685112979.0  \n",
       "                            2019      -187410.0       667242986.0  \n",
       "                            2018      -366105.0       649757148.0  \n",
       "...                                         ...               ...  \n",
       "Zimbabwe                    1964       -10064.0         4310332.0  \n",
       "                            1963        -9369.0         4177931.0  \n",
       "                            1962        -8931.0         4049778.0  \n",
       "                            1961        -8582.0         3925952.0  \n",
       "                            1960        -8256.0         3806310.0  \n",
       "\n",
       "[16758 rows x 11 columns]"
      ]
     },
     "execution_count": 17,
     "metadata": {},
     "output_type": "execute_result"
    }
   ],
   "source": [
    "indicators = {\"NY.GDP.PCAP.CD\":\"GDP per capita\", \n",
    "              \"SH.DYN.1019\": \"Death Probability (5-9)\",\n",
    "              \"SH.DYN.2024\": 'Death Probability (20-24)',\n",
    "              \"SP.DYN.TFRT.IN\":\"Total Fertility Rate\",\n",
    "              \"SP.POP.GROW\":\"Population Growth Rate\",\n",
    "              \"SP.DYN.AMRT.MA\":\"Male Mortality\",\n",
    "              \"SP.DYN.AMRT.FE\":\"Female Mortality\",\n",
    "              \"SP.POP.1564.FE.ZS\":\"% Adult Female\",\n",
    "              \"SP.POP.TOTL.FE.ZS\":\"% Female\", \n",
    "              \"SM.POP.NETM\": \"Net Migration\", \n",
    "              \"SP.POP.TOTL\": \"Total Population\"}\n",
    "\n",
    "data = wbdata.get_dataframe(indicators)\n",
    "\n",
    "# Make years ints instead of strings ** SO THAT YOU CAN USE THEM AS THE INDEX (more easily?) ** \n",
    "data.reset_index(inplace=True)\n",
    "data['date'] = data['date'].astype(int)\n",
    "data.set_index(['country','date'],inplace=True)\n",
    "data"
   ]
  },
  {
   "cell_type": "markdown",
   "metadata": {},
   "source": [
    "### Clean Up Data"
   ]
  },
  {
   "cell_type": "code",
   "execution_count": 18,
   "metadata": {},
   "outputs": [],
   "source": [
    "# in the table, we have both negative and positive values for migration. \n",
    "# Positive means people came to a country, negative means people left. \n",
    "# since we're interested in why people are forced to migrate, \n",
    "# we only want info for the ones that have \"negative migration.\"  \n",
    "\n",
    "mig_away = data[data['Net Migration'] < 0]"
   ]
  },
  {
   "cell_type": "code",
   "execution_count": 19,
   "metadata": {},
   "outputs": [],
   "source": [
    "# take the absolute value for graphing purposes \n",
    "# (even if we can think about it in magnitudes, keeping the \n",
    "# negatives would end up being visually confusing) \n",
    "\n",
    "mig_away['Net Migration'] = mig_away['Net Migration'].abs()"
   ]
  },
  {
   "cell_type": "code",
   "execution_count": 20,
   "metadata": {},
   "outputs": [],
   "source": [
    "# getting rid of the \"NaN\" values. \n",
    "# NOTE: this command only drops the value that cannot be represented, \n",
    "# but it RETAINS the index (what the table is \"organized by,\" which shows \n",
    "# up as the leftmost bolded column) which is why your shit doesn't get fucked up\n",
    "# and you can still plot things accurately – for example, even if your data \n",
    "# for the year 2017 is unreadable, it still keeps 2017 on the x-axis. \n",
    "\n",
    "mig_away = mig_away.replace([np.inf, -np.inf], np.nan).dropna(subset=['GDP per capita', 'Death Probability (5-9)',\n",
    "           'Death Probability (20-24)', 'Total Fertility Rate', 'Population Growth Rate', 'Male Mortality', 'Female Mortality'])"
   ]
  },
  {
   "cell_type": "code",
   "execution_count": 21,
   "metadata": {},
   "outputs": [],
   "source": [
    "# for statistics purposes, the \"net migration\" means nothing to us. \n",
    "# two countries could have the same intensity of crisis causing people \n",
    "# to migrate, but since one country can be much bigger than another one, \n",
    "# we can't compare those numbers meaningfully. \n",
    "# dividing it by population, we give it context: \n",
    "\n",
    "# per person in that country, how many are migrating? So, divide the number by the \n",
    "# population to make a new variable (and column), just write the dataframe name, bracket \n",
    "# and '' the new variable's name \n",
    "\n",
    "mig_away['Migration per Capita'] = mig_away['Net Migration']/mig_away['Total Population']"
   ]
  },
  {
   "cell_type": "code",
   "execution_count": 22,
   "metadata": {},
   "outputs": [
    {
     "data": {
      "text/html": [
       "<div>\n",
       "<style scoped>\n",
       "    .dataframe tbody tr th:only-of-type {\n",
       "        vertical-align: middle;\n",
       "    }\n",
       "\n",
       "    .dataframe tbody tr th {\n",
       "        vertical-align: top;\n",
       "    }\n",
       "\n",
       "    .dataframe thead th {\n",
       "        text-align: right;\n",
       "    }\n",
       "</style>\n",
       "<table border=\"1\" class=\"dataframe\">\n",
       "  <thead>\n",
       "    <tr style=\"text-align: right;\">\n",
       "      <th></th>\n",
       "      <th></th>\n",
       "      <th>GDP per capita</th>\n",
       "      <th>Death Probability (5-9)</th>\n",
       "      <th>Death Probability (20-24)</th>\n",
       "      <th>Total Fertility Rate</th>\n",
       "      <th>Population Growth Rate</th>\n",
       "      <th>Male Mortality</th>\n",
       "      <th>Female Mortality</th>\n",
       "      <th>% Adult Female</th>\n",
       "      <th>% Female</th>\n",
       "      <th>Net Migration</th>\n",
       "      <th>Total Population</th>\n",
       "      <th>Migration per Capita</th>\n",
       "      <th>Migration Rate</th>\n",
       "    </tr>\n",
       "    <tr>\n",
       "      <th>country</th>\n",
       "      <th>date</th>\n",
       "      <th></th>\n",
       "      <th></th>\n",
       "      <th></th>\n",
       "      <th></th>\n",
       "      <th></th>\n",
       "      <th></th>\n",
       "      <th></th>\n",
       "      <th></th>\n",
       "      <th></th>\n",
       "      <th></th>\n",
       "      <th></th>\n",
       "      <th></th>\n",
       "      <th></th>\n",
       "    </tr>\n",
       "  </thead>\n",
       "  <tbody>\n",
       "    <tr>\n",
       "      <th rowspan=\"5\" valign=\"top\">Africa Eastern and Southern</th>\n",
       "      <th>2021</th>\n",
       "      <td>1545.613215</td>\n",
       "      <td>15.237635</td>\n",
       "      <td>13.303625</td>\n",
       "      <td>4.354709</td>\n",
       "      <td>2.607472</td>\n",
       "      <td>332.823489</td>\n",
       "      <td>237.602676</td>\n",
       "      <td>55.774440</td>\n",
       "      <td>50.478916</td>\n",
       "      <td>179444.0</td>\n",
       "      <td>702977106.0</td>\n",
       "      <td>0.000255</td>\n",
       "      <td>0.025526</td>\n",
       "    </tr>\n",
       "    <tr>\n",
       "      <th>2020</th>\n",
       "      <td>1355.805923</td>\n",
       "      <td>15.549840</td>\n",
       "      <td>13.464270</td>\n",
       "      <td>4.416900</td>\n",
       "      <td>2.678184</td>\n",
       "      <td>311.485254</td>\n",
       "      <td>224.232001</td>\n",
       "      <td>55.549322</td>\n",
       "      <td>50.486544</td>\n",
       "      <td>48955.0</td>\n",
       "      <td>685112979.0</td>\n",
       "      <td>0.000071</td>\n",
       "      <td>0.007146</td>\n",
       "    </tr>\n",
       "    <tr>\n",
       "      <th>2019</th>\n",
       "      <td>1507.982881</td>\n",
       "      <td>15.878293</td>\n",
       "      <td>13.663853</td>\n",
       "      <td>4.482898</td>\n",
       "      <td>2.691134</td>\n",
       "      <td>302.772370</td>\n",
       "      <td>218.643251</td>\n",
       "      <td>55.348700</td>\n",
       "      <td>50.495993</td>\n",
       "      <td>187410.0</td>\n",
       "      <td>667242986.0</td>\n",
       "      <td>0.000281</td>\n",
       "      <td>0.028087</td>\n",
       "    </tr>\n",
       "    <tr>\n",
       "      <th>2018</th>\n",
       "      <td>1558.307482</td>\n",
       "      <td>16.214853</td>\n",
       "      <td>13.879416</td>\n",
       "      <td>4.527705</td>\n",
       "      <td>2.688371</td>\n",
       "      <td>309.165595</td>\n",
       "      <td>224.119316</td>\n",
       "      <td>55.174578</td>\n",
       "      <td>50.504887</td>\n",
       "      <td>366105.0</td>\n",
       "      <td>649757148.0</td>\n",
       "      <td>0.000563</td>\n",
       "      <td>0.056345</td>\n",
       "    </tr>\n",
       "    <tr>\n",
       "      <th>2017</th>\n",
       "      <td>1625.286236</td>\n",
       "      <td>16.545213</td>\n",
       "      <td>14.129777</td>\n",
       "      <td>4.570409</td>\n",
       "      <td>2.655672</td>\n",
       "      <td>314.493882</td>\n",
       "      <td>231.688216</td>\n",
       "      <td>55.018897</td>\n",
       "      <td>50.515859</td>\n",
       "      <td>343075.0</td>\n",
       "      <td>632746570.0</td>\n",
       "      <td>0.000542</td>\n",
       "      <td>0.054220</td>\n",
       "    </tr>\n",
       "    <tr>\n",
       "      <th>...</th>\n",
       "      <th>...</th>\n",
       "      <td>...</td>\n",
       "      <td>...</td>\n",
       "      <td>...</td>\n",
       "      <td>...</td>\n",
       "      <td>...</td>\n",
       "      <td>...</td>\n",
       "      <td>...</td>\n",
       "      <td>...</td>\n",
       "      <td>...</td>\n",
       "      <td>...</td>\n",
       "      <td>...</td>\n",
       "      <td>...</td>\n",
       "      <td>...</td>\n",
       "    </tr>\n",
       "    <tr>\n",
       "      <th rowspan=\"5\" valign=\"top\">Zimbabwe</th>\n",
       "      <th>1997</th>\n",
       "      <td>750.683909</td>\n",
       "      <td>15.900000</td>\n",
       "      <td>22.600000</td>\n",
       "      <td>4.063000</td>\n",
       "      <td>1.634689</td>\n",
       "      <td>652.455000</td>\n",
       "      <td>549.188000</td>\n",
       "      <td>53.854436</td>\n",
       "      <td>52.436030</td>\n",
       "      <td>36050.0</td>\n",
       "      <td>11362401.0</td>\n",
       "      <td>0.003173</td>\n",
       "      <td>0.317274</td>\n",
       "    </tr>\n",
       "    <tr>\n",
       "      <th>1996</th>\n",
       "      <td>765.165124</td>\n",
       "      <td>15.400000</td>\n",
       "      <td>21.600000</td>\n",
       "      <td>4.109000</td>\n",
       "      <td>1.660946</td>\n",
       "      <td>622.404000</td>\n",
       "      <td>524.835000</td>\n",
       "      <td>52.848675</td>\n",
       "      <td>52.437854</td>\n",
       "      <td>34438.0</td>\n",
       "      <td>11178171.0</td>\n",
       "      <td>0.003081</td>\n",
       "      <td>0.308083</td>\n",
       "    </tr>\n",
       "    <tr>\n",
       "      <th>1995</th>\n",
       "      <td>646.829560</td>\n",
       "      <td>14.900000</td>\n",
       "      <td>20.500000</td>\n",
       "      <td>4.154000</td>\n",
       "      <td>1.239656</td>\n",
       "      <td>596.056000</td>\n",
       "      <td>476.227000</td>\n",
       "      <td>51.884793</td>\n",
       "      <td>52.438908</td>\n",
       "      <td>32961.0</td>\n",
       "      <td>10994041.0</td>\n",
       "      <td>0.002998</td>\n",
       "      <td>0.299808</td>\n",
       "    </tr>\n",
       "    <tr>\n",
       "      <th>1994</th>\n",
       "      <td>634.582617</td>\n",
       "      <td>14.400000</td>\n",
       "      <td>19.200000</td>\n",
       "      <td>4.270000</td>\n",
       "      <td>0.588137</td>\n",
       "      <td>544.146000</td>\n",
       "      <td>427.168000</td>\n",
       "      <td>51.142296</td>\n",
       "      <td>52.387676</td>\n",
       "      <td>144401.0</td>\n",
       "      <td>10858594.0</td>\n",
       "      <td>0.013298</td>\n",
       "      <td>1.329831</td>\n",
       "    </tr>\n",
       "    <tr>\n",
       "      <th>1993</th>\n",
       "      <td>608.046610</td>\n",
       "      <td>13.800000</td>\n",
       "      <td>18.000000</td>\n",
       "      <td>4.386000</td>\n",
       "      <td>1.431392</td>\n",
       "      <td>500.799000</td>\n",
       "      <td>384.244000</td>\n",
       "      <td>50.622043</td>\n",
       "      <td>52.260999</td>\n",
       "      <td>201588.0</td>\n",
       "      <td>10794918.0</td>\n",
       "      <td>0.018674</td>\n",
       "      <td>1.867434</td>\n",
       "    </tr>\n",
       "  </tbody>\n",
       "</table>\n",
       "<p>4351 rows × 13 columns</p>\n",
       "</div>"
      ],
      "text/plain": [
       "                                  GDP per capita  Death Probability (5-9)  \\\n",
       "country                     date                                            \n",
       "Africa Eastern and Southern 2021     1545.613215                15.237635   \n",
       "                            2020     1355.805923                15.549840   \n",
       "                            2019     1507.982881                15.878293   \n",
       "                            2018     1558.307482                16.214853   \n",
       "                            2017     1625.286236                16.545213   \n",
       "...                                          ...                      ...   \n",
       "Zimbabwe                    1997      750.683909                15.900000   \n",
       "                            1996      765.165124                15.400000   \n",
       "                            1995      646.829560                14.900000   \n",
       "                            1994      634.582617                14.400000   \n",
       "                            1993      608.046610                13.800000   \n",
       "\n",
       "                                  Death Probability (20-24)  \\\n",
       "country                     date                              \n",
       "Africa Eastern and Southern 2021                  13.303625   \n",
       "                            2020                  13.464270   \n",
       "                            2019                  13.663853   \n",
       "                            2018                  13.879416   \n",
       "                            2017                  14.129777   \n",
       "...                                                     ...   \n",
       "Zimbabwe                    1997                  22.600000   \n",
       "                            1996                  21.600000   \n",
       "                            1995                  20.500000   \n",
       "                            1994                  19.200000   \n",
       "                            1993                  18.000000   \n",
       "\n",
       "                                  Total Fertility Rate  \\\n",
       "country                     date                         \n",
       "Africa Eastern and Southern 2021              4.354709   \n",
       "                            2020              4.416900   \n",
       "                            2019              4.482898   \n",
       "                            2018              4.527705   \n",
       "                            2017              4.570409   \n",
       "...                                                ...   \n",
       "Zimbabwe                    1997              4.063000   \n",
       "                            1996              4.109000   \n",
       "                            1995              4.154000   \n",
       "                            1994              4.270000   \n",
       "                            1993              4.386000   \n",
       "\n",
       "                                  Population Growth Rate  Male Mortality  \\\n",
       "country                     date                                           \n",
       "Africa Eastern and Southern 2021                2.607472      332.823489   \n",
       "                            2020                2.678184      311.485254   \n",
       "                            2019                2.691134      302.772370   \n",
       "                            2018                2.688371      309.165595   \n",
       "                            2017                2.655672      314.493882   \n",
       "...                                                  ...             ...   \n",
       "Zimbabwe                    1997                1.634689      652.455000   \n",
       "                            1996                1.660946      622.404000   \n",
       "                            1995                1.239656      596.056000   \n",
       "                            1994                0.588137      544.146000   \n",
       "                            1993                1.431392      500.799000   \n",
       "\n",
       "                                  Female Mortality  % Adult Female   % Female  \\\n",
       "country                     date                                                \n",
       "Africa Eastern and Southern 2021        237.602676       55.774440  50.478916   \n",
       "                            2020        224.232001       55.549322  50.486544   \n",
       "                            2019        218.643251       55.348700  50.495993   \n",
       "                            2018        224.119316       55.174578  50.504887   \n",
       "                            2017        231.688216       55.018897  50.515859   \n",
       "...                                            ...             ...        ...   \n",
       "Zimbabwe                    1997        549.188000       53.854436  52.436030   \n",
       "                            1996        524.835000       52.848675  52.437854   \n",
       "                            1995        476.227000       51.884793  52.438908   \n",
       "                            1994        427.168000       51.142296  52.387676   \n",
       "                            1993        384.244000       50.622043  52.260999   \n",
       "\n",
       "                                  Net Migration  Total Population  \\\n",
       "country                     date                                    \n",
       "Africa Eastern and Southern 2021       179444.0       702977106.0   \n",
       "                            2020        48955.0       685112979.0   \n",
       "                            2019       187410.0       667242986.0   \n",
       "                            2018       366105.0       649757148.0   \n",
       "                            2017       343075.0       632746570.0   \n",
       "...                                         ...               ...   \n",
       "Zimbabwe                    1997        36050.0        11362401.0   \n",
       "                            1996        34438.0        11178171.0   \n",
       "                            1995        32961.0        10994041.0   \n",
       "                            1994       144401.0        10858594.0   \n",
       "                            1993       201588.0        10794918.0   \n",
       "\n",
       "                                  Migration per Capita  Migration Rate  \n",
       "country                     date                                        \n",
       "Africa Eastern and Southern 2021              0.000255        0.025526  \n",
       "                            2020              0.000071        0.007146  \n",
       "                            2019              0.000281        0.028087  \n",
       "                            2018              0.000563        0.056345  \n",
       "                            2017              0.000542        0.054220  \n",
       "...                                                ...             ...  \n",
       "Zimbabwe                    1997              0.003173        0.317274  \n",
       "                            1996              0.003081        0.308083  \n",
       "                            1995              0.002998        0.299808  \n",
       "                            1994              0.013298        1.329831  \n",
       "                            1993              0.018674        1.867434  \n",
       "\n",
       "[4351 rows x 13 columns]"
      ]
     },
     "execution_count": 22,
     "metadata": {},
     "output_type": "execute_result"
    }
   ],
   "source": [
    "# OR we can represent this as a \"rate,\" multiplying the per capita number by 100 to get a percentage\n",
    "\n",
    "mig_away['Migration Rate'] = mig_away['Migration per Capita']*100\n",
    "\n",
    "# look at the new variables: \n",
    "mig_away "
   ]
  },
  {
   "cell_type": "code",
   "execution_count": null,
   "metadata": {},
   "outputs": [],
   "source": []
  },
  {
   "cell_type": "code",
   "execution_count": 23,
   "metadata": {},
   "outputs": [
    {
     "data": {
      "text/html": [
       "<div>\n",
       "<style scoped>\n",
       "    .dataframe tbody tr th:only-of-type {\n",
       "        vertical-align: middle;\n",
       "    }\n",
       "\n",
       "    .dataframe tbody tr th {\n",
       "        vertical-align: top;\n",
       "    }\n",
       "\n",
       "    .dataframe thead th {\n",
       "        text-align: right;\n",
       "    }\n",
       "</style>\n",
       "<table border=\"1\" class=\"dataframe\">\n",
       "  <thead>\n",
       "    <tr style=\"text-align: right;\">\n",
       "      <th></th>\n",
       "      <th></th>\n",
       "      <th>GDP per capita</th>\n",
       "      <th>Death Probability (5-9)</th>\n",
       "      <th>Death Probability (20-24)</th>\n",
       "      <th>Total Fertility Rate</th>\n",
       "      <th>Population Growth Rate</th>\n",
       "      <th>Male Mortality</th>\n",
       "      <th>Female Mortality</th>\n",
       "      <th>% Adult Female</th>\n",
       "      <th>% Female</th>\n",
       "      <th>Net Migration</th>\n",
       "      <th>Total Population</th>\n",
       "      <th>Migration per Capita</th>\n",
       "      <th>Migration Rate</th>\n",
       "    </tr>\n",
       "    <tr>\n",
       "      <th>country</th>\n",
       "      <th>date</th>\n",
       "      <th></th>\n",
       "      <th></th>\n",
       "      <th></th>\n",
       "      <th></th>\n",
       "      <th></th>\n",
       "      <th></th>\n",
       "      <th></th>\n",
       "      <th></th>\n",
       "      <th></th>\n",
       "      <th></th>\n",
       "      <th></th>\n",
       "      <th></th>\n",
       "      <th></th>\n",
       "    </tr>\n",
       "  </thead>\n",
       "  <tbody>\n",
       "    <tr>\n",
       "      <th>Africa Eastern and Southern</th>\n",
       "      <th>2017</th>\n",
       "      <td>1625.286236</td>\n",
       "      <td>16.545213</td>\n",
       "      <td>14.129777</td>\n",
       "      <td>4.570409</td>\n",
       "      <td>2.655672</td>\n",
       "      <td>314.493882</td>\n",
       "      <td>231.688216</td>\n",
       "      <td>55.018897</td>\n",
       "      <td>50.515859</td>\n",
       "      <td>343075.0</td>\n",
       "      <td>6.327466e+08</td>\n",
       "      <td>0.000542</td>\n",
       "      <td>0.054220</td>\n",
       "    </tr>\n",
       "    <tr>\n",
       "      <th>Africa Western and Central</th>\n",
       "      <th>2017</th>\n",
       "      <td>1590.277754</td>\n",
       "      <td>17.664101</td>\n",
       "      <td>12.701741</td>\n",
       "      <td>5.255345</td>\n",
       "      <td>2.706266</td>\n",
       "      <td>332.079862</td>\n",
       "      <td>298.748795</td>\n",
       "      <td>53.365527</td>\n",
       "      <td>49.770292</td>\n",
       "      <td>200823.0</td>\n",
       "      <td>4.311387e+08</td>\n",
       "      <td>0.000466</td>\n",
       "      <td>0.046580</td>\n",
       "    </tr>\n",
       "    <tr>\n",
       "      <th>Caribbean small states</th>\n",
       "      <th>2017</th>\n",
       "      <td>10101.698337</td>\n",
       "      <td>6.083779</td>\n",
       "      <td>7.124045</td>\n",
       "      <td>1.740201</td>\n",
       "      <td>0.528019</td>\n",
       "      <td>202.162317</td>\n",
       "      <td>123.425591</td>\n",
       "      <td>69.166376</td>\n",
       "      <td>50.601427</td>\n",
       "      <td>15824.0</td>\n",
       "      <td>7.303634e+06</td>\n",
       "      <td>0.002167</td>\n",
       "      <td>0.216659</td>\n",
       "    </tr>\n",
       "    <tr>\n",
       "      <th>Central Europe and the Baltics</th>\n",
       "      <th>2017</th>\n",
       "      <td>14223.338676</td>\n",
       "      <td>2.556875</td>\n",
       "      <td>2.652837</td>\n",
       "      <td>1.568123</td>\n",
       "      <td>-0.246810</td>\n",
       "      <td>156.434198</td>\n",
       "      <td>64.669858</td>\n",
       "      <td>64.654620</td>\n",
       "      <td>51.634435</td>\n",
       "      <td>76183.0</td>\n",
       "      <td>1.027401e+08</td>\n",
       "      <td>0.000742</td>\n",
       "      <td>0.074151</td>\n",
       "    </tr>\n",
       "    <tr>\n",
       "      <th>Early-demographic dividend</th>\n",
       "      <th>2017</th>\n",
       "      <td>3498.575677</td>\n",
       "      <td>7.651824</td>\n",
       "      <td>6.240827</td>\n",
       "      <td>2.500853</td>\n",
       "      <td>1.321020</td>\n",
       "      <td>195.853170</td>\n",
       "      <td>133.876626</td>\n",
       "      <td>64.687367</td>\n",
       "      <td>49.172240</td>\n",
       "      <td>3441642.0</td>\n",
       "      <td>3.250753e+09</td>\n",
       "      <td>0.001059</td>\n",
       "      <td>0.105872</td>\n",
       "    </tr>\n",
       "    <tr>\n",
       "      <th>...</th>\n",
       "      <th>...</th>\n",
       "      <td>...</td>\n",
       "      <td>...</td>\n",
       "      <td>...</td>\n",
       "      <td>...</td>\n",
       "      <td>...</td>\n",
       "      <td>...</td>\n",
       "      <td>...</td>\n",
       "      <td>...</td>\n",
       "      <td>...</td>\n",
       "      <td>...</td>\n",
       "      <td>...</td>\n",
       "      <td>...</td>\n",
       "      <td>...</td>\n",
       "    </tr>\n",
       "    <tr>\n",
       "      <th>Vanuatu</th>\n",
       "      <th>2017</th>\n",
       "      <td>3032.197030</td>\n",
       "      <td>7.400000</td>\n",
       "      <td>6.300000</td>\n",
       "      <td>3.910000</td>\n",
       "      <td>2.448780</td>\n",
       "      <td>205.447000</td>\n",
       "      <td>139.974000</td>\n",
       "      <td>57.832094</td>\n",
       "      <td>49.660797</td>\n",
       "      <td>403.0</td>\n",
       "      <td>2.902390e+05</td>\n",
       "      <td>0.001389</td>\n",
       "      <td>0.138851</td>\n",
       "    </tr>\n",
       "    <tr>\n",
       "      <th>Viet Nam</th>\n",
       "      <th>2017</th>\n",
       "      <td>2992.071532</td>\n",
       "      <td>4.700000</td>\n",
       "      <td>3.700000</td>\n",
       "      <td>1.930000</td>\n",
       "      <td>0.968720</td>\n",
       "      <td>188.581000</td>\n",
       "      <td>77.488000</td>\n",
       "      <td>69.190310</td>\n",
       "      <td>50.642164</td>\n",
       "      <td>3847.0</td>\n",
       "      <td>9.403305e+07</td>\n",
       "      <td>0.000041</td>\n",
       "      <td>0.004091</td>\n",
       "    </tr>\n",
       "    <tr>\n",
       "      <th>West Bank and Gaza</th>\n",
       "      <th>2017</th>\n",
       "      <td>3620.360487</td>\n",
       "      <td>5.200000</td>\n",
       "      <td>3.900000</td>\n",
       "      <td>3.807000</td>\n",
       "      <td>1.988686</td>\n",
       "      <td>122.408000</td>\n",
       "      <td>81.285000</td>\n",
       "      <td>56.996023</td>\n",
       "      <td>50.214010</td>\n",
       "      <td>25452.0</td>\n",
       "      <td>4.454805e+06</td>\n",
       "      <td>0.005713</td>\n",
       "      <td>0.571338</td>\n",
       "    </tr>\n",
       "    <tr>\n",
       "      <th>Yemen, Rep.</th>\n",
       "      <th>2017</th>\n",
       "      <td>893.716493</td>\n",
       "      <td>10.100000</td>\n",
       "      <td>12.000000</td>\n",
       "      <td>4.112000</td>\n",
       "      <td>2.564321</td>\n",
       "      <td>250.734000</td>\n",
       "      <td>148.962000</td>\n",
       "      <td>56.197217</td>\n",
       "      <td>49.383032</td>\n",
       "      <td>39672.0</td>\n",
       "      <td>3.003439e+07</td>\n",
       "      <td>0.001321</td>\n",
       "      <td>0.132089</td>\n",
       "    </tr>\n",
       "    <tr>\n",
       "      <th>Zimbabwe</th>\n",
       "      <th>2017</th>\n",
       "      <td>1192.107012</td>\n",
       "      <td>17.100000</td>\n",
       "      <td>15.600000</td>\n",
       "      <td>3.706000</td>\n",
       "      <td>2.043620</td>\n",
       "      <td>405.925000</td>\n",
       "      <td>315.150000</td>\n",
       "      <td>56.362181</td>\n",
       "      <td>52.948393</td>\n",
       "      <td>59918.0</td>\n",
       "      <td>1.475110e+07</td>\n",
       "      <td>0.004062</td>\n",
       "      <td>0.406193</td>\n",
       "    </tr>\n",
       "  </tbody>\n",
       "</table>\n",
       "<p>127 rows × 13 columns</p>\n",
       "</div>"
      ],
      "text/plain": [
       "                                     GDP per capita  Death Probability (5-9)  \\\n",
       "country                        date                                            \n",
       "Africa Eastern and Southern    2017     1625.286236                16.545213   \n",
       "Africa Western and Central     2017     1590.277754                17.664101   \n",
       "Caribbean small states         2017    10101.698337                 6.083779   \n",
       "Central Europe and the Baltics 2017    14223.338676                 2.556875   \n",
       "Early-demographic dividend     2017     3498.575677                 7.651824   \n",
       "...                                             ...                      ...   \n",
       "Vanuatu                        2017     3032.197030                 7.400000   \n",
       "Viet Nam                       2017     2992.071532                 4.700000   \n",
       "West Bank and Gaza             2017     3620.360487                 5.200000   \n",
       "Yemen, Rep.                    2017      893.716493                10.100000   \n",
       "Zimbabwe                       2017     1192.107012                17.100000   \n",
       "\n",
       "                                     Death Probability (20-24)  \\\n",
       "country                        date                              \n",
       "Africa Eastern and Southern    2017                  14.129777   \n",
       "Africa Western and Central     2017                  12.701741   \n",
       "Caribbean small states         2017                   7.124045   \n",
       "Central Europe and the Baltics 2017                   2.652837   \n",
       "Early-demographic dividend     2017                   6.240827   \n",
       "...                                                        ...   \n",
       "Vanuatu                        2017                   6.300000   \n",
       "Viet Nam                       2017                   3.700000   \n",
       "West Bank and Gaza             2017                   3.900000   \n",
       "Yemen, Rep.                    2017                  12.000000   \n",
       "Zimbabwe                       2017                  15.600000   \n",
       "\n",
       "                                     Total Fertility Rate  \\\n",
       "country                        date                         \n",
       "Africa Eastern and Southern    2017              4.570409   \n",
       "Africa Western and Central     2017              5.255345   \n",
       "Caribbean small states         2017              1.740201   \n",
       "Central Europe and the Baltics 2017              1.568123   \n",
       "Early-demographic dividend     2017              2.500853   \n",
       "...                                                   ...   \n",
       "Vanuatu                        2017              3.910000   \n",
       "Viet Nam                       2017              1.930000   \n",
       "West Bank and Gaza             2017              3.807000   \n",
       "Yemen, Rep.                    2017              4.112000   \n",
       "Zimbabwe                       2017              3.706000   \n",
       "\n",
       "                                     Population Growth Rate  Male Mortality  \\\n",
       "country                        date                                           \n",
       "Africa Eastern and Southern    2017                2.655672      314.493882   \n",
       "Africa Western and Central     2017                2.706266      332.079862   \n",
       "Caribbean small states         2017                0.528019      202.162317   \n",
       "Central Europe and the Baltics 2017               -0.246810      156.434198   \n",
       "Early-demographic dividend     2017                1.321020      195.853170   \n",
       "...                                                     ...             ...   \n",
       "Vanuatu                        2017                2.448780      205.447000   \n",
       "Viet Nam                       2017                0.968720      188.581000   \n",
       "West Bank and Gaza             2017                1.988686      122.408000   \n",
       "Yemen, Rep.                    2017                2.564321      250.734000   \n",
       "Zimbabwe                       2017                2.043620      405.925000   \n",
       "\n",
       "                                     Female Mortality  % Adult Female  \\\n",
       "country                        date                                     \n",
       "Africa Eastern and Southern    2017        231.688216       55.018897   \n",
       "Africa Western and Central     2017        298.748795       53.365527   \n",
       "Caribbean small states         2017        123.425591       69.166376   \n",
       "Central Europe and the Baltics 2017         64.669858       64.654620   \n",
       "Early-demographic dividend     2017        133.876626       64.687367   \n",
       "...                                               ...             ...   \n",
       "Vanuatu                        2017        139.974000       57.832094   \n",
       "Viet Nam                       2017         77.488000       69.190310   \n",
       "West Bank and Gaza             2017         81.285000       56.996023   \n",
       "Yemen, Rep.                    2017        148.962000       56.197217   \n",
       "Zimbabwe                       2017        315.150000       56.362181   \n",
       "\n",
       "                                      % Female  Net Migration  \\\n",
       "country                        date                             \n",
       "Africa Eastern and Southern    2017  50.515859       343075.0   \n",
       "Africa Western and Central     2017  49.770292       200823.0   \n",
       "Caribbean small states         2017  50.601427        15824.0   \n",
       "Central Europe and the Baltics 2017  51.634435        76183.0   \n",
       "Early-demographic dividend     2017  49.172240      3441642.0   \n",
       "...                                        ...            ...   \n",
       "Vanuatu                        2017  49.660797          403.0   \n",
       "Viet Nam                       2017  50.642164         3847.0   \n",
       "West Bank and Gaza             2017  50.214010        25452.0   \n",
       "Yemen, Rep.                    2017  49.383032        39672.0   \n",
       "Zimbabwe                       2017  52.948393        59918.0   \n",
       "\n",
       "                                     Total Population  Migration per Capita  \\\n",
       "country                        date                                           \n",
       "Africa Eastern and Southern    2017      6.327466e+08              0.000542   \n",
       "Africa Western and Central     2017      4.311387e+08              0.000466   \n",
       "Caribbean small states         2017      7.303634e+06              0.002167   \n",
       "Central Europe and the Baltics 2017      1.027401e+08              0.000742   \n",
       "Early-demographic dividend     2017      3.250753e+09              0.001059   \n",
       "...                                               ...                   ...   \n",
       "Vanuatu                        2017      2.902390e+05              0.001389   \n",
       "Viet Nam                       2017      9.403305e+07              0.000041   \n",
       "West Bank and Gaza             2017      4.454805e+06              0.005713   \n",
       "Yemen, Rep.                    2017      3.003439e+07              0.001321   \n",
       "Zimbabwe                       2017      1.475110e+07              0.004062   \n",
       "\n",
       "                                     Migration Rate  \n",
       "country                        date                  \n",
       "Africa Eastern and Southern    2017        0.054220  \n",
       "Africa Western and Central     2017        0.046580  \n",
       "Caribbean small states         2017        0.216659  \n",
       "Central Europe and the Baltics 2017        0.074151  \n",
       "Early-demographic dividend     2017        0.105872  \n",
       "...                                             ...  \n",
       "Vanuatu                        2017        0.138851  \n",
       "Viet Nam                       2017        0.004091  \n",
       "West Bank and Gaza             2017        0.571338  \n",
       "Yemen, Rep.                    2017        0.132089  \n",
       "Zimbabwe                       2017        0.406193  \n",
       "\n",
       "[127 rows x 13 columns]"
      ]
     },
     "execution_count": 23,
     "metadata": {},
     "output_type": "execute_result"
    }
   ],
   "source": [
    "# take all values with 2017 as the year \n",
    "mig_away = mig_away.query(\"date==2017\") \n",
    "mig_away"
   ]
  },
  {
   "cell_type": "code",
   "execution_count": 24,
   "metadata": {},
   "outputs": [
    {
     "data": {
      "application/vnd.plotly.v1+json": {
       "config": {
        "linkText": "Export to plot.ly",
        "plotlyServerURL": "https://plot.ly",
        "showLink": true
       },
       "data": [
        {
         "line": {
          "color": "rgba(255, 153, 51, 1.0)",
          "dash": "solid",
          "shape": "linear",
          "width": 1.3
         },
         "marker": {
          "size": 8,
          "symbol": "circle"
         },
         "mode": "markers",
         "name": "Migration per Capita",
         "text": [
          "Africa Eastern and Southern",
          "Africa Western and Central",
          "Caribbean small states",
          "Central Europe and the Baltics",
          "Early-demographic dividend",
          "East Asia & Pacific (excluding high income)",
          "East Asia & Pacific (IDA & IBRD countries)",
          "Fragile and conflict affected situations",
          "IDA & IBRD total",
          "Latin America & Caribbean",
          "Latin America & the Caribbean (IDA & IBRD countries)",
          "Least developed countries: UN classification",
          "Low & middle income",
          "Low income",
          "Lower middle income",
          "Middle East & North Africa",
          "Middle East & North Africa (excluding high income)",
          "Middle East & North Africa (IDA & IBRD countries)",
          "Middle income",
          "Pacific island small states",
          "Pre-demographic dividend",
          "South Asia",
          "South Asia (IDA & IBRD)",
          "Sub-Saharan Africa",
          "Sub-Saharan Africa (excluding high income)",
          "Sub-Saharan Africa (IDA & IBRD countries)",
          "Afghanistan",
          "Albania",
          "Algeria",
          "Armenia",
          "Bangladesh",
          "Barbados",
          "Bolivia",
          "Bosnia and Herzegovina",
          "Brunei Darussalam",
          "Bulgaria",
          "Burkina Faso",
          "Burundi",
          "Cabo Verde",
          "Cambodia",
          "Cameroon",
          "Central African Republic",
          "China",
          "Comoros",
          "Congo, Rep.",
          "Cote d'Ivoire",
          "Croatia",
          "Cuba",
          "Dominican Republic",
          "Egypt, Arab Rep.",
          "El Salvador",
          "Eswatini",
          "Fiji",
          "Gambia, The",
          "Georgia",
          "Ghana",
          "Greece",
          "Grenada",
          "Guatemala",
          "Guinea",
          "Guinea-Bissau",
          "Guyana",
          "Haiti",
          "Honduras",
          "India",
          "Indonesia",
          "Iraq",
          "Jamaica",
          "Kazakhstan",
          "Kenya",
          "Kiribati",
          "Kosovo",
          "Kyrgyz Republic",
          "Lao PDR",
          "Latvia",
          "Lebanon",
          "Lesotho",
          "Liberia",
          "Lithuania",
          "Malawi",
          "Mali",
          "Marshall Islands",
          "Mauritania",
          "Mauritius",
          "Mexico",
          "Micronesia, Fed. Sts.",
          "Moldova",
          "Montenegro",
          "Morocco",
          "Myanmar",
          "Namibia",
          "Nauru",
          "Nepal",
          "Nicaragua",
          "Niger",
          "North Macedonia",
          "Pakistan",
          "Paraguay",
          "Poland",
          "Romania",
          "Rwanda",
          "Samoa",
          "Sao Tome and Principe",
          "Senegal",
          "Solomon Islands",
          "South Africa",
          "Sri Lanka",
          "St. Kitts and Nevis",
          "St. Vincent and the Grenadines",
          "Suriname",
          "Syrian Arab Republic",
          "Tajikistan",
          "Timor-Leste",
          "Togo",
          "Tonga",
          "Tunisia",
          "Turkiye",
          "Turkmenistan",
          "Tuvalu",
          "United Arab Emirates",
          "Uruguay",
          "Uzbekistan",
          "Vanuatu",
          "Viet Nam",
          "West Bank and Gaza",
          "Yemen, Rep.",
          "Zimbabwe"
         ],
         "type": "scatter",
         "x": [
          1625.2862362582,
          1590.27775355217,
          10101.698337451,
          14223.33867603,
          3498.57567722821,
          7151.33860752498,
          7231.04313773664,
          1805.7937710783,
          4847.68098187748,
          9255.8059757905,
          9106.59887343947,
          1116.75249734232,
          4688.84021818767,
          804.873520434808,
          2159.48628984457,
          7337.21354901812,
          3771.3988326831,
          3773.13676844095,
          5107.25027858374,
          4128.66101841916,
          1438.13131092546,
          1887.89056136563,
          1887.89056136563,
          1611.0990750748,
          1609.80618677889,
          1611.0990750748,
          526.140801271383,
          4531.03220675893,
          4134.93608656171,
          4041.99507105058,
          1815.61026180185,
          17881.5632533033,
          3280.0082139387,
          5327.39230422044,
          28186.9867351423,
          8381.88134621669,
          711.184543433623,
          244.14542219677,
          3534.34357478817,
          1400.89926522987,
          1479.86222187116,
          414.74032227842,
          8817.04560829162,
          1414.58668930422,
          2227.72013856074,
          2113.34152528591,
          13592.2545240617,
          8543.33006731328,
          7513.49798180543,
          2439.96728439968,
          3986.04901435439,
          3824.04678338499,
          5825.19966514413,
          632.001024153219,
          4356.92801624893,
          1998.72266581387,
          18582.0893411631,
          9309.26129609568,
          4454.02450948165,
          843.464279230956,
          718.245737766542,
          6220.97856820609,
          1389.35862299149,
          2403.30608839303,
          1957.96981329558,
          3839.78507460491,
          4725.19357334032,
          5273.14902681979,
          9247.58067886159,
          1675.98842173012,
          1566.44713639955,
          4009.3538108854,
          1242.77022029305,
          2439.4633552251,
          15695.1151541059,
          8679.89742212366,
          1062.4561920176,
          706.892691974846,
          16885.4073948373,
          500.165547203323,
          795.682801553765,
          4507.622862229,
          1634.64215833074,
          10841.6847754844,
          9693.33009125499,
          3320.3549760029,
          3454.95469039113,
          7803.35824465203,
          3288.50268554688,
          1263.28526342903,
          5453.57062341501,
          9361.03739658919,
          1027.96547447264,
          2127.28281786358,
          514.543398015622,
          5450.49706853299,
          1567.6406123353,
          6136.0583014952,
          13815.4999463758,
          10727.9708633184,
          756.547641107379,
          4261.64034322214,
          1547.82270967205,
          1385.1992136057,
          2283.57905127379,
          6734.47515314548,
          4388.20190593728,
          22148.5124341669,
          7996.63698412147,
          6112.88301430134,
          862.319063332871,
          844.36524984854,
          1285.5239757568,
          813.395006476051,
          4367.25660339844,
          3569.71883883673,
          10695.550196231,
          6354.53282979422,
          4181.43658600984,
          43063.9674770763,
          18995.3970195554,
          1916.76462520814,
          3032.19702965604,
          2992.07153198845,
          3620.36048715937,
          893.716492936242,
          1192.10701198862
         ],
         "y": [
          0.0005421996993203772,
          0.00046579673347999856,
          0.0021665926852303934,
          0.0007415119930121135,
          0.001058721551402638,
          0.0001061300157019687,
          0.00010589590612440308,
          0.0025351247857677817,
          0.0006418507012371599,
          0.0004443187891066541,
          0.00033663559223602075,
          0.0008920923990202697,
          0.0005500807165141544,
          0.0014489983756867766,
          0.0009490813504719527,
          0.000383625668511606,
          0.0017697953640929717,
          0.0017244181510982786,
          0.000453366695316404,
          0.009144361929473651,
          0.0006378274945460861,
          0.0011994877086958654,
          0.0011994877086958654,
          0.0005112374551017613,
          0.000511526984704551,
          0.0005112374551017613,
          0.001321141535865051,
          0.0033993896550392087,
          0.0008860248014016539,
          0.009230964510612664,
          0.001086288979235344,
          0.00023281886334249087,
          0.0008455224605621793,
          0.008915337001715394,
          0.0013642406269464252,
          0.0019163512671872755,
          0.0007461739240117569,
          0.006135935579578782,
          0.0023966553029096172,
          0.0028880612840034947,
          0.001554122850972163,
          0.011754461558043532,
          0.00012934397639332052,
          0.0038363372825812956,
          0.0021843481403675214,
          0.0007549093658020825,
          0.0033104369927150507,
          0.0012788886776716251,
          0.0028227962090471488,
          0.00022871736351764613,
          0.008077037602522813,
          0.008795455927183666,
          0.012627595294547773,
          0.0015513303896972177,
          0.0021153410779602166,
          0.00016259537423108834,
          0.002330241562765379,
          0.0015712738068656396,
          0.0029867440505368854,
          0.0011213329467569453,
          0.0007436858517756431,
          0.008005219770141448,
          0.0032002450765832103,
          0.000704488553982708,
          0.0001622040324334811,
          0.00014851482228739503,
          0.0002498412338335761,
          0.0040340039937672165,
          0.0008816497111395551,
          0.0014036080678617043,
          0.006738007012179924,
          0.018701811219746702,
          0.004484527766125649,
          0.0014861565234340448,
          0.004890209695157364,
          0.03780282758020131,
          0.0015327439156700606,
          0.005176549957668205,
          0.0056346284458049295,
          0.0002681592314416615,
          0.0017603632681393927,
          0.04028651959226058,
          0.0007213916295974894,
          0.0018823815882367358,
          0.00010125427491592305,
          0.011618219686679344,
          0.015921956715129162,
          0.003181371942548922,
          0.00202113171498122,
          0.0020164724675430035,
          0.00363581153834117,
          0.002910460537579182,
          0.002769783914844136,
          0.0033702479981581757,
          0.00031405945793714783,
          0.00049072018248235,
          0.007276936456895635,
          0.0026163560963236954,
          5.2218804109859516e-05,
          0.002998410053951982,
          0.0004226375082489537,
          0.013601117372248712,
          0.008532177123190217,
          0.0013574535554087591,
          0.002490545869236243,
          0.00018857295224754118,
          0.004584500734720667,
          0.003997070210317045,
          0.008024708902973974,
          0.0016134549892010844,
          0.015466113424626908,
          0.0014656840914119898,
          0.0043531592981214335,
          0.0002543043591485579,
          0.019978181473224874,
          0.0018937567577475504,
          0.0031378599682954245,
          0.0016111566566689838,
          0.014314739564093092,
          0.0014219871076109557,
          0.0009029279410905266,
          0.0014993238361645765,
          0.0013885108479563394,
          4.0911148599585967e-05,
          0.005713381393798382,
          0.0013208858685289054,
          0.00406193408885208
         ]
        }
       ],
       "layout": {
        "height": 700,
        "legend": {
         "bgcolor": "#F5F6F9",
         "font": {
          "color": "#4D5663"
         }
        },
        "paper_bgcolor": "#F5F6F9",
        "plot_bgcolor": "#F5F6F9",
        "template": {
         "data": {
          "bar": [
           {
            "error_x": {
             "color": "#2a3f5f"
            },
            "error_y": {
             "color": "#2a3f5f"
            },
            "marker": {
             "line": {
              "color": "#E5ECF6",
              "width": 0.5
             },
             "pattern": {
              "fillmode": "overlay",
              "size": 10,
              "solidity": 0.2
             }
            },
            "type": "bar"
           }
          ],
          "barpolar": [
           {
            "marker": {
             "line": {
              "color": "#E5ECF6",
              "width": 0.5
             },
             "pattern": {
              "fillmode": "overlay",
              "size": 10,
              "solidity": 0.2
             }
            },
            "type": "barpolar"
           }
          ],
          "carpet": [
           {
            "aaxis": {
             "endlinecolor": "#2a3f5f",
             "gridcolor": "white",
             "linecolor": "white",
             "minorgridcolor": "white",
             "startlinecolor": "#2a3f5f"
            },
            "baxis": {
             "endlinecolor": "#2a3f5f",
             "gridcolor": "white",
             "linecolor": "white",
             "minorgridcolor": "white",
             "startlinecolor": "#2a3f5f"
            },
            "type": "carpet"
           }
          ],
          "choropleth": [
           {
            "colorbar": {
             "outlinewidth": 0,
             "ticks": ""
            },
            "type": "choropleth"
           }
          ],
          "contour": [
           {
            "colorbar": {
             "outlinewidth": 0,
             "ticks": ""
            },
            "colorscale": [
             [
              0,
              "#0d0887"
             ],
             [
              0.1111111111111111,
              "#46039f"
             ],
             [
              0.2222222222222222,
              "#7201a8"
             ],
             [
              0.3333333333333333,
              "#9c179e"
             ],
             [
              0.4444444444444444,
              "#bd3786"
             ],
             [
              0.5555555555555556,
              "#d8576b"
             ],
             [
              0.6666666666666666,
              "#ed7953"
             ],
             [
              0.7777777777777778,
              "#fb9f3a"
             ],
             [
              0.8888888888888888,
              "#fdca26"
             ],
             [
              1,
              "#f0f921"
             ]
            ],
            "type": "contour"
           }
          ],
          "contourcarpet": [
           {
            "colorbar": {
             "outlinewidth": 0,
             "ticks": ""
            },
            "type": "contourcarpet"
           }
          ],
          "heatmap": [
           {
            "colorbar": {
             "outlinewidth": 0,
             "ticks": ""
            },
            "colorscale": [
             [
              0,
              "#0d0887"
             ],
             [
              0.1111111111111111,
              "#46039f"
             ],
             [
              0.2222222222222222,
              "#7201a8"
             ],
             [
              0.3333333333333333,
              "#9c179e"
             ],
             [
              0.4444444444444444,
              "#bd3786"
             ],
             [
              0.5555555555555556,
              "#d8576b"
             ],
             [
              0.6666666666666666,
              "#ed7953"
             ],
             [
              0.7777777777777778,
              "#fb9f3a"
             ],
             [
              0.8888888888888888,
              "#fdca26"
             ],
             [
              1,
              "#f0f921"
             ]
            ],
            "type": "heatmap"
           }
          ],
          "heatmapgl": [
           {
            "colorbar": {
             "outlinewidth": 0,
             "ticks": ""
            },
            "colorscale": [
             [
              0,
              "#0d0887"
             ],
             [
              0.1111111111111111,
              "#46039f"
             ],
             [
              0.2222222222222222,
              "#7201a8"
             ],
             [
              0.3333333333333333,
              "#9c179e"
             ],
             [
              0.4444444444444444,
              "#bd3786"
             ],
             [
              0.5555555555555556,
              "#d8576b"
             ],
             [
              0.6666666666666666,
              "#ed7953"
             ],
             [
              0.7777777777777778,
              "#fb9f3a"
             ],
             [
              0.8888888888888888,
              "#fdca26"
             ],
             [
              1,
              "#f0f921"
             ]
            ],
            "type": "heatmapgl"
           }
          ],
          "histogram": [
           {
            "marker": {
             "pattern": {
              "fillmode": "overlay",
              "size": 10,
              "solidity": 0.2
             }
            },
            "type": "histogram"
           }
          ],
          "histogram2d": [
           {
            "colorbar": {
             "outlinewidth": 0,
             "ticks": ""
            },
            "colorscale": [
             [
              0,
              "#0d0887"
             ],
             [
              0.1111111111111111,
              "#46039f"
             ],
             [
              0.2222222222222222,
              "#7201a8"
             ],
             [
              0.3333333333333333,
              "#9c179e"
             ],
             [
              0.4444444444444444,
              "#bd3786"
             ],
             [
              0.5555555555555556,
              "#d8576b"
             ],
             [
              0.6666666666666666,
              "#ed7953"
             ],
             [
              0.7777777777777778,
              "#fb9f3a"
             ],
             [
              0.8888888888888888,
              "#fdca26"
             ],
             [
              1,
              "#f0f921"
             ]
            ],
            "type": "histogram2d"
           }
          ],
          "histogram2dcontour": [
           {
            "colorbar": {
             "outlinewidth": 0,
             "ticks": ""
            },
            "colorscale": [
             [
              0,
              "#0d0887"
             ],
             [
              0.1111111111111111,
              "#46039f"
             ],
             [
              0.2222222222222222,
              "#7201a8"
             ],
             [
              0.3333333333333333,
              "#9c179e"
             ],
             [
              0.4444444444444444,
              "#bd3786"
             ],
             [
              0.5555555555555556,
              "#d8576b"
             ],
             [
              0.6666666666666666,
              "#ed7953"
             ],
             [
              0.7777777777777778,
              "#fb9f3a"
             ],
             [
              0.8888888888888888,
              "#fdca26"
             ],
             [
              1,
              "#f0f921"
             ]
            ],
            "type": "histogram2dcontour"
           }
          ],
          "mesh3d": [
           {
            "colorbar": {
             "outlinewidth": 0,
             "ticks": ""
            },
            "type": "mesh3d"
           }
          ],
          "parcoords": [
           {
            "line": {
             "colorbar": {
              "outlinewidth": 0,
              "ticks": ""
             }
            },
            "type": "parcoords"
           }
          ],
          "pie": [
           {
            "automargin": true,
            "type": "pie"
           }
          ],
          "scatter": [
           {
            "fillpattern": {
             "fillmode": "overlay",
             "size": 10,
             "solidity": 0.2
            },
            "type": "scatter"
           }
          ],
          "scatter3d": [
           {
            "line": {
             "colorbar": {
              "outlinewidth": 0,
              "ticks": ""
             }
            },
            "marker": {
             "colorbar": {
              "outlinewidth": 0,
              "ticks": ""
             }
            },
            "type": "scatter3d"
           }
          ],
          "scattercarpet": [
           {
            "marker": {
             "colorbar": {
              "outlinewidth": 0,
              "ticks": ""
             }
            },
            "type": "scattercarpet"
           }
          ],
          "scattergeo": [
           {
            "marker": {
             "colorbar": {
              "outlinewidth": 0,
              "ticks": ""
             }
            },
            "type": "scattergeo"
           }
          ],
          "scattergl": [
           {
            "marker": {
             "colorbar": {
              "outlinewidth": 0,
              "ticks": ""
             }
            },
            "type": "scattergl"
           }
          ],
          "scattermapbox": [
           {
            "marker": {
             "colorbar": {
              "outlinewidth": 0,
              "ticks": ""
             }
            },
            "type": "scattermapbox"
           }
          ],
          "scatterpolar": [
           {
            "marker": {
             "colorbar": {
              "outlinewidth": 0,
              "ticks": ""
             }
            },
            "type": "scatterpolar"
           }
          ],
          "scatterpolargl": [
           {
            "marker": {
             "colorbar": {
              "outlinewidth": 0,
              "ticks": ""
             }
            },
            "type": "scatterpolargl"
           }
          ],
          "scatterternary": [
           {
            "marker": {
             "colorbar": {
              "outlinewidth": 0,
              "ticks": ""
             }
            },
            "type": "scatterternary"
           }
          ],
          "surface": [
           {
            "colorbar": {
             "outlinewidth": 0,
             "ticks": ""
            },
            "colorscale": [
             [
              0,
              "#0d0887"
             ],
             [
              0.1111111111111111,
              "#46039f"
             ],
             [
              0.2222222222222222,
              "#7201a8"
             ],
             [
              0.3333333333333333,
              "#9c179e"
             ],
             [
              0.4444444444444444,
              "#bd3786"
             ],
             [
              0.5555555555555556,
              "#d8576b"
             ],
             [
              0.6666666666666666,
              "#ed7953"
             ],
             [
              0.7777777777777778,
              "#fb9f3a"
             ],
             [
              0.8888888888888888,
              "#fdca26"
             ],
             [
              1,
              "#f0f921"
             ]
            ],
            "type": "surface"
           }
          ],
          "table": [
           {
            "cells": {
             "fill": {
              "color": "#EBF0F8"
             },
             "line": {
              "color": "white"
             }
            },
            "header": {
             "fill": {
              "color": "#C8D4E3"
             },
             "line": {
              "color": "white"
             }
            },
            "type": "table"
           }
          ]
         },
         "layout": {
          "annotationdefaults": {
           "arrowcolor": "#2a3f5f",
           "arrowhead": 0,
           "arrowwidth": 1
          },
          "autotypenumbers": "strict",
          "coloraxis": {
           "colorbar": {
            "outlinewidth": 0,
            "ticks": ""
           }
          },
          "colorscale": {
           "diverging": [
            [
             0,
             "#8e0152"
            ],
            [
             0.1,
             "#c51b7d"
            ],
            [
             0.2,
             "#de77ae"
            ],
            [
             0.3,
             "#f1b6da"
            ],
            [
             0.4,
             "#fde0ef"
            ],
            [
             0.5,
             "#f7f7f7"
            ],
            [
             0.6,
             "#e6f5d0"
            ],
            [
             0.7,
             "#b8e186"
            ],
            [
             0.8,
             "#7fbc41"
            ],
            [
             0.9,
             "#4d9221"
            ],
            [
             1,
             "#276419"
            ]
           ],
           "sequential": [
            [
             0,
             "#0d0887"
            ],
            [
             0.1111111111111111,
             "#46039f"
            ],
            [
             0.2222222222222222,
             "#7201a8"
            ],
            [
             0.3333333333333333,
             "#9c179e"
            ],
            [
             0.4444444444444444,
             "#bd3786"
            ],
            [
             0.5555555555555556,
             "#d8576b"
            ],
            [
             0.6666666666666666,
             "#ed7953"
            ],
            [
             0.7777777777777778,
             "#fb9f3a"
            ],
            [
             0.8888888888888888,
             "#fdca26"
            ],
            [
             1,
             "#f0f921"
            ]
           ],
           "sequentialminus": [
            [
             0,
             "#0d0887"
            ],
            [
             0.1111111111111111,
             "#46039f"
            ],
            [
             0.2222222222222222,
             "#7201a8"
            ],
            [
             0.3333333333333333,
             "#9c179e"
            ],
            [
             0.4444444444444444,
             "#bd3786"
            ],
            [
             0.5555555555555556,
             "#d8576b"
            ],
            [
             0.6666666666666666,
             "#ed7953"
            ],
            [
             0.7777777777777778,
             "#fb9f3a"
            ],
            [
             0.8888888888888888,
             "#fdca26"
            ],
            [
             1,
             "#f0f921"
            ]
           ]
          },
          "colorway": [
           "#636efa",
           "#EF553B",
           "#00cc96",
           "#ab63fa",
           "#FFA15A",
           "#19d3f3",
           "#FF6692",
           "#B6E880",
           "#FF97FF",
           "#FECB52"
          ],
          "font": {
           "color": "#2a3f5f"
          },
          "geo": {
           "bgcolor": "white",
           "lakecolor": "white",
           "landcolor": "#E5ECF6",
           "showlakes": true,
           "showland": true,
           "subunitcolor": "white"
          },
          "hoverlabel": {
           "align": "left"
          },
          "hovermode": "closest",
          "mapbox": {
           "style": "light"
          },
          "paper_bgcolor": "white",
          "plot_bgcolor": "#E5ECF6",
          "polar": {
           "angularaxis": {
            "gridcolor": "white",
            "linecolor": "white",
            "ticks": ""
           },
           "bgcolor": "#E5ECF6",
           "radialaxis": {
            "gridcolor": "white",
            "linecolor": "white",
            "ticks": ""
           }
          },
          "scene": {
           "xaxis": {
            "backgroundcolor": "#E5ECF6",
            "gridcolor": "white",
            "gridwidth": 2,
            "linecolor": "white",
            "showbackground": true,
            "ticks": "",
            "zerolinecolor": "white"
           },
           "yaxis": {
            "backgroundcolor": "#E5ECF6",
            "gridcolor": "white",
            "gridwidth": 2,
            "linecolor": "white",
            "showbackground": true,
            "ticks": "",
            "zerolinecolor": "white"
           },
           "zaxis": {
            "backgroundcolor": "#E5ECF6",
            "gridcolor": "white",
            "gridwidth": 2,
            "linecolor": "white",
            "showbackground": true,
            "ticks": "",
            "zerolinecolor": "white"
           }
          },
          "shapedefaults": {
           "line": {
            "color": "#2a3f5f"
           }
          },
          "ternary": {
           "aaxis": {
            "gridcolor": "white",
            "linecolor": "white",
            "ticks": ""
           },
           "baxis": {
            "gridcolor": "white",
            "linecolor": "white",
            "ticks": ""
           },
           "bgcolor": "#E5ECF6",
           "caxis": {
            "gridcolor": "white",
            "linecolor": "white",
            "ticks": ""
           }
          },
          "title": {
           "x": 0.05
          },
          "xaxis": {
           "automargin": true,
           "gridcolor": "white",
           "linecolor": "white",
           "ticks": "",
           "title": {
            "standoff": 15
           },
           "zerolinecolor": "white",
           "zerolinewidth": 2
          },
          "yaxis": {
           "automargin": true,
           "gridcolor": "white",
           "linecolor": "white",
           "ticks": "",
           "title": {
            "standoff": 15
           },
           "zerolinecolor": "white",
           "zerolinewidth": 2
          }
         }
        },
        "title": {
         "font": {
          "color": "#4D5663"
         },
         "text": "migration"
        },
        "width": 1000,
        "xaxis": {
         "autorange": true,
         "gridcolor": "#E1E5ED",
         "range": [
          -2453.6181657111892,
          45761.73106498426
         ],
         "showgrid": true,
         "tickfont": {
          "color": "#4D5663"
         },
         "title": {
          "font": {
           "color": "#4D5663"
          },
          "text": "GDP per capita"
         },
         "type": "linear",
         "zerolinecolor": "#E1E5ED"
        },
        "yaxis": {
         "autorange": true,
         "gridcolor": "#E1E5ED",
         "range": [
          -0.0026831365844866384,
          0.043010567325346805
         ],
         "showgrid": true,
         "tickfont": {
          "color": "#4D5663"
         },
         "title": {
          "font": {
           "color": "#4D5663"
          },
          "text": "Migration per Capita"
         },
         "type": "linear",
         "zerolinecolor": "#E1E5ED"
        }
       }
      },
      "image/png": "[encoded data removed]",
      "text/html": [
       "<div>                            <div id=\"b24b002a-798b-40c4-aff8-7a0a72b6cd8b\" class=\"plotly-graph-div\" style=\"height:700px; width:1000px;\"></div>            <script type=\"text/javascript\">                require([\"plotly\"], function(Plotly) {                    window.PLOTLYENV=window.PLOTLYENV || {};\n",
       "                    window.PLOTLYENV.BASE_URL='https://plot.ly';                                    if (document.getElementById(\"b24b002a-798b-40c4-aff8-7a0a72b6cd8b\")) {                    Plotly.newPlot(                        \"b24b002a-798b-40c4-aff8-7a0a72b6cd8b\",                        [{\"line\":{\"color\":\"rgba(255, 153, 51, 1.0)\",\"dash\":\"solid\",\"shape\":\"linear\",\"width\":1.3},\"marker\":{\"size\":8,\"symbol\":\"circle\"},\"mode\":\"markers\",\"name\":\"Migration per Capita\",\"text\":[\"Africa Eastern and Southern\",\"Africa Western and Central\",\"Caribbean small states\",\"Central Europe and the Baltics\",\"Early-demographic dividend\",\"East Asia & Pacific (excluding high income)\",\"East Asia & Pacific (IDA & IBRD countries)\",\"Fragile and conflict affected situations\",\"IDA & IBRD total\",\"Latin America & Caribbean\",\"Latin America & the Caribbean (IDA & IBRD countries)\",\"Least developed countries: UN classification\",\"Low & middle income\",\"Low income\",\"Lower middle income\",\"Middle East & North Africa\",\"Middle East & North Africa (excluding high income)\",\"Middle East & North Africa (IDA & IBRD countries)\",\"Middle income\",\"Pacific island small states\",\"Pre-demographic dividend\",\"South Asia\",\"South Asia (IDA & IBRD)\",\"Sub-Saharan Africa\",\"Sub-Saharan Africa (excluding high income)\",\"Sub-Saharan Africa (IDA & IBRD countries)\",\"Afghanistan\",\"Albania\",\"Algeria\",\"Armenia\",\"Bangladesh\",\"Barbados\",\"Bolivia\",\"Bosnia and Herzegovina\",\"Brunei Darussalam\",\"Bulgaria\",\"Burkina Faso\",\"Burundi\",\"Cabo Verde\",\"Cambodia\",\"Cameroon\",\"Central African Republic\",\"China\",\"Comoros\",\"Congo, Rep.\",\"Cote d'Ivoire\",\"Croatia\",\"Cuba\",\"Dominican Republic\",\"Egypt, Arab Rep.\",\"El Salvador\",\"Eswatini\",\"Fiji\",\"Gambia, The\",\"Georgia\",\"Ghana\",\"Greece\",\"Grenada\",\"Guatemala\",\"Guinea\",\"Guinea-Bissau\",\"Guyana\",\"Haiti\",\"Honduras\",\"India\",\"Indonesia\",\"Iraq\",\"Jamaica\",\"Kazakhstan\",\"Kenya\",\"Kiribati\",\"Kosovo\",\"Kyrgyz Republic\",\"Lao PDR\",\"Latvia\",\"Lebanon\",\"Lesotho\",\"Liberia\",\"Lithuania\",\"Malawi\",\"Mali\",\"Marshall Islands\",\"Mauritania\",\"Mauritius\",\"Mexico\",\"Micronesia, Fed. Sts.\",\"Moldova\",\"Montenegro\",\"Morocco\",\"Myanmar\",\"Namibia\",\"Nauru\",\"Nepal\",\"Nicaragua\",\"Niger\",\"North Macedonia\",\"Pakistan\",\"Paraguay\",\"Poland\",\"Romania\",\"Rwanda\",\"Samoa\",\"Sao Tome and Principe\",\"Senegal\",\"Solomon Islands\",\"South Africa\",\"Sri Lanka\",\"St. Kitts and Nevis\",\"St. Vincent and the Grenadines\",\"Suriname\",\"Syrian Arab Republic\",\"Tajikistan\",\"Timor-Leste\",\"Togo\",\"Tonga\",\"Tunisia\",\"Turkiye\",\"Turkmenistan\",\"Tuvalu\",\"United Arab Emirates\",\"Uruguay\",\"Uzbekistan\",\"Vanuatu\",\"Viet Nam\",\"West Bank and Gaza\",\"Yemen, Rep.\",\"Zimbabwe\"],\"x\":[1625.2862362582,1590.27775355217,10101.698337451,14223.33867603,3498.57567722821,7151.33860752498,7231.04313773664,1805.7937710783,4847.68098187748,9255.8059757905,9106.59887343947,1116.75249734232,4688.84021818767,804.873520434808,2159.48628984457,7337.21354901812,3771.3988326831,3773.13676844095,5107.25027858374,4128.66101841916,1438.13131092546,1887.89056136563,1887.89056136563,1611.0990750748,1609.80618677889,1611.0990750748,526.140801271383,4531.03220675893,4134.93608656171,4041.99507105058,1815.61026180185,17881.5632533033,3280.0082139387,5327.39230422044,28186.9867351423,8381.88134621669,711.184543433623,244.14542219677,3534.34357478817,1400.89926522987,1479.86222187116,414.74032227842,8817.04560829162,1414.58668930422,2227.72013856074,2113.34152528591,13592.2545240617,8543.33006731328,7513.49798180543,2439.96728439968,3986.04901435439,3824.04678338499,5825.19966514413,632.001024153219,4356.92801624893,1998.72266581387,18582.0893411631,9309.26129609568,4454.02450948165,843.464279230956,718.245737766542,6220.97856820609,1389.35862299149,2403.30608839303,1957.96981329558,3839.78507460491,4725.19357334032,5273.14902681979,9247.58067886159,1675.98842173012,1566.44713639955,4009.3538108854,1242.77022029305,2439.4633552251,15695.1151541059,8679.89742212366,1062.4561920176,706.892691974846,16885.4073948373,500.165547203323,795.682801553765,4507.622862229,1634.64215833074,10841.6847754844,9693.33009125499,3320.3549760029,3454.95469039113,7803.35824465203,3288.50268554688,1263.28526342903,5453.57062341501,9361.03739658919,1027.96547447264,2127.28281786358,514.543398015622,5450.49706853299,1567.6406123353,6136.0583014952,13815.4999463758,10727.9708633184,756.547641107379,4261.64034322214,1547.82270967205,1385.1992136057,2283.57905127379,6734.47515314548,4388.20190593728,22148.5124341669,7996.63698412147,6112.88301430134,862.319063332871,844.36524984854,1285.5239757568,813.395006476051,4367.25660339844,3569.71883883673,10695.550196231,6354.53282979422,4181.43658600984,43063.9674770763,18995.3970195554,1916.76462520814,3032.19702965604,2992.07153198845,3620.36048715937,893.716492936242,1192.10701198862],\"y\":[0.0005421996993203772,0.00046579673347999856,0.0021665926852303934,0.0007415119930121135,0.001058721551402638,0.0001061300157019687,0.00010589590612440308,0.0025351247857677817,0.0006418507012371599,0.0004443187891066541,0.00033663559223602075,0.0008920923990202697,0.0005500807165141544,0.0014489983756867766,0.0009490813504719527,0.000383625668511606,0.0017697953640929717,0.0017244181510982786,0.000453366695316404,0.009144361929473651,0.0006378274945460861,0.0011994877086958654,0.0011994877086958654,0.0005112374551017613,0.000511526984704551,0.0005112374551017613,0.001321141535865051,0.0033993896550392087,0.0008860248014016539,0.009230964510612664,0.001086288979235344,0.00023281886334249087,0.0008455224605621793,0.008915337001715394,0.0013642406269464252,0.0019163512671872755,0.0007461739240117569,0.006135935579578782,0.0023966553029096172,0.0028880612840034947,0.001554122850972163,0.011754461558043532,0.00012934397639332052,0.0038363372825812956,0.0021843481403675214,0.0007549093658020825,0.0033104369927150507,0.0012788886776716251,0.0028227962090471488,0.00022871736351764613,0.008077037602522813,0.008795455927183666,0.012627595294547773,0.0015513303896972177,0.0021153410779602166,0.00016259537423108834,0.002330241562765379,0.0015712738068656396,0.0029867440505368854,0.0011213329467569453,0.0007436858517756431,0.008005219770141448,0.0032002450765832103,0.000704488553982708,0.0001622040324334811,0.00014851482228739503,0.0002498412338335761,0.0040340039937672165,0.0008816497111395551,0.0014036080678617043,0.006738007012179924,0.018701811219746702,0.004484527766125649,0.0014861565234340448,0.004890209695157364,0.03780282758020131,0.0015327439156700606,0.005176549957668205,0.0056346284458049295,0.0002681592314416615,0.0017603632681393927,0.04028651959226058,0.0007213916295974894,0.0018823815882367358,0.00010125427491592305,0.011618219686679344,0.015921956715129162,0.003181371942548922,0.00202113171498122,0.0020164724675430035,0.00363581153834117,0.002910460537579182,0.002769783914844136,0.0033702479981581757,0.00031405945793714783,0.00049072018248235,0.007276936456895635,0.0026163560963236954,5.2218804109859516e-05,0.002998410053951982,0.0004226375082489537,0.013601117372248712,0.008532177123190217,0.0013574535554087591,0.002490545869236243,0.00018857295224754118,0.004584500734720667,0.003997070210317045,0.008024708902973974,0.0016134549892010844,0.015466113424626908,0.0014656840914119898,0.0043531592981214335,0.0002543043591485579,0.019978181473224874,0.0018937567577475504,0.0031378599682954245,0.0016111566566689838,0.014314739564093092,0.0014219871076109557,0.0009029279410905266,0.0014993238361645765,0.0013885108479563394,4.0911148599585967e-05,0.005713381393798382,0.0013208858685289054,0.00406193408885208],\"type\":\"scatter\"}],                        {\"height\":700,\"legend\":{\"bgcolor\":\"#F5F6F9\",\"font\":{\"color\":\"#4D5663\"}},\"paper_bgcolor\":\"#F5F6F9\",\"plot_bgcolor\":\"#F5F6F9\",\"template\":{\"data\":{\"barpolar\":[{\"marker\":{\"line\":{\"color\":\"#E5ECF6\",\"width\":0.5},\"pattern\":{\"fillmode\":\"overlay\",\"size\":10,\"solidity\":0.2}},\"type\":\"barpolar\"}],\"bar\":[{\"error_x\":{\"color\":\"#2a3f5f\"},\"error_y\":{\"color\":\"#2a3f5f\"},\"marker\":{\"line\":{\"color\":\"#E5ECF6\",\"width\":0.5},\"pattern\":{\"fillmode\":\"overlay\",\"size\":10,\"solidity\":0.2}},\"type\":\"bar\"}],\"carpet\":[{\"aaxis\":{\"endlinecolor\":\"#2a3f5f\",\"gridcolor\":\"white\",\"linecolor\":\"white\",\"minorgridcolor\":\"white\",\"startlinecolor\":\"#2a3f5f\"},\"baxis\":{\"endlinecolor\":\"#2a3f5f\",\"gridcolor\":\"white\",\"linecolor\":\"white\",\"minorgridcolor\":\"white\",\"startlinecolor\":\"#2a3f5f\"},\"type\":\"carpet\"}],\"choropleth\":[{\"colorbar\":{\"outlinewidth\":0,\"ticks\":\"\"},\"type\":\"choropleth\"}],\"contourcarpet\":[{\"colorbar\":{\"outlinewidth\":0,\"ticks\":\"\"},\"type\":\"contourcarpet\"}],\"contour\":[{\"colorbar\":{\"outlinewidth\":0,\"ticks\":\"\"},\"colorscale\":[[0.0,\"#0d0887\"],[0.1111111111111111,\"#46039f\"],[0.2222222222222222,\"#7201a8\"],[0.3333333333333333,\"#9c179e\"],[0.4444444444444444,\"#bd3786\"],[0.5555555555555556,\"#d8576b\"],[0.6666666666666666,\"#ed7953\"],[0.7777777777777778,\"#fb9f3a\"],[0.8888888888888888,\"#fdca26\"],[1.0,\"#f0f921\"]],\"type\":\"contour\"}],\"heatmapgl\":[{\"colorbar\":{\"outlinewidth\":0,\"ticks\":\"\"},\"colorscale\":[[0.0,\"#0d0887\"],[0.1111111111111111,\"#46039f\"],[0.2222222222222222,\"#7201a8\"],[0.3333333333333333,\"#9c179e\"],[0.4444444444444444,\"#bd3786\"],[0.5555555555555556,\"#d8576b\"],[0.6666666666666666,\"#ed7953\"],[0.7777777777777778,\"#fb9f3a\"],[0.8888888888888888,\"#fdca26\"],[1.0,\"#f0f921\"]],\"type\":\"heatmapgl\"}],\"heatmap\":[{\"colorbar\":{\"outlinewidth\":0,\"ticks\":\"\"},\"colorscale\":[[0.0,\"#0d0887\"],[0.1111111111111111,\"#46039f\"],[0.2222222222222222,\"#7201a8\"],[0.3333333333333333,\"#9c179e\"],[0.4444444444444444,\"#bd3786\"],[0.5555555555555556,\"#d8576b\"],[0.6666666666666666,\"#ed7953\"],[0.7777777777777778,\"#fb9f3a\"],[0.8888888888888888,\"#fdca26\"],[1.0,\"#f0f921\"]],\"type\":\"heatmap\"}],\"histogram2dcontour\":[{\"colorbar\":{\"outlinewidth\":0,\"ticks\":\"\"},\"colorscale\":[[0.0,\"#0d0887\"],[0.1111111111111111,\"#46039f\"],[0.2222222222222222,\"#7201a8\"],[0.3333333333333333,\"#9c179e\"],[0.4444444444444444,\"#bd3786\"],[0.5555555555555556,\"#d8576b\"],[0.6666666666666666,\"#ed7953\"],[0.7777777777777778,\"#fb9f3a\"],[0.8888888888888888,\"#fdca26\"],[1.0,\"#f0f921\"]],\"type\":\"histogram2dcontour\"}],\"histogram2d\":[{\"colorbar\":{\"outlinewidth\":0,\"ticks\":\"\"},\"colorscale\":[[0.0,\"#0d0887\"],[0.1111111111111111,\"#46039f\"],[0.2222222222222222,\"#7201a8\"],[0.3333333333333333,\"#9c179e\"],[0.4444444444444444,\"#bd3786\"],[0.5555555555555556,\"#d8576b\"],[0.6666666666666666,\"#ed7953\"],[0.7777777777777778,\"#fb9f3a\"],[0.8888888888888888,\"#fdca26\"],[1.0,\"#f0f921\"]],\"type\":\"histogram2d\"}],\"histogram\":[{\"marker\":{\"pattern\":{\"fillmode\":\"overlay\",\"size\":10,\"solidity\":0.2}},\"type\":\"histogram\"}],\"mesh3d\":[{\"colorbar\":{\"outlinewidth\":0,\"ticks\":\"\"},\"type\":\"mesh3d\"}],\"parcoords\":[{\"line\":{\"colorbar\":{\"outlinewidth\":0,\"ticks\":\"\"}},\"type\":\"parcoords\"}],\"pie\":[{\"automargin\":true,\"type\":\"pie\"}],\"scatter3d\":[{\"line\":{\"colorbar\":{\"outlinewidth\":0,\"ticks\":\"\"}},\"marker\":{\"colorbar\":{\"outlinewidth\":0,\"ticks\":\"\"}},\"type\":\"scatter3d\"}],\"scattercarpet\":[{\"marker\":{\"colorbar\":{\"outlinewidth\":0,\"ticks\":\"\"}},\"type\":\"scattercarpet\"}],\"scattergeo\":[{\"marker\":{\"colorbar\":{\"outlinewidth\":0,\"ticks\":\"\"}},\"type\":\"scattergeo\"}],\"scattergl\":[{\"marker\":{\"colorbar\":{\"outlinewidth\":0,\"ticks\":\"\"}},\"type\":\"scattergl\"}],\"scattermapbox\":[{\"marker\":{\"colorbar\":{\"outlinewidth\":0,\"ticks\":\"\"}},\"type\":\"scattermapbox\"}],\"scatterpolargl\":[{\"marker\":{\"colorbar\":{\"outlinewidth\":0,\"ticks\":\"\"}},\"type\":\"scatterpolargl\"}],\"scatterpolar\":[{\"marker\":{\"colorbar\":{\"outlinewidth\":0,\"ticks\":\"\"}},\"type\":\"scatterpolar\"}],\"scatter\":[{\"fillpattern\":{\"fillmode\":\"overlay\",\"size\":10,\"solidity\":0.2},\"type\":\"scatter\"}],\"scatterternary\":[{\"marker\":{\"colorbar\":{\"outlinewidth\":0,\"ticks\":\"\"}},\"type\":\"scatterternary\"}],\"surface\":[{\"colorbar\":{\"outlinewidth\":0,\"ticks\":\"\"},\"colorscale\":[[0.0,\"#0d0887\"],[0.1111111111111111,\"#46039f\"],[0.2222222222222222,\"#7201a8\"],[0.3333333333333333,\"#9c179e\"],[0.4444444444444444,\"#bd3786\"],[0.5555555555555556,\"#d8576b\"],[0.6666666666666666,\"#ed7953\"],[0.7777777777777778,\"#fb9f3a\"],[0.8888888888888888,\"#fdca26\"],[1.0,\"#f0f921\"]],\"type\":\"surface\"}],\"table\":[{\"cells\":{\"fill\":{\"color\":\"#EBF0F8\"},\"line\":{\"color\":\"white\"}},\"header\":{\"fill\":{\"color\":\"#C8D4E3\"},\"line\":{\"color\":\"white\"}},\"type\":\"table\"}]},\"layout\":{\"annotationdefaults\":{\"arrowcolor\":\"#2a3f5f\",\"arrowhead\":0,\"arrowwidth\":1},\"autotypenumbers\":\"strict\",\"coloraxis\":{\"colorbar\":{\"outlinewidth\":0,\"ticks\":\"\"}},\"colorscale\":{\"diverging\":[[0,\"#8e0152\"],[0.1,\"#c51b7d\"],[0.2,\"#de77ae\"],[0.3,\"#f1b6da\"],[0.4,\"#fde0ef\"],[0.5,\"#f7f7f7\"],[0.6,\"#e6f5d0\"],[0.7,\"#b8e186\"],[0.8,\"#7fbc41\"],[0.9,\"#4d9221\"],[1,\"#276419\"]],\"sequential\":[[0.0,\"#0d0887\"],[0.1111111111111111,\"#46039f\"],[0.2222222222222222,\"#7201a8\"],[0.3333333333333333,\"#9c179e\"],[0.4444444444444444,\"#bd3786\"],[0.5555555555555556,\"#d8576b\"],[0.6666666666666666,\"#ed7953\"],[0.7777777777777778,\"#fb9f3a\"],[0.8888888888888888,\"#fdca26\"],[1.0,\"#f0f921\"]],\"sequentialminus\":[[0.0,\"#0d0887\"],[0.1111111111111111,\"#46039f\"],[0.2222222222222222,\"#7201a8\"],[0.3333333333333333,\"#9c179e\"],[0.4444444444444444,\"#bd3786\"],[0.5555555555555556,\"#d8576b\"],[0.6666666666666666,\"#ed7953\"],[0.7777777777777778,\"#fb9f3a\"],[0.8888888888888888,\"#fdca26\"],[1.0,\"#f0f921\"]]},\"colorway\":[\"#636efa\",\"#EF553B\",\"#00cc96\",\"#ab63fa\",\"#FFA15A\",\"#19d3f3\",\"#FF6692\",\"#B6E880\",\"#FF97FF\",\"#FECB52\"],\"font\":{\"color\":\"#2a3f5f\"},\"geo\":{\"bgcolor\":\"white\",\"lakecolor\":\"white\",\"landcolor\":\"#E5ECF6\",\"showlakes\":true,\"showland\":true,\"subunitcolor\":\"white\"},\"hoverlabel\":{\"align\":\"left\"},\"hovermode\":\"closest\",\"mapbox\":{\"style\":\"light\"},\"paper_bgcolor\":\"white\",\"plot_bgcolor\":\"#E5ECF6\",\"polar\":{\"angularaxis\":{\"gridcolor\":\"white\",\"linecolor\":\"white\",\"ticks\":\"\"},\"bgcolor\":\"#E5ECF6\",\"radialaxis\":{\"gridcolor\":\"white\",\"linecolor\":\"white\",\"ticks\":\"\"}},\"scene\":{\"xaxis\":{\"backgroundcolor\":\"#E5ECF6\",\"gridcolor\":\"white\",\"gridwidth\":2,\"linecolor\":\"white\",\"showbackground\":true,\"ticks\":\"\",\"zerolinecolor\":\"white\"},\"yaxis\":{\"backgroundcolor\":\"#E5ECF6\",\"gridcolor\":\"white\",\"gridwidth\":2,\"linecolor\":\"white\",\"showbackground\":true,\"ticks\":\"\",\"zerolinecolor\":\"white\"},\"zaxis\":{\"backgroundcolor\":\"#E5ECF6\",\"gridcolor\":\"white\",\"gridwidth\":2,\"linecolor\":\"white\",\"showbackground\":true,\"ticks\":\"\",\"zerolinecolor\":\"white\"}},\"shapedefaults\":{\"line\":{\"color\":\"#2a3f5f\"}},\"ternary\":{\"aaxis\":{\"gridcolor\":\"white\",\"linecolor\":\"white\",\"ticks\":\"\"},\"baxis\":{\"gridcolor\":\"white\",\"linecolor\":\"white\",\"ticks\":\"\"},\"bgcolor\":\"#E5ECF6\",\"caxis\":{\"gridcolor\":\"white\",\"linecolor\":\"white\",\"ticks\":\"\"}},\"title\":{\"x\":0.05},\"xaxis\":{\"automargin\":true,\"gridcolor\":\"white\",\"linecolor\":\"white\",\"ticks\":\"\",\"title\":{\"standoff\":15},\"zerolinecolor\":\"white\",\"zerolinewidth\":2},\"yaxis\":{\"automargin\":true,\"gridcolor\":\"white\",\"linecolor\":\"white\",\"ticks\":\"\",\"title\":{\"standoff\":15},\"zerolinecolor\":\"white\",\"zerolinewidth\":2}}},\"title\":{\"font\":{\"color\":\"#4D5663\"},\"text\":\"migration\"},\"width\":1000,\"xaxis\":{\"gridcolor\":\"#E1E5ED\",\"showgrid\":true,\"tickfont\":{\"color\":\"#4D5663\"},\"title\":{\"font\":{\"color\":\"#4D5663\"},\"text\":\"GDP per capita\"},\"zerolinecolor\":\"#E1E5ED\"},\"yaxis\":{\"gridcolor\":\"#E1E5ED\",\"showgrid\":true,\"tickfont\":{\"color\":\"#4D5663\"},\"title\":{\"font\":{\"color\":\"#4D5663\"},\"text\":\"Migration per Capita\"},\"zerolinecolor\":\"#E1E5ED\"}},                        {\"showLink\": true, \"linkText\": \"Export to plot.ly\", \"plotlyServerURL\": \"https://plot.ly\", \"responsive\": true}                    ).then(function(){\n",
       "                            \n",
       "var gd = document.getElementById('b24b002a-798b-40c4-aff8-7a0a72b6cd8b');\n",
       "var x = new MutationObserver(function (mutations, observer) {{\n",
       "        var display = window.getComputedStyle(gd).display;\n",
       "        if (!display || display === 'none') {{\n",
       "            console.log([gd, 'removed!']);\n",
       "            Plotly.purge(gd);\n",
       "            observer.disconnect();\n",
       "        }}\n",
       "}});\n",
       "\n",
       "// Listen for the removal of the full notebook cells\n",
       "var notebookContainer = gd.closest('#notebook-container');\n",
       "if (notebookContainer) {{\n",
       "    x.observe(notebookContainer, {childList: true});\n",
       "}}\n",
       "\n",
       "// Listen for the clearing of the current output cell\n",
       "var outputEl = gd.closest('.output');\n",
       "if (outputEl) {{\n",
       "    x.observe(outputEl, {childList: true});\n",
       "}}\n",
       "\n",
       "                        })                };                });            </script>        </div>"
      ]
     },
     "metadata": {},
     "output_type": "display_data"
    }
   ],
   "source": [
    "mig_away.iplot(kind='scatter', mode = 'markers', size = 8,\n",
    "         x = 'GDP per capita', y=\"Migration per Capita\",\n",
    "         text=mig_away.reset_index('country')['country'].values.tolist(),\n",
    "         xTitle=\"GDP per capita\",yTitle=\"Migration per Capita\",\n",
    "         title=\"migration\", dimensions=(1000, 700))"
   ]
  },
  {
   "cell_type": "code",
   "execution_count": 25,
   "metadata": {},
   "outputs": [
    {
     "data": {
      "application/vnd.plotly.v1+json": {
       "config": {
        "linkText": "Export to plot.ly",
        "plotlyServerURL": "https://plot.ly",
        "showLink": true
       },
       "data": [
        {
         "line": {
          "color": "rgba(255, 153, 51, 1.0)",
          "dash": "solid",
          "shape": "linear",
          "width": 1.3
         },
         "marker": {
          "size": 8,
          "symbol": "circle"
         },
         "mode": "markers",
         "name": "Migration per Capita",
         "text": [
          "Africa Eastern and Southern",
          "Africa Western and Central",
          "Caribbean small states",
          "Central Europe and the Baltics",
          "Early-demographic dividend",
          "East Asia & Pacific (excluding high income)",
          "East Asia & Pacific (IDA & IBRD countries)",
          "Fragile and conflict affected situations",
          "IDA & IBRD total",
          "Latin America & Caribbean",
          "Latin America & the Caribbean (IDA & IBRD countries)",
          "Least developed countries: UN classification",
          "Low & middle income",
          "Low income",
          "Lower middle income",
          "Middle East & North Africa",
          "Middle East & North Africa (excluding high income)",
          "Middle East & North Africa (IDA & IBRD countries)",
          "Middle income",
          "Pacific island small states",
          "Pre-demographic dividend",
          "South Asia",
          "South Asia (IDA & IBRD)",
          "Sub-Saharan Africa",
          "Sub-Saharan Africa (excluding high income)",
          "Sub-Saharan Africa (IDA & IBRD countries)",
          "Afghanistan",
          "Albania",
          "Algeria",
          "Armenia",
          "Bangladesh",
          "Barbados",
          "Bolivia",
          "Bosnia and Herzegovina",
          "Brunei Darussalam",
          "Bulgaria",
          "Burkina Faso",
          "Burundi",
          "Cabo Verde",
          "Cambodia",
          "Cameroon",
          "Central African Republic",
          "China",
          "Comoros",
          "Congo, Rep.",
          "Cote d'Ivoire",
          "Croatia",
          "Cuba",
          "Dominican Republic",
          "Egypt, Arab Rep.",
          "El Salvador",
          "Eswatini",
          "Fiji",
          "Gambia, The",
          "Georgia",
          "Ghana",
          "Greece",
          "Grenada",
          "Guatemala",
          "Guinea",
          "Guinea-Bissau",
          "Guyana",
          "Haiti",
          "Honduras",
          "India",
          "Indonesia",
          "Iraq",
          "Jamaica",
          "Kazakhstan",
          "Kenya",
          "Kiribati",
          "Kosovo",
          "Kyrgyz Republic",
          "Lao PDR",
          "Latvia",
          "Lebanon",
          "Lesotho",
          "Liberia",
          "Lithuania",
          "Malawi",
          "Mali",
          "Marshall Islands",
          "Mauritania",
          "Mauritius",
          "Mexico",
          "Micronesia, Fed. Sts.",
          "Moldova",
          "Montenegro",
          "Morocco",
          "Myanmar",
          "Namibia",
          "Nauru",
          "Nepal",
          "Nicaragua",
          "Niger",
          "North Macedonia",
          "Pakistan",
          "Paraguay",
          "Poland",
          "Romania",
          "Rwanda",
          "Samoa",
          "Sao Tome and Principe",
          "Senegal",
          "Solomon Islands",
          "South Africa",
          "Sri Lanka",
          "St. Kitts and Nevis",
          "St. Vincent and the Grenadines",
          "Suriname",
          "Syrian Arab Republic",
          "Tajikistan",
          "Timor-Leste",
          "Togo",
          "Tonga",
          "Tunisia",
          "Turkiye",
          "Turkmenistan",
          "Tuvalu",
          "United Arab Emirates",
          "Uruguay",
          "Uzbekistan",
          "Vanuatu",
          "Viet Nam",
          "West Bank and Gaza",
          "Yemen, Rep.",
          "Zimbabwe"
         ],
         "type": "scatter",
         "x": [
          16.5452134246362,
          17.6641013418867,
          6.08377894866232,
          2.55687524980219,
          7.65182363121131,
          4.23160158556491,
          4.20699297028015,
          15.7860649452951,
          8.604508838787,
          6.8,
          6.79371533678839,
          15.2861945519585,
          8.60911695236009,
          17.7,
          8.7,
          6.1,
          6.36167517364509,
          6.3783996283151,
          7.23878246637329,
          6.89208042592667,
          17.6827575428142,
          7.9,
          7.90216599421294,
          17,
          16.999623833257,
          16.9990276298071,
          15.8,
          3,
          4.4,
          4,
          9.2,
          3.7,
          7,
          2.4,
          2.3,
          3.2,
          13.9,
          17.5,
          3.4,
          5.7,
          21,
          24.4,
          2.5,
          6,
          8.8,
          22.3,
          2.1,
          3,
          6.3,
          5.5,
          10.4,
          12.1,
          6.9,
          13.7,
          4.1,
          12.6,
          1.7,
          4.6,
          8.6,
          20.8,
          17.7,
          9,
          11.8,
          7.4,
          7.2,
          7.3,
          7,
          5.2,
          4.5,
          11.2,
          11.6,
          3.8,
          4.5,
          9.9,
          3.1,
          3.7,
          15.1,
          21,
          3.2,
          13.6,
          19.1,
          8.6,
          10.5,
          4,
          5.5,
          7.8,
          4.3,
          2,
          3.4,
          5.8,
          14.6,
          8.3,
          7,
          6.3,
          24.3,
          2.3,
          9.7,
          6.6,
          2.4,
          3.2,
          10.9,
          4.9,
          8.7,
          11.4,
          6.6,
          10.8,
          2.9,
          8,
          9,
          6.6,
          11.6,
          2.8,
          19.6,
          13.3,
          4.2,
          4.5,
          3.3,
          6.8,
          7.1,
          3.1,
          4.5,
          5.6,
          7.4,
          4.7,
          5.2,
          10.1,
          17.1
         ],
         "y": [
          0.0005421996993203772,
          0.00046579673347999856,
          0.0021665926852303934,
          0.0007415119930121135,
          0.001058721551402638,
          0.0001061300157019687,
          0.00010589590612440308,
          0.0025351247857677817,
          0.0006418507012371599,
          0.0004443187891066541,
          0.00033663559223602075,
          0.0008920923990202697,
          0.0005500807165141544,
          0.0014489983756867766,
          0.0009490813504719527,
          0.000383625668511606,
          0.0017697953640929717,
          0.0017244181510982786,
          0.000453366695316404,
          0.009144361929473651,
          0.0006378274945460861,
          0.0011994877086958654,
          0.0011994877086958654,
          0.0005112374551017613,
          0.000511526984704551,
          0.0005112374551017613,
          0.001321141535865051,
          0.0033993896550392087,
          0.0008860248014016539,
          0.009230964510612664,
          0.001086288979235344,
          0.00023281886334249087,
          0.0008455224605621793,
          0.008915337001715394,
          0.0013642406269464252,
          0.0019163512671872755,
          0.0007461739240117569,
          0.006135935579578782,
          0.0023966553029096172,
          0.0028880612840034947,
          0.001554122850972163,
          0.011754461558043532,
          0.00012934397639332052,
          0.0038363372825812956,
          0.0021843481403675214,
          0.0007549093658020825,
          0.0033104369927150507,
          0.0012788886776716251,
          0.0028227962090471488,
          0.00022871736351764613,
          0.008077037602522813,
          0.008795455927183666,
          0.012627595294547773,
          0.0015513303896972177,
          0.0021153410779602166,
          0.00016259537423108834,
          0.002330241562765379,
          0.0015712738068656396,
          0.0029867440505368854,
          0.0011213329467569453,
          0.0007436858517756431,
          0.008005219770141448,
          0.0032002450765832103,
          0.000704488553982708,
          0.0001622040324334811,
          0.00014851482228739503,
          0.0002498412338335761,
          0.0040340039937672165,
          0.0008816497111395551,
          0.0014036080678617043,
          0.006738007012179924,
          0.018701811219746702,
          0.004484527766125649,
          0.0014861565234340448,
          0.004890209695157364,
          0.03780282758020131,
          0.0015327439156700606,
          0.005176549957668205,
          0.0056346284458049295,
          0.0002681592314416615,
          0.0017603632681393927,
          0.04028651959226058,
          0.0007213916295974894,
          0.0018823815882367358,
          0.00010125427491592305,
          0.011618219686679344,
          0.015921956715129162,
          0.003181371942548922,
          0.00202113171498122,
          0.0020164724675430035,
          0.00363581153834117,
          0.002910460537579182,
          0.002769783914844136,
          0.0033702479981581757,
          0.00031405945793714783,
          0.00049072018248235,
          0.007276936456895635,
          0.0026163560963236954,
          5.2218804109859516e-05,
          0.002998410053951982,
          0.0004226375082489537,
          0.013601117372248712,
          0.008532177123190217,
          0.0013574535554087591,
          0.002490545869236243,
          0.00018857295224754118,
          0.004584500734720667,
          0.003997070210317045,
          0.008024708902973974,
          0.0016134549892010844,
          0.015466113424626908,
          0.0014656840914119898,
          0.0043531592981214335,
          0.0002543043591485579,
          0.019978181473224874,
          0.0018937567577475504,
          0.0031378599682954245,
          0.0016111566566689838,
          0.014314739564093092,
          0.0014219871076109557,
          0.0009029279410905266,
          0.0014993238361645765,
          0.0013885108479563394,
          4.0911148599585967e-05,
          0.005713381393798382,
          0.0013208858685289054,
          0.00406193408885208
         ]
        }
       ],
       "layout": {
        "height": 700,
        "legend": {
         "bgcolor": "#F5F6F9",
         "font": {
          "color": "#4D5663"
         }
        },
        "paper_bgcolor": "#F5F6F9",
        "plot_bgcolor": "#F5F6F9",
        "template": {
         "data": {
          "bar": [
           {
            "error_x": {
             "color": "#2a3f5f"
            },
            "error_y": {
             "color": "#2a3f5f"
            },
            "marker": {
             "line": {
              "color": "#E5ECF6",
              "width": 0.5
             },
             "pattern": {
              "fillmode": "overlay",
              "size": 10,
              "solidity": 0.2
             }
            },
            "type": "bar"
           }
          ],
          "barpolar": [
           {
            "marker": {
             "line": {
              "color": "#E5ECF6",
              "width": 0.5
             },
             "pattern": {
              "fillmode": "overlay",
              "size": 10,
              "solidity": 0.2
             }
            },
            "type": "barpolar"
           }
          ],
          "carpet": [
           {
            "aaxis": {
             "endlinecolor": "#2a3f5f",
             "gridcolor": "white",
             "linecolor": "white",
             "minorgridcolor": "white",
             "startlinecolor": "#2a3f5f"
            },
            "baxis": {
             "endlinecolor": "#2a3f5f",
             "gridcolor": "white",
             "linecolor": "white",
             "minorgridcolor": "white",
             "startlinecolor": "#2a3f5f"
            },
            "type": "carpet"
           }
          ],
          "choropleth": [
           {
            "colorbar": {
             "outlinewidth": 0,
             "ticks": ""
            },
            "type": "choropleth"
           }
          ],
          "contour": [
           {
            "colorbar": {
             "outlinewidth": 0,
             "ticks": ""
            },
            "colorscale": [
             [
              0,
              "#0d0887"
             ],
             [
              0.1111111111111111,
              "#46039f"
             ],
             [
              0.2222222222222222,
              "#7201a8"
             ],
             [
              0.3333333333333333,
              "#9c179e"
             ],
             [
              0.4444444444444444,
              "#bd3786"
             ],
             [
              0.5555555555555556,
              "#d8576b"
             ],
             [
              0.6666666666666666,
              "#ed7953"
             ],
             [
              0.7777777777777778,
              "#fb9f3a"
             ],
             [
              0.8888888888888888,
              "#fdca26"
             ],
             [
              1,
              "#f0f921"
             ]
            ],
            "type": "contour"
           }
          ],
          "contourcarpet": [
           {
            "colorbar": {
             "outlinewidth": 0,
             "ticks": ""
            },
            "type": "contourcarpet"
           }
          ],
          "heatmap": [
           {
            "colorbar": {
             "outlinewidth": 0,
             "ticks": ""
            },
            "colorscale": [
             [
              0,
              "#0d0887"
             ],
             [
              0.1111111111111111,
              "#46039f"
             ],
             [
              0.2222222222222222,
              "#7201a8"
             ],
             [
              0.3333333333333333,
              "#9c179e"
             ],
             [
              0.4444444444444444,
              "#bd3786"
             ],
             [
              0.5555555555555556,
              "#d8576b"
             ],
             [
              0.6666666666666666,
              "#ed7953"
             ],
             [
              0.7777777777777778,
              "#fb9f3a"
             ],
             [
              0.8888888888888888,
              "#fdca26"
             ],
             [
              1,
              "#f0f921"
             ]
            ],
            "type": "heatmap"
           }
          ],
          "heatmapgl": [
           {
            "colorbar": {
             "outlinewidth": 0,
             "ticks": ""
            },
            "colorscale": [
             [
              0,
              "#0d0887"
             ],
             [
              0.1111111111111111,
              "#46039f"
             ],
             [
              0.2222222222222222,
              "#7201a8"
             ],
             [
              0.3333333333333333,
              "#9c179e"
             ],
             [
              0.4444444444444444,
              "#bd3786"
             ],
             [
              0.5555555555555556,
              "#d8576b"
             ],
             [
              0.6666666666666666,
              "#ed7953"
             ],
             [
              0.7777777777777778,
              "#fb9f3a"
             ],
             [
              0.8888888888888888,
              "#fdca26"
             ],
             [
              1,
              "#f0f921"
             ]
            ],
            "type": "heatmapgl"
           }
          ],
          "histogram": [
           {
            "marker": {
             "pattern": {
              "fillmode": "overlay",
              "size": 10,
              "solidity": 0.2
             }
            },
            "type": "histogram"
           }
          ],
          "histogram2d": [
           {
            "colorbar": {
             "outlinewidth": 0,
             "ticks": ""
            },
            "colorscale": [
             [
              0,
              "#0d0887"
             ],
             [
              0.1111111111111111,
              "#46039f"
             ],
             [
              0.2222222222222222,
              "#7201a8"
             ],
             [
              0.3333333333333333,
              "#9c179e"
             ],
             [
              0.4444444444444444,
              "#bd3786"
             ],
             [
              0.5555555555555556,
              "#d8576b"
             ],
             [
              0.6666666666666666,
              "#ed7953"
             ],
             [
              0.7777777777777778,
              "#fb9f3a"
             ],
             [
              0.8888888888888888,
              "#fdca26"
             ],
             [
              1,
              "#f0f921"
             ]
            ],
            "type": "histogram2d"
           }
          ],
          "histogram2dcontour": [
           {
            "colorbar": {
             "outlinewidth": 0,
             "ticks": ""
            },
            "colorscale": [
             [
              0,
              "#0d0887"
             ],
             [
              0.1111111111111111,
              "#46039f"
             ],
             [
              0.2222222222222222,
              "#7201a8"
             ],
             [
              0.3333333333333333,
              "#9c179e"
             ],
             [
              0.4444444444444444,
              "#bd3786"
             ],
             [
              0.5555555555555556,
              "#d8576b"
             ],
             [
              0.6666666666666666,
              "#ed7953"
             ],
             [
              0.7777777777777778,
              "#fb9f3a"
             ],
             [
              0.8888888888888888,
              "#fdca26"
             ],
             [
              1,
              "#f0f921"
             ]
            ],
            "type": "histogram2dcontour"
           }
          ],
          "mesh3d": [
           {
            "colorbar": {
             "outlinewidth": 0,
             "ticks": ""
            },
            "type": "mesh3d"
           }
          ],
          "parcoords": [
           {
            "line": {
             "colorbar": {
              "outlinewidth": 0,
              "ticks": ""
             }
            },
            "type": "parcoords"
           }
          ],
          "pie": [
           {
            "automargin": true,
            "type": "pie"
           }
          ],
          "scatter": [
           {
            "fillpattern": {
             "fillmode": "overlay",
             "size": 10,
             "solidity": 0.2
            },
            "type": "scatter"
           }
          ],
          "scatter3d": [
           {
            "line": {
             "colorbar": {
              "outlinewidth": 0,
              "ticks": ""
             }
            },
            "marker": {
             "colorbar": {
              "outlinewidth": 0,
              "ticks": ""
             }
            },
            "type": "scatter3d"
           }
          ],
          "scattercarpet": [
           {
            "marker": {
             "colorbar": {
              "outlinewidth": 0,
              "ticks": ""
             }
            },
            "type": "scattercarpet"
           }
          ],
          "scattergeo": [
           {
            "marker": {
             "colorbar": {
              "outlinewidth": 0,
              "ticks": ""
             }
            },
            "type": "scattergeo"
           }
          ],
          "scattergl": [
           {
            "marker": {
             "colorbar": {
              "outlinewidth": 0,
              "ticks": ""
             }
            },
            "type": "scattergl"
           }
          ],
          "scattermapbox": [
           {
            "marker": {
             "colorbar": {
              "outlinewidth": 0,
              "ticks": ""
             }
            },
            "type": "scattermapbox"
           }
          ],
          "scatterpolar": [
           {
            "marker": {
             "colorbar": {
              "outlinewidth": 0,
              "ticks": ""
             }
            },
            "type": "scatterpolar"
           }
          ],
          "scatterpolargl": [
           {
            "marker": {
             "colorbar": {
              "outlinewidth": 0,
              "ticks": ""
             }
            },
            "type": "scatterpolargl"
           }
          ],
          "scatterternary": [
           {
            "marker": {
             "colorbar": {
              "outlinewidth": 0,
              "ticks": ""
             }
            },
            "type": "scatterternary"
           }
          ],
          "surface": [
           {
            "colorbar": {
             "outlinewidth": 0,
             "ticks": ""
            },
            "colorscale": [
             [
              0,
              "#0d0887"
             ],
             [
              0.1111111111111111,
              "#46039f"
             ],
             [
              0.2222222222222222,
              "#7201a8"
             ],
             [
              0.3333333333333333,
              "#9c179e"
             ],
             [
              0.4444444444444444,
              "#bd3786"
             ],
             [
              0.5555555555555556,
              "#d8576b"
             ],
             [
              0.6666666666666666,
              "#ed7953"
             ],
             [
              0.7777777777777778,
              "#fb9f3a"
             ],
             [
              0.8888888888888888,
              "#fdca26"
             ],
             [
              1,
              "#f0f921"
             ]
            ],
            "type": "surface"
           }
          ],
          "table": [
           {
            "cells": {
             "fill": {
              "color": "#EBF0F8"
             },
             "line": {
              "color": "white"
             }
            },
            "header": {
             "fill": {
              "color": "#C8D4E3"
             },
             "line": {
              "color": "white"
             }
            },
            "type": "table"
           }
          ]
         },
         "layout": {
          "annotationdefaults": {
           "arrowcolor": "#2a3f5f",
           "arrowhead": 0,
           "arrowwidth": 1
          },
          "autotypenumbers": "strict",
          "coloraxis": {
           "colorbar": {
            "outlinewidth": 0,
            "ticks": ""
           }
          },
          "colorscale": {
           "diverging": [
            [
             0,
             "#8e0152"
            ],
            [
             0.1,
             "#c51b7d"
            ],
            [
             0.2,
             "#de77ae"
            ],
            [
             0.3,
             "#f1b6da"
            ],
            [
             0.4,
             "#fde0ef"
            ],
            [
             0.5,
             "#f7f7f7"
            ],
            [
             0.6,
             "#e6f5d0"
            ],
            [
             0.7,
             "#b8e186"
            ],
            [
             0.8,
             "#7fbc41"
            ],
            [
             0.9,
             "#4d9221"
            ],
            [
             1,
             "#276419"
            ]
           ],
           "sequential": [
            [
             0,
             "#0d0887"
            ],
            [
             0.1111111111111111,
             "#46039f"
            ],
            [
             0.2222222222222222,
             "#7201a8"
            ],
            [
             0.3333333333333333,
             "#9c179e"
            ],
            [
             0.4444444444444444,
             "#bd3786"
            ],
            [
             0.5555555555555556,
             "#d8576b"
            ],
            [
             0.6666666666666666,
             "#ed7953"
            ],
            [
             0.7777777777777778,
             "#fb9f3a"
            ],
            [
             0.8888888888888888,
             "#fdca26"
            ],
            [
             1,
             "#f0f921"
            ]
           ],
           "sequentialminus": [
            [
             0,
             "#0d0887"
            ],
            [
             0.1111111111111111,
             "#46039f"
            ],
            [
             0.2222222222222222,
             "#7201a8"
            ],
            [
             0.3333333333333333,
             "#9c179e"
            ],
            [
             0.4444444444444444,
             "#bd3786"
            ],
            [
             0.5555555555555556,
             "#d8576b"
            ],
            [
             0.6666666666666666,
             "#ed7953"
            ],
            [
             0.7777777777777778,
             "#fb9f3a"
            ],
            [
             0.8888888888888888,
             "#fdca26"
            ],
            [
             1,
             "#f0f921"
            ]
           ]
          },
          "colorway": [
           "#636efa",
           "#EF553B",
           "#00cc96",
           "#ab63fa",
           "#FFA15A",
           "#19d3f3",
           "#FF6692",
           "#B6E880",
           "#FF97FF",
           "#FECB52"
          ],
          "font": {
           "color": "#2a3f5f"
          },
          "geo": {
           "bgcolor": "white",
           "lakecolor": "white",
           "landcolor": "#E5ECF6",
           "showlakes": true,
           "showland": true,
           "subunitcolor": "white"
          },
          "hoverlabel": {
           "align": "left"
          },
          "hovermode": "closest",
          "mapbox": {
           "style": "light"
          },
          "paper_bgcolor": "white",
          "plot_bgcolor": "#E5ECF6",
          "polar": {
           "angularaxis": {
            "gridcolor": "white",
            "linecolor": "white",
            "ticks": ""
           },
           "bgcolor": "#E5ECF6",
           "radialaxis": {
            "gridcolor": "white",
            "linecolor": "white",
            "ticks": ""
           }
          },
          "scene": {
           "xaxis": {
            "backgroundcolor": "#E5ECF6",
            "gridcolor": "white",
            "gridwidth": 2,
            "linecolor": "white",
            "showbackground": true,
            "ticks": "",
            "zerolinecolor": "white"
           },
           "yaxis": {
            "backgroundcolor": "#E5ECF6",
            "gridcolor": "white",
            "gridwidth": 2,
            "linecolor": "white",
            "showbackground": true,
            "ticks": "",
            "zerolinecolor": "white"
           },
           "zaxis": {
            "backgroundcolor": "#E5ECF6",
            "gridcolor": "white",
            "gridwidth": 2,
            "linecolor": "white",
            "showbackground": true,
            "ticks": "",
            "zerolinecolor": "white"
           }
          },
          "shapedefaults": {
           "line": {
            "color": "#2a3f5f"
           }
          },
          "ternary": {
           "aaxis": {
            "gridcolor": "white",
            "linecolor": "white",
            "ticks": ""
           },
           "baxis": {
            "gridcolor": "white",
            "linecolor": "white",
            "ticks": ""
           },
           "bgcolor": "#E5ECF6",
           "caxis": {
            "gridcolor": "white",
            "linecolor": "white",
            "ticks": ""
           }
          },
          "title": {
           "x": 0.05
          },
          "xaxis": {
           "automargin": true,
           "gridcolor": "white",
           "linecolor": "white",
           "ticks": "",
           "title": {
            "standoff": 15
           },
           "zerolinecolor": "white",
           "zerolinewidth": 2
          },
          "yaxis": {
           "automargin": true,
           "gridcolor": "white",
           "linecolor": "white",
           "ticks": "",
           "title": {
            "standoff": 15
           },
           "zerolinecolor": "white",
           "zerolinewidth": 2
          }
         }
        },
        "title": {
         "font": {
          "color": "#4D5663"
         },
         "text": "migration"
        },
        "width": 1000,
        "xaxis": {
         "autorange": true,
         "gridcolor": "#E1E5ED",
         "range": [
          0.2698391420911528,
          25.830160857908847
         ],
         "showgrid": true,
         "tickfont": {
          "color": "#4D5663"
         },
         "title": {
          "font": {
           "color": "#4D5663"
          },
          "text": "Death Probability (5-9)"
         },
         "type": "linear",
         "zerolinecolor": "#E1E5ED"
        },
        "yaxis": {
         "autorange": true,
         "gridcolor": "#E1E5ED",
         "range": [
          -0.0026831365844866384,
          0.043010567325346805
         ],
         "showgrid": true,
         "tickfont": {
          "color": "#4D5663"
         },
         "title": {
          "font": {
           "color": "#4D5663"
          },
          "text": "Migration per Capita"
         },
         "type": "linear",
         "zerolinecolor": "#E1E5ED"
        }
       }
      },
      "image/png": "[encoded data removed]",
      "text/html": [
       "<div>                            <div id=\"9e1d8ac1-f4a6-41f2-95b9-65fb473c7396\" class=\"plotly-graph-div\" style=\"height:700px; width:1000px;\"></div>            <script type=\"text/javascript\">                require([\"plotly\"], function(Plotly) {                    window.PLOTLYENV=window.PLOTLYENV || {};\n",
       "                    window.PLOTLYENV.BASE_URL='https://plot.ly';                                    if (document.getElementById(\"9e1d8ac1-f4a6-41f2-95b9-65fb473c7396\")) {                    Plotly.newPlot(                        \"9e1d8ac1-f4a6-41f2-95b9-65fb473c7396\",                        [{\"line\":{\"color\":\"rgba(255, 153, 51, 1.0)\",\"dash\":\"solid\",\"shape\":\"linear\",\"width\":1.3},\"marker\":{\"size\":8,\"symbol\":\"circle\"},\"mode\":\"markers\",\"name\":\"Migration per Capita\",\"text\":[\"Africa Eastern and Southern\",\"Africa Western and Central\",\"Caribbean small states\",\"Central Europe and the Baltics\",\"Early-demographic dividend\",\"East Asia & Pacific (excluding high income)\",\"East Asia & Pacific (IDA & IBRD countries)\",\"Fragile and conflict affected situations\",\"IDA & IBRD total\",\"Latin America & Caribbean\",\"Latin America & the Caribbean (IDA & IBRD countries)\",\"Least developed countries: UN classification\",\"Low & middle income\",\"Low income\",\"Lower middle income\",\"Middle East & North Africa\",\"Middle East & North Africa (excluding high income)\",\"Middle East & North Africa (IDA & IBRD countries)\",\"Middle income\",\"Pacific island small states\",\"Pre-demographic dividend\",\"South Asia\",\"South Asia (IDA & IBRD)\",\"Sub-Saharan Africa\",\"Sub-Saharan Africa (excluding high income)\",\"Sub-Saharan Africa (IDA & IBRD countries)\",\"Afghanistan\",\"Albania\",\"Algeria\",\"Armenia\",\"Bangladesh\",\"Barbados\",\"Bolivia\",\"Bosnia and Herzegovina\",\"Brunei Darussalam\",\"Bulgaria\",\"Burkina Faso\",\"Burundi\",\"Cabo Verde\",\"Cambodia\",\"Cameroon\",\"Central African Republic\",\"China\",\"Comoros\",\"Congo, Rep.\",\"Cote d'Ivoire\",\"Croatia\",\"Cuba\",\"Dominican Republic\",\"Egypt, Arab Rep.\",\"El Salvador\",\"Eswatini\",\"Fiji\",\"Gambia, The\",\"Georgia\",\"Ghana\",\"Greece\",\"Grenada\",\"Guatemala\",\"Guinea\",\"Guinea-Bissau\",\"Guyana\",\"Haiti\",\"Honduras\",\"India\",\"Indonesia\",\"Iraq\",\"Jamaica\",\"Kazakhstan\",\"Kenya\",\"Kiribati\",\"Kosovo\",\"Kyrgyz Republic\",\"Lao PDR\",\"Latvia\",\"Lebanon\",\"Lesotho\",\"Liberia\",\"Lithuania\",\"Malawi\",\"Mali\",\"Marshall Islands\",\"Mauritania\",\"Mauritius\",\"Mexico\",\"Micronesia, Fed. Sts.\",\"Moldova\",\"Montenegro\",\"Morocco\",\"Myanmar\",\"Namibia\",\"Nauru\",\"Nepal\",\"Nicaragua\",\"Niger\",\"North Macedonia\",\"Pakistan\",\"Paraguay\",\"Poland\",\"Romania\",\"Rwanda\",\"Samoa\",\"Sao Tome and Principe\",\"Senegal\",\"Solomon Islands\",\"South Africa\",\"Sri Lanka\",\"St. Kitts and Nevis\",\"St. Vincent and the Grenadines\",\"Suriname\",\"Syrian Arab Republic\",\"Tajikistan\",\"Timor-Leste\",\"Togo\",\"Tonga\",\"Tunisia\",\"Turkiye\",\"Turkmenistan\",\"Tuvalu\",\"United Arab Emirates\",\"Uruguay\",\"Uzbekistan\",\"Vanuatu\",\"Viet Nam\",\"West Bank and Gaza\",\"Yemen, Rep.\",\"Zimbabwe\"],\"x\":[16.5452134246362,17.6641013418867,6.08377894866232,2.55687524980219,7.65182363121131,4.23160158556491,4.20699297028015,15.7860649452951,8.604508838787,6.8,6.79371533678839,15.2861945519585,8.60911695236009,17.7,8.7,6.1,6.36167517364509,6.3783996283151,7.23878246637329,6.89208042592667,17.6827575428142,7.9,7.90216599421294,17.0,16.999623833257,16.9990276298071,15.8,3.0,4.4,4.0,9.2,3.7,7.0,2.4,2.3,3.2,13.9,17.5,3.4,5.7,21.0,24.4,2.5,6.0,8.8,22.3,2.1,3.0,6.3,5.5,10.4,12.1,6.9,13.7,4.1,12.6,1.7,4.6,8.6,20.8,17.7,9.0,11.8,7.4,7.2,7.3,7.0,5.2,4.5,11.2,11.6,3.8,4.5,9.9,3.1,3.7,15.1,21.0,3.2,13.6,19.1,8.6,10.5,4.0,5.5,7.8,4.3,2.0,3.4,5.8,14.6,8.3,7.0,6.3,24.3,2.3,9.7,6.6,2.4,3.2,10.9,4.9,8.7,11.4,6.6,10.8,2.9,8.0,9.0,6.6,11.6,2.8,19.6,13.3,4.2,4.5,3.3,6.8,7.1,3.1,4.5,5.6,7.4,4.7,5.2,10.1,17.1],\"y\":[0.0005421996993203772,0.00046579673347999856,0.0021665926852303934,0.0007415119930121135,0.001058721551402638,0.0001061300157019687,0.00010589590612440308,0.0025351247857677817,0.0006418507012371599,0.0004443187891066541,0.00033663559223602075,0.0008920923990202697,0.0005500807165141544,0.0014489983756867766,0.0009490813504719527,0.000383625668511606,0.0017697953640929717,0.0017244181510982786,0.000453366695316404,0.009144361929473651,0.0006378274945460861,0.0011994877086958654,0.0011994877086958654,0.0005112374551017613,0.000511526984704551,0.0005112374551017613,0.001321141535865051,0.0033993896550392087,0.0008860248014016539,0.009230964510612664,0.001086288979235344,0.00023281886334249087,0.0008455224605621793,0.008915337001715394,0.0013642406269464252,0.0019163512671872755,0.0007461739240117569,0.006135935579578782,0.0023966553029096172,0.0028880612840034947,0.001554122850972163,0.011754461558043532,0.00012934397639332052,0.0038363372825812956,0.0021843481403675214,0.0007549093658020825,0.0033104369927150507,0.0012788886776716251,0.0028227962090471488,0.00022871736351764613,0.008077037602522813,0.008795455927183666,0.012627595294547773,0.0015513303896972177,0.0021153410779602166,0.00016259537423108834,0.002330241562765379,0.0015712738068656396,0.0029867440505368854,0.0011213329467569453,0.0007436858517756431,0.008005219770141448,0.0032002450765832103,0.000704488553982708,0.0001622040324334811,0.00014851482228739503,0.0002498412338335761,0.0040340039937672165,0.0008816497111395551,0.0014036080678617043,0.006738007012179924,0.018701811219746702,0.004484527766125649,0.0014861565234340448,0.004890209695157364,0.03780282758020131,0.0015327439156700606,0.005176549957668205,0.0056346284458049295,0.0002681592314416615,0.0017603632681393927,0.04028651959226058,0.0007213916295974894,0.0018823815882367358,0.00010125427491592305,0.011618219686679344,0.015921956715129162,0.003181371942548922,0.00202113171498122,0.0020164724675430035,0.00363581153834117,0.002910460537579182,0.002769783914844136,0.0033702479981581757,0.00031405945793714783,0.00049072018248235,0.007276936456895635,0.0026163560963236954,5.2218804109859516e-05,0.002998410053951982,0.0004226375082489537,0.013601117372248712,0.008532177123190217,0.0013574535554087591,0.002490545869236243,0.00018857295224754118,0.004584500734720667,0.003997070210317045,0.008024708902973974,0.0016134549892010844,0.015466113424626908,0.0014656840914119898,0.0043531592981214335,0.0002543043591485579,0.019978181473224874,0.0018937567577475504,0.0031378599682954245,0.0016111566566689838,0.014314739564093092,0.0014219871076109557,0.0009029279410905266,0.0014993238361645765,0.0013885108479563394,4.0911148599585967e-05,0.005713381393798382,0.0013208858685289054,0.00406193408885208],\"type\":\"scatter\"}],                        {\"height\":700,\"legend\":{\"bgcolor\":\"#F5F6F9\",\"font\":{\"color\":\"#4D5663\"}},\"paper_bgcolor\":\"#F5F6F9\",\"plot_bgcolor\":\"#F5F6F9\",\"template\":{\"data\":{\"barpolar\":[{\"marker\":{\"line\":{\"color\":\"#E5ECF6\",\"width\":0.5},\"pattern\":{\"fillmode\":\"overlay\",\"size\":10,\"solidity\":0.2}},\"type\":\"barpolar\"}],\"bar\":[{\"error_x\":{\"color\":\"#2a3f5f\"},\"error_y\":{\"color\":\"#2a3f5f\"},\"marker\":{\"line\":{\"color\":\"#E5ECF6\",\"width\":0.5},\"pattern\":{\"fillmode\":\"overlay\",\"size\":10,\"solidity\":0.2}},\"type\":\"bar\"}],\"carpet\":[{\"aaxis\":{\"endlinecolor\":\"#2a3f5f\",\"gridcolor\":\"white\",\"linecolor\":\"white\",\"minorgridcolor\":\"white\",\"startlinecolor\":\"#2a3f5f\"},\"baxis\":{\"endlinecolor\":\"#2a3f5f\",\"gridcolor\":\"white\",\"linecolor\":\"white\",\"minorgridcolor\":\"white\",\"startlinecolor\":\"#2a3f5f\"},\"type\":\"carpet\"}],\"choropleth\":[{\"colorbar\":{\"outlinewidth\":0,\"ticks\":\"\"},\"type\":\"choropleth\"}],\"contourcarpet\":[{\"colorbar\":{\"outlinewidth\":0,\"ticks\":\"\"},\"type\":\"contourcarpet\"}],\"contour\":[{\"colorbar\":{\"outlinewidth\":0,\"ticks\":\"\"},\"colorscale\":[[0.0,\"#0d0887\"],[0.1111111111111111,\"#46039f\"],[0.2222222222222222,\"#7201a8\"],[0.3333333333333333,\"#9c179e\"],[0.4444444444444444,\"#bd3786\"],[0.5555555555555556,\"#d8576b\"],[0.6666666666666666,\"#ed7953\"],[0.7777777777777778,\"#fb9f3a\"],[0.8888888888888888,\"#fdca26\"],[1.0,\"#f0f921\"]],\"type\":\"contour\"}],\"heatmapgl\":[{\"colorbar\":{\"outlinewidth\":0,\"ticks\":\"\"},\"colorscale\":[[0.0,\"#0d0887\"],[0.1111111111111111,\"#46039f\"],[0.2222222222222222,\"#7201a8\"],[0.3333333333333333,\"#9c179e\"],[0.4444444444444444,\"#bd3786\"],[0.5555555555555556,\"#d8576b\"],[0.6666666666666666,\"#ed7953\"],[0.7777777777777778,\"#fb9f3a\"],[0.8888888888888888,\"#fdca26\"],[1.0,\"#f0f921\"]],\"type\":\"heatmapgl\"}],\"heatmap\":[{\"colorbar\":{\"outlinewidth\":0,\"ticks\":\"\"},\"colorscale\":[[0.0,\"#0d0887\"],[0.1111111111111111,\"#46039f\"],[0.2222222222222222,\"#7201a8\"],[0.3333333333333333,\"#9c179e\"],[0.4444444444444444,\"#bd3786\"],[0.5555555555555556,\"#d8576b\"],[0.6666666666666666,\"#ed7953\"],[0.7777777777777778,\"#fb9f3a\"],[0.8888888888888888,\"#fdca26\"],[1.0,\"#f0f921\"]],\"type\":\"heatmap\"}],\"histogram2dcontour\":[{\"colorbar\":{\"outlinewidth\":0,\"ticks\":\"\"},\"colorscale\":[[0.0,\"#0d0887\"],[0.1111111111111111,\"#46039f\"],[0.2222222222222222,\"#7201a8\"],[0.3333333333333333,\"#9c179e\"],[0.4444444444444444,\"#bd3786\"],[0.5555555555555556,\"#d8576b\"],[0.6666666666666666,\"#ed7953\"],[0.7777777777777778,\"#fb9f3a\"],[0.8888888888888888,\"#fdca26\"],[1.0,\"#f0f921\"]],\"type\":\"histogram2dcontour\"}],\"histogram2d\":[{\"colorbar\":{\"outlinewidth\":0,\"ticks\":\"\"},\"colorscale\":[[0.0,\"#0d0887\"],[0.1111111111111111,\"#46039f\"],[0.2222222222222222,\"#7201a8\"],[0.3333333333333333,\"#9c179e\"],[0.4444444444444444,\"#bd3786\"],[0.5555555555555556,\"#d8576b\"],[0.6666666666666666,\"#ed7953\"],[0.7777777777777778,\"#fb9f3a\"],[0.8888888888888888,\"#fdca26\"],[1.0,\"#f0f921\"]],\"type\":\"histogram2d\"}],\"histogram\":[{\"marker\":{\"pattern\":{\"fillmode\":\"overlay\",\"size\":10,\"solidity\":0.2}},\"type\":\"histogram\"}],\"mesh3d\":[{\"colorbar\":{\"outlinewidth\":0,\"ticks\":\"\"},\"type\":\"mesh3d\"}],\"parcoords\":[{\"line\":{\"colorbar\":{\"outlinewidth\":0,\"ticks\":\"\"}},\"type\":\"parcoords\"}],\"pie\":[{\"automargin\":true,\"type\":\"pie\"}],\"scatter3d\":[{\"line\":{\"colorbar\":{\"outlinewidth\":0,\"ticks\":\"\"}},\"marker\":{\"colorbar\":{\"outlinewidth\":0,\"ticks\":\"\"}},\"type\":\"scatter3d\"}],\"scattercarpet\":[{\"marker\":{\"colorbar\":{\"outlinewidth\":0,\"ticks\":\"\"}},\"type\":\"scattercarpet\"}],\"scattergeo\":[{\"marker\":{\"colorbar\":{\"outlinewidth\":0,\"ticks\":\"\"}},\"type\":\"scattergeo\"}],\"scattergl\":[{\"marker\":{\"colorbar\":{\"outlinewidth\":0,\"ticks\":\"\"}},\"type\":\"scattergl\"}],\"scattermapbox\":[{\"marker\":{\"colorbar\":{\"outlinewidth\":0,\"ticks\":\"\"}},\"type\":\"scattermapbox\"}],\"scatterpolargl\":[{\"marker\":{\"colorbar\":{\"outlinewidth\":0,\"ticks\":\"\"}},\"type\":\"scatterpolargl\"}],\"scatterpolar\":[{\"marker\":{\"colorbar\":{\"outlinewidth\":0,\"ticks\":\"\"}},\"type\":\"scatterpolar\"}],\"scatter\":[{\"fillpattern\":{\"fillmode\":\"overlay\",\"size\":10,\"solidity\":0.2},\"type\":\"scatter\"}],\"scatterternary\":[{\"marker\":{\"colorbar\":{\"outlinewidth\":0,\"ticks\":\"\"}},\"type\":\"scatterternary\"}],\"surface\":[{\"colorbar\":{\"outlinewidth\":0,\"ticks\":\"\"},\"colorscale\":[[0.0,\"#0d0887\"],[0.1111111111111111,\"#46039f\"],[0.2222222222222222,\"#7201a8\"],[0.3333333333333333,\"#9c179e\"],[0.4444444444444444,\"#bd3786\"],[0.5555555555555556,\"#d8576b\"],[0.6666666666666666,\"#ed7953\"],[0.7777777777777778,\"#fb9f3a\"],[0.8888888888888888,\"#fdca26\"],[1.0,\"#f0f921\"]],\"type\":\"surface\"}],\"table\":[{\"cells\":{\"fill\":{\"color\":\"#EBF0F8\"},\"line\":{\"color\":\"white\"}},\"header\":{\"fill\":{\"color\":\"#C8D4E3\"},\"line\":{\"color\":\"white\"}},\"type\":\"table\"}]},\"layout\":{\"annotationdefaults\":{\"arrowcolor\":\"#2a3f5f\",\"arrowhead\":0,\"arrowwidth\":1},\"autotypenumbers\":\"strict\",\"coloraxis\":{\"colorbar\":{\"outlinewidth\":0,\"ticks\":\"\"}},\"colorscale\":{\"diverging\":[[0,\"#8e0152\"],[0.1,\"#c51b7d\"],[0.2,\"#de77ae\"],[0.3,\"#f1b6da\"],[0.4,\"#fde0ef\"],[0.5,\"#f7f7f7\"],[0.6,\"#e6f5d0\"],[0.7,\"#b8e186\"],[0.8,\"#7fbc41\"],[0.9,\"#4d9221\"],[1,\"#276419\"]],\"sequential\":[[0.0,\"#0d0887\"],[0.1111111111111111,\"#46039f\"],[0.2222222222222222,\"#7201a8\"],[0.3333333333333333,\"#9c179e\"],[0.4444444444444444,\"#bd3786\"],[0.5555555555555556,\"#d8576b\"],[0.6666666666666666,\"#ed7953\"],[0.7777777777777778,\"#fb9f3a\"],[0.8888888888888888,\"#fdca26\"],[1.0,\"#f0f921\"]],\"sequentialminus\":[[0.0,\"#0d0887\"],[0.1111111111111111,\"#46039f\"],[0.2222222222222222,\"#7201a8\"],[0.3333333333333333,\"#9c179e\"],[0.4444444444444444,\"#bd3786\"],[0.5555555555555556,\"#d8576b\"],[0.6666666666666666,\"#ed7953\"],[0.7777777777777778,\"#fb9f3a\"],[0.8888888888888888,\"#fdca26\"],[1.0,\"#f0f921\"]]},\"colorway\":[\"#636efa\",\"#EF553B\",\"#00cc96\",\"#ab63fa\",\"#FFA15A\",\"#19d3f3\",\"#FF6692\",\"#B6E880\",\"#FF97FF\",\"#FECB52\"],\"font\":{\"color\":\"#2a3f5f\"},\"geo\":{\"bgcolor\":\"white\",\"lakecolor\":\"white\",\"landcolor\":\"#E5ECF6\",\"showlakes\":true,\"showland\":true,\"subunitcolor\":\"white\"},\"hoverlabel\":{\"align\":\"left\"},\"hovermode\":\"closest\",\"mapbox\":{\"style\":\"light\"},\"paper_bgcolor\":\"white\",\"plot_bgcolor\":\"#E5ECF6\",\"polar\":{\"angularaxis\":{\"gridcolor\":\"white\",\"linecolor\":\"white\",\"ticks\":\"\"},\"bgcolor\":\"#E5ECF6\",\"radialaxis\":{\"gridcolor\":\"white\",\"linecolor\":\"white\",\"ticks\":\"\"}},\"scene\":{\"xaxis\":{\"backgroundcolor\":\"#E5ECF6\",\"gridcolor\":\"white\",\"gridwidth\":2,\"linecolor\":\"white\",\"showbackground\":true,\"ticks\":\"\",\"zerolinecolor\":\"white\"},\"yaxis\":{\"backgroundcolor\":\"#E5ECF6\",\"gridcolor\":\"white\",\"gridwidth\":2,\"linecolor\":\"white\",\"showbackground\":true,\"ticks\":\"\",\"zerolinecolor\":\"white\"},\"zaxis\":{\"backgroundcolor\":\"#E5ECF6\",\"gridcolor\":\"white\",\"gridwidth\":2,\"linecolor\":\"white\",\"showbackground\":true,\"ticks\":\"\",\"zerolinecolor\":\"white\"}},\"shapedefaults\":{\"line\":{\"color\":\"#2a3f5f\"}},\"ternary\":{\"aaxis\":{\"gridcolor\":\"white\",\"linecolor\":\"white\",\"ticks\":\"\"},\"baxis\":{\"gridcolor\":\"white\",\"linecolor\":\"white\",\"ticks\":\"\"},\"bgcolor\":\"#E5ECF6\",\"caxis\":{\"gridcolor\":\"white\",\"linecolor\":\"white\",\"ticks\":\"\"}},\"title\":{\"x\":0.05},\"xaxis\":{\"automargin\":true,\"gridcolor\":\"white\",\"linecolor\":\"white\",\"ticks\":\"\",\"title\":{\"standoff\":15},\"zerolinecolor\":\"white\",\"zerolinewidth\":2},\"yaxis\":{\"automargin\":true,\"gridcolor\":\"white\",\"linecolor\":\"white\",\"ticks\":\"\",\"title\":{\"standoff\":15},\"zerolinecolor\":\"white\",\"zerolinewidth\":2}}},\"title\":{\"font\":{\"color\":\"#4D5663\"},\"text\":\"migration\"},\"width\":1000,\"xaxis\":{\"gridcolor\":\"#E1E5ED\",\"showgrid\":true,\"tickfont\":{\"color\":\"#4D5663\"},\"title\":{\"font\":{\"color\":\"#4D5663\"},\"text\":\"Death Probability (5-9)\"},\"zerolinecolor\":\"#E1E5ED\"},\"yaxis\":{\"gridcolor\":\"#E1E5ED\",\"showgrid\":true,\"tickfont\":{\"color\":\"#4D5663\"},\"title\":{\"font\":{\"color\":\"#4D5663\"},\"text\":\"Migration per Capita\"},\"zerolinecolor\":\"#E1E5ED\"}},                        {\"showLink\": true, \"linkText\": \"Export to plot.ly\", \"plotlyServerURL\": \"https://plot.ly\", \"responsive\": true}                    ).then(function(){\n",
       "                            \n",
       "var gd = document.getElementById('9e1d8ac1-f4a6-41f2-95b9-65fb473c7396');\n",
       "var x = new MutationObserver(function (mutations, observer) {{\n",
       "        var display = window.getComputedStyle(gd).display;\n",
       "        if (!display || display === 'none') {{\n",
       "            console.log([gd, 'removed!']);\n",
       "            Plotly.purge(gd);\n",
       "            observer.disconnect();\n",
       "        }}\n",
       "}});\n",
       "\n",
       "// Listen for the removal of the full notebook cells\n",
       "var notebookContainer = gd.closest('#notebook-container');\n",
       "if (notebookContainer) {{\n",
       "    x.observe(notebookContainer, {childList: true});\n",
       "}}\n",
       "\n",
       "// Listen for the clearing of the current output cell\n",
       "var outputEl = gd.closest('.output');\n",
       "if (outputEl) {{\n",
       "    x.observe(outputEl, {childList: true});\n",
       "}}\n",
       "\n",
       "                        })                };                });            </script>        </div>"
      ]
     },
     "metadata": {},
     "output_type": "display_data"
    }
   ],
   "source": [
    "mig_away.iplot(kind='scatter', mode = 'markers', size = 8,\n",
    "         x = 'Death Probability (5-9)', y=\"Migration per Capita\",\n",
    "         text=mig_away.reset_index('country')['country'].values.tolist(),\n",
    "         xTitle=\"Death Probability (5-9)\",yTitle=\"Migration per Capita\",\n",
    "         title=\"migration\", dimensions=(1000, 700))"
   ]
  },
  {
   "cell_type": "code",
   "execution_count": 26,
   "metadata": {},
   "outputs": [],
   "source": [
    "\n",
    "#To perform linear regression using pandas, you can use the statsmodels library, which provides a comprehensive set of statistical models. Here's an example of how to perform linear regression using pandas and statsmodels:\n",
    "import pandas as pd\n",
    "import statsmodels.api as sm"
   ]
  },
  {
   "cell_type": "code",
   "execution_count": 24,
   "metadata": {},
   "outputs": [],
   "source": [
    "\n",
    "\n",
    "mig_away = mig_away.replace([np.inf, -np.inf], np.nan).dropna(subset=['GDP per capita', 'Death Probability (5-9)',\n",
    "       'Death Probability (20-24)', 'Total Fertility Rate',\n",
    "       'Population Growth Rate', 'Male Mortality', 'Female Mortality'])\n",
    "\n"
   ]
  },
  {
   "cell_type": "code",
   "execution_count": 25,
   "metadata": {},
   "outputs": [
    {
     "name": "stdout",
     "output_type": "stream",
     "text": [
      "Index(['GDP per capita', 'Death Probability (5-9)',\n",
      "       'Death Probability (20-24)', 'Total Fertility Rate',\n",
      "       'Population Growth Rate', 'Male Mortality', 'Female Mortality',\n",
      "       '% Adult Female', '% Female', 'Net Migration', 'Total Population',\n",
      "       'Migration per Capita', 'Exp Migration per cap'],\n",
      "      dtype='object')\n"
     ]
    }
   ],
   "source": [
    "print(mig_away.columns)"
   ]
  },
  {
   "cell_type": "code",
   "execution_count": 26,
   "metadata": {},
   "outputs": [
    {
     "name": "stdout",
     "output_type": "stream",
     "text": [
      "                             OLS Regression Results                             \n",
      "================================================================================\n",
      "Dep. Variable:     Migration per Capita   R-squared:                       0.458\n",
      "Model:                              OLS   Adj. R-squared:                  0.444\n",
      "Method:                   Least Squares   F-statistic:                     34.59\n",
      "Date:                  Fri, 19 Jan 2024   Prob (F-statistic):           2.79e-16\n",
      "Time:                          21:05:11   Log-Likelihood:                 508.74\n",
      "No. Observations:                   127   AIC:                            -1009.\n",
      "Df Residuals:                       123   BIC:                            -998.1\n",
      "Df Model:                             3                                         \n",
      "Covariance Type:              nonrobust                                         \n",
      "=============================================================================================\n",
      "                                coef    std err          t      P>|t|      [0.025      0.975]\n",
      "---------------------------------------------------------------------------------------------\n",
      "const                         0.0078      0.001      7.369      0.000       0.006       0.010\n",
      "GDP per capita             -3.03e-07   7.83e-08     -3.869      0.000   -4.58e-07   -1.48e-07\n",
      "Death Probability (20-24)     0.0004    9.6e-05      3.659      0.000       0.000       0.001\n",
      "Population Growth Rate       -0.0042      0.000    -10.174      0.000      -0.005      -0.003\n",
      "==============================================================================\n",
      "Omnibus:                       75.421   Durbin-Watson:                   1.987\n",
      "Prob(Omnibus):                  0.000   Jarque-Bera (JB):              384.458\n",
      "Skew:                           2.079   Prob(JB):                     3.28e-84\n",
      "Kurtosis:                      10.441   Cond. No.                     2.11e+04\n",
      "==============================================================================\n",
      "\n",
      "Notes:\n",
      "[1] Standard Errors assume that the covariance matrix of the errors is correctly specified.\n",
      "[2] The condition number is large, 2.11e+04. This might indicate that there are\n",
      "strong multicollinearity or other numerical problems.\n"
     ]
    }
   ],
   "source": [
    "# regressing \n",
    "\n",
    "# Assuming your DataFrame is named data and you want to predict 'Death Probability (5-9)' based on 'GDP per capita'\n",
    "X = mig_away[['GDP per capita',\n",
    "       'Death Probability (20-24)',\n",
    "       'Population Growth Rate']]  # Independent variable\n",
    "y = mig_away['Migration per Capita']  # Dependent variable\n",
    "\n",
    "# Add a constant to the independent variable (required for statsmodels)\n",
    "X = sm.add_constant(X)\n",
    "\n",
    "# Fit the linear regression model\n",
    "model = sm.OLS(y, X).fit()\n",
    "\n",
    "# Print the regression summary\n",
    "print(model.summary())"
   ]
  },
  {
   "cell_type": "code",
   "execution_count": 27,
   "metadata": {},
   "outputs": [],
   "source": [
    "# need to filter data to only include low income "
   ]
  },
  {
   "cell_type": "code",
   "execution_count": 27,
   "metadata": {},
   "outputs": [
    {
     "data": {
      "text/html": [
       "<div>\n",
       "<style scoped>\n",
       "    .dataframe tbody tr th:only-of-type {\n",
       "        vertical-align: middle;\n",
       "    }\n",
       "\n",
       "    .dataframe tbody tr th {\n",
       "        vertical-align: top;\n",
       "    }\n",
       "\n",
       "    .dataframe thead th {\n",
       "        text-align: right;\n",
       "    }\n",
       "</style>\n",
       "<table border=\"1\" class=\"dataframe\">\n",
       "  <thead>\n",
       "    <tr style=\"text-align: right;\">\n",
       "      <th></th>\n",
       "      <th></th>\n",
       "      <th>GDP per capita</th>\n",
       "      <th>Death Probability (5-9)</th>\n",
       "      <th>Death Probability (20-24)</th>\n",
       "      <th>Total Fertility Rate</th>\n",
       "      <th>Population Growth Rate</th>\n",
       "      <th>Male Mortality</th>\n",
       "      <th>Female Mortality</th>\n",
       "      <th>% Adult Female</th>\n",
       "      <th>% Female</th>\n",
       "      <th>Net Migration</th>\n",
       "      <th>Total Population</th>\n",
       "      <th>Migration per Capita</th>\n",
       "      <th>Migration Rate</th>\n",
       "    </tr>\n",
       "    <tr>\n",
       "      <th>country</th>\n",
       "      <th>date</th>\n",
       "      <th></th>\n",
       "      <th></th>\n",
       "      <th></th>\n",
       "      <th></th>\n",
       "      <th></th>\n",
       "      <th></th>\n",
       "      <th></th>\n",
       "      <th></th>\n",
       "      <th></th>\n",
       "      <th></th>\n",
       "      <th></th>\n",
       "      <th></th>\n",
       "      <th></th>\n",
       "    </tr>\n",
       "  </thead>\n",
       "  <tbody>\n",
       "    <tr>\n",
       "      <th>Africa Eastern and Southern</th>\n",
       "      <th>2017</th>\n",
       "      <td>1625.286236</td>\n",
       "      <td>16.545213</td>\n",
       "      <td>14.129777</td>\n",
       "      <td>4.570409</td>\n",
       "      <td>2.655672</td>\n",
       "      <td>314.493882</td>\n",
       "      <td>231.688216</td>\n",
       "      <td>55.018897</td>\n",
       "      <td>50.515859</td>\n",
       "      <td>343075.0</td>\n",
       "      <td>6.327466e+08</td>\n",
       "      <td>0.000542</td>\n",
       "      <td>0.054220</td>\n",
       "    </tr>\n",
       "    <tr>\n",
       "      <th>Africa Western and Central</th>\n",
       "      <th>2017</th>\n",
       "      <td>1590.277754</td>\n",
       "      <td>17.664101</td>\n",
       "      <td>12.701741</td>\n",
       "      <td>5.255345</td>\n",
       "      <td>2.706266</td>\n",
       "      <td>332.079862</td>\n",
       "      <td>298.748795</td>\n",
       "      <td>53.365527</td>\n",
       "      <td>49.770292</td>\n",
       "      <td>200823.0</td>\n",
       "      <td>4.311387e+08</td>\n",
       "      <td>0.000466</td>\n",
       "      <td>0.046580</td>\n",
       "    </tr>\n",
       "    <tr>\n",
       "      <th>Caribbean small states</th>\n",
       "      <th>2017</th>\n",
       "      <td>10101.698337</td>\n",
       "      <td>6.083779</td>\n",
       "      <td>7.124045</td>\n",
       "      <td>1.740201</td>\n",
       "      <td>0.528019</td>\n",
       "      <td>202.162317</td>\n",
       "      <td>123.425591</td>\n",
       "      <td>69.166376</td>\n",
       "      <td>50.601427</td>\n",
       "      <td>15824.0</td>\n",
       "      <td>7.303634e+06</td>\n",
       "      <td>0.002167</td>\n",
       "      <td>0.216659</td>\n",
       "    </tr>\n",
       "    <tr>\n",
       "      <th>Central Europe and the Baltics</th>\n",
       "      <th>2017</th>\n",
       "      <td>14223.338676</td>\n",
       "      <td>2.556875</td>\n",
       "      <td>2.652837</td>\n",
       "      <td>1.568123</td>\n",
       "      <td>-0.246810</td>\n",
       "      <td>156.434198</td>\n",
       "      <td>64.669858</td>\n",
       "      <td>64.654620</td>\n",
       "      <td>51.634435</td>\n",
       "      <td>76183.0</td>\n",
       "      <td>1.027401e+08</td>\n",
       "      <td>0.000742</td>\n",
       "      <td>0.074151</td>\n",
       "    </tr>\n",
       "    <tr>\n",
       "      <th>Early-demographic dividend</th>\n",
       "      <th>2017</th>\n",
       "      <td>3498.575677</td>\n",
       "      <td>7.651824</td>\n",
       "      <td>6.240827</td>\n",
       "      <td>2.500853</td>\n",
       "      <td>1.321020</td>\n",
       "      <td>195.853170</td>\n",
       "      <td>133.876626</td>\n",
       "      <td>64.687367</td>\n",
       "      <td>49.172240</td>\n",
       "      <td>3441642.0</td>\n",
       "      <td>3.250753e+09</td>\n",
       "      <td>0.001059</td>\n",
       "      <td>0.105872</td>\n",
       "    </tr>\n",
       "    <tr>\n",
       "      <th>...</th>\n",
       "      <th>...</th>\n",
       "      <td>...</td>\n",
       "      <td>...</td>\n",
       "      <td>...</td>\n",
       "      <td>...</td>\n",
       "      <td>...</td>\n",
       "      <td>...</td>\n",
       "      <td>...</td>\n",
       "      <td>...</td>\n",
       "      <td>...</td>\n",
       "      <td>...</td>\n",
       "      <td>...</td>\n",
       "      <td>...</td>\n",
       "      <td>...</td>\n",
       "    </tr>\n",
       "    <tr>\n",
       "      <th>Vanuatu</th>\n",
       "      <th>2017</th>\n",
       "      <td>3032.197030</td>\n",
       "      <td>7.400000</td>\n",
       "      <td>6.300000</td>\n",
       "      <td>3.910000</td>\n",
       "      <td>2.448780</td>\n",
       "      <td>205.447000</td>\n",
       "      <td>139.974000</td>\n",
       "      <td>57.832094</td>\n",
       "      <td>49.660797</td>\n",
       "      <td>403.0</td>\n",
       "      <td>2.902390e+05</td>\n",
       "      <td>0.001389</td>\n",
       "      <td>0.138851</td>\n",
       "    </tr>\n",
       "    <tr>\n",
       "      <th>Viet Nam</th>\n",
       "      <th>2017</th>\n",
       "      <td>2992.071532</td>\n",
       "      <td>4.700000</td>\n",
       "      <td>3.700000</td>\n",
       "      <td>1.930000</td>\n",
       "      <td>0.968720</td>\n",
       "      <td>188.581000</td>\n",
       "      <td>77.488000</td>\n",
       "      <td>69.190310</td>\n",
       "      <td>50.642164</td>\n",
       "      <td>3847.0</td>\n",
       "      <td>9.403305e+07</td>\n",
       "      <td>0.000041</td>\n",
       "      <td>0.004091</td>\n",
       "    </tr>\n",
       "    <tr>\n",
       "      <th>West Bank and Gaza</th>\n",
       "      <th>2017</th>\n",
       "      <td>3620.360487</td>\n",
       "      <td>5.200000</td>\n",
       "      <td>3.900000</td>\n",
       "      <td>3.807000</td>\n",
       "      <td>1.988686</td>\n",
       "      <td>122.408000</td>\n",
       "      <td>81.285000</td>\n",
       "      <td>56.996023</td>\n",
       "      <td>50.214010</td>\n",
       "      <td>25452.0</td>\n",
       "      <td>4.454805e+06</td>\n",
       "      <td>0.005713</td>\n",
       "      <td>0.571338</td>\n",
       "    </tr>\n",
       "    <tr>\n",
       "      <th>Yemen, Rep.</th>\n",
       "      <th>2017</th>\n",
       "      <td>893.716493</td>\n",
       "      <td>10.100000</td>\n",
       "      <td>12.000000</td>\n",
       "      <td>4.112000</td>\n",
       "      <td>2.564321</td>\n",
       "      <td>250.734000</td>\n",
       "      <td>148.962000</td>\n",
       "      <td>56.197217</td>\n",
       "      <td>49.383032</td>\n",
       "      <td>39672.0</td>\n",
       "      <td>3.003439e+07</td>\n",
       "      <td>0.001321</td>\n",
       "      <td>0.132089</td>\n",
       "    </tr>\n",
       "    <tr>\n",
       "      <th>Zimbabwe</th>\n",
       "      <th>2017</th>\n",
       "      <td>1192.107012</td>\n",
       "      <td>17.100000</td>\n",
       "      <td>15.600000</td>\n",
       "      <td>3.706000</td>\n",
       "      <td>2.043620</td>\n",
       "      <td>405.925000</td>\n",
       "      <td>315.150000</td>\n",
       "      <td>56.362181</td>\n",
       "      <td>52.948393</td>\n",
       "      <td>59918.0</td>\n",
       "      <td>1.475110e+07</td>\n",
       "      <td>0.004062</td>\n",
       "      <td>0.406193</td>\n",
       "    </tr>\n",
       "  </tbody>\n",
       "</table>\n",
       "<p>124 rows × 13 columns</p>\n",
       "</div>"
      ],
      "text/plain": [
       "                                     GDP per capita  Death Probability (5-9)  \\\n",
       "country                        date                                            \n",
       "Africa Eastern and Southern    2017     1625.286236                16.545213   \n",
       "Africa Western and Central     2017     1590.277754                17.664101   \n",
       "Caribbean small states         2017    10101.698337                 6.083779   \n",
       "Central Europe and the Baltics 2017    14223.338676                 2.556875   \n",
       "Early-demographic dividend     2017     3498.575677                 7.651824   \n",
       "...                                             ...                      ...   \n",
       "Vanuatu                        2017     3032.197030                 7.400000   \n",
       "Viet Nam                       2017     2992.071532                 4.700000   \n",
       "West Bank and Gaza             2017     3620.360487                 5.200000   \n",
       "Yemen, Rep.                    2017      893.716493                10.100000   \n",
       "Zimbabwe                       2017     1192.107012                17.100000   \n",
       "\n",
       "                                     Death Probability (20-24)  \\\n",
       "country                        date                              \n",
       "Africa Eastern and Southern    2017                  14.129777   \n",
       "Africa Western and Central     2017                  12.701741   \n",
       "Caribbean small states         2017                   7.124045   \n",
       "Central Europe and the Baltics 2017                   2.652837   \n",
       "Early-demographic dividend     2017                   6.240827   \n",
       "...                                                        ...   \n",
       "Vanuatu                        2017                   6.300000   \n",
       "Viet Nam                       2017                   3.700000   \n",
       "West Bank and Gaza             2017                   3.900000   \n",
       "Yemen, Rep.                    2017                  12.000000   \n",
       "Zimbabwe                       2017                  15.600000   \n",
       "\n",
       "                                     Total Fertility Rate  \\\n",
       "country                        date                         \n",
       "Africa Eastern and Southern    2017              4.570409   \n",
       "Africa Western and Central     2017              5.255345   \n",
       "Caribbean small states         2017              1.740201   \n",
       "Central Europe and the Baltics 2017              1.568123   \n",
       "Early-demographic dividend     2017              2.500853   \n",
       "...                                                   ...   \n",
       "Vanuatu                        2017              3.910000   \n",
       "Viet Nam                       2017              1.930000   \n",
       "West Bank and Gaza             2017              3.807000   \n",
       "Yemen, Rep.                    2017              4.112000   \n",
       "Zimbabwe                       2017              3.706000   \n",
       "\n",
       "                                     Population Growth Rate  Male Mortality  \\\n",
       "country                        date                                           \n",
       "Africa Eastern and Southern    2017                2.655672      314.493882   \n",
       "Africa Western and Central     2017                2.706266      332.079862   \n",
       "Caribbean small states         2017                0.528019      202.162317   \n",
       "Central Europe and the Baltics 2017               -0.246810      156.434198   \n",
       "Early-demographic dividend     2017                1.321020      195.853170   \n",
       "...                                                     ...             ...   \n",
       "Vanuatu                        2017                2.448780      205.447000   \n",
       "Viet Nam                       2017                0.968720      188.581000   \n",
       "West Bank and Gaza             2017                1.988686      122.408000   \n",
       "Yemen, Rep.                    2017                2.564321      250.734000   \n",
       "Zimbabwe                       2017                2.043620      405.925000   \n",
       "\n",
       "                                     Female Mortality  % Adult Female  \\\n",
       "country                        date                                     \n",
       "Africa Eastern and Southern    2017        231.688216       55.018897   \n",
       "Africa Western and Central     2017        298.748795       53.365527   \n",
       "Caribbean small states         2017        123.425591       69.166376   \n",
       "Central Europe and the Baltics 2017         64.669858       64.654620   \n",
       "Early-demographic dividend     2017        133.876626       64.687367   \n",
       "...                                               ...             ...   \n",
       "Vanuatu                        2017        139.974000       57.832094   \n",
       "Viet Nam                       2017         77.488000       69.190310   \n",
       "West Bank and Gaza             2017         81.285000       56.996023   \n",
       "Yemen, Rep.                    2017        148.962000       56.197217   \n",
       "Zimbabwe                       2017        315.150000       56.362181   \n",
       "\n",
       "                                      % Female  Net Migration  \\\n",
       "country                        date                             \n",
       "Africa Eastern and Southern    2017  50.515859       343075.0   \n",
       "Africa Western and Central     2017  49.770292       200823.0   \n",
       "Caribbean small states         2017  50.601427        15824.0   \n",
       "Central Europe and the Baltics 2017  51.634435        76183.0   \n",
       "Early-demographic dividend     2017  49.172240      3441642.0   \n",
       "...                                        ...            ...   \n",
       "Vanuatu                        2017  49.660797          403.0   \n",
       "Viet Nam                       2017  50.642164         3847.0   \n",
       "West Bank and Gaza             2017  50.214010        25452.0   \n",
       "Yemen, Rep.                    2017  49.383032        39672.0   \n",
       "Zimbabwe                       2017  52.948393        59918.0   \n",
       "\n",
       "                                     Total Population  Migration per Capita  \\\n",
       "country                        date                                           \n",
       "Africa Eastern and Southern    2017      6.327466e+08              0.000542   \n",
       "Africa Western and Central     2017      4.311387e+08              0.000466   \n",
       "Caribbean small states         2017      7.303634e+06              0.002167   \n",
       "Central Europe and the Baltics 2017      1.027401e+08              0.000742   \n",
       "Early-demographic dividend     2017      3.250753e+09              0.001059   \n",
       "...                                               ...                   ...   \n",
       "Vanuatu                        2017      2.902390e+05              0.001389   \n",
       "Viet Nam                       2017      9.403305e+07              0.000041   \n",
       "West Bank and Gaza             2017      4.454805e+06              0.005713   \n",
       "Yemen, Rep.                    2017      3.003439e+07              0.001321   \n",
       "Zimbabwe                       2017      1.475110e+07              0.004062   \n",
       "\n",
       "                                     Migration Rate  \n",
       "country                        date                  \n",
       "Africa Eastern and Southern    2017        0.054220  \n",
       "Africa Western and Central     2017        0.046580  \n",
       "Caribbean small states         2017        0.216659  \n",
       "Central Europe and the Baltics 2017        0.074151  \n",
       "Early-demographic dividend     2017        0.105872  \n",
       "...                                             ...  \n",
       "Vanuatu                        2017        0.138851  \n",
       "Viet Nam                       2017        0.004091  \n",
       "West Bank and Gaza             2017        0.571338  \n",
       "Yemen, Rep.                    2017        0.132089  \n",
       "Zimbabwe                       2017        0.406193  \n",
       "\n",
       "[124 rows x 13 columns]"
      ]
     },
     "execution_count": 27,
     "metadata": {},
     "output_type": "execute_result"
    }
   ],
   "source": [
    "mig_lowinc = mig_away[mig_away['GDP per capita'] < 20000]\n",
    "mig_lowinc"
   ]
  },
  {
   "cell_type": "code",
   "execution_count": 28,
   "metadata": {},
   "outputs": [
    {
     "data": {
      "application/vnd.plotly.v1+json": {
       "config": {
        "linkText": "Export to plot.ly",
        "plotlyServerURL": "https://plot.ly",
        "showLink": true
       },
       "data": [
        {
         "line": {
          "color": "rgba(255, 153, 51, 1.0)",
          "dash": "solid",
          "shape": "linear",
          "width": 1.3
         },
         "marker": {
          "size": 8,
          "symbol": "circle"
         },
         "mode": "markers",
         "name": "Migration per Capita",
         "text": [
          "Africa Eastern and Southern",
          "Africa Western and Central",
          "Caribbean small states",
          "Central Europe and the Baltics",
          "Early-demographic dividend",
          "East Asia & Pacific (excluding high income)",
          "East Asia & Pacific (IDA & IBRD countries)",
          "Fragile and conflict affected situations",
          "IDA & IBRD total",
          "Latin America & Caribbean",
          "Latin America & the Caribbean (IDA & IBRD countries)",
          "Least developed countries: UN classification",
          "Low & middle income",
          "Low income",
          "Lower middle income",
          "Middle East & North Africa",
          "Middle East & North Africa (excluding high income)",
          "Middle East & North Africa (IDA & IBRD countries)",
          "Middle income",
          "Pacific island small states",
          "Pre-demographic dividend",
          "South Asia",
          "South Asia (IDA & IBRD)",
          "Sub-Saharan Africa",
          "Sub-Saharan Africa (excluding high income)",
          "Sub-Saharan Africa (IDA & IBRD countries)",
          "Afghanistan",
          "Albania",
          "Algeria",
          "Armenia",
          "Bangladesh",
          "Barbados",
          "Bolivia",
          "Bosnia and Herzegovina",
          "Bulgaria",
          "Burkina Faso",
          "Burundi",
          "Cabo Verde",
          "Cambodia",
          "Cameroon",
          "Central African Republic",
          "China",
          "Comoros",
          "Congo, Rep.",
          "Cote d'Ivoire",
          "Croatia",
          "Cuba",
          "Dominican Republic",
          "Egypt, Arab Rep.",
          "El Salvador",
          "Eswatini",
          "Fiji",
          "Gambia, The",
          "Georgia",
          "Ghana",
          "Greece",
          "Grenada",
          "Guatemala",
          "Guinea",
          "Guinea-Bissau",
          "Guyana",
          "Haiti",
          "Honduras",
          "India",
          "Indonesia",
          "Iraq",
          "Jamaica",
          "Kazakhstan",
          "Kenya",
          "Kiribati",
          "Kosovo",
          "Kyrgyz Republic",
          "Lao PDR",
          "Latvia",
          "Lebanon",
          "Lesotho",
          "Liberia",
          "Lithuania",
          "Malawi",
          "Mali",
          "Marshall Islands",
          "Mauritania",
          "Mauritius",
          "Mexico",
          "Micronesia, Fed. Sts.",
          "Moldova",
          "Montenegro",
          "Morocco",
          "Myanmar",
          "Namibia",
          "Nauru",
          "Nepal",
          "Nicaragua",
          "Niger",
          "North Macedonia",
          "Pakistan",
          "Paraguay",
          "Poland",
          "Romania",
          "Rwanda",
          "Samoa",
          "Sao Tome and Principe",
          "Senegal",
          "Solomon Islands",
          "South Africa",
          "Sri Lanka",
          "St. Vincent and the Grenadines",
          "Suriname",
          "Syrian Arab Republic",
          "Tajikistan",
          "Timor-Leste",
          "Togo",
          "Tonga",
          "Tunisia",
          "Turkiye",
          "Turkmenistan",
          "Tuvalu",
          "Uruguay",
          "Uzbekistan",
          "Vanuatu",
          "Viet Nam",
          "West Bank and Gaza",
          "Yemen, Rep.",
          "Zimbabwe"
         ],
         "type": "scatter",
         "x": [
          1625.2862362582,
          1590.27775355217,
          10101.698337451,
          14223.33867603,
          3498.57567722821,
          7151.33860752498,
          7231.04313773664,
          1805.7937710783,
          4847.68098187748,
          9255.8059757905,
          9106.59887343947,
          1116.75249734232,
          4688.84021818767,
          804.873520434808,
          2159.48628984457,
          7337.21354901812,
          3771.3988326831,
          3773.13676844095,
          5107.25027858374,
          4128.66101841916,
          1438.13131092546,
          1887.89056136563,
          1887.89056136563,
          1611.0990750748,
          1609.80618677889,
          1611.0990750748,
          526.140801271383,
          4531.03220675893,
          4134.93608656171,
          4041.99507105058,
          1815.61026180185,
          17881.5632533033,
          3280.0082139387,
          5327.39230422044,
          8381.88134621669,
          711.184543433623,
          244.14542219677,
          3534.34357478817,
          1400.89926522987,
          1479.86222187116,
          414.74032227842,
          8817.04560829162,
          1414.58668930422,
          2227.72013856074,
          2113.34152528591,
          13592.2545240617,
          8543.33006731328,
          7513.49798180543,
          2439.96728439968,
          3986.04901435439,
          3824.04678338499,
          5825.19966514413,
          632.001024153219,
          4356.92801624893,
          1998.72266581387,
          18582.0893411631,
          9309.26129609568,
          4454.02450948165,
          843.464279230956,
          718.245737766542,
          6220.97856820609,
          1389.35862299149,
          2403.30608839303,
          1957.96981329558,
          3839.78507460491,
          4725.19357334032,
          5273.14902681979,
          9247.58067886159,
          1675.98842173012,
          1566.44713639955,
          4009.3538108854,
          1242.77022029305,
          2439.4633552251,
          15695.1151541059,
          8679.89742212366,
          1062.4561920176,
          706.892691974846,
          16885.4073948373,
          500.165547203323,
          795.682801553765,
          4507.622862229,
          1634.64215833074,
          10841.6847754844,
          9693.33009125499,
          3320.3549760029,
          3454.95469039113,
          7803.35824465203,
          3288.50268554688,
          1263.28526342903,
          5453.57062341501,
          9361.03739658919,
          1027.96547447264,
          2127.28281786358,
          514.543398015622,
          5450.49706853299,
          1567.6406123353,
          6136.0583014952,
          13815.4999463758,
          10727.9708633184,
          756.547641107379,
          4261.64034322214,
          1547.82270967205,
          1385.1992136057,
          2283.57905127379,
          6734.47515314548,
          4388.20190593728,
          7996.63698412147,
          6112.88301430134,
          862.319063332871,
          844.36524984854,
          1285.5239757568,
          813.395006476051,
          4367.25660339844,
          3569.71883883673,
          10695.550196231,
          6354.53282979422,
          4181.43658600984,
          18995.3970195554,
          1916.76462520814,
          3032.19702965604,
          2992.07153198845,
          3620.36048715937,
          893.716492936242,
          1192.10701198862
         ],
         "y": [
          0.0005421996993203772,
          0.00046579673347999856,
          0.0021665926852303934,
          0.0007415119930121135,
          0.001058721551402638,
          0.0001061300157019687,
          0.00010589590612440308,
          0.0025351247857677817,
          0.0006418507012371599,
          0.0004443187891066541,
          0.00033663559223602075,
          0.0008920923990202697,
          0.0005500807165141544,
          0.0014489983756867766,
          0.0009490813504719527,
          0.000383625668511606,
          0.0017697953640929717,
          0.0017244181510982786,
          0.000453366695316404,
          0.009144361929473651,
          0.0006378274945460861,
          0.0011994877086958654,
          0.0011994877086958654,
          0.0005112374551017613,
          0.000511526984704551,
          0.0005112374551017613,
          0.001321141535865051,
          0.0033993896550392087,
          0.0008860248014016539,
          0.009230964510612664,
          0.001086288979235344,
          0.00023281886334249087,
          0.0008455224605621793,
          0.008915337001715394,
          0.0019163512671872755,
          0.0007461739240117569,
          0.006135935579578782,
          0.0023966553029096172,
          0.0028880612840034947,
          0.001554122850972163,
          0.011754461558043532,
          0.00012934397639332052,
          0.0038363372825812956,
          0.0021843481403675214,
          0.0007549093658020825,
          0.0033104369927150507,
          0.0012788886776716251,
          0.0028227962090471488,
          0.00022871736351764613,
          0.008077037602522813,
          0.008795455927183666,
          0.012627595294547773,
          0.0015513303896972177,
          0.0021153410779602166,
          0.00016259537423108834,
          0.002330241562765379,
          0.0015712738068656396,
          0.0029867440505368854,
          0.0011213329467569453,
          0.0007436858517756431,
          0.008005219770141448,
          0.0032002450765832103,
          0.000704488553982708,
          0.0001622040324334811,
          0.00014851482228739503,
          0.0002498412338335761,
          0.0040340039937672165,
          0.0008816497111395551,
          0.0014036080678617043,
          0.006738007012179924,
          0.018701811219746702,
          0.004484527766125649,
          0.0014861565234340448,
          0.004890209695157364,
          0.03780282758020131,
          0.0015327439156700606,
          0.005176549957668205,
          0.0056346284458049295,
          0.0002681592314416615,
          0.0017603632681393927,
          0.04028651959226058,
          0.0007213916295974894,
          0.0018823815882367358,
          0.00010125427491592305,
          0.011618219686679344,
          0.015921956715129162,
          0.003181371942548922,
          0.00202113171498122,
          0.0020164724675430035,
          0.00363581153834117,
          0.002910460537579182,
          0.002769783914844136,
          0.0033702479981581757,
          0.00031405945793714783,
          0.00049072018248235,
          0.007276936456895635,
          0.0026163560963236954,
          5.2218804109859516e-05,
          0.002998410053951982,
          0.0004226375082489537,
          0.013601117372248712,
          0.008532177123190217,
          0.0013574535554087591,
          0.002490545869236243,
          0.00018857295224754118,
          0.004584500734720667,
          0.008024708902973974,
          0.0016134549892010844,
          0.015466113424626908,
          0.0014656840914119898,
          0.0043531592981214335,
          0.0002543043591485579,
          0.019978181473224874,
          0.0018937567577475504,
          0.0031378599682954245,
          0.0016111566566689838,
          0.014314739564093092,
          0.0009029279410905266,
          0.0014993238361645765,
          0.0013885108479563394,
          4.0911148599585967e-05,
          0.005713381393798382,
          0.0013208858685289054,
          0.00406193408885208
         ]
        }
       ],
       "layout": {
        "height": 800,
        "legend": {
         "bgcolor": "#F5F6F9",
         "font": {
          "color": "#4D5663"
         }
        },
        "paper_bgcolor": "#F5F6F9",
        "plot_bgcolor": "#F5F6F9",
        "template": {
         "data": {
          "bar": [
           {
            "error_x": {
             "color": "#2a3f5f"
            },
            "error_y": {
             "color": "#2a3f5f"
            },
            "marker": {
             "line": {
              "color": "#E5ECF6",
              "width": 0.5
             },
             "pattern": {
              "fillmode": "overlay",
              "size": 10,
              "solidity": 0.2
             }
            },
            "type": "bar"
           }
          ],
          "barpolar": [
           {
            "marker": {
             "line": {
              "color": "#E5ECF6",
              "width": 0.5
             },
             "pattern": {
              "fillmode": "overlay",
              "size": 10,
              "solidity": 0.2
             }
            },
            "type": "barpolar"
           }
          ],
          "carpet": [
           {
            "aaxis": {
             "endlinecolor": "#2a3f5f",
             "gridcolor": "white",
             "linecolor": "white",
             "minorgridcolor": "white",
             "startlinecolor": "#2a3f5f"
            },
            "baxis": {
             "endlinecolor": "#2a3f5f",
             "gridcolor": "white",
             "linecolor": "white",
             "minorgridcolor": "white",
             "startlinecolor": "#2a3f5f"
            },
            "type": "carpet"
           }
          ],
          "choropleth": [
           {
            "colorbar": {
             "outlinewidth": 0,
             "ticks": ""
            },
            "type": "choropleth"
           }
          ],
          "contour": [
           {
            "colorbar": {
             "outlinewidth": 0,
             "ticks": ""
            },
            "colorscale": [
             [
              0,
              "#0d0887"
             ],
             [
              0.1111111111111111,
              "#46039f"
             ],
             [
              0.2222222222222222,
              "#7201a8"
             ],
             [
              0.3333333333333333,
              "#9c179e"
             ],
             [
              0.4444444444444444,
              "#bd3786"
             ],
             [
              0.5555555555555556,
              "#d8576b"
             ],
             [
              0.6666666666666666,
              "#ed7953"
             ],
             [
              0.7777777777777778,
              "#fb9f3a"
             ],
             [
              0.8888888888888888,
              "#fdca26"
             ],
             [
              1,
              "#f0f921"
             ]
            ],
            "type": "contour"
           }
          ],
          "contourcarpet": [
           {
            "colorbar": {
             "outlinewidth": 0,
             "ticks": ""
            },
            "type": "contourcarpet"
           }
          ],
          "heatmap": [
           {
            "colorbar": {
             "outlinewidth": 0,
             "ticks": ""
            },
            "colorscale": [
             [
              0,
              "#0d0887"
             ],
             [
              0.1111111111111111,
              "#46039f"
             ],
             [
              0.2222222222222222,
              "#7201a8"
             ],
             [
              0.3333333333333333,
              "#9c179e"
             ],
             [
              0.4444444444444444,
              "#bd3786"
             ],
             [
              0.5555555555555556,
              "#d8576b"
             ],
             [
              0.6666666666666666,
              "#ed7953"
             ],
             [
              0.7777777777777778,
              "#fb9f3a"
             ],
             [
              0.8888888888888888,
              "#fdca26"
             ],
             [
              1,
              "#f0f921"
             ]
            ],
            "type": "heatmap"
           }
          ],
          "heatmapgl": [
           {
            "colorbar": {
             "outlinewidth": 0,
             "ticks": ""
            },
            "colorscale": [
             [
              0,
              "#0d0887"
             ],
             [
              0.1111111111111111,
              "#46039f"
             ],
             [
              0.2222222222222222,
              "#7201a8"
             ],
             [
              0.3333333333333333,
              "#9c179e"
             ],
             [
              0.4444444444444444,
              "#bd3786"
             ],
             [
              0.5555555555555556,
              "#d8576b"
             ],
             [
              0.6666666666666666,
              "#ed7953"
             ],
             [
              0.7777777777777778,
              "#fb9f3a"
             ],
             [
              0.8888888888888888,
              "#fdca26"
             ],
             [
              1,
              "#f0f921"
             ]
            ],
            "type": "heatmapgl"
           }
          ],
          "histogram": [
           {
            "marker": {
             "pattern": {
              "fillmode": "overlay",
              "size": 10,
              "solidity": 0.2
             }
            },
            "type": "histogram"
           }
          ],
          "histogram2d": [
           {
            "colorbar": {
             "outlinewidth": 0,
             "ticks": ""
            },
            "colorscale": [
             [
              0,
              "#0d0887"
             ],
             [
              0.1111111111111111,
              "#46039f"
             ],
             [
              0.2222222222222222,
              "#7201a8"
             ],
             [
              0.3333333333333333,
              "#9c179e"
             ],
             [
              0.4444444444444444,
              "#bd3786"
             ],
             [
              0.5555555555555556,
              "#d8576b"
             ],
             [
              0.6666666666666666,
              "#ed7953"
             ],
             [
              0.7777777777777778,
              "#fb9f3a"
             ],
             [
              0.8888888888888888,
              "#fdca26"
             ],
             [
              1,
              "#f0f921"
             ]
            ],
            "type": "histogram2d"
           }
          ],
          "histogram2dcontour": [
           {
            "colorbar": {
             "outlinewidth": 0,
             "ticks": ""
            },
            "colorscale": [
             [
              0,
              "#0d0887"
             ],
             [
              0.1111111111111111,
              "#46039f"
             ],
             [
              0.2222222222222222,
              "#7201a8"
             ],
             [
              0.3333333333333333,
              "#9c179e"
             ],
             [
              0.4444444444444444,
              "#bd3786"
             ],
             [
              0.5555555555555556,
              "#d8576b"
             ],
             [
              0.6666666666666666,
              "#ed7953"
             ],
             [
              0.7777777777777778,
              "#fb9f3a"
             ],
             [
              0.8888888888888888,
              "#fdca26"
             ],
             [
              1,
              "#f0f921"
             ]
            ],
            "type": "histogram2dcontour"
           }
          ],
          "mesh3d": [
           {
            "colorbar": {
             "outlinewidth": 0,
             "ticks": ""
            },
            "type": "mesh3d"
           }
          ],
          "parcoords": [
           {
            "line": {
             "colorbar": {
              "outlinewidth": 0,
              "ticks": ""
             }
            },
            "type": "parcoords"
           }
          ],
          "pie": [
           {
            "automargin": true,
            "type": "pie"
           }
          ],
          "scatter": [
           {
            "fillpattern": {
             "fillmode": "overlay",
             "size": 10,
             "solidity": 0.2
            },
            "type": "scatter"
           }
          ],
          "scatter3d": [
           {
            "line": {
             "colorbar": {
              "outlinewidth": 0,
              "ticks": ""
             }
            },
            "marker": {
             "colorbar": {
              "outlinewidth": 0,
              "ticks": ""
             }
            },
            "type": "scatter3d"
           }
          ],
          "scattercarpet": [
           {
            "marker": {
             "colorbar": {
              "outlinewidth": 0,
              "ticks": ""
             }
            },
            "type": "scattercarpet"
           }
          ],
          "scattergeo": [
           {
            "marker": {
             "colorbar": {
              "outlinewidth": 0,
              "ticks": ""
             }
            },
            "type": "scattergeo"
           }
          ],
          "scattergl": [
           {
            "marker": {
             "colorbar": {
              "outlinewidth": 0,
              "ticks": ""
             }
            },
            "type": "scattergl"
           }
          ],
          "scattermapbox": [
           {
            "marker": {
             "colorbar": {
              "outlinewidth": 0,
              "ticks": ""
             }
            },
            "type": "scattermapbox"
           }
          ],
          "scatterpolar": [
           {
            "marker": {
             "colorbar": {
              "outlinewidth": 0,
              "ticks": ""
             }
            },
            "type": "scatterpolar"
           }
          ],
          "scatterpolargl": [
           {
            "marker": {
             "colorbar": {
              "outlinewidth": 0,
              "ticks": ""
             }
            },
            "type": "scatterpolargl"
           }
          ],
          "scatterternary": [
           {
            "marker": {
             "colorbar": {
              "outlinewidth": 0,
              "ticks": ""
             }
            },
            "type": "scatterternary"
           }
          ],
          "surface": [
           {
            "colorbar": {
             "outlinewidth": 0,
             "ticks": ""
            },
            "colorscale": [
             [
              0,
              "#0d0887"
             ],
             [
              0.1111111111111111,
              "#46039f"
             ],
             [
              0.2222222222222222,
              "#7201a8"
             ],
             [
              0.3333333333333333,
              "#9c179e"
             ],
             [
              0.4444444444444444,
              "#bd3786"
             ],
             [
              0.5555555555555556,
              "#d8576b"
             ],
             [
              0.6666666666666666,
              "#ed7953"
             ],
             [
              0.7777777777777778,
              "#fb9f3a"
             ],
             [
              0.8888888888888888,
              "#fdca26"
             ],
             [
              1,
              "#f0f921"
             ]
            ],
            "type": "surface"
           }
          ],
          "table": [
           {
            "cells": {
             "fill": {
              "color": "#EBF0F8"
             },
             "line": {
              "color": "white"
             }
            },
            "header": {
             "fill": {
              "color": "#C8D4E3"
             },
             "line": {
              "color": "white"
             }
            },
            "type": "table"
           }
          ]
         },
         "layout": {
          "annotationdefaults": {
           "arrowcolor": "#2a3f5f",
           "arrowhead": 0,
           "arrowwidth": 1
          },
          "autotypenumbers": "strict",
          "coloraxis": {
           "colorbar": {
            "outlinewidth": 0,
            "ticks": ""
           }
          },
          "colorscale": {
           "diverging": [
            [
             0,
             "#8e0152"
            ],
            [
             0.1,
             "#c51b7d"
            ],
            [
             0.2,
             "#de77ae"
            ],
            [
             0.3,
             "#f1b6da"
            ],
            [
             0.4,
             "#fde0ef"
            ],
            [
             0.5,
             "#f7f7f7"
            ],
            [
             0.6,
             "#e6f5d0"
            ],
            [
             0.7,
             "#b8e186"
            ],
            [
             0.8,
             "#7fbc41"
            ],
            [
             0.9,
             "#4d9221"
            ],
            [
             1,
             "#276419"
            ]
           ],
           "sequential": [
            [
             0,
             "#0d0887"
            ],
            [
             0.1111111111111111,
             "#46039f"
            ],
            [
             0.2222222222222222,
             "#7201a8"
            ],
            [
             0.3333333333333333,
             "#9c179e"
            ],
            [
             0.4444444444444444,
             "#bd3786"
            ],
            [
             0.5555555555555556,
             "#d8576b"
            ],
            [
             0.6666666666666666,
             "#ed7953"
            ],
            [
             0.7777777777777778,
             "#fb9f3a"
            ],
            [
             0.8888888888888888,
             "#fdca26"
            ],
            [
             1,
             "#f0f921"
            ]
           ],
           "sequentialminus": [
            [
             0,
             "#0d0887"
            ],
            [
             0.1111111111111111,
             "#46039f"
            ],
            [
             0.2222222222222222,
             "#7201a8"
            ],
            [
             0.3333333333333333,
             "#9c179e"
            ],
            [
             0.4444444444444444,
             "#bd3786"
            ],
            [
             0.5555555555555556,
             "#d8576b"
            ],
            [
             0.6666666666666666,
             "#ed7953"
            ],
            [
             0.7777777777777778,
             "#fb9f3a"
            ],
            [
             0.8888888888888888,
             "#fdca26"
            ],
            [
             1,
             "#f0f921"
            ]
           ]
          },
          "colorway": [
           "#636efa",
           "#EF553B",
           "#00cc96",
           "#ab63fa",
           "#FFA15A",
           "#19d3f3",
           "#FF6692",
           "#B6E880",
           "#FF97FF",
           "#FECB52"
          ],
          "font": {
           "color": "#2a3f5f"
          },
          "geo": {
           "bgcolor": "white",
           "lakecolor": "white",
           "landcolor": "#E5ECF6",
           "showlakes": true,
           "showland": true,
           "subunitcolor": "white"
          },
          "hoverlabel": {
           "align": "left"
          },
          "hovermode": "closest",
          "mapbox": {
           "style": "light"
          },
          "paper_bgcolor": "white",
          "plot_bgcolor": "#E5ECF6",
          "polar": {
           "angularaxis": {
            "gridcolor": "white",
            "linecolor": "white",
            "ticks": ""
           },
           "bgcolor": "#E5ECF6",
           "radialaxis": {
            "gridcolor": "white",
            "linecolor": "white",
            "ticks": ""
           }
          },
          "scene": {
           "xaxis": {
            "backgroundcolor": "#E5ECF6",
            "gridcolor": "white",
            "gridwidth": 2,
            "linecolor": "white",
            "showbackground": true,
            "ticks": "",
            "zerolinecolor": "white"
           },
           "yaxis": {
            "backgroundcolor": "#E5ECF6",
            "gridcolor": "white",
            "gridwidth": 2,
            "linecolor": "white",
            "showbackground": true,
            "ticks": "",
            "zerolinecolor": "white"
           },
           "zaxis": {
            "backgroundcolor": "#E5ECF6",
            "gridcolor": "white",
            "gridwidth": 2,
            "linecolor": "white",
            "showbackground": true,
            "ticks": "",
            "zerolinecolor": "white"
           }
          },
          "shapedefaults": {
           "line": {
            "color": "#2a3f5f"
           }
          },
          "ternary": {
           "aaxis": {
            "gridcolor": "white",
            "linecolor": "white",
            "ticks": ""
           },
           "baxis": {
            "gridcolor": "white",
            "linecolor": "white",
            "ticks": ""
           },
           "bgcolor": "#E5ECF6",
           "caxis": {
            "gridcolor": "white",
            "linecolor": "white",
            "ticks": ""
           }
          },
          "title": {
           "x": 0.05
          },
          "xaxis": {
           "automargin": true,
           "gridcolor": "white",
           "linecolor": "white",
           "ticks": "",
           "title": {
            "standoff": 15
           },
           "zerolinecolor": "white",
           "zerolinewidth": 2
          },
          "yaxis": {
           "automargin": true,
           "gridcolor": "white",
           "linecolor": "white",
           "ticks": "",
           "title": {
            "standoff": 15
           },
           "zerolinecolor": "white",
           "zerolinewidth": 2
          }
         }
        },
        "title": {
         "font": {
          "color": "#4D5663"
         },
         "text": "migration"
        },
        "width": 1000,
        "xaxis": {
         "autorange": true,
         "gridcolor": "#E1E5ED",
         "range": [
          -937.2336998888273,
          20176.776141640996
         ],
         "showgrid": true,
         "tickfont": {
          "color": "#4D5663"
         },
         "title": {
          "font": {
           "color": "#4D5663"
          },
          "text": "GDP per capita"
         },
         "type": "linear",
         "zerolinecolor": "#E1E5ED"
        },
        "yaxis": {
         "autorange": true,
         "gridcolor": "#E1E5ED",
         "range": [
          -0.0026029609389401874,
          0.04293039167980035
         ],
         "showgrid": true,
         "tickfont": {
          "color": "#4D5663"
         },
         "title": {
          "font": {
           "color": "#4D5663"
          },
          "text": "Migration per Capita"
         },
         "type": "linear",
         "zerolinecolor": "#E1E5ED"
        }
       }
      },
      "image/png": "[encoded data removed]",
      "text/html": [
       "<div>                            <div id=\"ed25de83-e937-42ad-bbd5-848c70b829fd\" class=\"plotly-graph-div\" style=\"height:800px; width:1000px;\"></div>            <script type=\"text/javascript\">                require([\"plotly\"], function(Plotly) {                    window.PLOTLYENV=window.PLOTLYENV || {};\n",
       "                    window.PLOTLYENV.BASE_URL='https://plot.ly';                                    if (document.getElementById(\"ed25de83-e937-42ad-bbd5-848c70b829fd\")) {                    Plotly.newPlot(                        \"ed25de83-e937-42ad-bbd5-848c70b829fd\",                        [{\"line\":{\"color\":\"rgba(255, 153, 51, 1.0)\",\"dash\":\"solid\",\"shape\":\"linear\",\"width\":1.3},\"marker\":{\"size\":8,\"symbol\":\"circle\"},\"mode\":\"markers\",\"name\":\"Migration per Capita\",\"text\":[\"Africa Eastern and Southern\",\"Africa Western and Central\",\"Caribbean small states\",\"Central Europe and the Baltics\",\"Early-demographic dividend\",\"East Asia & Pacific (excluding high income)\",\"East Asia & Pacific (IDA & IBRD countries)\",\"Fragile and conflict affected situations\",\"IDA & IBRD total\",\"Latin America & Caribbean\",\"Latin America & the Caribbean (IDA & IBRD countries)\",\"Least developed countries: UN classification\",\"Low & middle income\",\"Low income\",\"Lower middle income\",\"Middle East & North Africa\",\"Middle East & North Africa (excluding high income)\",\"Middle East & North Africa (IDA & IBRD countries)\",\"Middle income\",\"Pacific island small states\",\"Pre-demographic dividend\",\"South Asia\",\"South Asia (IDA & IBRD)\",\"Sub-Saharan Africa\",\"Sub-Saharan Africa (excluding high income)\",\"Sub-Saharan Africa (IDA & IBRD countries)\",\"Afghanistan\",\"Albania\",\"Algeria\",\"Armenia\",\"Bangladesh\",\"Barbados\",\"Bolivia\",\"Bosnia and Herzegovina\",\"Bulgaria\",\"Burkina Faso\",\"Burundi\",\"Cabo Verde\",\"Cambodia\",\"Cameroon\",\"Central African Republic\",\"China\",\"Comoros\",\"Congo, Rep.\",\"Cote d'Ivoire\",\"Croatia\",\"Cuba\",\"Dominican Republic\",\"Egypt, Arab Rep.\",\"El Salvador\",\"Eswatini\",\"Fiji\",\"Gambia, The\",\"Georgia\",\"Ghana\",\"Greece\",\"Grenada\",\"Guatemala\",\"Guinea\",\"Guinea-Bissau\",\"Guyana\",\"Haiti\",\"Honduras\",\"India\",\"Indonesia\",\"Iraq\",\"Jamaica\",\"Kazakhstan\",\"Kenya\",\"Kiribati\",\"Kosovo\",\"Kyrgyz Republic\",\"Lao PDR\",\"Latvia\",\"Lebanon\",\"Lesotho\",\"Liberia\",\"Lithuania\",\"Malawi\",\"Mali\",\"Marshall Islands\",\"Mauritania\",\"Mauritius\",\"Mexico\",\"Micronesia, Fed. Sts.\",\"Moldova\",\"Montenegro\",\"Morocco\",\"Myanmar\",\"Namibia\",\"Nauru\",\"Nepal\",\"Nicaragua\",\"Niger\",\"North Macedonia\",\"Pakistan\",\"Paraguay\",\"Poland\",\"Romania\",\"Rwanda\",\"Samoa\",\"Sao Tome and Principe\",\"Senegal\",\"Solomon Islands\",\"South Africa\",\"Sri Lanka\",\"St. Vincent and the Grenadines\",\"Suriname\",\"Syrian Arab Republic\",\"Tajikistan\",\"Timor-Leste\",\"Togo\",\"Tonga\",\"Tunisia\",\"Turkiye\",\"Turkmenistan\",\"Tuvalu\",\"Uruguay\",\"Uzbekistan\",\"Vanuatu\",\"Viet Nam\",\"West Bank and Gaza\",\"Yemen, Rep.\",\"Zimbabwe\"],\"x\":[1625.2862362582,1590.27775355217,10101.698337451,14223.33867603,3498.57567722821,7151.33860752498,7231.04313773664,1805.7937710783,4847.68098187748,9255.8059757905,9106.59887343947,1116.75249734232,4688.84021818767,804.873520434808,2159.48628984457,7337.21354901812,3771.3988326831,3773.13676844095,5107.25027858374,4128.66101841916,1438.13131092546,1887.89056136563,1887.89056136563,1611.0990750748,1609.80618677889,1611.0990750748,526.140801271383,4531.03220675893,4134.93608656171,4041.99507105058,1815.61026180185,17881.5632533033,3280.0082139387,5327.39230422044,8381.88134621669,711.184543433623,244.14542219677,3534.34357478817,1400.89926522987,1479.86222187116,414.74032227842,8817.04560829162,1414.58668930422,2227.72013856074,2113.34152528591,13592.2545240617,8543.33006731328,7513.49798180543,2439.96728439968,3986.04901435439,3824.04678338499,5825.19966514413,632.001024153219,4356.92801624893,1998.72266581387,18582.0893411631,9309.26129609568,4454.02450948165,843.464279230956,718.245737766542,6220.97856820609,1389.35862299149,2403.30608839303,1957.96981329558,3839.78507460491,4725.19357334032,5273.14902681979,9247.58067886159,1675.98842173012,1566.44713639955,4009.3538108854,1242.77022029305,2439.4633552251,15695.1151541059,8679.89742212366,1062.4561920176,706.892691974846,16885.4073948373,500.165547203323,795.682801553765,4507.622862229,1634.64215833074,10841.6847754844,9693.33009125499,3320.3549760029,3454.95469039113,7803.35824465203,3288.50268554688,1263.28526342903,5453.57062341501,9361.03739658919,1027.96547447264,2127.28281786358,514.543398015622,5450.49706853299,1567.6406123353,6136.0583014952,13815.4999463758,10727.9708633184,756.547641107379,4261.64034322214,1547.82270967205,1385.1992136057,2283.57905127379,6734.47515314548,4388.20190593728,7996.63698412147,6112.88301430134,862.319063332871,844.36524984854,1285.5239757568,813.395006476051,4367.25660339844,3569.71883883673,10695.550196231,6354.53282979422,4181.43658600984,18995.3970195554,1916.76462520814,3032.19702965604,2992.07153198845,3620.36048715937,893.716492936242,1192.10701198862],\"y\":[0.0005421996993203772,0.00046579673347999856,0.0021665926852303934,0.0007415119930121135,0.001058721551402638,0.0001061300157019687,0.00010589590612440308,0.0025351247857677817,0.0006418507012371599,0.0004443187891066541,0.00033663559223602075,0.0008920923990202697,0.0005500807165141544,0.0014489983756867766,0.0009490813504719527,0.000383625668511606,0.0017697953640929717,0.0017244181510982786,0.000453366695316404,0.009144361929473651,0.0006378274945460861,0.0011994877086958654,0.0011994877086958654,0.0005112374551017613,0.000511526984704551,0.0005112374551017613,0.001321141535865051,0.0033993896550392087,0.0008860248014016539,0.009230964510612664,0.001086288979235344,0.00023281886334249087,0.0008455224605621793,0.008915337001715394,0.0019163512671872755,0.0007461739240117569,0.006135935579578782,0.0023966553029096172,0.0028880612840034947,0.001554122850972163,0.011754461558043532,0.00012934397639332052,0.0038363372825812956,0.0021843481403675214,0.0007549093658020825,0.0033104369927150507,0.0012788886776716251,0.0028227962090471488,0.00022871736351764613,0.008077037602522813,0.008795455927183666,0.012627595294547773,0.0015513303896972177,0.0021153410779602166,0.00016259537423108834,0.002330241562765379,0.0015712738068656396,0.0029867440505368854,0.0011213329467569453,0.0007436858517756431,0.008005219770141448,0.0032002450765832103,0.000704488553982708,0.0001622040324334811,0.00014851482228739503,0.0002498412338335761,0.0040340039937672165,0.0008816497111395551,0.0014036080678617043,0.006738007012179924,0.018701811219746702,0.004484527766125649,0.0014861565234340448,0.004890209695157364,0.03780282758020131,0.0015327439156700606,0.005176549957668205,0.0056346284458049295,0.0002681592314416615,0.0017603632681393927,0.04028651959226058,0.0007213916295974894,0.0018823815882367358,0.00010125427491592305,0.011618219686679344,0.015921956715129162,0.003181371942548922,0.00202113171498122,0.0020164724675430035,0.00363581153834117,0.002910460537579182,0.002769783914844136,0.0033702479981581757,0.00031405945793714783,0.00049072018248235,0.007276936456895635,0.0026163560963236954,5.2218804109859516e-05,0.002998410053951982,0.0004226375082489537,0.013601117372248712,0.008532177123190217,0.0013574535554087591,0.002490545869236243,0.00018857295224754118,0.004584500734720667,0.008024708902973974,0.0016134549892010844,0.015466113424626908,0.0014656840914119898,0.0043531592981214335,0.0002543043591485579,0.019978181473224874,0.0018937567577475504,0.0031378599682954245,0.0016111566566689838,0.014314739564093092,0.0009029279410905266,0.0014993238361645765,0.0013885108479563394,4.0911148599585967e-05,0.005713381393798382,0.0013208858685289054,0.00406193408885208],\"type\":\"scatter\"}],                        {\"height\":800,\"legend\":{\"bgcolor\":\"#F5F6F9\",\"font\":{\"color\":\"#4D5663\"}},\"paper_bgcolor\":\"#F5F6F9\",\"plot_bgcolor\":\"#F5F6F9\",\"template\":{\"data\":{\"barpolar\":[{\"marker\":{\"line\":{\"color\":\"#E5ECF6\",\"width\":0.5},\"pattern\":{\"fillmode\":\"overlay\",\"size\":10,\"solidity\":0.2}},\"type\":\"barpolar\"}],\"bar\":[{\"error_x\":{\"color\":\"#2a3f5f\"},\"error_y\":{\"color\":\"#2a3f5f\"},\"marker\":{\"line\":{\"color\":\"#E5ECF6\",\"width\":0.5},\"pattern\":{\"fillmode\":\"overlay\",\"size\":10,\"solidity\":0.2}},\"type\":\"bar\"}],\"carpet\":[{\"aaxis\":{\"endlinecolor\":\"#2a3f5f\",\"gridcolor\":\"white\",\"linecolor\":\"white\",\"minorgridcolor\":\"white\",\"startlinecolor\":\"#2a3f5f\"},\"baxis\":{\"endlinecolor\":\"#2a3f5f\",\"gridcolor\":\"white\",\"linecolor\":\"white\",\"minorgridcolor\":\"white\",\"startlinecolor\":\"#2a3f5f\"},\"type\":\"carpet\"}],\"choropleth\":[{\"colorbar\":{\"outlinewidth\":0,\"ticks\":\"\"},\"type\":\"choropleth\"}],\"contourcarpet\":[{\"colorbar\":{\"outlinewidth\":0,\"ticks\":\"\"},\"type\":\"contourcarpet\"}],\"contour\":[{\"colorbar\":{\"outlinewidth\":0,\"ticks\":\"\"},\"colorscale\":[[0.0,\"#0d0887\"],[0.1111111111111111,\"#46039f\"],[0.2222222222222222,\"#7201a8\"],[0.3333333333333333,\"#9c179e\"],[0.4444444444444444,\"#bd3786\"],[0.5555555555555556,\"#d8576b\"],[0.6666666666666666,\"#ed7953\"],[0.7777777777777778,\"#fb9f3a\"],[0.8888888888888888,\"#fdca26\"],[1.0,\"#f0f921\"]],\"type\":\"contour\"}],\"heatmapgl\":[{\"colorbar\":{\"outlinewidth\":0,\"ticks\":\"\"},\"colorscale\":[[0.0,\"#0d0887\"],[0.1111111111111111,\"#46039f\"],[0.2222222222222222,\"#7201a8\"],[0.3333333333333333,\"#9c179e\"],[0.4444444444444444,\"#bd3786\"],[0.5555555555555556,\"#d8576b\"],[0.6666666666666666,\"#ed7953\"],[0.7777777777777778,\"#fb9f3a\"],[0.8888888888888888,\"#fdca26\"],[1.0,\"#f0f921\"]],\"type\":\"heatmapgl\"}],\"heatmap\":[{\"colorbar\":{\"outlinewidth\":0,\"ticks\":\"\"},\"colorscale\":[[0.0,\"#0d0887\"],[0.1111111111111111,\"#46039f\"],[0.2222222222222222,\"#7201a8\"],[0.3333333333333333,\"#9c179e\"],[0.4444444444444444,\"#bd3786\"],[0.5555555555555556,\"#d8576b\"],[0.6666666666666666,\"#ed7953\"],[0.7777777777777778,\"#fb9f3a\"],[0.8888888888888888,\"#fdca26\"],[1.0,\"#f0f921\"]],\"type\":\"heatmap\"}],\"histogram2dcontour\":[{\"colorbar\":{\"outlinewidth\":0,\"ticks\":\"\"},\"colorscale\":[[0.0,\"#0d0887\"],[0.1111111111111111,\"#46039f\"],[0.2222222222222222,\"#7201a8\"],[0.3333333333333333,\"#9c179e\"],[0.4444444444444444,\"#bd3786\"],[0.5555555555555556,\"#d8576b\"],[0.6666666666666666,\"#ed7953\"],[0.7777777777777778,\"#fb9f3a\"],[0.8888888888888888,\"#fdca26\"],[1.0,\"#f0f921\"]],\"type\":\"histogram2dcontour\"}],\"histogram2d\":[{\"colorbar\":{\"outlinewidth\":0,\"ticks\":\"\"},\"colorscale\":[[0.0,\"#0d0887\"],[0.1111111111111111,\"#46039f\"],[0.2222222222222222,\"#7201a8\"],[0.3333333333333333,\"#9c179e\"],[0.4444444444444444,\"#bd3786\"],[0.5555555555555556,\"#d8576b\"],[0.6666666666666666,\"#ed7953\"],[0.7777777777777778,\"#fb9f3a\"],[0.8888888888888888,\"#fdca26\"],[1.0,\"#f0f921\"]],\"type\":\"histogram2d\"}],\"histogram\":[{\"marker\":{\"pattern\":{\"fillmode\":\"overlay\",\"size\":10,\"solidity\":0.2}},\"type\":\"histogram\"}],\"mesh3d\":[{\"colorbar\":{\"outlinewidth\":0,\"ticks\":\"\"},\"type\":\"mesh3d\"}],\"parcoords\":[{\"line\":{\"colorbar\":{\"outlinewidth\":0,\"ticks\":\"\"}},\"type\":\"parcoords\"}],\"pie\":[{\"automargin\":true,\"type\":\"pie\"}],\"scatter3d\":[{\"line\":{\"colorbar\":{\"outlinewidth\":0,\"ticks\":\"\"}},\"marker\":{\"colorbar\":{\"outlinewidth\":0,\"ticks\":\"\"}},\"type\":\"scatter3d\"}],\"scattercarpet\":[{\"marker\":{\"colorbar\":{\"outlinewidth\":0,\"ticks\":\"\"}},\"type\":\"scattercarpet\"}],\"scattergeo\":[{\"marker\":{\"colorbar\":{\"outlinewidth\":0,\"ticks\":\"\"}},\"type\":\"scattergeo\"}],\"scattergl\":[{\"marker\":{\"colorbar\":{\"outlinewidth\":0,\"ticks\":\"\"}},\"type\":\"scattergl\"}],\"scattermapbox\":[{\"marker\":{\"colorbar\":{\"outlinewidth\":0,\"ticks\":\"\"}},\"type\":\"scattermapbox\"}],\"scatterpolargl\":[{\"marker\":{\"colorbar\":{\"outlinewidth\":0,\"ticks\":\"\"}},\"type\":\"scatterpolargl\"}],\"scatterpolar\":[{\"marker\":{\"colorbar\":{\"outlinewidth\":0,\"ticks\":\"\"}},\"type\":\"scatterpolar\"}],\"scatter\":[{\"fillpattern\":{\"fillmode\":\"overlay\",\"size\":10,\"solidity\":0.2},\"type\":\"scatter\"}],\"scatterternary\":[{\"marker\":{\"colorbar\":{\"outlinewidth\":0,\"ticks\":\"\"}},\"type\":\"scatterternary\"}],\"surface\":[{\"colorbar\":{\"outlinewidth\":0,\"ticks\":\"\"},\"colorscale\":[[0.0,\"#0d0887\"],[0.1111111111111111,\"#46039f\"],[0.2222222222222222,\"#7201a8\"],[0.3333333333333333,\"#9c179e\"],[0.4444444444444444,\"#bd3786\"],[0.5555555555555556,\"#d8576b\"],[0.6666666666666666,\"#ed7953\"],[0.7777777777777778,\"#fb9f3a\"],[0.8888888888888888,\"#fdca26\"],[1.0,\"#f0f921\"]],\"type\":\"surface\"}],\"table\":[{\"cells\":{\"fill\":{\"color\":\"#EBF0F8\"},\"line\":{\"color\":\"white\"}},\"header\":{\"fill\":{\"color\":\"#C8D4E3\"},\"line\":{\"color\":\"white\"}},\"type\":\"table\"}]},\"layout\":{\"annotationdefaults\":{\"arrowcolor\":\"#2a3f5f\",\"arrowhead\":0,\"arrowwidth\":1},\"autotypenumbers\":\"strict\",\"coloraxis\":{\"colorbar\":{\"outlinewidth\":0,\"ticks\":\"\"}},\"colorscale\":{\"diverging\":[[0,\"#8e0152\"],[0.1,\"#c51b7d\"],[0.2,\"#de77ae\"],[0.3,\"#f1b6da\"],[0.4,\"#fde0ef\"],[0.5,\"#f7f7f7\"],[0.6,\"#e6f5d0\"],[0.7,\"#b8e186\"],[0.8,\"#7fbc41\"],[0.9,\"#4d9221\"],[1,\"#276419\"]],\"sequential\":[[0.0,\"#0d0887\"],[0.1111111111111111,\"#46039f\"],[0.2222222222222222,\"#7201a8\"],[0.3333333333333333,\"#9c179e\"],[0.4444444444444444,\"#bd3786\"],[0.5555555555555556,\"#d8576b\"],[0.6666666666666666,\"#ed7953\"],[0.7777777777777778,\"#fb9f3a\"],[0.8888888888888888,\"#fdca26\"],[1.0,\"#f0f921\"]],\"sequentialminus\":[[0.0,\"#0d0887\"],[0.1111111111111111,\"#46039f\"],[0.2222222222222222,\"#7201a8\"],[0.3333333333333333,\"#9c179e\"],[0.4444444444444444,\"#bd3786\"],[0.5555555555555556,\"#d8576b\"],[0.6666666666666666,\"#ed7953\"],[0.7777777777777778,\"#fb9f3a\"],[0.8888888888888888,\"#fdca26\"],[1.0,\"#f0f921\"]]},\"colorway\":[\"#636efa\",\"#EF553B\",\"#00cc96\",\"#ab63fa\",\"#FFA15A\",\"#19d3f3\",\"#FF6692\",\"#B6E880\",\"#FF97FF\",\"#FECB52\"],\"font\":{\"color\":\"#2a3f5f\"},\"geo\":{\"bgcolor\":\"white\",\"lakecolor\":\"white\",\"landcolor\":\"#E5ECF6\",\"showlakes\":true,\"showland\":true,\"subunitcolor\":\"white\"},\"hoverlabel\":{\"align\":\"left\"},\"hovermode\":\"closest\",\"mapbox\":{\"style\":\"light\"},\"paper_bgcolor\":\"white\",\"plot_bgcolor\":\"#E5ECF6\",\"polar\":{\"angularaxis\":{\"gridcolor\":\"white\",\"linecolor\":\"white\",\"ticks\":\"\"},\"bgcolor\":\"#E5ECF6\",\"radialaxis\":{\"gridcolor\":\"white\",\"linecolor\":\"white\",\"ticks\":\"\"}},\"scene\":{\"xaxis\":{\"backgroundcolor\":\"#E5ECF6\",\"gridcolor\":\"white\",\"gridwidth\":2,\"linecolor\":\"white\",\"showbackground\":true,\"ticks\":\"\",\"zerolinecolor\":\"white\"},\"yaxis\":{\"backgroundcolor\":\"#E5ECF6\",\"gridcolor\":\"white\",\"gridwidth\":2,\"linecolor\":\"white\",\"showbackground\":true,\"ticks\":\"\",\"zerolinecolor\":\"white\"},\"zaxis\":{\"backgroundcolor\":\"#E5ECF6\",\"gridcolor\":\"white\",\"gridwidth\":2,\"linecolor\":\"white\",\"showbackground\":true,\"ticks\":\"\",\"zerolinecolor\":\"white\"}},\"shapedefaults\":{\"line\":{\"color\":\"#2a3f5f\"}},\"ternary\":{\"aaxis\":{\"gridcolor\":\"white\",\"linecolor\":\"white\",\"ticks\":\"\"},\"baxis\":{\"gridcolor\":\"white\",\"linecolor\":\"white\",\"ticks\":\"\"},\"bgcolor\":\"#E5ECF6\",\"caxis\":{\"gridcolor\":\"white\",\"linecolor\":\"white\",\"ticks\":\"\"}},\"title\":{\"x\":0.05},\"xaxis\":{\"automargin\":true,\"gridcolor\":\"white\",\"linecolor\":\"white\",\"ticks\":\"\",\"title\":{\"standoff\":15},\"zerolinecolor\":\"white\",\"zerolinewidth\":2},\"yaxis\":{\"automargin\":true,\"gridcolor\":\"white\",\"linecolor\":\"white\",\"ticks\":\"\",\"title\":{\"standoff\":15},\"zerolinecolor\":\"white\",\"zerolinewidth\":2}}},\"title\":{\"font\":{\"color\":\"#4D5663\"},\"text\":\"migration\"},\"width\":1000,\"xaxis\":{\"gridcolor\":\"#E1E5ED\",\"showgrid\":true,\"tickfont\":{\"color\":\"#4D5663\"},\"title\":{\"font\":{\"color\":\"#4D5663\"},\"text\":\"GDP per capita\"},\"zerolinecolor\":\"#E1E5ED\"},\"yaxis\":{\"gridcolor\":\"#E1E5ED\",\"showgrid\":true,\"tickfont\":{\"color\":\"#4D5663\"},\"title\":{\"font\":{\"color\":\"#4D5663\"},\"text\":\"Migration per Capita\"},\"zerolinecolor\":\"#E1E5ED\"}},                        {\"showLink\": true, \"linkText\": \"Export to plot.ly\", \"plotlyServerURL\": \"https://plot.ly\", \"responsive\": true}                    ).then(function(){\n",
       "                            \n",
       "var gd = document.getElementById('ed25de83-e937-42ad-bbd5-848c70b829fd');\n",
       "var x = new MutationObserver(function (mutations, observer) {{\n",
       "        var display = window.getComputedStyle(gd).display;\n",
       "        if (!display || display === 'none') {{\n",
       "            console.log([gd, 'removed!']);\n",
       "            Plotly.purge(gd);\n",
       "            observer.disconnect();\n",
       "        }}\n",
       "}});\n",
       "\n",
       "// Listen for the removal of the full notebook cells\n",
       "var notebookContainer = gd.closest('#notebook-container');\n",
       "if (notebookContainer) {{\n",
       "    x.observe(notebookContainer, {childList: true});\n",
       "}}\n",
       "\n",
       "// Listen for the clearing of the current output cell\n",
       "var outputEl = gd.closest('.output');\n",
       "if (outputEl) {{\n",
       "    x.observe(outputEl, {childList: true});\n",
       "}}\n",
       "\n",
       "                        })                };                });            </script>        </div>"
      ]
     },
     "metadata": {},
     "output_type": "display_data"
    }
   ],
   "source": [
    "mig_lowinc.iplot(kind='scatter', mode = 'markers', size = 8,\n",
    "         text=mig_lowinc.reset_index('country')['country'].values.tolist(),\n",
    "         x = 'GDP per capita', y=\"Migration per Capita\",\n",
    "         xTitle=\"GDP per capita\",yTitle=\"Migration per Capita\",\n",
    "         title=\"migration\", dimensions=(1000, 800))"
   ]
  },
  {
   "cell_type": "code",
   "execution_count": 30,
   "metadata": {},
   "outputs": [
    {
     "name": "stdout",
     "output_type": "stream",
     "text": [
      "                             OLS Regression Results                             \n",
      "================================================================================\n",
      "Dep. Variable:     Migration per Capita   R-squared:                       0.518\n",
      "Model:                              OLS   Adj. R-squared:                  0.506\n",
      "Method:                   Least Squares   F-statistic:                     43.02\n",
      "Date:                  Fri, 19 Jan 2024   Prob (F-statistic):           5.98e-19\n",
      "Time:                          21:05:11   Log-Likelihood:                 502.74\n",
      "No. Observations:                   124   AIC:                            -997.5\n",
      "Df Residuals:                       120   BIC:                            -986.2\n",
      "Df Model:                             3                                         \n",
      "Covariance Type:              nonrobust                                         \n",
      "=============================================================================================\n",
      "                                coef    std err          t      P>|t|      [0.025      0.975]\n",
      "---------------------------------------------------------------------------------------------\n",
      "const                         0.0105      0.001      8.472      0.000       0.008       0.013\n",
      "GDP per capita            -6.651e-07   1.21e-07     -5.483      0.000   -9.05e-07   -4.25e-07\n",
      "Death Probability (20-24)     0.0003   9.36e-05      3.303      0.001       0.000       0.000\n",
      "Population Growth Rate       -0.0049      0.000    -11.358      0.000      -0.006      -0.004\n",
      "==============================================================================\n",
      "Omnibus:                       66.054   Durbin-Watson:                   1.996\n",
      "Prob(Omnibus):                  0.000   Jarque-Bera (JB):              298.904\n",
      "Skew:                           1.850   Prob(JB):                     1.24e-65\n",
      "Kurtosis:                       9.646   Cond. No.                     2.02e+04\n",
      "==============================================================================\n",
      "\n",
      "Notes:\n",
      "[1] Standard Errors assume that the covariance matrix of the errors is correctly specified.\n",
      "[2] The condition number is large, 2.02e+04. This might indicate that there are\n",
      "strong multicollinearity or other numerical problems.\n"
     ]
    }
   ],
   "source": [
    "# regressing \n",
    "\n",
    "# Assuming your DataFrame is named data and you want to predict 'Death Probability (5-9)' based on 'GDP per capita'\n",
    "X = mig_lowinc[['GDP per capita',\n",
    "       'Death Probability (20-24)',\n",
    "       'Population Growth Rate']]  # Independent variable\n",
    "y = mig_lowinc['Migration per Capita']  # Dependent variable\n",
    "\n",
    "# Add a constant to the independent variable (required for statsmodels)\n",
    "X = sm.add_constant(X)\n",
    "\n",
    "# Fit the linear regression model\n",
    "model = sm.OLS(y, X).fit()\n",
    "\n",
    "# Print the regression summary\n",
    "print(model.summary())"
   ]
  },
  {
   "cell_type": "code",
   "execution_count": null,
   "metadata": {},
   "outputs": [],
   "source": []
  },
  {
   "cell_type": "code",
   "execution_count": null,
   "metadata": {},
   "outputs": [],
   "source": []
  },
  {
   "cell_type": "code",
   "execution_count": null,
   "metadata": {},
   "outputs": [],
   "source": []
  },
  {
   "cell_type": "code",
   "execution_count": null,
   "metadata": {},
   "outputs": [],
   "source": []
  },
  {
   "cell_type": "code",
   "execution_count": null,
   "metadata": {},
   "outputs": [],
   "source": []
  },
  {
   "cell_type": "code",
   "execution_count": null,
   "metadata": {},
   "outputs": [],
   "source": []
  },
  {
   "cell_type": "code",
   "execution_count": null,
   "metadata": {},
   "outputs": [],
   "source": []
  },
  {
   "cell_type": "code",
   "execution_count": null,
   "metadata": {},
   "outputs": [],
   "source": []
  },
  {
   "cell_type": "code",
   "execution_count": null,
   "metadata": {},
   "outputs": [],
   "source": []
  },
  {
   "cell_type": "code",
   "execution_count": null,
   "metadata": {},
   "outputs": [],
   "source": []
  },
  {
   "cell_type": "code",
   "execution_count": null,
   "metadata": {},
   "outputs": [],
   "source": []
  }
 ],
 "metadata": {
  "kernelspec": {
   "display_name": "Python 3 (ipykernel)",
   "language": "python",
   "name": "python3"
  },
  "language_info": {
   "codemirror_mode": {
    "name": "ipython",
    "version": 3
   },
   "file_extension": ".py",
   "mimetype": "text/x-python",
   "name": "python",
   "nbconvert_exporter": "python",
   "pygments_lexer": "ipython3",
   "version": "3.11.5"
  },
  "org": null
 },
 "nbformat": 4,
 "nbformat_minor": 4
}
