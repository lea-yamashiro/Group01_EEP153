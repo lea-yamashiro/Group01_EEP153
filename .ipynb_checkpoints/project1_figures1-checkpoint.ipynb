{
 "cells": [
  {
   "cell_type": "code",
   "execution_count": null,
   "id": "878daea6",
   "metadata": {},
   "outputs": [],
   "source": [
    "# install necessary packages \n",
    "\n",
    "!pip install wbdata\n",
    "import wbdata # IF NECESSARY\n",
    "import cufflinks as cf\n",
    "cf.go_offline()\n",
    "import pandas as pd\n",
    "import numpy as np\n",
    "from scipy import stats"
   ]
  },
  {
   "cell_type": "code",
   "execution_count": null,
   "id": "3f45484b",
   "metadata": {},
   "outputs": [],
   "source": [
    "# DEFINE FUNCTIONS\n",
    "\n",
    "# this one is to get relevant migration statistics we're interested in\n",
    "def migration_organizing(data1):\n",
    "    \n",
    "    # Make years ints instead of strings\n",
    "    data1.reset_index(inplace=True)\n",
    "    data1['date'] = data1['date'].astype(int)\n",
    "\n",
    "    # index the table by country instead of year \n",
    "    data1.set_index(['country'],inplace=True)\n",
    "    \n",
    "    #takes all negative values, we want migration AWAY\n",
    "    mig_table = data1[data1['Net Migration'] < 0] \n",
    "    \n",
    "    #takes absolute value to get magnitude rather than negative\n",
    "    mig_table['Net Migration'] = mig_table['Net Migration'].abs() \n",
    "    \n",
    "    #creates new column, called 'Migration Per Capita'\n",
    "    mig_table['Migration per Capita'] = mig_table['Net Migration']/mig_table['Total Population'] \n",
    "    \n",
    "    #takes migration per capita and makes it a rate\n",
    "    mig_table['Migration Rate (%)'] = mig_table['Migration per Capita']*100   \n",
    "    \n",
    "    # This line of code is initialized because we are interested in a population contingent \n",
    "    # on trends in the past ten years (rather than since '64). Additionally, we look at data \n",
    "    # from the ESG dataset, which only started being compiled in 2014'''\n",
    "    mig_table = mig_table[mig_table['date'] > 2013]\n",
    "\n",
    "    return mig_table\n",
    "\n",
    "\n",
    "\n",
    "''' This function is a manual way of creating a dataframe that is usually performed by \n",
    "    a \"group_by\" function. The reason for this distinction is because we used the group_by\n",
    "    function, but were really struggling to perform table-operations on the group_by frame, \n",
    "    as that function creates a special type of dataframe. This method was much faster.'''\n",
    "\n",
    "def setup_long(dataframe):\n",
    "    \n",
    "    #percentiles = {'values': [50, 75, 80, 90]}\n",
    "    unique_country_indices = dataframe.index.unique()\n",
    "\n",
    "    if not unique_country_indices.empty:\n",
    "        \n",
    "        # Create an empty DataFrame with columns\n",
    "        results = pd.DataFrame(columns=['Net Migration', 'Migration Rate (%)'])\n",
    "\n",
    "        for country_index in unique_country_indices:\n",
    "            country_data = dataframe.loc[country_index]\n",
    "            mig_net_avg = country_data['Net Migration'].mean()\n",
    "            mig_percap_avg = country_data['Migration Rate (%)'].mean()\n",
    "\n",
    "            # Append the computed averages to the results DataFrame\n",
    "            results.loc[country_index] = [mig_net_avg, mig_percap_avg]\n",
    "        \n",
    "        # calculate the percentiles for the migration rates \n",
    "        results['Percentile Rank'] = results['Migration Rate (%)'].apply(\n",
    "            lambda x: stats.percentileofscore(results['Migration Rate (%)'], x))\n",
    "\n",
    "        return results \n",
    "    \n",
    "    \n",
    "    \n",
    "''' This is the function that we use to retrieve population statistics, as outlined in the \n",
    "    [A] deliverables posted on Ed.'''\n",
    "\n",
    "\n",
    "def population(year, sex, age_low, age_high, country_code):\n",
    "    \n",
    "    # reconstruct the strings for population codes associated \n",
    "    # as entered in \"age_low\" and \"age_high\" arguments\n",
    "    \n",
    "    if sex == \"Male\":\n",
    "        column_names = {\"SP.POP.\" + str(age_low)+str(age_high) + \".MA\": sex}\n",
    "    elif sex == \"Female\":\n",
    "        column_names = {\"SP.POP.\" + str(age_low)+str(age_high) + \".FE\": sex}\n",
    "    \n",
    "    # construct new dataframe for function to index, isolating \n",
    "    # the country by the function's country-code argument\n",
    "    pop_stats = wbdata.get_dataframe(column_names, country = country_code)\n",
    "    \n",
    "    # filter the table by the function's year' argument\n",
    "    \n",
    "    pop_stats = pop_stats.filter(like=str(year), axis=0)\n",
    "    # return population number by indexing the function-generated \n",
    "    # dataframe by the function's 'sex' argument, and making it an integer\n",
    "\n",
    "    return int(pop_stats[sex].iloc[0])\n",
    "\n",
    "\n",
    "\n",
    "''' This function retrieves a dataframe for specific year, country, and indicators selected. \n",
    "    The function assumes that the argument pop_indicators has already been defined with a \n",
    "    relevant WBData code dictionary.'''\n",
    "\n",
    "def population_dataframe(year, country_code, pop_indicators):\n",
    "        \n",
    "    pop_df = wbdata.get_dataframe(pop_indicators, country = country_code)\n",
    "    \n",
    "    # filter the table by the function's year' argument\n",
    "    \n",
    "    pop_df = pop_df.filter(like=str(year), axis=0)\n",
    "    \n",
    "    # return population dataframe by indexing  \n",
    "    # by the function's 'sex' argument\n",
    "\n",
    "    return pop_df"
   ]
  },
  {
   "cell_type": "code",
   "execution_count": null,
   "id": "c110cbd6",
   "metadata": {},
   "outputs": [],
   "source": [
    "# this gets the table WE want to use (with the countries we want)\n",
    "\n",
    "indicators_new = {\"SP.POP.TOTL\": \"Total Population\", \n",
    "                  # first, pop stats\n",
    "                      \"SP.POP.TOTL.FE.IN\": \"Population, female\",\n",
    "                      \"SP.POP.TOTL.MA.IN\": \"Population, male\",\n",
    "                      \"SP.POP.0004.FE\": \"Population ages 00-04, female\",\n",
    "                      \"SP.POP.0004.MA\": \"Population ages 00-04, male\",\n",
    "                      \"SP.POP.0014.FE.IN\": \"Population ages 0-14, female\",\n",
    "                      \"SP.POP.0014.MA.IN\": \"Population ages 0-14, male\",\n",
    "                      \"SP.POP.0014.TO\": \"Population ages 0-14, total\",\n",
    "                      \"SP.POP.0509.FE\": \"Population ages 05-09, female\",\n",
    "                      \"SP.POP.0509.MA\": \"Population ages 05-09, male\",\n",
    "                      \"SP.POP.1014.FE\": \"Population ages 10-14, female\",\n",
    "                      \"SP.POP.1014.MA\": \"Population ages 10-14, male\",\n",
    "                      \"SP.POP.1519.FE\": \"Population ages 15-19, female\",\n",
    "                      \"SP.POP.1519.MA\": \"Population ages 15-19, male\",\n",
    "                      \"SP.POP.1564.FE.IN\": \"Population ages 15-64, female\",\n",
    "                      \"SP.POP.1564.MA.IN\": \"Population ages 15-64, male\",\n",
    "                      \"SP.POP.1564.TO\": \"Population ages 15-64, total\",\n",
    "                      \"SP.POP.2024.FE\": \"Population ages 20-24, female\",\n",
    "                      \"SP.POP.2024.MA\": \"Population ages 20-24, male\",\n",
    "                      \"SP.POP.2529.FE\": \"Population ages 25-29, female\",\n",
    "                      \"SP.POP.2529.MA\": \"Population ages 25-29, male\",\n",
    "                      \"SP.POP.3034.FE\": \"Population ages 30-34, female\",\n",
    "                      \"SP.POP.3034.MA\": \"Population ages 30-34, male\",\n",
    "                      \"SP.POP.3539.FE\": \"Population ages 35-39, female\",\n",
    "                      \"SP.POP.3539.MA\": \"Population ages 35-39, male\",\n",
    "                      \"SP.POP.4044.FE\": \"Population ages 40-44, female\",\n",
    "                      \"SP.POP.4044.MA\": \"Population ages 40-44, male\",\n",
    "                      \"SP.POP.4549.FE\": \"Population ages 45-49, female\",\n",
    "                      \"SP.POP.4549.MA\": \"Population ages 45-49, male\",\n",
    "                      \"SP.POP.5054.FE\": \"Population ages 50-54, female\",\n",
    "                      \"SP.POP.5054.MA\": \"Population ages 50-54, male\",\n",
    "                      \"SP.POP.5559.FE\": \"Population ages 55-59, female\",\n",
    "                      \"SP.POP.5559.MA\": \"Population ages 55-59, male\",\n",
    "                      \"SP.POP.6064.FE\": \"Population ages 60-64, female\",\n",
    "                      \"SP.POP.6064.MA\": \"Population ages 60-64, male\",\n",
    "                      \"SP.POP.6569.FE\": \"Population ages 65-69, female\",\n",
    "                      \"SP.POP.6569.MA\": \"Population ages 65-69, male\",\n",
    "                      \"SP.POP.65UP.FE.IN\": \"Population ages 65 and above, female\",\n",
    "                      \"SP.POP.65UP.MA.IN\": \"Population ages 65 and above, male\",\n",
    "                      \"SP.POP.65UP.TO\": \"Population ages 65 and above, total\",\n",
    "                      \"SP.POP.7074.FE\": \"Population ages 70-74, female\",\n",
    "                      \"SP.POP.7074.MA\": \"Population ages 70-74, male\",\n",
    "                      \"SP.POP.7579.FE\": \"Population ages 75-79, female\",\n",
    "                      \"SP.POP.7579.MA\": \"Population ages 75-79, male\",\n",
    "                      \"SP.POP.80UP.FE\": \"Population ages 80 and above, female\",\n",
    "                      \"SP.POP.80UP.MA\": \"Population ages 80 and above, male\", \n",
    "                  \n",
    "                  # some environmental variables\n",
    "                      \"AG.PRD.FOOD.XD\": \"Food Production Index\",\n",
    "                      \"EN.POP.DNST\": \"Population per sq km\", \n",
    "                      \"SN.ITK.DEFC.ZS\": \"Prevalence of Undernourishment (% of Population)\", \n",
    "                      \"EG.ELC.COAL.ZS\": \"Electricity production from coal sources\", \n",
    "                      \"SM.POP.NETM\": \"Net Migration\",\n",
    "                  \"EN.H2O.BDYS.ZS\": \"Proportion of bodies of water with good ambient water quality\", \n",
    "                  \"ER.H2O.FWTL.ZS\": \"Annual freshwater withdrawals, total (% of internal resources)\",\n",
    "                  \"SH.H2O.SMDW.ZS\": \"People using safely managed drinking water services (% of population)\", \n",
    "                  \"SH.STA.SMSS.ZS\": \"People using safely managed sanitation services (% of population)\", \n",
    "                  \"SH.MED.BEDS.ZS\": \"Hospital beds (per 1,000 people)\",  \n",
    "                  \"SE.XPD.TOTL.GB.ZS\": \"Government Expenditure on Education (% of Total Expenditure)\", \n",
    "                  \n",
    "                  # some political variables\n",
    "                      \"PV.EST\": \"Political Stability and Absence of Violence/Terrorism (estimate)\", \n",
    "                      \"IC.LGL.CRED.XQ\": \"Strength of Legal Rights Index (0-12 Scale)\", \n",
    "                    \"EG.ELC.ACCS.ZS\": \"Access to electricity (% of population)\", \n",
    "                    \"GE.EST\": \"Government Effectiveness Estimate\", \n",
    "                    \"CC.EST\": \"Control of Corruption: Estimate\", \n",
    "                    \"SI.DST.FRST.20\": \"Income Share Held by Lowest 20%\", \n",
    "                  \"SD.ESR.PERF.XQ\": \"Economic and Social Rights Performance Score\",\n",
    "                  \"RL.EST\": \"Rule of Law: Estimate\",  \n",
    "                  \n",
    "                  # more scientific environmental variables\n",
    "                  \"EN.LND.LTMP.DC\": \"Land Surface Temperature\",\n",
    "                  \"EN.ATM.PM25.MC.M3\": \"PM2.5 air pollution, mean annual exposure (micrograms per cubic meter)\", \n",
    "                  \"EN.CLC.CDDY.XD\": \"Cooling Degree Days\", \n",
    "                  \"EN.CLC.HEAT.XD\": \"Heat Index 35\"}\n",
    "\n",
    "# these do not work                \n",
    "#\"EN.ATM.CO2E.PCCO2\": \"emissions (metric tons per capita)\", \n",
    "#\"EN.ATM.METH.PC\": \"Methane emissions (kt of CO2 equivalent per capita)\",\n",
    "#\"EN.ATM.NOXE.PC\": \"Nitrous oxide emissions (metric tons of CO2 equivalent per capita)\",\n",
    "                  \n",
    "\n",
    "\n",
    "\n",
    "indicators_reduced = wbdata.get_dataframe(indicators_new, country = [\n",
    "    'CUW', 'MHL', 'QAT', 'SYR', 'ASM', 'LBN', 'SSD', 'KWT', 'MAF', 'VEN', \n",
    "    'OMN', 'TON', 'SAU', 'XKX', 'MNP', 'MDA', 'CAF', 'BHR', 'GUY', 'WSM', \n",
    "    'PRI', 'ERI', 'FJI', 'FSM', 'TUV', 'BIH', 'GUM', 'VCT', 'ARM', 'PSS', \n",
    "    'STP', 'ZAF', 'SWZ', 'NCL', 'SLV', 'BDI', 'PAK', 'KIR', 'GRL', 'DMA', \n",
    "    'LTU', 'NPL'])\n",
    "\n",
    "#indicators_reduced\n",
    "\n",
    "indicators_reduced.index"
   ]
  },
  {
   "cell_type": "code",
   "execution_count": null,
   "id": "d34b8d1a",
   "metadata": {},
   "outputs": [],
   "source": [
    "mig_data_reduced = migration_organizing(indicators_reduced)\n",
    "#mig_data_reduced.loc[['Curacao']]"
   ]
  },
  {
   "cell_type": "code",
   "execution_count": null,
   "id": "435488a6",
   "metadata": {},
   "outputs": [],
   "source": [
    "# okay maybe we should make a population table for the 90th percentile, 95th percentile and 100th percentile country "
   ]
  },
  {
   "cell_type": "code",
   "execution_count": null,
   "id": "5b00b7df",
   "metadata": {},
   "outputs": [],
   "source": [
    "''' getting the countries with the percentile stuff '''\n",
    "\n",
    "indicators = {\"SM.POP.NETM\": \"Net Migration\", \"SP.POP.TOTL\": \"Total Population\"}\n",
    "\n",
    "mig_pop_data = wbdata.get_dataframe(indicators)\n",
    "mig_pop_cleaned = migration_organizing(mig_pop_data)\n",
    "mig_pop_data\n",
    "mig_pop_cleaned"
   ]
  },
  {
   "cell_type": "code",
   "execution_count": null,
   "id": "fa6907f7",
   "metadata": {},
   "outputs": [],
   "source": [
    "avgs = setup_long(mig_pop_cleaned)\n",
    "avgs = avgs.sort_values(by = ['Migration Rate (%)'], ascending = False)\n",
    "avgs1 = avgs[avgs['Percentile Rank'] >= 90]\n",
    "country_array = avgs1.index.tolist()\n",
    "\n",
    "# THIS is our selected \"population\"!! \n",
    "\n",
    "country_array"
   ]
  },
  {
   "cell_type": "code",
   "execution_count": null,
   "id": "6c420fe9",
   "metadata": {},
   "outputs": [],
   "source": [
    "avgs1"
   ]
  },
  {
   "cell_type": "code",
   "execution_count": null,
   "id": "ffd10189",
   "metadata": {},
   "outputs": [],
   "source": [
    "# assign variables for percentiles\n",
    "\n",
    "samoa_90 = mig_data_reduced.loc['Samoa']\n",
    "samoa_90.set_index('date', inplace = True)\n",
    "venezuela_95 = mig_data_reduced.loc['Venezuela, RB']\n",
    "venezuela_95.set_index('date', inplace = True)\n",
    "curacao_100 = mig_data_reduced.loc[['Curacao']]"
   ]
  },
  {
   "cell_type": "code",
   "execution_count": null,
   "id": "64cfeed7",
   "metadata": {},
   "outputs": [],
   "source": [
    "samoa_90"
   ]
  },
  {
   "cell_type": "code",
   "execution_count": null,
   "id": "21484d97",
   "metadata": {},
   "outputs": [],
   "source": [
    "venezuela_95.index"
   ]
  },
  {
   "cell_type": "code",
   "execution_count": null,
   "id": "b2471a99",
   "metadata": {},
   "outputs": [],
   "source": [
    "curacao_100"
   ]
  },
  {
   "cell_type": "code",
   "execution_count": null,
   "id": "a5473107",
   "metadata": {},
   "outputs": [],
   "source": [
    "# Data from WDI on age-sex comes in the forms of variables\n",
    "# which take the form \"SP.POP.LLHH.MA\" for males\n",
    "# and \"SP.POP.LLHH.FE\" for females, where LL is the *low* end of\n",
    "# age range, like \"05\" for 5-yo, and HH is the *high* end.\n",
    "\n",
    "# We construct a list of age-ranges.\n",
    "\n",
    "\n",
    "\n",
    "age_ranges = []\n",
    "\n",
    "for i in range(0,80,5):\n",
    "    age_ranges.append(f\"{i:02d}\"+f\"{i+4:02d}\")\n",
    "\n",
    "age_ranges.append(\"80UP\")\n",
    "\n",
    "male_variables = {\"SP.POP.\"+age_range+\".MA\":\"Males \"+age_range for age_range in age_ranges}\n",
    "female_variables = {\"SP.POP.\"+age_range+\".FE\":\"Females \"+age_range for age_range in age_ranges}\n",
    "\n",
    "variables = male_variables\n",
    "variables.update(female_variables)"
   ]
  },
  {
   "cell_type": "code",
   "execution_count": null,
   "id": "c8e179a9",
   "metadata": {},
   "outputs": [],
   "source": []
  },
  {
   "cell_type": "code",
   "execution_count": null,
   "id": "f921f1e2",
   "metadata": {},
   "outputs": [],
   "source": [
    "# WLD is the World; substitute your own code or list of codes.\n",
    "# Remember you can search for the appropriate codes using\n",
    "# wbdata.search_countries(\"\")"
   ]
  },
  {
   "cell_type": "code",
   "execution_count": null,
   "id": "0e330d47",
   "metadata": {},
   "outputs": [],
   "source": [
    "df = wbdata.get_dataframe(variables,country=\"WLD\")"
   ]
  },
  {
   "cell_type": "code",
   "execution_count": null,
   "id": "f401a863",
   "metadata": {},
   "outputs": [],
   "source": [
    "import plotly.offline as py\n",
    "import plotly.graph_objs as go\n",
    "import pandas as pd\n",
    "import numpy as np\n",
    "\n",
    "py.init_notebook_mode(connected=True)\n",
    "\n",
    "layout = go.Layout(barmode='overlay', title = 'World Population, Year 2019', width=600, height=600,\n",
    "                   yaxis=go.layout.YAxis(range=[0, 90], title='Age'),\n",
    "                   xaxis=go.layout.XAxis(title='Number'))\n",
    "\n",
    "year = 2019\n",
    "\n",
    "bins = [go.Bar(x = df.loc[str(year),:].filter(regex=\"Male\").values,\n",
    "               y = [int(s[:2])+1 for s in age_ranges],\n",
    "               orientation='h',\n",
    "               name='Men',\n",
    "               marker=dict(color='orange'),\n",
    "               hoverinfo='skip'\n",
    "               ),\n",
    "\n",
    "        go.Bar(x = -df.loc[str(year),:].filter(regex=\"Female\").values,\n",
    "               y=[int(s[:2])+1 for s in age_ranges],\n",
    "               orientation='h',\n",
    "               name='Women',\n",
    "               marker=dict(color='skyblue'),\n",
    "               hoverinfo='skip',\n",
    "               )\n",
    "        ]\n",
    "py.iplot(dict(data=bins, layout=layout))"
   ]
  },
  {
   "cell_type": "code",
   "execution_count": null,
   "id": "9c47634f",
   "metadata": {},
   "outputs": [],
   "source": [
    "# for plotting a single country  \n",
    "\n",
    "import plotly.offline as py\n",
    "import plotly.graph_objs as go\n",
    "import pandas as pd\n",
    "import numpy as np\n",
    "\n",
    "py.init_notebook_mode(connected=True)\n",
    "\n",
    "layout = go.Layout(barmode='overlay', title = 'Samoa Population Pyramid, Year 2019', width=600, height=600,\n",
    "                   yaxis=go.layout.YAxis(range=[0, 90], title='Age'),\n",
    "                   xaxis=go.layout.XAxis(title='Number'))\n",
    "\n",
    "bins = [go.Bar(x = samoa_90_pop.loc[str(2019),:].filter(regex=\"Male\").values,\n",
    "               y = [int(s[:2])+1 for s in age_ranges],\n",
    "               orientation='h',\n",
    "               name='Men',\n",
    "               marker=dict(color='purple'),\n",
    "               hoverinfo='skip'\n",
    "               ),\n",
    "\n",
    "        go.Bar(x = -samoa_90_pop.loc[str(2019),:].filter(regex=\"Female\").values,\n",
    "               y=[int(s[:2])+1 for s in age_ranges],\n",
    "               orientation='h',\n",
    "               name='Women',\n",
    "               marker=dict(color='pink'),\n",
    "               hoverinfo='skip',\n",
    "               )\n",
    "        ]\n",
    "py.iplot(dict(data=bins, layout=layout))\n",
    "#go.title('Samoa Population Pyramid')"
   ]
  },
  {
   "cell_type": "code",
   "execution_count": null,
   "id": "96641a52",
   "metadata": {},
   "outputs": [],
   "source": [
    "py.init_notebook_mode(connected=True)\n",
    "\n",
    "layout = go.Layout(barmode='overlay', title = 'Venezuela, RB Population Pyramid, Year 2019',  \n",
    "                   width=600, height=600,\n",
    "                   yaxis=go.layout.YAxis(range=[0, 90], title='Age'),\n",
    "                   xaxis=go.layout.XAxis(title='Number'))\n",
    "\n",
    "bins = [go.Bar(x = venezuela_95_pop.loc[str(2019),:].filter(regex=\"Male\").values,\n",
    "               y = [int(s[:2])+1 for s in age_ranges],\n",
    "               orientation='h',\n",
    "               name='Men',\n",
    "               marker=dict(color='purple'),\n",
    "               hoverinfo='skip'\n",
    "               ),\n",
    "\n",
    "        go.Bar(x = -venezuela_95_pop.loc[str(2019),:].filter(regex=\"Female\").values,\n",
    "               y=[int(s[:2])+1 for s in age_ranges],\n",
    "               orientation='h',\n",
    "               name='Women',\n",
    "               marker=dict(color='pink'),\n",
    "               hoverinfo='skip',\n",
    "               )\n",
    "        ]\n",
    "py.iplot(dict(data=bins, layout=layout))\n",
    "#go.title('Samoa Population Pyramid')"
   ]
  },
  {
   "cell_type": "code",
   "execution_count": null,
   "id": "79fa16e1",
   "metadata": {},
   "outputs": [],
   "source": [
    "py.init_notebook_mode(connected=True)\n",
    "\n",
    "layout = go.Layout(barmode='overlay', title = 'Venezuela, RB Population Pyramid, Year 2019',\n",
    "                    width=600, height=600,\n",
    "                   yaxis=go.layout.YAxis(range=[0, 90], title='Age'),\n",
    "                   xaxis=go.layout.XAxis(title='Number'))\n",
    "\n",
    "bins = [go.Bar(x = curacao_100_pop.loc[str(2019),:].filter(regex=\"Male\").values,\n",
    "               y = [int(s[:2])+1 for s in age_ranges],\n",
    "               orientation='h',\n",
    "               name='Men',\n",
    "               marker=dict(color='purple'),\n",
    "               hoverinfo='skip'\n",
    "               ),\n",
    "\n",
    "        go.Bar(x = -curacao_100_pop.loc[str(2019),:].filter(regex=\"Female\").values,\n",
    "               y=[int(s[:2])+1 for s in age_ranges],\n",
    "               orientation='h',\n",
    "               name='Women',\n",
    "               marker=dict(color='pink'),\n",
    "               hoverinfo='skip',\n",
    "               )\n",
    "        ]\n",
    "py.iplot(dict(data=bins, layout=layout))\n",
    "#go.title('Samoa Population Pyramid')"
   ]
  },
  {
   "cell_type": "code",
   "execution_count": null,
   "id": "c078a600",
   "metadata": {},
   "outputs": [],
   "source": [
    "codes = ['CUW', 'MHL', 'QAT', 'SYR', 'ASM', 'LBN', 'SSD', 'KWT', 'MAF', 'VEN', 'OMN', \n",
    "         'TON', 'SAU', 'XKX', 'MNP', 'MDA', 'CAF', 'BHR', 'GUY', 'WSM']\n",
    " \n",
    "    \n",
    "age_ranges = []\n",
    "\n",
    "# Ranges top out at 80, and go in five year increments\n",
    "for i in range(0,80,5):\n",
    "    age_ranges.append(f\"{i:02d}\"+f\"{i+4:02d}\")\n",
    "age_ranges.append(\"80UP\")\n",
    "\n",
    "male_variables = {\"SP.POP.\"+age_range+\".MA\":\"Males \"+age_range for age_range in age_ranges}\n",
    "female_variables = {\"SP.POP.\"+age_range+\".FE\":\"Females \"+age_range for age_range in age_ranges}\n",
    "\n",
    "variables = male_variables\n",
    "variables.update(female_variables)\n",
    "\n",
    "\n",
    "#date_range = pd.date_range(start=start_date, end=end_date)\n",
    "#date_range\n",
    "\n",
    "#print(start_date)"
   ]
  },
  {
   "cell_type": "code",
   "execution_count": null,
   "id": "ae0cb012",
   "metadata": {},
   "outputs": [],
   "source": [
    "#pop_df = wbdata.get_dataframe(variables, country='CUW')\n",
    "#pop_df.index\n",
    "\n",
    "countries_4plot = {\n",
    "    'ASM': 'American Samoa',\n",
    "    'BHR': 'Bahrain',\n",
    "    'CAF': 'Central African Republic',\n",
    "    'CUW': 'Curacao',\n",
    "    'GUY': 'Guyana',\n",
    "    'KWT': 'Kuwait',\n",
    "    'LBN': 'Lebanon',\n",
    "    'MAF': 'St. Martin (French part)',\n",
    "    'MDA': 'Moldova',\n",
    "    'MHL': 'Marshall Islands',\n",
    "    'MNP': 'Northern Mariana Islands',\n",
    "    'OMN': 'Oman',\n",
    "    'QAT': 'Qatar',\n",
    "    'SAU': 'Saudi Arabia',\n",
    "    'SSD': 'South Sudan',\n",
    "    'SYR': 'Syrian Arab Republic',\n",
    "    'TON': 'Tonga',\n",
    "    'VEN': 'Venezuela, RB',\n",
    "    'WSM': 'Samoa',\n",
    "    'XKX': 'Kosovo'}"
   ]
  },
  {
   "cell_type": "code",
   "execution_count": null,
   "id": "a9ba984c",
   "metadata": {},
   "outputs": [],
   "source": [
    "py.init_notebook_mode(connected=True)\n",
    "\n",
    "def pyramid_all(yrstring):\n",
    "    \n",
    "    py.init_notebook_mode(connected=True)\n",
    "    \n",
    "    for code in codes: \n",
    "        \n",
    "        pop_df = wbdata.get_dataframe(variables, country=[code])\n",
    "        \n",
    "\n",
    "        layout = go.Layout(barmode='overlay', title = countries_4plot[code] + ' Population, 2019',\n",
    "                   width=600, height=600,\n",
    "                   yaxis=go.layout.YAxis(range=[0, 90], title='Age'),\n",
    "                   xaxis=go.layout.XAxis(title='Number'))\n",
    "\n",
    "        bins = [go.Bar(x = pop_df.loc[yrstring,:].filter(regex=\"Male\").values,\n",
    "               y = [int(s[:2])+1 for s in age_ranges],\n",
    "               orientation='h',\n",
    "               name='Men',\n",
    "               marker=dict(color='orange'),\n",
    "               hoverinfo='skip'\n",
    "               ),\n",
    "\n",
    "               go.Bar(x = -pop_df.loc[yrstring,:].filter(regex=\"Female\").values,\n",
    "               y=[int(s[:2])+1 for s in age_ranges],\n",
    "               orientation='h',\n",
    "               name='Women',\n",
    "               marker=dict(color='skyblue'),\n",
    "               hoverinfo='skip',\n",
    "               )]\n",
    "        \n",
    "        py.iplot(dict(data=bins, layout=layout))"
   ]
  },
  {
   "cell_type": "code",
   "execution_count": null,
   "id": "0f649401",
   "metadata": {},
   "outputs": [],
   "source": [
    "pwd"
   ]
  },
  {
   "cell_type": "code",
   "execution_count": null,
   "id": "d6f10d74",
   "metadata": {},
   "outputs": [],
   "source": [
    "# writing a for-loop to plot all of the pyramids \n",
    "\n",
    "import plotly.io as pio\n",
    "\n",
    "pyramids = pyramid_all('2019')"
   ]
  },
  {
   "cell_type": "code",
   "execution_count": null,
   "id": "605a05f5",
   "metadata": {},
   "outputs": [],
   "source": [
    "# getting sum data\n",
    "\n",
    "total_90th_pop = wbdata.get_dataframe(variables, country=codes)\n",
    "total_90th_pop"
   ]
  },
  {
   "cell_type": "code",
   "execution_count": null,
   "id": "2623ab97",
   "metadata": {},
   "outputs": [],
   "source": [
    "pyramids[0]"
   ]
  },
  {
   "cell_type": "code",
   "execution_count": null,
   "id": "5d18a49f",
   "metadata": {},
   "outputs": [],
   "source": []
  },
  {
   "cell_type": "code",
   "execution_count": null,
   "id": "466b621b",
   "metadata": {},
   "outputs": [],
   "source": [
    "wbdata.get_country?"
   ]
  },
  {
   "cell_type": "code",
   "execution_count": null,
   "id": "c4dfdeba",
   "metadata": {},
   "outputs": [],
   "source": [
    "total_90th_pop.loc['American Samoa']\n",
    "#total_90th_pop['date'] = total_90th_pop['date'].astype(int)\n",
    "#sum_90th = total_90th_pop[total_90th_pop.loc(level=1) > 2013]"
   ]
  },
  {
   "cell_type": "code",
   "execution_count": null,
   "id": "0f7bccd9",
   "metadata": {},
   "outputs": [],
   "source": [
    "#sum_90th.set_index(['date'], inplace=True)\n",
    "#sum_90th"
   ]
  },
  {
   "cell_type": "code",
   "execution_count": null,
   "id": "7c449d04",
   "metadata": {},
   "outputs": [],
   "source": [
    "\n",
    "total_90th_pop.reset_index(inplace=True)\n",
    "total_90th_pop"
   ]
  },
  {
   "cell_type": "code",
   "execution_count": null,
   "id": "b1e28365",
   "metadata": {},
   "outputs": [],
   "source": [
    "total_90th_pop.index"
   ]
  },
  {
   "cell_type": "code",
   "execution_count": null,
   "id": "723c3e62",
   "metadata": {},
   "outputs": [],
   "source": [
    "total_90th_pop.columns"
   ]
  },
  {
   "cell_type": "code",
   "execution_count": null,
   "id": "1c9048be",
   "metadata": {},
   "outputs": [],
   "source": []
  },
  {
   "cell_type": "code",
   "execution_count": null,
   "id": "bba25282",
   "metadata": {},
   "outputs": [],
   "source": []
  },
  {
   "cell_type": "code",
   "execution_count": null,
   "id": "83cc0eb6",
   "metadata": {},
   "outputs": [],
   "source": [
    "totals = total_90th_pop.groupby(['date']).sum()\n",
    "totals.reset_index(inplace=True)\n",
    "totals.rename(columns={'index': 'country'}, inplace=True)\n",
    "totals.index = pd.Index(['Total'] * len(totals), name='country')\n",
    "\n",
    "totals"
   ]
  },
  {
   "cell_type": "code",
   "execution_count": null,
   "id": "55f937a6",
   "metadata": {},
   "outputs": [],
   "source": [
    "#totals.rename(columns={'index': 'country'}, inplace=True)\n",
    "\n",
    "totals.rename(columns={'index': 'country'}, inplace=True)\n",
    "totals.index = pd.Index(['Total'] * len(totals), name='country')"
   ]
  },
  {
   "cell_type": "code",
   "execution_count": null,
   "id": "c4fc1a7a",
   "metadata": {},
   "outputs": [],
   "source": [
    "totals.drop(columns=['country'])"
   ]
  },
  {
   "cell_type": "code",
   "execution_count": null,
   "id": "322a98fa",
   "metadata": {},
   "outputs": [],
   "source": [
    "total_90th_pop.set_index('country', inplace=True)\n",
    "total_90th_pop"
   ]
  },
  {
   "cell_type": "code",
   "execution_count": null,
   "id": "6e6bca38",
   "metadata": {},
   "outputs": [],
   "source": []
  },
  {
   "cell_type": "code",
   "execution_count": null,
   "id": "5f1be930",
   "metadata": {},
   "outputs": [],
   "source": [
    "pop90th_w_totals = pd.concat([total_90th_pop, totals])"
   ]
  },
  {
   "cell_type": "code",
   "execution_count": null,
   "id": "e90fefa1",
   "metadata": {},
   "outputs": [],
   "source": [
    "pop90th_w_totals"
   ]
  },
  {
   "cell_type": "code",
   "execution_count": null,
   "id": "8ebe777e",
   "metadata": {},
   "outputs": [],
   "source": []
  },
  {
   "cell_type": "code",
   "execution_count": null,
   "id": "bed57d82",
   "metadata": {},
   "outputs": [],
   "source": [
    "# for figure, actually just gonna use the totals table \n",
    "\n",
    "totals.set_index('date', inplace=True)"
   ]
  },
  {
   "cell_type": "code",
   "execution_count": null,
   "id": "5a0f8420",
   "metadata": {},
   "outputs": [],
   "source": [
    "# woohoo! now get figure\n",
    "\n",
    "import plotly.offline as py\n",
    "import plotly.graph_objs as go\n",
    "import pandas as pd\n",
    "import numpy as np\n",
    "\n",
    "py.init_notebook_mode(connected=True)\n",
    "\n",
    "layout = go.Layout(barmode='overlay', title = 'Total High Migration Countries Population, Year 2019', width=600, height=600,\n",
    "                   yaxis=go.layout.YAxis(range=[0, 90], title='Age'),\n",
    "                   xaxis=go.layout.XAxis(title='Number'))\n",
    "\n",
    "bins = [go.Bar(x = totals.loc[str(2019),:].filter(regex=\"Male\").values,\n",
    "               y = [int(s[:2])+1 for s in age_ranges],\n",
    "               orientation='h',\n",
    "               name='Men',\n",
    "               marker=dict(color='orange'),\n",
    "               hoverinfo='skip'\n",
    "               ),\n",
    "\n",
    "        go.Bar(x = -totals.loc[str(2019),:].filter(regex=\"Female\").values,\n",
    "               y=[int(s[:2])+1 for s in age_ranges],\n",
    "               orientation='h',\n",
    "               name='Women',\n",
    "               marker=dict(color='skyblue'),\n",
    "               hoverinfo='skip',\n",
    "               )\n",
    "        ]\n",
    "py.iplot(dict(data=bins, layout=layout))\n",
    "#go.title('Samoa Population Pyramid')"
   ]
  },
  {
   "cell_type": "code",
   "execution_count": null,
   "id": "af22c8a2",
   "metadata": {},
   "outputs": [],
   "source": [
    "# countries taking in highest number of refugees \n",
    "\n",
    "mig_pop_data"
   ]
  },
  {
   "cell_type": "code",
   "execution_count": null,
   "id": "b7052cd5",
   "metadata": {},
   "outputs": [],
   "source": [
    "def migration_in(data1):\n",
    "    \n",
    "    # Make years ints instead of strings\n",
    "    data1.reset_index(inplace=True)\n",
    "    data1['date'] = data1['date'].astype(int)\n",
    "\n",
    "    # index the table by country instead of year \n",
    "    data1.set_index(['country'],inplace=True)\n",
    "    \n",
    "    #takes all negative values, we want migration AWAY\n",
    "    mig_table = data1[data1['Net Migration'] > 0] \n",
    "    \n",
    "    #takes absolute value to get magnitude rather than negative\n",
    "    mig_table['Net Migration'] = mig_table['Net Migration'].abs() \n",
    "    \n",
    "    #creates new column, called 'Migration Per Capita'\n",
    "    mig_table['Migration per Capita'] = mig_table['Net Migration']/mig_table['Total Population'] \n",
    "    \n",
    "    #takes migration per capita and makes it a rate\n",
    "    mig_table['Immigration Rate (%)'] = mig_table['Migration per Capita']*100   \n",
    "    \n",
    "    # This line of code is initialized because we are interested in a population contingent \n",
    "    # on trends in the past ten years (rather than since '64). Additionally, we look at data \n",
    "    # from the ESG dataset, which only started being compiled in 2014'''\n",
    "    mig_table = mig_table[mig_table['date'] > 2013]\n",
    "\n",
    "    return mig_table"
   ]
  },
  {
   "cell_type": "code",
   "execution_count": null,
   "id": "293c05d9",
   "metadata": {},
   "outputs": [],
   "source": [
    "mig_in = migration_in(mig_pop_data).sort_values(by = ['Immigration Rate (%)'], ascending = False)\n",
    "mig_in"
   ]
  },
  {
   "cell_type": "code",
   "execution_count": null,
   "id": "68b942f9",
   "metadata": {},
   "outputs": [],
   "source": [
    "avgs2 = mig_in.groupby('country').mean()\n",
    "avgs2.reset_index(inplace=True)\n",
    "avgs2\n",
    "\n",
    "#in_avgd.set_index('date', inplace=True)\n",
    "#in_avgd\n",
    "\n",
    "#in_avgd.set_index(['country','date'], inplace=True)\n",
    "#in_avgd"
   ]
  },
  {
   "cell_type": "code",
   "execution_count": null,
   "id": "8611cdd7",
   "metadata": {},
   "outputs": [],
   "source": [
    "avgs2['Percentile Rank'] = avgs2['Immigration Rate (%)'].apply(\n",
    "            lambda x: stats.percentileofscore(mig_in['Immigration Rate (%)'], x))"
   ]
  },
  {
   "cell_type": "code",
   "execution_count": null,
   "id": "af8a1c1c",
   "metadata": {},
   "outputs": [],
   "source": [
    "avgs2.sort_values(by = ['Percentile Rank'], ascending = False)"
   ]
  },
  {
   "cell_type": "code",
   "execution_count": null,
   "id": "f7cc72ee",
   "metadata": {},
   "outputs": [],
   "source": [
    "avgs2_90th = avgs2[avgs2['Percentile Rank'] >= 90]\n",
    "#country_array_mig_in = mig_in_90th.index.tolist()\n",
    "avgs2_90th.sort_values(by=['Percentile Rank'], ascending=False)\n",
    "avgs2_90th = avgs2_90th.set_index('country')"
   ]
  },
  {
   "cell_type": "code",
   "execution_count": null,
   "id": "b963b228",
   "metadata": {},
   "outputs": [],
   "source": [
    "avgs2_90th.index"
   ]
  },
  {
   "cell_type": "code",
   "execution_count": null,
   "id": "e16363a9",
   "metadata": {},
   "outputs": [],
   "source": [
    "unique_countries_in = avgs1.index.unique()\n",
    "\n",
    "# Drop rows from df1 where the country names appear in df2\n",
    "filtered = avgs2_90th[~avgs2_90th.index.isin(unique_countries_in)]"
   ]
  },
  {
   "cell_type": "code",
   "execution_count": null,
   "id": "880afe80",
   "metadata": {},
   "outputs": [],
   "source": [
    "country_array_mig_in = filtered.index.tolist()\n",
    "print(country_array_mig_in)\n",
    "filtered"
   ]
  },
  {
   "cell_type": "code",
   "execution_count": null,
   "id": "6b706393",
   "metadata": {},
   "outputs": [],
   "source": [
    "filtered['date'].mean()"
   ]
  },
  {
   "cell_type": "code",
   "execution_count": null,
   "id": "65516062",
   "metadata": {},
   "outputs": [],
   "source": [
    "# okay, now, going to make population pyramid for the 95th, 97th, 98th"
   ]
  },
  {
   "cell_type": "code",
   "execution_count": null,
   "id": "a92aaa0b",
   "metadata": {},
   "outputs": [],
   "source": [
    "mig_in_codes = ['AND', 'CYM', 'JOR', 'LUX', 'MDV', 'MLT', 'MCO', 'SXM', 'TCA']"
   ]
  },
  {
   "cell_type": "code",
   "execution_count": null,
   "id": "e7800297",
   "metadata": {},
   "outputs": [],
   "source": []
  },
  {
   "cell_type": "code",
   "execution_count": null,
   "id": "ac05053e",
   "metadata": {},
   "outputs": [],
   "source": []
  },
  {
   "cell_type": "code",
   "execution_count": null,
   "id": "5f23b865",
   "metadata": {},
   "outputs": [],
   "source": [
    "def pyramid_all_mig_in(yrstring):\n",
    "    \n",
    "    for code in mig_in_codes: \n",
    "        \n",
    "        pop_df = wbdata.get_dataframe(variables, country=[code])\n",
    "        \n",
    "        py.init_notebook_mode(connected=True)\n",
    "\n",
    "        layout = go.Layout(barmode='overlay', title = code + ' Population Pyramid, Average > 2014',\n",
    "                   width=600, height=600,\n",
    "                   yaxis=go.layout.YAxis(range=[0, 90], title='Age'),\n",
    "                   xaxis=go.layout.XAxis(title='Number'))\n",
    "\n",
    "        bins = [go.Bar(x = pop_df.loc[yrstring,:].filter(regex=\"Male\").values,\n",
    "               y = [int(s[:2])+1 for s in age_ranges],\n",
    "               orientation='h',\n",
    "               name='Men',\n",
    "               marker=dict(color='purple'),\n",
    "               hoverinfo='skip'\n",
    "               ),\n",
    "\n",
    "               go.Bar(x = -pop_df.loc[yrstring,:].filter(regex=\"Female\").values,\n",
    "               y=[int(s[:2])+1 for s in age_ranges],\n",
    "               orientation='h',\n",
    "               name='Women',\n",
    "               marker=dict(color='pink'),\n",
    "               hoverinfo='skip',\n",
    "               )]\n",
    "        \n",
    "        py.iplot(dict(data=bins, layout=layout))"
   ]
  },
  {
   "cell_type": "code",
   "execution_count": null,
   "id": "c1092ed0",
   "metadata": {},
   "outputs": [],
   "source": [
    "# getting sum data\n",
    "\n",
    "total_90th_in = wbdata.get_dataframe(variables, country= mig_in_codes)\n",
    "\n",
    "\n",
    "total_90th_in.reset_index(inplace=True)\n",
    "\n",
    "\n",
    "totals_in = total_90th_in.groupby(['date']).sum()\n",
    "#totals.set_index('country', inplace = False)\n",
    "totals_in.reset_index(inplace=True)\n",
    "#totals.set_index(['date', ['Totals'] * len(totals)])\n",
    "totals_in\n",
    "\n",
    "#totals.rename(columns={'index': 'country'}, inplace=True)\n",
    "\n",
    "totals_in.rename(columns={'index': 'country'}, inplace=True)\n",
    "totals_in.index = pd.Index(['Total'] * len(totals), name='country')"
   ]
  },
  {
   "cell_type": "code",
   "execution_count": null,
   "id": "5f9db02f",
   "metadata": {},
   "outputs": [],
   "source": [
    "totals_in['date'] = totals_in['date'].astype(int)\n",
    "totals_in = totals_in[totals_in['date'] > 2013]"
   ]
  },
  {
   "cell_type": "code",
   "execution_count": null,
   "id": "a38f4f77",
   "metadata": {},
   "outputs": [],
   "source": [
    "totals_in.set_index('date', inplace=True)\n",
    "totals_in"
   ]
  },
  {
   "cell_type": "code",
   "execution_count": null,
   "id": "d222d88d",
   "metadata": {},
   "outputs": [],
   "source": [
    "import plotly.offline as py\n",
    "import plotly.graph_objs as go\n",
    "import pandas as pd\n",
    "import numpy as np\n",
    "\n",
    "py.init_notebook_mode(connected=True)\n",
    "\n",
    "layout = go.Layout(barmode='overlay', title = 'High Immigration Country Populations, Year 2017', width=600, height=600,\n",
    "                   yaxis=go.layout.YAxis(range=[0, 90], title='Age'),\n",
    "                   xaxis=go.layout.XAxis(title='Number'))\n",
    "\n",
    "bins = [go.Bar(x = totals_in.loc[2017,:].filter(regex=\"Male\").values,\n",
    "               y = [int(s[:2])+1 for s in age_ranges],\n",
    "               orientation='h',\n",
    "               name='Men',\n",
    "               marker=dict(color='orange'),\n",
    "               hoverinfo='skip'\n",
    "               ),\n",
    "\n",
    "        go.Bar(x = -totals_in.loc[2017,:].filter(regex=\"Female\").values,\n",
    "               y=[int(s[:2])+1 for s in age_ranges],\n",
    "               orientation='h',\n",
    "               name='Women',\n",
    "               marker=dict(color='skyblue'),\n",
    "               hoverinfo='skip',\n",
    "               )\n",
    "        ]\n",
    "py.iplot(dict(data=bins, layout=layout))\n",
    "#go.title('Samoa Population Pyramid')\n",
    "\n",
    "\n",
    "layout = go.Layout(barmode='overlay', title = 'Total High Migration Countries Population, Year 2017', width=600, height=600,\n",
    "                   yaxis=go.layout.YAxis(range=[0, 90], title='Age'),\n",
    "                   xaxis=go.layout.XAxis(title='Number'))\n",
    "\n",
    "bins = [go.Bar(x = totals.loc[str(2017),:].filter(regex=\"Male\").values,\n",
    "               y = [int(s[:2])+1 for s in age_ranges],\n",
    "               orientation='h',\n",
    "               name='Men',\n",
    "               marker=dict(color='orange'),\n",
    "               hoverinfo='skip'\n",
    "               ),\n",
    "\n",
    "        go.Bar(x = -totals.loc[str(2017),:].filter(regex=\"Female\").values,\n",
    "               y=[int(s[:2])+1 for s in age_ranges],\n",
    "               orientation='h',\n",
    "               name='Women',\n",
    "               marker=dict(color='skyblue'),\n",
    "               hoverinfo='skip',\n",
    "               )\n",
    "        ]\n",
    "py.iplot(dict(data=bins, layout=layout))\n",
    "#go.title('Samoa Population Pyramid')"
   ]
  },
  {
   "cell_type": "code",
   "execution_count": null,
   "id": "56e489d6",
   "metadata": {},
   "outputs": [],
   "source": [
    "px.line_dash?"
   ]
  },
  {
   "cell_type": "code",
   "execution_count": null,
   "id": "95fa5442",
   "metadata": {},
   "outputs": [],
   "source": []
  }
 ],
 "metadata": {
  "kernelspec": {
   "display_name": "Python 3 (ipykernel)",
   "language": "python",
   "name": "python3"
  },
  "language_info": {
   "codemirror_mode": {
    "name": "ipython",
    "version": 3
   },
   "file_extension": ".py",
   "mimetype": "text/x-python",
   "name": "python",
   "nbconvert_exporter": "python",
   "pygments_lexer": "ipython3",
   "version": "3.11.5"
  }
 },
 "nbformat": 4,
 "nbformat_minor": 5
}
