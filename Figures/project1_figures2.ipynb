{
 "cells": [
  {
   "cell_type": "code",
   "execution_count": null,
   "id": "a92822ea",
   "metadata": {},
   "outputs": [],
   "source": [
    "# install necessary packages \n",
    "\n",
    "!pip install wbdata\n",
    "import wbdata # IF NECESSARY\n",
    "import cufflinks as cf\n",
    "cf.go_offline()\n",
    "import pandas as pd\n",
    "import numpy as np\n",
    "from scipy import stats\n",
    "import plotly.express as px\n",
    "\n",
    "# DEFINE FUNCTIONS\n",
    "\n",
    "# this one is to get relevant migration statistics we're interested in\n",
    "def migration_organizing(data1):\n",
    "    \n",
    "    # Make years ints instead of strings\n",
    "    data1.reset_index(inplace=True)\n",
    "    data1['date'] = data1['date'].astype(int)\n",
    "\n",
    "    # index the table by country instead of year \n",
    "    data1.set_index(['country'],inplace=True)\n",
    "    \n",
    "    #takes all negative values, we want migration AWAY\n",
    "    mig_table = data1[data1['Net Migration'] < 0] \n",
    "    \n",
    "    #takes absolute value to get magnitude rather than negative\n",
    "    data1['Net Migration'] = data1['Net Migration'].abs() \n",
    "    \n",
    "    #creates new column, called 'Migration Per Capita'\n",
    "    data1['Migration per Capita'] = data1['Net Migration']/data1['Total Population'] \n",
    "    \n",
    "    #takes migration per capita and makes it a rate\n",
    "    data1['Migration Rate (%)'] = data1['Migration per Capita']*100   \n",
    "    \n",
    "    # This line of code is initialized because we are interested in a population contingent \n",
    "    # on trends in the past ten years (rather than since '64). Additionally, we look at data \n",
    "    # from the ESG dataset, which only started being compiled in 2014'''\n",
    "    \n",
    "    #mig_table = mig_table[mig_table['date'] > 2013]\n",
    "    \n",
    "    # calculate the percentiles for the migration rates \n",
    "\n",
    "    return data1\n",
    "\n",
    "\n",
    "\n",
    "''' This function is a manual way of creating a dataframe that is usually performed by \n",
    "    a \"group_by\" function. The reason for this distinction is because we used the group_by\n",
    "    function, but were really struggling to perform table-operations on the group_by frame, \n",
    "    as that function creates a special type of dataframe. This method was much faster.'''\n",
    "\n",
    "def setup_long(dataframe):\n",
    "    \n",
    "    #percentiles = {'values': [50, 75, 80, 90]}\n",
    "    unique_country_indices = dataframe.index.unique()\n",
    "\n",
    "    if not unique_country_indices.empty:\n",
    "        \n",
    "        # Create an empty DataFrame with columns\n",
    "        results = pd.DataFrame(columns=['Net Migration', 'Migration Rate (%)'])\n",
    "\n",
    "        for country_index in unique_country_indices:\n",
    "            country_data = dataframe.loc[country_index]\n",
    "            mig_net_avg = country_data['Net Migration'].mean()\n",
    "            mig_percap_avg = country_data['Migration Rate (%)'].mean()\n",
    "\n",
    "            # Append the computed averages to the results DataFrame\n",
    "            results.loc[country_index] = [mig_net_avg, mig_percap_avg]\n",
    "        \n",
    "        # calculate the percentiles for the migration rates \n",
    "        results['Percentile Rank'] = results['Migration Rate (%)'].apply(\n",
    "            lambda x: stats.percentileofscore(results['Migration Rate (%)'], x))\n",
    "\n",
    "        return results \n",
    "    \n",
    "    \n",
    "    \n",
    "''' This is the function that we use to retrieve population statistics, as outlined in the \n",
    "    [A] deliverables posted on Ed.'''\n",
    "\n",
    "\n",
    "def population(year, sex, age_low, age_high, country_code):\n",
    "    \n",
    "    # reconstruct the strings for population codes associated \n",
    "    # as entered in \"age_low\" and \"age_high\" arguments\n",
    "    \n",
    "    if sex == \"Male\":\n",
    "        column_names = {\"SP.POP.\" + str(age_low)+str(age_high) + \".MA\": sex}\n",
    "    elif sex == \"Female\":\n",
    "        column_names = {\"SP.POP.\" + str(age_low)+str(age_high) + \".FE\": sex}\n",
    "    \n",
    "    # construct new dataframe for function to index, isolating \n",
    "    # the country by the function's country-code argument\n",
    "    pop_stats = wbdata.get_dataframe(column_names, country = country_code)\n",
    "    \n",
    "    # filter the table by the function's year' argument\n",
    "    \n",
    "    pop_stats = pop_stats.filter(like=str(year), axis=0)\n",
    "    # return population number by indexing the function-generated \n",
    "    # dataframe by the function's 'sex' argument, and making it an integer\n",
    "\n",
    "    return int(pop_stats[sex].iloc[0])\n",
    "\n",
    "\n",
    "\n",
    "''' This function retrieves a dataframe for specific year, country, and indicators selected. \n",
    "    The function assumes that the argument pop_indicators has already been defined with a \n",
    "    relevant WBData code dictionary.'''\n",
    "\n",
    "def population_dataframe(year, country_code, pop_indicators):\n",
    "        \n",
    "    pop_df = wbdata.get_dataframe(pop_indicators, country = country_code)\n",
    "    \n",
    "    # filter the table by the function's year' argument\n",
    "    \n",
    "    pop_df = pop_df.filter(like=str(year), axis=0)\n",
    "    \n",
    "    # return population dataframe by indexing  \n",
    "    # by the function's 'sex' argument\n",
    "\n",
    "    return pop_df"
   ]
  },
  {
   "cell_type": "code",
   "execution_count": null,
   "id": "7cac0dad",
   "metadata": {},
   "outputs": [],
   "source": [
    "indicators_new = {\"SP.POP.TOTL\": \"Total Population\", \"SM.POP.NETM\": \"Net Migration\",\"AG.PRD.FOOD.XD\": \"Food Production Index\",\n",
    "                 \"EN.POP.DNST\": \"Population per sq km\",\"SN.ITK.DEFC.ZS\": \"Prevalence of Undernourishment (% of Population)\",\n",
    "                 \"EG.ELC.COAL.ZS\": \"Electricity production from coal sources\",\"SM.POP.NETM\": \"Net Migration\",\n",
    "                  \"EN.H2O.BDYS.ZS\": \"Proportion of bodies of water with good ambient water quality\", \n",
    "                  \"ER.H2O.FWTL.ZS\": \"Annual freshwater withdrawals, total (% of internal resources)\",\n",
    "                 \"SH.H2O.SMDW.ZS\": \"People using safely managed drinking water services (% of population)\", \n",
    "                  \"SH.STA.SMSS.ZS\": \"People using safely managed sanitation services (% of population)\", \n",
    "                  \"SH.MED.BEDS.ZS\": \"Hospital beds (per 1,000 people)\",  \n",
    "                  \"SE.XPD.TOTL.GB.ZS\": \"Government Expenditure on Education (% of Total Expenditure)\",\n",
    "                 \"PV.EST\": \"Political Stability and Absence of Violence/Terrorism (estimate)\", \n",
    "                      \"IC.LGL.CRED.XQ\": \"Strength of Legal Rights Index (0-12 Scale)\", \n",
    "                    \"EG.ELC.ACCS.ZS\": \"Access to electricity (% of population)\",\n",
    "                 \"GE.EST\": \"Government Effectiveness Estimate\", \n",
    "                    \"CC.EST\": \"Control of Corruption: Estimate\", \n",
    "                    \"SI.DST.FRST.20\": \"Income Share Held by Lowest 20%\",\n",
    "                 \"RL.EST\": \"Rule of Law: Estimate\",\n",
    "                 \"EN.LND.LTMP.DC\": \"Land Surface Temperature\",\n",
    "                  \"EN.ATM.PM25.MC.M3\": \"PM2.5 air pollution, mean annual exposure (micrograms per cubic meter)\", \n",
    "                  \"EN.CLC.CDDY.XD\": \"Cooling Degree Days\", \n",
    "                  \"EN.CLC.HEAT.XD\": \"Heat Index 35\"}\n",
    "\n",
    "# these do not work                \n",
    "#\"EN.ATM.CO2E.PCCO2\": \"emissions (metric tons per capita)\", \n",
    "#\"EN.ATM.METH.PC\": \"Methane emissions (kt of CO2 equivalent per capita)\",\n",
    "#\"EN.ATM.NOXE.PC\": \"Nitrous oxide emissions (metric tons of CO2 equivalent per capita)\",\n",
    "                  \n",
    "\n",
    "\n",
    "\n",
    "indicators_reduced = wbdata.get_dataframe(indicators_new, country='all')"
   ]
  },
  {
   "cell_type": "code",
   "execution_count": null,
   "id": "7da82596",
   "metadata": {},
   "outputs": [],
   "source": []
  },
  {
   "cell_type": "code",
   "execution_count": null,
   "id": "1d0a06b2",
   "metadata": {},
   "outputs": [],
   "source": [
    "\n",
    "                  "
   ]
  },
  {
   "cell_type": "code",
   "execution_count": null,
   "id": "0cf8557a",
   "metadata": {},
   "outputs": [],
   "source": [
    "import cufflinks as cf\n",
    "cf.go_offline()"
   ]
  },
  {
   "cell_type": "code",
   "execution_count": null,
   "id": "6bf9d61a",
   "metadata": {},
   "outputs": [],
   "source": [
    "percap = migration_organizing(indicators_reduced)\n",
    "percap['Percentile Rank'] = percap['Migration Rate (%)'].apply(lambda x: \n",
    "                            stats.percentileofscore(percap['Migration Rate (%)'], x, nan_policy='omit'))\n",
    "post_2000 = percap[percap['date'] > 2000]\n",
    "\n",
    "#post_2000.reset_index(inplace=False)\n",
    "no_CUW = percap.drop(index='Kuwait')"
   ]
  },
  {
   "cell_type": "code",
   "execution_count": null,
   "id": "6313f746",
   "metadata": {},
   "outputs": [],
   "source": [
    "columns = ['Prevalence of Undernourishment (% of Population)',\n",
    "           'People using safely managed drinking water services (% of population)',\n",
    "           'People using safely managed sanitation services (% of population)',\n",
    "           'Hospital beds (per 1,000 people)',\n",
    "           'Strength of Legal Rights Index (0-12 Scale)',\n",
    "           'Political Stability and Absence of Violence/Terrorism (estimate)',\n",
    "           'Access to electricity (% of population)', \n",
    "           'Control of Corruption: Estimate', 'Income Share Held by Lowest 20%', \n",
    "           'Land Surface Temperature','PM2.5 air pollution, mean annual exposure (micrograms per cubic meter)', \n",
    "           'Cooling Degree Days']\n",
    "    \n",
    "    \n",
    "post_2000"
   ]
  },
  {
   "cell_type": "code",
   "execution_count": null,
   "id": "e36a6221",
   "metadata": {},
   "outputs": [],
   "source": []
  },
  {
   "cell_type": "code",
   "execution_count": null,
   "id": "771a0805",
   "metadata": {},
   "outputs": [],
   "source": []
  },
  {
   "cell_type": "code",
   "execution_count": null,
   "id": "a930910b",
   "metadata": {},
   "outputs": [],
   "source": [
    "# plot control of corruption estimate \n",
    "\n",
    "percap.iplot(kind='scatter', mode='markers', symbol='circle-dot',\n",
    "         x=\"Migration Rate (%)\",y=\"Rule of Law: Estimate\",\n",
    "         text=percap.reset_index('country')['country'].values.tolist(),\n",
    "         xTitle=\"Migration Rate (%)\",yTitle=\"Rule of Law: Estimate\",\n",
    "         title=\"Rule of Law\", xrange=[0,30])"
   ]
  },
  {
   "cell_type": "code",
   "execution_count": null,
   "id": "2c2fb3b2",
   "metadata": {},
   "outputs": [],
   "source": []
  },
  {
   "cell_type": "code",
   "execution_count": null,
   "id": "fe1628d2",
   "metadata": {},
   "outputs": [],
   "source": [
    "high_mig_countries = ['Curacao',\n",
    " 'Marshall Islands',\n",
    " 'Qatar',\n",
    " 'Syrian Arab Republic',\n",
    " 'American Samoa',\n",
    " 'Lebanon',\n",
    " 'South Sudan',\n",
    " #'Kuwait',\n",
    " 'St. Martin (French part)',\n",
    " 'Venezuela, RB',\n",
    " 'Oman',\n",
    " 'Tonga',\n",
    " 'Saudi Arabia',\n",
    " 'Kosovo',\n",
    " 'Northern Mariana Islands',\n",
    " 'Moldova',\n",
    " 'Central African Republic',\n",
    " 'Bahrain',\n",
    " 'Guyana',\n",
    " 'Samoa']"
   ]
  },
  {
   "cell_type": "code",
   "execution_count": null,
   "id": "80d610f1",
   "metadata": {},
   "outputs": [],
   "source": [
    "#plot all of the columns versus migration rate \n",
    "\n",
    "def scatter_all(frame):\n",
    "    columns = frame.columns\n",
    "    for column in columns: \n",
    "        frame.iplot(kind='scatter', mode='markers', symbol='circle-dot',\n",
    "         y=\"Migration Rate (%)\",x=str(column), \n",
    "         text=frame.reset_index('country')['country'].values.tolist(),\n",
    "         yTitle=\"Migration Rate (%)\",xTitle=str(column), \n",
    "         categories= 'date', \n",
    "         yrange=[0,4],\n",
    "         title= str(column)+' versus Migration Rate (%)')"
   ]
  },
  {
   "cell_type": "code",
   "execution_count": null,
   "id": "c2f7a5a7",
   "metadata": {
    "scrolled": true
   },
   "outputs": [],
   "source": [
    "post_2000.reset_index(inplace=True)\n",
    "post_2000.columns"
   ]
  },
  {
   "cell_type": "code",
   "execution_count": null,
   "id": "3b1fe88f",
   "metadata": {},
   "outputs": [],
   "source": [
    "import plotly.io as pio\n",
    "#post_2000['date'] = post_2000['date'].astype(int)\n",
    "\n",
    "#percap.reset_index(inplace=True)\n",
    "\n",
    "fig_mig_world = px.line(percap, x='date', y='Migration Rate (%)', color = 'country', labels = {'date': 'Year'},\n",
    "                  title = 'Migration Rates Over Time [WORLD]', width=1200, height=600)\n",
    "pio.write_image(fig_mig_world, 'world_migovertime.png',scale=4)\n",
    "fig_mig_world\n",
    "\n"
   ]
  },
  {
   "cell_type": "code",
   "execution_count": null,
   "id": "ec91526a",
   "metadata": {},
   "outputs": [],
   "source": [
    "#no_CUW.reset_index(inplace=True)\n",
    "mig_world_no_CUW = px.line(no_CUW, x='date', y='Migration Rate (%)', color = 'country', labels = {'date': 'Year'},\n",
    "                                title = 'Migration Rates Over Time [Drop Outlier]', width=1200, height=600)\n",
    "#pio.write_image(fig_mig_world, 'world_migovertime.png',scale=4)\n",
    "\n",
    "pio.write_image(mig_world_no_CUW, 'world_migovertime_dropout.png',scale=4)\n",
    "mig_world_no_CUW"
   ]
  },
  {
   "cell_type": "code",
   "execution_count": null,
   "id": "c888ba62",
   "metadata": {},
   "outputs": [],
   "source": [
    "highmig = percap.loc[high_mig_countries]\n",
    "#highmig.reset_index(inplace=True)"
   ]
  },
  {
   "cell_type": "code",
   "execution_count": null,
   "id": "ef3d0131",
   "metadata": {},
   "outputs": [],
   "source": [
    "highmig_means = highmig.groupby(['date']).mean()\n",
    "highmig['mean mig'] = highmig_means['Migration Rate (%)']"
   ]
  },
  {
   "cell_type": "code",
   "execution_count": null,
   "id": "1690373f",
   "metadata": {},
   "outputs": [],
   "source": [
    "#fig = post_2000_highmig.iplot(kind='line', x='date', y='Migration Rate (%)', color='Total Population')\n",
    "#highmig.reset_index(inplace=True)\n",
    "#highmig_means.reset_index(inplace=True)\n",
    "fig_mig = px.line(highmig, x='date', y='Migration Rate (%)', color = 'country', labels = {'date': 'Year'},\n",
    "                  title = 'Top 10% Migration Countries, Rate Over Time', width=1200, height=600)\n",
    "\n",
    "#px.line(highmig_means, x='date', y='Migration Rate (%)')\n",
    "\n",
    "pio.write_image(fig_mig, 'migovertime.png',scale=4)\n",
    "fig_mig"
   ]
  },
  {
   "cell_type": "code",
   "execution_count": null,
   "id": "c274c8f6",
   "metadata": {},
   "outputs": [],
   "source": [
    "fig_avgmig = px.line(highmig_means, x='date', y='Migration Rate (%)', labels = {'date': 'Year'}, \n",
    "        title = 'Average Migration Rate for Top 10%', width=1000, height=600)\n",
    "\n",
    "pio.write_image(fig_avgmig, 'avgmig_overtime.png',scale=4)\n",
    "fig_avgmig"
   ]
  },
  {
   "cell_type": "code",
   "execution_count": null,
   "id": "58ff2435",
   "metadata": {},
   "outputs": [],
   "source": [
    "column = 'People using safely managed sanitation services (% of population)'\n",
    "fig = px.scatter(post_2000, x=\"People using safely managed sanitation services (% of population)\", y=\"Migration Rate (%)\", color=\"date\",\n",
    "                 title=\"Migration Rate versus People using safely managed sanitation services (% of population)\",range_y=[0,4])\n",
    "\n",
    "fig.add_vline(x=post_2000[column].dropna().astype(int).mean(), line_dash=\"dot\", line_color=\"red\", line_width = 2, \n",
    "                      annotation_text=\"World Average\")\n",
    "\n",
    "pio.write_image(fig, str(column)+'.png',scale=4)"
   ]
  },
  {
   "cell_type": "code",
   "execution_count": null,
   "id": "9e6dcc04",
   "metadata": {},
   "outputs": [],
   "source": [
    "column1 = 'Prevalence of Undernourishment (% of Population)'\n",
    "fig = px.scatter(post_2000, x=\"Prevalence of Undernourishment (% of Population)\", y=\"Migration Rate (%)\", \n",
    "                 color=\"date\",title=\"Prevalence of Undernourishment (% of Population)\",range_y=[0,4])\n",
    "fig.add_vline(x=post_2000[column1].dropna().astype(int).mean(), line_dash=\"dot\", line_color=\"red\", line_width = 2, \n",
    "                      annotation_text=\"World Average\")\n",
    "pio.write_image(fig, str(column1)+'.png',scale=4)"
   ]
  },
  {
   "cell_type": "code",
   "execution_count": null,
   "id": "0dd756b8",
   "metadata": {},
   "outputs": [],
   "source": [
    "px.scatter(post_2000, x='Food Production Index', y=\"Migration Rate (%)\", color=\"date\",\n",
    "                 title='Food Production Index',range_y=[0,4], range_x=[0,300])\n",
    "pio.write_image(fig, 'FoodProdInd.png',scale=4)"
   ]
  },
  {
   "cell_type": "code",
   "execution_count": null,
   "id": "9eeadfd5",
   "metadata": {},
   "outputs": [],
   "source": [
    "column3 = 'Strength of Legal Rights Index (0-12 Scale)'\n",
    "\n",
    "fig = px.scatter(post_2000, x='Strength of Legal Rights Index (0-12 Scale)', y=\"Migration Rate (%)\", color=\"date\",\n",
    "                 title='Strength of Legal Rights Index (0-12 Scale)',range_y=[0,4])\n",
    "pio.write_image(fig, str(column3)+'.png',scale=4)"
   ]
  },
  {
   "cell_type": "code",
   "execution_count": null,
   "id": "e630906c",
   "metadata": {},
   "outputs": [],
   "source": [
    "column4 = 'Hospital beds (per 1,000 people)'\n",
    "\n",
    "fig = px.scatter(post_2000, x='Hospital beds (per 1,000 people)', y=\"Migration Rate (%)\", color=\"date\",\n",
    "                 title='Hospital beds (per 1,000 people)',range_y=[0,4.5])\n",
    "\n",
    "fig.add_vline(x=post_2000[column4].dropna().astype(int).mean(), line_dash=\"dot\", line_color=\"red\", line_width = 2, \n",
    "                      annotation_text=\"World Average\")\n",
    "pio.write_image(fig, str(column4)+'.png',scale=4)"
   ]
  },
  {
   "cell_type": "code",
   "execution_count": null,
   "id": "d6c4d4ad",
   "metadata": {},
   "outputs": [],
   "source": [
    "column5 = 'Political Stability and Absence of Violence/Terrorism (estimate)'\n",
    "\n",
    "fig = px.scatter(post_2000, x='Political Stability and Absence of Violence/Terrorism (estimate)', y=\"Migration Rate (%)\", color=\"date\",\n",
    "                 title='Political Stability vs. Migration Rates',range_y=[0,4.5])\n",
    "\n",
    "fig.add_vline(x=post_2000[column5].dropna().astype(int).mean(), line_dash=\"dot\", line_color=\"red\", line_width = 3, \n",
    "                      annotation_text=\"World Average\")\n",
    "\n",
    "pio.write_image(fig, 'pol_stab.png',scale=4)"
   ]
  },
  {
   "cell_type": "code",
   "execution_count": null,
   "id": "b4000104",
   "metadata": {},
   "outputs": [],
   "source": [
    "column6 = 'Land Surface Temperature'\n",
    "\n",
    "fig = px.scatter(post_2000, x='Land Surface Temperature', y=\"Migration Rate (%)\", color=\"date\", \n",
    "                 title='Migration Rate vs. Land Surface Temperature',range_y=[0,4.5], labels={\n",
    "                     \"Land Surface Temperature\": \"Land Surface Temperature [Degrees Celcius]\"})\n",
    "pio.write_image(fig, str(column6)+'.png',scale=4)"
   ]
  },
  {
   "cell_type": "code",
   "execution_count": null,
   "id": "81cbd77f",
   "metadata": {},
   "outputs": [],
   "source": [
    "column7 = 'Income Share Held by Lowest 20%'\n",
    "\n",
    "fig = px.scatter(post_2000, x='Income Share Held by Lowest 20%', y=\"Migration Rate (%)\", color=\"date\",\n",
    "                 title='Migration Rate vs. Income Share Held by Lowest 20%',range_y=[0,4.5], \n",
    "                labels={\n",
    "                     \"Income Share Held by Lowest 20%\": \"Income Share Held by Lowest 20 Percent [% of GDP]\"})\n",
    "\n",
    "#fig.add_vline(x=post_2000[column7].dropna().astype(int).mean(), line_dash=\"dot\", line_color=\"red\", line_width = 3, \n",
    " #                     annotation_text=\"World Average\")\n",
    "import plotly.io as pio\n",
    "pio.write_image(fig, str(column7)+'.png',scale=4)"
   ]
  },
  {
   "cell_type": "code",
   "execution_count": null,
   "id": "6eade643",
   "metadata": {},
   "outputs": [],
   "source": [
    "column8 = 'PM2.5 air pollution, mean annual exposure (micrograms per cubic meter)'\n",
    "\n",
    "fig = px.scatter(post_2000, x='PM2.5 air pollution, mean annual exposure (micrograms per cubic meter)', y=\"Migration Rate (%)\", color=\"date\",\n",
    "                 title='Migration Rate vs. PM2.5 air pollution',range_y=[0,4.5])\n",
    "\n",
    "fig.add_vline(x=post_2000[column8].dropna().astype(int).mean(), line_dash=\"solid\", line_color=\"red\", line_width = 2, \n",
    "                      annotation_text=\"World Average\")\n",
    "\n",
    "pio.write_image(fig, str(column8)+'.png',scale=4)"
   ]
  },
  {
   "cell_type": "code",
   "execution_count": null,
   "id": "10473b94",
   "metadata": {},
   "outputs": [],
   "source": [
    "fig_dgdays = px.scatter(post_2000, x='Cooling Degree Days', y=\"Migration Rate (%)\", color=\"date\",\n",
    "                 title='Migration Rate vs. Cooling Degree Days',range_y=[0,4.5])\n",
    "fig_dgdays.add_vline(x=3158.95725388601, line_dash=\"solid\", line_color=\"red\", line_width = 2, annotation_text=\"World Average\")\n",
    "print('World Average = ' + str((post_2000['Cooling Degree Days'].dropna().astype(int).mean())))\n",
    "pio.write_image(fig_dgdays, 'coolingdegdays.png',scale=4)"
   ]
  },
  {
   "cell_type": "code",
   "execution_count": null,
   "id": "1ad63195",
   "metadata": {},
   "outputs": [],
   "source": []
  },
  {
   "cell_type": "code",
   "execution_count": null,
   "id": "fe1c8bfb",
   "metadata": {},
   "outputs": [],
   "source": []
  },
  {
   "cell_type": "code",
   "execution_count": null,
   "id": "5331312d",
   "metadata": {},
   "outputs": [],
   "source": []
  },
  {
   "cell_type": "code",
   "execution_count": null,
   "id": "a22de5a2",
   "metadata": {},
   "outputs": [],
   "source": []
  },
  {
   "cell_type": "code",
   "execution_count": null,
   "id": "86fcfd3d",
   "metadata": {},
   "outputs": [],
   "source": [
    "#post_2000_avgd.dropna()\n",
    "post_2000.iplot(kind='scatter', mode='markers', symbol='circle-dot', \n",
    "         x='Food Production Index',y=\"Migration Rate (%)\", #bestfit=True, bestfit_colors=['red'],\n",
    "         text=upper60_2000.reset_index('country')['country'].values.tolist(),\n",
    "         yTitle=\"Migration Rate (%)\",xTitle='Food Production Index',\n",
    "         title=  'Migration Rate (%) versus Food Production Index', xrange = [0,350], yrange=[0,4])"
   ]
  },
  {
   "cell_type": "markdown",
   "id": "19b5f408",
   "metadata": {},
   "source": [
    "#### ones that prove something: \n",
    "could be good to do a histogram or two \n",
    "\n",
    "- Food Production Index:\n",
    "    - centered on the lower end, very much clustered \n",
    "- Prevalence of Undernourishment\n",
    "- For the water access ones: \n",
    "    - should grab a dataframe with maybe upper 50th percentile of migration and then do these plots \n",
    "- Hospital beds per 1000 people\n",
    "- Strength of legal rights index \n",
    "- Political stability and absence of violence/terrorism (skewed to negative side) \n",
    "- access to electricity \n",
    "- control of population \n",
    "\n",
    "- LAND SURFACE TEMPERATURE!!!!\n",
    "- PM2.5 AIR POLLUTION!!!!\n",
    "- COOLING DEGREE DAYS!!!!\n",
    "- head index\n",
    "- \n",
    "\n",
    "To do with dataframe with maybe upper 50th percentile of migration:\n",
    "- the water access ones\n",
    "- Strength of legal rights index\n",
    "- access to electricity "
   ]
  },
  {
   "cell_type": "code",
   "execution_count": null,
   "id": "4058b218",
   "metadata": {},
   "outputs": [],
   "source": []
  },
  {
   "cell_type": "code",
   "execution_count": null,
   "id": "baa7333b",
   "metadata": {},
   "outputs": [],
   "source": [
    "upper50_2000 = post_2000[post_2000['Percentile Rank'] > 50]"
   ]
  },
  {
   "cell_type": "code",
   "execution_count": null,
   "id": "6e92865f",
   "metadata": {},
   "outputs": [],
   "source": [
    "column_hos = 'Hospital beds (per 1,000 people)'\n",
    "\n",
    "fig = px.scatter(upper50_2000, x='Hospital beds (per 1,000 people)', y=\"Migration Rate (%)\", color=\"date\",\n",
    "                 title='Hospital beds (per 1,000 people)',range_y=[0,4.5])\n",
    "\n",
    "fig.add_vline(x=upper50_2000[column_hos].dropna().astype(int).mean(), line_dash=\"solid\", line_color=\"red\", line_width = 2, \n",
    "                      annotation_text=\"World Average\")"
   ]
  },
  {
   "cell_type": "code",
   "execution_count": null,
   "id": "4e674da5",
   "metadata": {},
   "outputs": [],
   "source": [
    "'Annual freshwater withdrawals, total (% of internal resources)',\n",
    "       'People using safely managed drinking water services (% of population)',\n",
    "       'People using safely managed sanitation services (% of population)',"
   ]
  },
  {
   "cell_type": "code",
   "execution_count": null,
   "id": "3bf6432c",
   "metadata": {},
   "outputs": [],
   "source": [
    "column_water = 'Annual freshwater withdrawals, total (% of internal resources)'\n",
    "column_drink = 'People using safely managed drinking water services (% of population)'\n",
    "column_sanit = 'People using safely managed sanitation services (% of population)'"
   ]
  },
  {
   "cell_type": "code",
   "execution_count": null,
   "id": "a3ede4a3",
   "metadata": {},
   "outputs": [],
   "source": [
    "fig2 = px.scatter(upper50_2000, x=column_drink, y=\"Migration Rate (%)\", color=\"date\", size_max =5, \n",
    "                 title='Migration Rate vs. '+column_drink,range_y=[0,4.5])\n",
    "\n",
    "fig3 = px.scatter(upper50_2000, x=column_sanit, y=\"Migration Rate (%)\", color=\"date\",\n",
    "                 title='Migration Rate vs. '+column_sanit,range_y=[0,4.5])"
   ]
  },
  {
   "cell_type": "code",
   "execution_count": null,
   "id": "f71d5855",
   "metadata": {},
   "outputs": [],
   "source": [
    "fig2"
   ]
  },
  {
   "cell_type": "code",
   "execution_count": null,
   "id": "87328783",
   "metadata": {},
   "outputs": [],
   "source": [
    "fig3"
   ]
  },
  {
   "cell_type": "code",
   "execution_count": null,
   "id": "2e317a10",
   "metadata": {},
   "outputs": [],
   "source": []
  },
  {
   "cell_type": "code",
   "execution_count": null,
   "id": "a515c8b2",
   "metadata": {},
   "outputs": [],
   "source": [
    "def hist_all_2000(frame):\n",
    "    columns = frame.columns\n",
    "    for column in columns: \n",
    "        frame[column].iplot(kind='histogram', \n",
    "         y='Migration Rate(%)',x= str(column), bins = 40, #bestfit=True, bestfit_colors=['red'],\n",
    "         #text=frame.reset_index('country')['country'].values.tolist(),\n",
    "         yTitle=\"Migration Rate (%)\",xTitle=str(column),\n",
    "         xrange=(frame[column].min(), frame[column].max()), \n",
    "         title= str(column)+' versus Migration Rate (%)')\n",
    "        \n",
    "        \n",
    "        \n",
    "#df['values'].iplot(kind='histogram', bins=5, title='Histogram of Values')"
   ]
  },
  {
   "cell_type": "code",
   "execution_count": null,
   "id": "f8e804a6",
   "metadata": {},
   "outputs": [],
   "source": [
    "post_2000_avgd['Migration Rate (%)'].describe()"
   ]
  },
  {
   "cell_type": "code",
   "execution_count": null,
   "id": "e80b08bf",
   "metadata": {},
   "outputs": [],
   "source": [
    "hist_all_2000(post_2000_avgd)\n"
   ]
  },
  {
   "cell_type": "code",
   "execution_count": null,
   "id": "8ae5f547",
   "metadata": {},
   "outputs": [],
   "source": [
    "hist_all_2000(upper50)"
   ]
  },
  {
   "cell_type": "code",
   "execution_count": null,
   "id": "7113d7d6",
   "metadata": {},
   "outputs": [],
   "source": []
  }
 ],
 "metadata": {
  "kernelspec": {
   "display_name": "Python 3 (ipykernel)",
   "language": "python",
   "name": "python3"
  },
  "language_info": {
   "codemirror_mode": {
    "name": "ipython",
    "version": 3
   },
   "file_extension": ".py",
   "mimetype": "text/x-python",
   "name": "python",
   "nbconvert_exporter": "python",
   "pygments_lexer": "ipython3",
   "version": "3.11.5"
  }
 },
 "nbformat": 4,
 "nbformat_minor": 5
}
