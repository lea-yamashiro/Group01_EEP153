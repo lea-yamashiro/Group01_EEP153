{
 "cells": [
  {
   "cell_type": "markdown",
   "id": "6549005c-c621-444a-ac69-a0db2a1a74a0",
   "metadata": {},
   "source": [
    "## Project 1: World Migration, Causes and Associations"
   ]
  },
  {
   "cell_type": "markdown",
   "id": "489f0d23-9997-42f3-9669-61cf9cd7f889",
   "metadata": {},
   "source": [
    "###### Group Evelyn Kitagawa: Neha Lala, Jackie Schneider, Himalia Joshi, Monica Wilson, Lea Yamashiro, Kevin Dunn"
   ]
  },
  {
   "cell_type": "code",
   "execution_count": null,
   "id": "bc0d23a9-57f5-4b70-b8ed-7d0f361832f7",
   "metadata": {},
   "outputs": [],
   "source": []
  },
  {
   "cell_type": "code",
   "execution_count": null,
   "id": "fe657537-896f-4fe1-8926-d61b33c693ba",
   "metadata": {},
   "outputs": [],
   "source": []
  },
  {
   "cell_type": "code",
   "execution_count": null,
   "id": "0390fcac-42de-4f35-8031-74056395aa56",
   "metadata": {},
   "outputs": [],
   "source": []
  },
  {
   "cell_type": "code",
   "execution_count": null,
   "id": "ea4590ef-f5a9-4010-b82b-dc7844c4813b",
   "metadata": {},
   "outputs": [],
   "source": []
  },
  {
   "cell_type": "code",
   "execution_count": null,
   "id": "3475e0ff-3467-4db6-b2c4-1ffb941e201b",
   "metadata": {},
   "outputs": [],
   "source": []
  },
  {
   "cell_type": "code",
   "execution_count": null,
   "id": "34c54d41-26ca-4c12-b8d2-f20dfc62287d",
   "metadata": {},
   "outputs": [],
   "source": []
  },
  {
   "cell_type": "code",
   "execution_count": null,
   "id": "e71765ba-d44e-4a8e-bd1c-b7f76c83bc42",
   "metadata": {},
   "outputs": [],
   "source": []
  },
  {
   "cell_type": "code",
   "execution_count": null,
   "id": "a8f2cb2c-a8dd-412c-9643-432c0925d9c3",
   "metadata": {},
   "outputs": [],
   "source": []
  }
 ],
 "metadata": {
  "kernelspec": {
   "display_name": "Python 3 (ipykernel)",
   "language": "python",
   "name": "python3"
  },
  "language_info": {
   "codemirror_mode": {
    "name": "ipython",
    "version": 3
   },
   "file_extension": ".py",
   "mimetype": "text/x-python",
   "name": "python",
   "nbconvert_exporter": "python",
   "pygments_lexer": "ipython3",
   "version": "3.9.15"
  }
 },
 "nbformat": 4,
 "nbformat_minor": 5
}
