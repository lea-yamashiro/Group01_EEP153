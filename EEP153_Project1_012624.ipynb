{
 "cells": [
  {
   "cell_type": "markdown",
   "id": "6549005c-c621-444a-ac69-a0db2a1a74a0",
   "metadata": {},
   "source": [
    "## Project 1: World Migration, Causes and Associations"
   ]
  },
  {
   "cell_type": "markdown",
   "id": "489f0d23-9997-42f3-9669-61cf9cd7f889",
   "metadata": {},
   "source": [
    "###### Group Evelyn Kitagawa: Neha Lala, Jackie Schneider, Himalia Joshi, Monica Wilson, Lea Yamashiro, Kevin Dunn"
   ]
  },
  {
   "cell_type": "code",
   "execution_count": 3,
   "id": "c0a893d1-f9d0-481f-ab08-4b503a933fc2",
   "metadata": {},
   "outputs": [],
   "source": [
    "%%capture\n",
    "!pip install wbdata\n",
    "import wbdata\n",
    "!pip install cufflinks # IF NECESSARY\n",
    "import cufflinks as cf\n",
    "cf.go_offline()\n",
    "import pandas as pd\n",
    "import numpy as np\n",
    "import statsmodels.api as sm"
   ]
  },
  {
   "cell_type": "markdown",
   "id": "cafc97c3-eceb-421a-9e20-153497cebd4b",
   "metadata": {},
   "source": [
    "#### Cleaning Data"
   ]
  },
  {
   "cell_type": "code",
   "execution_count": 9,
   "id": "5342158b-d222-423b-8b99-a1564f2f065b",
   "metadata": {},
   "outputs": [],
   "source": [
    "indicators = {\"NY.GDP.PCAP.CD\":\"GDP per capita\", \n",
    "              \"SH.DYN.1019\": \"Death Probability (5-9)\",\n",
    "              \"SH.DYN.2024\": 'Death Probability (20-24)',\n",
    "              \"SP.DYN.TFRT.IN\":\"Total Fertility Rate\",\n",
    "              \"SP.POP.GROW\":\"Population Growth Rate\",\n",
    "              \"SP.DYN.AMRT.MA\":\"Male Mortality\",\n",
    "              \"SP.DYN.AMRT.FE\":\"Female Mortality\",\n",
    "              \"SP.POP.1564.FE.ZS\":\"% Adult Female\",\n",
    "              \"SP.POP.TOTL.FE.ZS\":\"% Female\", \n",
    "              \"SM.POP.NETM\": \"Net Migration\", \n",
    "              \"SP.POP.TOTL\": \"Total Population\"}\n",
    "\n",
    "data = wbdata.get_dataframe(indicators)\n",
    "\n",
    "# Make years ints instead of strings\n",
    "data.reset_index(inplace=True)\n",
    "data['date'] = data['date'].astype(int)\n",
    "\n",
    "# index the table by country instead of year \n",
    "data.set_index(['country'],inplace=True)\n",
    "\n",
    "mig_away = data[data['Net Migration'] < 0]\n",
    "mig_away['Net Migration'] = mig_away['Net Migration'].abs()\n",
    "mig_away['Migration per Capita'] = mig_away['Net Migration']/mig_away['Total Population']\n",
    "mig_away['Migration Rate (%)'] = mig_away['Migration per Capita']*100"
   ]
  },
  {
   "cell_type": "markdown",
   "id": "4e7e276a-295a-4017-b13c-6270a4501fb4",
   "metadata": {},
   "source": [
    "#### Population Statistics"
   ]
  },
  {
   "cell_type": "code",
   "execution_count": 15,
   "id": "fe657537-896f-4fe1-8926-d61b33c693ba",
   "metadata": {},
   "outputs": [
    {
     "ename": "SyntaxError",
     "evalue": "invalid syntax (1675868456.py, line 2)",
     "output_type": "error",
     "traceback": [
      "\u001b[0;36m  Cell \u001b[0;32mIn[15], line 2\u001b[0;36m\u001b[0m\n\u001b[0;31m    print(\"Migration Rate\", Migration Rate (%), \"Total Population\", SP.POP.TOTL)\u001b[0m\n\u001b[0m                                      ^\u001b[0m\n\u001b[0;31mSyntaxError\u001b[0m\u001b[0;31m:\u001b[0m invalid syntax\n"
     ]
    }
   ],
   "source": [
    "def population(year=1966, sex='Male', age_range=(18,26), place='USA'):\n",
    "    print(\"Migration Rate\", Migration Rate (%), \"Total Population\", SP.POP.TOTL)"
   ]
  },
  {
   "cell_type": "code",
   "execution_count": null,
   "id": "0390fcac-42de-4f35-8031-74056395aa56",
   "metadata": {},
   "outputs": [],
   "source": []
  },
  {
   "cell_type": "code",
   "execution_count": null,
   "id": "ea4590ef-f5a9-4010-b82b-dc7844c4813b",
   "metadata": {},
   "outputs": [],
   "source": []
  },
  {
   "cell_type": "code",
   "execution_count": null,
   "id": "3475e0ff-3467-4db6-b2c4-1ffb941e201b",
   "metadata": {},
   "outputs": [],
   "source": []
  },
  {
   "cell_type": "code",
   "execution_count": null,
   "id": "34c54d41-26ca-4c12-b8d2-f20dfc62287d",
   "metadata": {},
   "outputs": [],
   "source": []
  },
  {
   "cell_type": "code",
   "execution_count": null,
   "id": "e71765ba-d44e-4a8e-bd1c-b7f76c83bc42",
   "metadata": {},
   "outputs": [],
   "source": []
  },
  {
   "cell_type": "code",
   "execution_count": null,
   "id": "a8f2cb2c-a8dd-412c-9643-432c0925d9c3",
   "metadata": {},
   "outputs": [],
   "source": []
  }
 ],
 "metadata": {
  "kernelspec": {
   "display_name": "Python 3 (ipykernel)",
   "language": "python",
   "name": "python3"
  },
  "language_info": {
   "codemirror_mode": {
    "name": "ipython",
    "version": 3
   },
   "file_extension": ".py",
   "mimetype": "text/x-python",
   "name": "python",
   "nbconvert_exporter": "python",
   "pygments_lexer": "ipython3",
   "version": "3.9.15"
  }
 },
 "nbformat": 4,
 "nbformat_minor": 5
}
